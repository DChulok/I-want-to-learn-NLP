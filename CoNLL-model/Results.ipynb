{
 "cells": [
  {
   "cell_type": "markdown",
   "id": "further-right",
   "metadata": {},
   "source": [
    "__Here is comparing the results of multilabel and multihead models after training them on 5 folds data. We compare their f1-scores on validation sets of every fold. Structure of models, hyperparameters were similar. In the first case one fold lasted for 15 epochs, in the second one - 10 epochs.__"
   ]
  },
  {
   "cell_type": "code",
   "execution_count": 1,
   "id": "professional-airfare",
   "metadata": {},
   "outputs": [],
   "source": [
    "import numpy as np\n",
    "import pandas as pd\n",
    "\n",
    "from scipy import stats"
   ]
  },
  {
   "cell_type": "markdown",
   "id": "delayed-shepherd",
   "metadata": {},
   "source": [
    "ORG"
   ]
  },
  {
   "cell_type": "code",
   "execution_count": 2,
   "id": "useful-howard",
   "metadata": {},
   "outputs": [
    {
     "data": {
      "text/html": [
       "<div>\n",
       "<style scoped>\n",
       "    .dataframe tbody tr th:only-of-type {\n",
       "        vertical-align: middle;\n",
       "    }\n",
       "\n",
       "    .dataframe tbody tr th {\n",
       "        vertical-align: top;\n",
       "    }\n",
       "\n",
       "    .dataframe thead th {\n",
       "        text-align: right;\n",
       "    }\n",
       "</style>\n",
       "<table border=\"1\" class=\"dataframe\">\n",
       "  <thead>\n",
       "    <tr style=\"text-align: right;\">\n",
       "      <th></th>\n",
       "      <th>multilabel</th>\n",
       "      <th>multihead</th>\n",
       "    </tr>\n",
       "  </thead>\n",
       "  <tbody>\n",
       "    <tr>\n",
       "      <th>0</th>\n",
       "      <td>0.385908</td>\n",
       "      <td>0.561263</td>\n",
       "    </tr>\n",
       "    <tr>\n",
       "      <th>1</th>\n",
       "      <td>0.399047</td>\n",
       "      <td>0.272061</td>\n",
       "    </tr>\n",
       "    <tr>\n",
       "      <th>2</th>\n",
       "      <td>0.399790</td>\n",
       "      <td>0.533307</td>\n",
       "    </tr>\n",
       "    <tr>\n",
       "      <th>3</th>\n",
       "      <td>0.405067</td>\n",
       "      <td>0.609640</td>\n",
       "    </tr>\n",
       "    <tr>\n",
       "      <th>4</th>\n",
       "      <td>0.390667</td>\n",
       "      <td>0.591440</td>\n",
       "    </tr>\n",
       "  </tbody>\n",
       "</table>\n",
       "</div>"
      ],
      "text/plain": [
       "   multilabel  multihead\n",
       "0    0.385908   0.561263\n",
       "1    0.399047   0.272061\n",
       "2    0.399790   0.533307\n",
       "3    0.405067   0.609640\n",
       "4    0.390667   0.591440"
      ]
     },
     "execution_count": 2,
     "metadata": {},
     "output_type": "execute_result"
    }
   ],
   "source": [
    "org_results = pd.DataFrame([[0.38590785907859076, 0.561263387184607], \n",
    "              [0.3990470518165575, 0.2720606826801517], \n",
    "              [0.3997897687456202, 0.5333068204414396], \n",
    "              [0.40506735086593976, 0.6096403978576893], \n",
    "               [0.39066655228617997, 0.5914396887159532]], columns=['multilabel', 'multihead'])\n",
    "org_results"
   ]
  },
  {
   "cell_type": "code",
   "execution_count": 3,
   "id": "gothic-backing",
   "metadata": {
    "scrolled": false
   },
   "outputs": [
    {
     "data": {
      "text/html": [
       "<div>\n",
       "<style scoped>\n",
       "    .dataframe tbody tr th:only-of-type {\n",
       "        vertical-align: middle;\n",
       "    }\n",
       "\n",
       "    .dataframe tbody tr th {\n",
       "        vertical-align: top;\n",
       "    }\n",
       "\n",
       "    .dataframe thead th {\n",
       "        text-align: right;\n",
       "    }\n",
       "</style>\n",
       "<table border=\"1\" class=\"dataframe\">\n",
       "  <thead>\n",
       "    <tr style=\"text-align: right;\">\n",
       "      <th></th>\n",
       "      <th>multilabel</th>\n",
       "      <th>multihead</th>\n",
       "    </tr>\n",
       "  </thead>\n",
       "  <tbody>\n",
       "    <tr>\n",
       "      <th>count</th>\n",
       "      <td>5.000000</td>\n",
       "      <td>5.000000</td>\n",
       "    </tr>\n",
       "    <tr>\n",
       "      <th>mean</th>\n",
       "      <td>0.396096</td>\n",
       "      <td>0.513542</td>\n",
       "    </tr>\n",
       "    <tr>\n",
       "      <th>std</th>\n",
       "      <td>0.007683</td>\n",
       "      <td>0.138098</td>\n",
       "    </tr>\n",
       "    <tr>\n",
       "      <th>min</th>\n",
       "      <td>0.385908</td>\n",
       "      <td>0.272061</td>\n",
       "    </tr>\n",
       "    <tr>\n",
       "      <th>25%</th>\n",
       "      <td>0.390667</td>\n",
       "      <td>0.533307</td>\n",
       "    </tr>\n",
       "    <tr>\n",
       "      <th>50%</th>\n",
       "      <td>0.399047</td>\n",
       "      <td>0.561263</td>\n",
       "    </tr>\n",
       "    <tr>\n",
       "      <th>75%</th>\n",
       "      <td>0.399790</td>\n",
       "      <td>0.591440</td>\n",
       "    </tr>\n",
       "    <tr>\n",
       "      <th>max</th>\n",
       "      <td>0.405067</td>\n",
       "      <td>0.609640</td>\n",
       "    </tr>\n",
       "  </tbody>\n",
       "</table>\n",
       "</div>"
      ],
      "text/plain": [
       "       multilabel  multihead\n",
       "count    5.000000   5.000000\n",
       "mean     0.396096   0.513542\n",
       "std      0.007683   0.138098\n",
       "min      0.385908   0.272061\n",
       "25%      0.390667   0.533307\n",
       "50%      0.399047   0.561263\n",
       "75%      0.399790   0.591440\n",
       "max      0.405067   0.609640"
      ]
     },
     "execution_count": 3,
     "metadata": {},
     "output_type": "execute_result"
    }
   ],
   "source": [
    "org_results.describe()"
   ]
  },
  {
   "cell_type": "markdown",
   "id": "daily-mercury",
   "metadata": {},
   "source": [
    "Hypotheses:\n",
    "\n",
    "$$H_0: \\mu_1 = \\mu_2, \\: H_1: \\mu_1 < \\mu_2 $$"
   ]
  },
  {
   "cell_type": "markdown",
   "id": "brief-species",
   "metadata": {},
   "source": [
    "Two-sample T-test for results comparing:\n",
    "\n",
    "$$T(X_1, X_2) = \\frac{\\overline{X}_1-\\overline{X}_2}{S/\\sqrt{n}}$$\n",
    "\n",
    "$$ S = \\sqrt{\\frac{1}{n-1}\\sum\\limits_{i=1}^n(D_i-\\overline{D})^2} $$\n",
    "\n",
    "$$ D_i = X_{1i} - X_{2i},\\: \\overline{D} = \\frac{1}{n}\\sum_iD_i $$"
   ]
  },
  {
   "cell_type": "code",
   "execution_count": 4,
   "id": "acknowledged-robertson",
   "metadata": {},
   "outputs": [],
   "source": [
    "def t_stat(df):\n",
    "    D = df['multilabel'] - df['multihead']\n",
    "    D_mean = D.mean()\n",
    "    S = np.sqrt(np.sum((D-D_mean)**2)/(df.shape[0]-1))\n",
    "    T_stat = (df['multilabel'].mean() - df['multihead'].mean())/(S/np.sqrt(df.shape[0]))\n",
    "    return T_stat"
   ]
  },
  {
   "cell_type": "code",
   "execution_count": 5,
   "id": "center-appliance",
   "metadata": {},
   "outputs": [],
   "source": [
    "p_value = stats.distributions.t(5-1).cdf(t_stat(org_results))"
   ]
  },
  {
   "cell_type": "code",
   "execution_count": 6,
   "id": "introductory-costs",
   "metadata": {},
   "outputs": [
    {
     "data": {
      "text/plain": [
       "0.06649185548449224"
      ]
     },
     "execution_count": 6,
     "metadata": {},
     "output_type": "execute_result"
    }
   ],
   "source": [
    "p_value"
   ]
  },
  {
   "cell_type": "markdown",
   "id": "vertical-essence",
   "metadata": {},
   "source": [
    "LOC"
   ]
  },
  {
   "cell_type": "code",
   "execution_count": 7,
   "id": "missing-guard",
   "metadata": {},
   "outputs": [
    {
     "data": {
      "text/html": [
       "<div>\n",
       "<style scoped>\n",
       "    .dataframe tbody tr th:only-of-type {\n",
       "        vertical-align: middle;\n",
       "    }\n",
       "\n",
       "    .dataframe tbody tr th {\n",
       "        vertical-align: top;\n",
       "    }\n",
       "\n",
       "    .dataframe thead th {\n",
       "        text-align: right;\n",
       "    }\n",
       "</style>\n",
       "<table border=\"1\" class=\"dataframe\">\n",
       "  <thead>\n",
       "    <tr style=\"text-align: right;\">\n",
       "      <th></th>\n",
       "      <th>multilabel</th>\n",
       "      <th>multihead</th>\n",
       "    </tr>\n",
       "  </thead>\n",
       "  <tbody>\n",
       "    <tr>\n",
       "      <th>0</th>\n",
       "      <td>0.444861</td>\n",
       "      <td>0.919192</td>\n",
       "    </tr>\n",
       "    <tr>\n",
       "      <th>1</th>\n",
       "      <td>0.421097</td>\n",
       "      <td>0.805315</td>\n",
       "    </tr>\n",
       "    <tr>\n",
       "      <th>2</th>\n",
       "      <td>0.431895</td>\n",
       "      <td>0.817306</td>\n",
       "    </tr>\n",
       "    <tr>\n",
       "      <th>3</th>\n",
       "      <td>0.400227</td>\n",
       "      <td>0.851437</td>\n",
       "    </tr>\n",
       "    <tr>\n",
       "      <th>4</th>\n",
       "      <td>0.408309</td>\n",
       "      <td>0.791328</td>\n",
       "    </tr>\n",
       "  </tbody>\n",
       "</table>\n",
       "</div>"
      ],
      "text/plain": [
       "   multilabel  multihead\n",
       "0    0.444861   0.919192\n",
       "1    0.421097   0.805315\n",
       "2    0.431895   0.817306\n",
       "3    0.400227   0.851437\n",
       "4    0.408309   0.791328"
      ]
     },
     "execution_count": 7,
     "metadata": {},
     "output_type": "execute_result"
    }
   ],
   "source": [
    "loc_results = pd.DataFrame([[0.4448608137044968, 0.9191919191919192], \n",
    "              [0.42109683379524643, 0.8053146336962539], \n",
    "              [0.43189483698002246, 0.8173060080574531], \n",
    "              [0.40022721739836076, 0.8514367230487059], \n",
    "               [0.4083086053412463, 0.7913279132791328]], columns=['multilabel', 'multihead'])\n",
    "loc_results"
   ]
  },
  {
   "cell_type": "code",
   "execution_count": 8,
   "id": "widespread-firmware",
   "metadata": {},
   "outputs": [
    {
     "data": {
      "text/html": [
       "<div>\n",
       "<style scoped>\n",
       "    .dataframe tbody tr th:only-of-type {\n",
       "        vertical-align: middle;\n",
       "    }\n",
       "\n",
       "    .dataframe tbody tr th {\n",
       "        vertical-align: top;\n",
       "    }\n",
       "\n",
       "    .dataframe thead th {\n",
       "        text-align: right;\n",
       "    }\n",
       "</style>\n",
       "<table border=\"1\" class=\"dataframe\">\n",
       "  <thead>\n",
       "    <tr style=\"text-align: right;\">\n",
       "      <th></th>\n",
       "      <th>multilabel</th>\n",
       "      <th>multihead</th>\n",
       "    </tr>\n",
       "  </thead>\n",
       "  <tbody>\n",
       "    <tr>\n",
       "      <th>count</th>\n",
       "      <td>5.000000</td>\n",
       "      <td>5.000000</td>\n",
       "    </tr>\n",
       "    <tr>\n",
       "      <th>mean</th>\n",
       "      <td>0.421278</td>\n",
       "      <td>0.836915</td>\n",
       "    </tr>\n",
       "    <tr>\n",
       "      <th>std</th>\n",
       "      <td>0.017890</td>\n",
       "      <td>0.051092</td>\n",
       "    </tr>\n",
       "    <tr>\n",
       "      <th>min</th>\n",
       "      <td>0.400227</td>\n",
       "      <td>0.791328</td>\n",
       "    </tr>\n",
       "    <tr>\n",
       "      <th>25%</th>\n",
       "      <td>0.408309</td>\n",
       "      <td>0.805315</td>\n",
       "    </tr>\n",
       "    <tr>\n",
       "      <th>50%</th>\n",
       "      <td>0.421097</td>\n",
       "      <td>0.817306</td>\n",
       "    </tr>\n",
       "    <tr>\n",
       "      <th>75%</th>\n",
       "      <td>0.431895</td>\n",
       "      <td>0.851437</td>\n",
       "    </tr>\n",
       "    <tr>\n",
       "      <th>max</th>\n",
       "      <td>0.444861</td>\n",
       "      <td>0.919192</td>\n",
       "    </tr>\n",
       "  </tbody>\n",
       "</table>\n",
       "</div>"
      ],
      "text/plain": [
       "       multilabel  multihead\n",
       "count    5.000000   5.000000\n",
       "mean     0.421278   0.836915\n",
       "std      0.017890   0.051092\n",
       "min      0.400227   0.791328\n",
       "25%      0.408309   0.805315\n",
       "50%      0.421097   0.817306\n",
       "75%      0.431895   0.851437\n",
       "max      0.444861   0.919192"
      ]
     },
     "execution_count": 8,
     "metadata": {},
     "output_type": "execute_result"
    }
   ],
   "source": [
    "loc_results.describe()"
   ]
  },
  {
   "cell_type": "code",
   "execution_count": 9,
   "id": "photographic-workplace",
   "metadata": {},
   "outputs": [],
   "source": [
    "p_value = stats.distributions.t(5-1).cdf(t_stat(loc_results))"
   ]
  },
  {
   "cell_type": "code",
   "execution_count": 10,
   "id": "portuguese-economy",
   "metadata": {},
   "outputs": [
    {
     "data": {
      "text/plain": [
       "1.4586896771528625e-05"
      ]
     },
     "execution_count": 10,
     "metadata": {},
     "output_type": "execute_result"
    }
   ],
   "source": [
    "p_value"
   ]
  },
  {
   "cell_type": "markdown",
   "id": "helpful-antarctica",
   "metadata": {},
   "source": [
    "PER"
   ]
  },
  {
   "cell_type": "code",
   "execution_count": 11,
   "id": "understood-thousand",
   "metadata": {},
   "outputs": [
    {
     "data": {
      "text/html": [
       "<div>\n",
       "<style scoped>\n",
       "    .dataframe tbody tr th:only-of-type {\n",
       "        vertical-align: middle;\n",
       "    }\n",
       "\n",
       "    .dataframe tbody tr th {\n",
       "        vertical-align: top;\n",
       "    }\n",
       "\n",
       "    .dataframe thead th {\n",
       "        text-align: right;\n",
       "    }\n",
       "</style>\n",
       "<table border=\"1\" class=\"dataframe\">\n",
       "  <thead>\n",
       "    <tr style=\"text-align: right;\">\n",
       "      <th></th>\n",
       "      <th>multilabel</th>\n",
       "      <th>multihead</th>\n",
       "    </tr>\n",
       "  </thead>\n",
       "  <tbody>\n",
       "    <tr>\n",
       "      <th>0</th>\n",
       "      <td>0.399926</td>\n",
       "      <td>0.343113</td>\n",
       "    </tr>\n",
       "    <tr>\n",
       "      <th>1</th>\n",
       "      <td>0.397822</td>\n",
       "      <td>0.916091</td>\n",
       "    </tr>\n",
       "    <tr>\n",
       "      <th>2</th>\n",
       "      <td>0.392055</td>\n",
       "      <td>0.352627</td>\n",
       "    </tr>\n",
       "    <tr>\n",
       "      <th>3</th>\n",
       "      <td>0.381796</td>\n",
       "      <td>0.320283</td>\n",
       "    </tr>\n",
       "    <tr>\n",
       "      <th>4</th>\n",
       "      <td>0.382073</td>\n",
       "      <td>0.339974</td>\n",
       "    </tr>\n",
       "  </tbody>\n",
       "</table>\n",
       "</div>"
      ],
      "text/plain": [
       "   multilabel  multihead\n",
       "0    0.399926   0.343113\n",
       "1    0.397822   0.916091\n",
       "2    0.392055   0.352627\n",
       "3    0.381796   0.320283\n",
       "4    0.382073   0.339974"
      ]
     },
     "execution_count": 11,
     "metadata": {},
     "output_type": "execute_result"
    }
   ],
   "source": [
    "per_results = pd.DataFrame([[0.3999264841021871, 0.3431126012852752], \n",
    "              [0.39782157676348556, 0.9160912324754134], \n",
    "              [0.3920551131788494, 0.3526273672979461], \n",
    "              [0.381796017878911, 0.32028289972215207], \n",
    "               [0.3820734152933996, 0.339974126778784]], columns=['multilabel', 'multihead'])\n",
    "per_results"
   ]
  },
  {
   "cell_type": "code",
   "execution_count": 12,
   "id": "suspended-average",
   "metadata": {},
   "outputs": [
    {
     "data": {
      "text/html": [
       "<div>\n",
       "<style scoped>\n",
       "    .dataframe tbody tr th:only-of-type {\n",
       "        vertical-align: middle;\n",
       "    }\n",
       "\n",
       "    .dataframe tbody tr th {\n",
       "        vertical-align: top;\n",
       "    }\n",
       "\n",
       "    .dataframe thead th {\n",
       "        text-align: right;\n",
       "    }\n",
       "</style>\n",
       "<table border=\"1\" class=\"dataframe\">\n",
       "  <thead>\n",
       "    <tr style=\"text-align: right;\">\n",
       "      <th></th>\n",
       "      <th>multilabel</th>\n",
       "      <th>multihead</th>\n",
       "    </tr>\n",
       "  </thead>\n",
       "  <tbody>\n",
       "    <tr>\n",
       "      <th>count</th>\n",
       "      <td>5.000000</td>\n",
       "      <td>5.000000</td>\n",
       "    </tr>\n",
       "    <tr>\n",
       "      <th>mean</th>\n",
       "      <td>0.390735</td>\n",
       "      <td>0.454418</td>\n",
       "    </tr>\n",
       "    <tr>\n",
       "      <th>std</th>\n",
       "      <td>0.008535</td>\n",
       "      <td>0.258352</td>\n",
       "    </tr>\n",
       "    <tr>\n",
       "      <th>min</th>\n",
       "      <td>0.381796</td>\n",
       "      <td>0.320283</td>\n",
       "    </tr>\n",
       "    <tr>\n",
       "      <th>25%</th>\n",
       "      <td>0.382073</td>\n",
       "      <td>0.339974</td>\n",
       "    </tr>\n",
       "    <tr>\n",
       "      <th>50%</th>\n",
       "      <td>0.392055</td>\n",
       "      <td>0.343113</td>\n",
       "    </tr>\n",
       "    <tr>\n",
       "      <th>75%</th>\n",
       "      <td>0.397822</td>\n",
       "      <td>0.352627</td>\n",
       "    </tr>\n",
       "    <tr>\n",
       "      <th>max</th>\n",
       "      <td>0.399926</td>\n",
       "      <td>0.916091</td>\n",
       "    </tr>\n",
       "  </tbody>\n",
       "</table>\n",
       "</div>"
      ],
      "text/plain": [
       "       multilabel  multihead\n",
       "count    5.000000   5.000000\n",
       "mean     0.390735   0.454418\n",
       "std      0.008535   0.258352\n",
       "min      0.381796   0.320283\n",
       "25%      0.382073   0.339974\n",
       "50%      0.392055   0.343113\n",
       "75%      0.397822   0.352627\n",
       "max      0.399926   0.916091"
      ]
     },
     "execution_count": 12,
     "metadata": {},
     "output_type": "execute_result"
    }
   ],
   "source": [
    "per_results.describe()"
   ]
  },
  {
   "cell_type": "markdown",
   "id": "awful-profile",
   "metadata": {},
   "source": [
    "In this case let's make a two-tailed test:\n",
    "\n",
    "$$H_0: \\mu_1 = \\mu_2, \\: H_1: \\mu_1 \\neq \\mu_2 $$\n",
    "\n",
    "because results are quite worser."
   ]
  },
  {
   "cell_type": "code",
   "execution_count": 33,
   "id": "hybrid-plastic",
   "metadata": {},
   "outputs": [],
   "source": [
    "p_value = 2*(1-stats.distributions.t(5-1).cdf(abs(t_stat(per_results))))"
   ]
  },
  {
   "cell_type": "code",
   "execution_count": 34,
   "id": "formal-sponsorship",
   "metadata": {},
   "outputs": [
    {
     "data": {
      "text/plain": [
       "0.6053697535708902"
      ]
     },
     "execution_count": 34,
     "metadata": {},
     "output_type": "execute_result"
    }
   ],
   "source": [
    "p_value"
   ]
  },
  {
   "cell_type": "markdown",
   "id": "failing-programming",
   "metadata": {},
   "source": [
    " So, we definetely couldn't reject null hypotheses of means equality."
   ]
  },
  {
   "cell_type": "markdown",
   "id": "ordered-secretariat",
   "metadata": {},
   "source": [
    "Let's compare the models using Holm's method for comparing two models by finding out the familywise error rate (FWER, групповая вероятность ошибки первого рода)."
   ]
  },
  {
   "cell_type": "code",
   "execution_count": 15,
   "id": "changed-seven",
   "metadata": {},
   "outputs": [],
   "source": [
    "from statsmodels.stats.multitest import multipletests"
   ]
  },
  {
   "cell_type": "code",
   "execution_count": 35,
   "id": "coupled-settlement",
   "metadata": {
    "scrolled": true
   },
   "outputs": [],
   "source": [
    "result = multipletests([0.06649185548449224, 1.4586896771528625e-05, 0.6053697535708902],\n",
    "                          method='holm')"
   ]
  },
  {
   "cell_type": "code",
   "execution_count": 36,
   "id": "insured-character",
   "metadata": {},
   "outputs": [
    {
     "name": "stdout",
     "output_type": "stream",
     "text": [
      "Labels: [ORG LOC PER]\n",
      "rejected null hypotheses:[False  True False]\n",
      "corrected p-values:[1.32983711e-01 4.37606903e-05 6.05369754e-01]\n"
     ]
    }
   ],
   "source": [
    "print(f\"Labels: [ORG LOC PER]\")\n",
    "print(f\"rejected null hypotheses:{result[0]}\")\n",
    "print(f\"corrected p-values:{result[1]}\")"
   ]
  },
  {
   "cell_type": "markdown",
   "id": "significant-meter",
   "metadata": {},
   "source": [
    "Formally, we couldn't reject the null hypotheses of mean equivalence in the ORG and PER cases. But in the ORG case we see that the results of multihead model are mainly better, in the PER case its results are comparable to multilable case."
   ]
  }
 ],
 "metadata": {
  "kernelspec": {
   "display_name": "practice",
   "language": "python",
   "name": "practice"
  },
  "language_info": {
   "codemirror_mode": {
    "name": "ipython",
    "version": 3
   },
   "file_extension": ".py",
   "mimetype": "text/x-python",
   "name": "python",
   "nbconvert_exporter": "python",
   "pygments_lexer": "ipython3",
   "version": "3.7.9"
  }
 },
 "nbformat": 4,
 "nbformat_minor": 5
}
