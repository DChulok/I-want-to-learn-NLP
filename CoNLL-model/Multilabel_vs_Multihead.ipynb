{
 "cells": [
  {
   "cell_type": "markdown",
   "id": "abstract-reunion",
   "metadata": {},
   "source": [
    "__Here is comparing the results of multilabel and multihead models after training them on 5 folds data. We compare their f1-scores on validation sets of every fold. Structure of models, hyperparameters were found using grid-search and quite similar.__"
   ]
  },
  {
   "cell_type": "code",
   "execution_count": 1,
   "id": "stock-median",
   "metadata": {},
   "outputs": [],
   "source": [
    "import numpy as np\n",
    "import pandas as pd\n",
    "\n",
    "from scipy import stats"
   ]
  },
  {
   "cell_type": "markdown",
   "id": "floating-athletics",
   "metadata": {},
   "source": [
    "ORG"
   ]
  },
  {
   "cell_type": "code",
   "execution_count": 2,
   "id": "endangered-stewart",
   "metadata": {},
   "outputs": [
    {
     "data": {
      "text/html": [
       "<div>\n",
       "<style scoped>\n",
       "    .dataframe tbody tr th:only-of-type {\n",
       "        vertical-align: middle;\n",
       "    }\n",
       "\n",
       "    .dataframe tbody tr th {\n",
       "        vertical-align: top;\n",
       "    }\n",
       "\n",
       "    .dataframe thead th {\n",
       "        text-align: right;\n",
       "    }\n",
       "</style>\n",
       "<table border=\"1\" class=\"dataframe\">\n",
       "  <thead>\n",
       "    <tr style=\"text-align: right;\">\n",
       "      <th></th>\n",
       "      <th>multilabel</th>\n",
       "      <th>multihead</th>\n",
       "    </tr>\n",
       "  </thead>\n",
       "  <tbody>\n",
       "    <tr>\n",
       "      <th>0</th>\n",
       "      <td>0.410359</td>\n",
       "      <td>0.594738</td>\n",
       "    </tr>\n",
       "    <tr>\n",
       "      <th>1</th>\n",
       "      <td>0.411465</td>\n",
       "      <td>0.651020</td>\n",
       "    </tr>\n",
       "    <tr>\n",
       "      <th>2</th>\n",
       "      <td>0.405611</td>\n",
       "      <td>0.443727</td>\n",
       "    </tr>\n",
       "    <tr>\n",
       "      <th>3</th>\n",
       "      <td>0.426067</td>\n",
       "      <td>0.683507</td>\n",
       "    </tr>\n",
       "    <tr>\n",
       "      <th>4</th>\n",
       "      <td>0.432537</td>\n",
       "      <td>0.658451</td>\n",
       "    </tr>\n",
       "  </tbody>\n",
       "</table>\n",
       "</div>"
      ],
      "text/plain": [
       "   multilabel  multihead\n",
       "0    0.410359   0.594738\n",
       "1    0.411465   0.651020\n",
       "2    0.405611   0.443727\n",
       "3    0.426067   0.683507\n",
       "4    0.432537   0.658451"
      ]
     },
     "execution_count": 2,
     "metadata": {},
     "output_type": "execute_result"
    }
   ],
   "source": [
    "org_results = pd.DataFrame([[0.410358911966629, 0.594737713056429], \n",
    "              [0.41146540027137035, 0.651019622931897], \n",
    "              [0.4056111538790522, 0.44372713578652895], \n",
    "              [0.4260671968836227, 0.6835066864784548], \n",
    "               [0.4325370121130552, 0.6584513518484458]], columns=['multilabel', 'multihead'])\n",
    "org_results"
   ]
  },
  {
   "cell_type": "code",
   "execution_count": 3,
   "id": "fewer-kingdom",
   "metadata": {
    "scrolled": false
   },
   "outputs": [
    {
     "data": {
      "text/html": [
       "<div>\n",
       "<style scoped>\n",
       "    .dataframe tbody tr th:only-of-type {\n",
       "        vertical-align: middle;\n",
       "    }\n",
       "\n",
       "    .dataframe tbody tr th {\n",
       "        vertical-align: top;\n",
       "    }\n",
       "\n",
       "    .dataframe thead th {\n",
       "        text-align: right;\n",
       "    }\n",
       "</style>\n",
       "<table border=\"1\" class=\"dataframe\">\n",
       "  <thead>\n",
       "    <tr style=\"text-align: right;\">\n",
       "      <th></th>\n",
       "      <th>multilabel</th>\n",
       "      <th>multihead</th>\n",
       "    </tr>\n",
       "  </thead>\n",
       "  <tbody>\n",
       "    <tr>\n",
       "      <th>count</th>\n",
       "      <td>5.000000</td>\n",
       "      <td>5.000000</td>\n",
       "    </tr>\n",
       "    <tr>\n",
       "      <th>mean</th>\n",
       "      <td>0.417208</td>\n",
       "      <td>0.606289</td>\n",
       "    </tr>\n",
       "    <tr>\n",
       "      <th>std</th>\n",
       "      <td>0.011487</td>\n",
       "      <td>0.096494</td>\n",
       "    </tr>\n",
       "    <tr>\n",
       "      <th>min</th>\n",
       "      <td>0.405611</td>\n",
       "      <td>0.443727</td>\n",
       "    </tr>\n",
       "    <tr>\n",
       "      <th>25%</th>\n",
       "      <td>0.410359</td>\n",
       "      <td>0.594738</td>\n",
       "    </tr>\n",
       "    <tr>\n",
       "      <th>50%</th>\n",
       "      <td>0.411465</td>\n",
       "      <td>0.651020</td>\n",
       "    </tr>\n",
       "    <tr>\n",
       "      <th>75%</th>\n",
       "      <td>0.426067</td>\n",
       "      <td>0.658451</td>\n",
       "    </tr>\n",
       "    <tr>\n",
       "      <th>max</th>\n",
       "      <td>0.432537</td>\n",
       "      <td>0.683507</td>\n",
       "    </tr>\n",
       "  </tbody>\n",
       "</table>\n",
       "</div>"
      ],
      "text/plain": [
       "       multilabel  multihead\n",
       "count    5.000000   5.000000\n",
       "mean     0.417208   0.606289\n",
       "std      0.011487   0.096494\n",
       "min      0.405611   0.443727\n",
       "25%      0.410359   0.594738\n",
       "50%      0.411465   0.651020\n",
       "75%      0.426067   0.658451\n",
       "max      0.432537   0.683507"
      ]
     },
     "execution_count": 3,
     "metadata": {},
     "output_type": "execute_result"
    }
   ],
   "source": [
    "org_results.describe()"
   ]
  },
  {
   "cell_type": "markdown",
   "id": "mental-thomson",
   "metadata": {},
   "source": [
    "Hypotheses:\n",
    "\n",
    "$$H_0: \\mu_1 = \\mu_2, \\: H_1: \\mu_1 < \\mu_2 $$"
   ]
  },
  {
   "cell_type": "markdown",
   "id": "described-suspension",
   "metadata": {},
   "source": [
    "Two-sample T-test for results comparing:\n",
    "\n",
    "$$T(X_1, X_2) = \\frac{\\overline{X}_1-\\overline{X}_2}{S/\\sqrt{n}}$$\n",
    "\n",
    "$$ S = \\sqrt{\\frac{1}{n-1}\\sum\\limits_{i=1}^n(D_i-\\overline{D})^2} $$\n",
    "\n",
    "$$ D_i = X_{1i} - X_{2i},\\: \\overline{D} = \\frac{1}{n}\\sum_iD_i $$"
   ]
  },
  {
   "cell_type": "code",
   "execution_count": 4,
   "id": "danish-nepal",
   "metadata": {},
   "outputs": [],
   "source": [
    "def t_stat(df):\n",
    "    D = df['multilabel'] - df['multihead']\n",
    "    D_mean = D.mean()\n",
    "    S = np.sqrt(np.sum((D-D_mean)**2)/(df.shape[0]-1))\n",
    "    T_stat = (df['multilabel'].mean() - df['multihead'].mean())/(S/np.sqrt(df.shape[0]))\n",
    "    return T_stat"
   ]
  },
  {
   "cell_type": "code",
   "execution_count": 5,
   "id": "ambient-fleece",
   "metadata": {},
   "outputs": [],
   "source": [
    "p_value = stats.distributions.t(5-1).cdf(t_stat(org_results))"
   ]
  },
  {
   "cell_type": "code",
   "execution_count": 6,
   "id": "durable-variation",
   "metadata": {},
   "outputs": [
    {
     "data": {
      "text/plain": [
       "0.0044111410254475195"
      ]
     },
     "execution_count": 6,
     "metadata": {},
     "output_type": "execute_result"
    }
   ],
   "source": [
    "p_value"
   ]
  },
  {
   "cell_type": "markdown",
   "id": "lesser-letter",
   "metadata": {},
   "source": [
    "LOC"
   ]
  },
  {
   "cell_type": "code",
   "execution_count": 7,
   "id": "threaded-amount",
   "metadata": {},
   "outputs": [
    {
     "data": {
      "text/html": [
       "<div>\n",
       "<style scoped>\n",
       "    .dataframe tbody tr th:only-of-type {\n",
       "        vertical-align: middle;\n",
       "    }\n",
       "\n",
       "    .dataframe tbody tr th {\n",
       "        vertical-align: top;\n",
       "    }\n",
       "\n",
       "    .dataframe thead th {\n",
       "        text-align: right;\n",
       "    }\n",
       "</style>\n",
       "<table border=\"1\" class=\"dataframe\">\n",
       "  <thead>\n",
       "    <tr style=\"text-align: right;\">\n",
       "      <th></th>\n",
       "      <th>multilabel</th>\n",
       "      <th>multihead</th>\n",
       "    </tr>\n",
       "  </thead>\n",
       "  <tbody>\n",
       "    <tr>\n",
       "      <th>0</th>\n",
       "      <td>0.436239</td>\n",
       "      <td>0.891562</td>\n",
       "    </tr>\n",
       "    <tr>\n",
       "      <th>1</th>\n",
       "      <td>0.435460</td>\n",
       "      <td>0.827101</td>\n",
       "    </tr>\n",
       "    <tr>\n",
       "      <th>2</th>\n",
       "      <td>0.448724</td>\n",
       "      <td>0.880086</td>\n",
       "    </tr>\n",
       "    <tr>\n",
       "      <th>3</th>\n",
       "      <td>0.410581</td>\n",
       "      <td>0.775045</td>\n",
       "    </tr>\n",
       "    <tr>\n",
       "      <th>4</th>\n",
       "      <td>0.416940</td>\n",
       "      <td>0.861396</td>\n",
       "    </tr>\n",
       "  </tbody>\n",
       "</table>\n",
       "</div>"
      ],
      "text/plain": [
       "   multilabel  multihead\n",
       "0    0.436239   0.891562\n",
       "1    0.435460   0.827101\n",
       "2    0.448724   0.880086\n",
       "3    0.410581   0.775045\n",
       "4    0.416940   0.861396"
      ]
     },
     "execution_count": 7,
     "metadata": {},
     "output_type": "execute_result"
    }
   ],
   "source": [
    "loc_results = pd.DataFrame([[0.4362387290682696, 0.8915617365156926], \n",
    "              [0.43545956805625313, 0.8271012006861063], \n",
    "              [0.4487244466970772, 0.880085653104925], \n",
    "              [0.41058079355951693, 0.7750452079566005], \n",
    "               [0.4169403630077787, 0.8613957084863716]], columns=['multilabel', 'multihead'])\n",
    "loc_results"
   ]
  },
  {
   "cell_type": "code",
   "execution_count": 8,
   "id": "proof-payment",
   "metadata": {},
   "outputs": [
    {
     "data": {
      "text/html": [
       "<div>\n",
       "<style scoped>\n",
       "    .dataframe tbody tr th:only-of-type {\n",
       "        vertical-align: middle;\n",
       "    }\n",
       "\n",
       "    .dataframe tbody tr th {\n",
       "        vertical-align: top;\n",
       "    }\n",
       "\n",
       "    .dataframe thead th {\n",
       "        text-align: right;\n",
       "    }\n",
       "</style>\n",
       "<table border=\"1\" class=\"dataframe\">\n",
       "  <thead>\n",
       "    <tr style=\"text-align: right;\">\n",
       "      <th></th>\n",
       "      <th>multilabel</th>\n",
       "      <th>multihead</th>\n",
       "    </tr>\n",
       "  </thead>\n",
       "  <tbody>\n",
       "    <tr>\n",
       "      <th>count</th>\n",
       "      <td>5.000000</td>\n",
       "      <td>5.000000</td>\n",
       "    </tr>\n",
       "    <tr>\n",
       "      <th>mean</th>\n",
       "      <td>0.429589</td>\n",
       "      <td>0.847038</td>\n",
       "    </tr>\n",
       "    <tr>\n",
       "      <th>std</th>\n",
       "      <td>0.015541</td>\n",
       "      <td>0.047067</td>\n",
       "    </tr>\n",
       "    <tr>\n",
       "      <th>min</th>\n",
       "      <td>0.410581</td>\n",
       "      <td>0.775045</td>\n",
       "    </tr>\n",
       "    <tr>\n",
       "      <th>25%</th>\n",
       "      <td>0.416940</td>\n",
       "      <td>0.827101</td>\n",
       "    </tr>\n",
       "    <tr>\n",
       "      <th>50%</th>\n",
       "      <td>0.435460</td>\n",
       "      <td>0.861396</td>\n",
       "    </tr>\n",
       "    <tr>\n",
       "      <th>75%</th>\n",
       "      <td>0.436239</td>\n",
       "      <td>0.880086</td>\n",
       "    </tr>\n",
       "    <tr>\n",
       "      <th>max</th>\n",
       "      <td>0.448724</td>\n",
       "      <td>0.891562</td>\n",
       "    </tr>\n",
       "  </tbody>\n",
       "</table>\n",
       "</div>"
      ],
      "text/plain": [
       "       multilabel  multihead\n",
       "count    5.000000   5.000000\n",
       "mean     0.429589   0.847038\n",
       "std      0.015541   0.047067\n",
       "min      0.410581   0.775045\n",
       "25%      0.416940   0.827101\n",
       "50%      0.435460   0.861396\n",
       "75%      0.436239   0.880086\n",
       "max      0.448724   0.891562"
      ]
     },
     "execution_count": 8,
     "metadata": {},
     "output_type": "execute_result"
    }
   ],
   "source": [
    "loc_results.describe()"
   ]
  },
  {
   "cell_type": "code",
   "execution_count": 9,
   "id": "civilian-chancellor",
   "metadata": {},
   "outputs": [],
   "source": [
    "p_value = stats.distributions.t(5-1).cdf(t_stat(loc_results))"
   ]
  },
  {
   "cell_type": "code",
   "execution_count": 10,
   "id": "studied-stream",
   "metadata": {},
   "outputs": [
    {
     "data": {
      "text/plain": [
       "8.303535724950009e-06"
      ]
     },
     "execution_count": 10,
     "metadata": {},
     "output_type": "execute_result"
    }
   ],
   "source": [
    "p_value"
   ]
  },
  {
   "cell_type": "markdown",
   "id": "italian-print",
   "metadata": {},
   "source": [
    "PER"
   ]
  },
  {
   "cell_type": "code",
   "execution_count": 11,
   "id": "democratic-ridge",
   "metadata": {},
   "outputs": [
    {
     "data": {
      "text/html": [
       "<div>\n",
       "<style scoped>\n",
       "    .dataframe tbody tr th:only-of-type {\n",
       "        vertical-align: middle;\n",
       "    }\n",
       "\n",
       "    .dataframe tbody tr th {\n",
       "        vertical-align: top;\n",
       "    }\n",
       "\n",
       "    .dataframe thead th {\n",
       "        text-align: right;\n",
       "    }\n",
       "</style>\n",
       "<table border=\"1\" class=\"dataframe\">\n",
       "  <thead>\n",
       "    <tr style=\"text-align: right;\">\n",
       "      <th></th>\n",
       "      <th>multilabel</th>\n",
       "      <th>multihead</th>\n",
       "    </tr>\n",
       "  </thead>\n",
       "  <tbody>\n",
       "    <tr>\n",
       "      <th>0</th>\n",
       "      <td>0.397562</td>\n",
       "      <td>0.879235</td>\n",
       "    </tr>\n",
       "    <tr>\n",
       "      <th>1</th>\n",
       "      <td>0.400448</td>\n",
       "      <td>0.331623</td>\n",
       "    </tr>\n",
       "    <tr>\n",
       "      <th>2</th>\n",
       "      <td>0.397485</td>\n",
       "      <td>0.379631</td>\n",
       "    </tr>\n",
       "    <tr>\n",
       "      <th>3</th>\n",
       "      <td>0.409050</td>\n",
       "      <td>0.315470</td>\n",
       "    </tr>\n",
       "    <tr>\n",
       "      <th>4</th>\n",
       "      <td>0.407216</td>\n",
       "      <td>0.768274</td>\n",
       "    </tr>\n",
       "  </tbody>\n",
       "</table>\n",
       "</div>"
      ],
      "text/plain": [
       "   multilabel  multihead\n",
       "0    0.397562   0.879235\n",
       "1    0.400448   0.331623\n",
       "2    0.397485   0.379631\n",
       "3    0.409050   0.315470\n",
       "4    0.407216   0.768274"
      ]
     },
     "execution_count": 11,
     "metadata": {},
     "output_type": "execute_result"
    }
   ],
   "source": [
    "per_results = pd.DataFrame([[0.397561622051418, 0.8792354474370113], \n",
    "              [0.400448005513914, 0.3316230083715906], \n",
    "              [0.3974851554313657, 0.37963131958386565], \n",
    "              [0.4090497737556561, 0.3154701718907988], \n",
    "               [0.4072156050405662, 0.7682743837084672]], columns=['multilabel', 'multihead'])\n",
    "per_results"
   ]
  },
  {
   "cell_type": "code",
   "execution_count": 12,
   "id": "liable-bedroom",
   "metadata": {},
   "outputs": [
    {
     "data": {
      "text/html": [
       "<div>\n",
       "<style scoped>\n",
       "    .dataframe tbody tr th:only-of-type {\n",
       "        vertical-align: middle;\n",
       "    }\n",
       "\n",
       "    .dataframe tbody tr th {\n",
       "        vertical-align: top;\n",
       "    }\n",
       "\n",
       "    .dataframe thead th {\n",
       "        text-align: right;\n",
       "    }\n",
       "</style>\n",
       "<table border=\"1\" class=\"dataframe\">\n",
       "  <thead>\n",
       "    <tr style=\"text-align: right;\">\n",
       "      <th></th>\n",
       "      <th>multilabel</th>\n",
       "      <th>multihead</th>\n",
       "    </tr>\n",
       "  </thead>\n",
       "  <tbody>\n",
       "    <tr>\n",
       "      <th>count</th>\n",
       "      <td>5.000000</td>\n",
       "      <td>5.000000</td>\n",
       "    </tr>\n",
       "    <tr>\n",
       "      <th>mean</th>\n",
       "      <td>0.402352</td>\n",
       "      <td>0.534847</td>\n",
       "    </tr>\n",
       "    <tr>\n",
       "      <th>std</th>\n",
       "      <td>0.005449</td>\n",
       "      <td>0.267680</td>\n",
       "    </tr>\n",
       "    <tr>\n",
       "      <th>min</th>\n",
       "      <td>0.397485</td>\n",
       "      <td>0.315470</td>\n",
       "    </tr>\n",
       "    <tr>\n",
       "      <th>25%</th>\n",
       "      <td>0.397562</td>\n",
       "      <td>0.331623</td>\n",
       "    </tr>\n",
       "    <tr>\n",
       "      <th>50%</th>\n",
       "      <td>0.400448</td>\n",
       "      <td>0.379631</td>\n",
       "    </tr>\n",
       "    <tr>\n",
       "      <th>75%</th>\n",
       "      <td>0.407216</td>\n",
       "      <td>0.768274</td>\n",
       "    </tr>\n",
       "    <tr>\n",
       "      <th>max</th>\n",
       "      <td>0.409050</td>\n",
       "      <td>0.879235</td>\n",
       "    </tr>\n",
       "  </tbody>\n",
       "</table>\n",
       "</div>"
      ],
      "text/plain": [
       "       multilabel  multihead\n",
       "count    5.000000   5.000000\n",
       "mean     0.402352   0.534847\n",
       "std      0.005449   0.267680\n",
       "min      0.397485   0.315470\n",
       "25%      0.397562   0.331623\n",
       "50%      0.400448   0.379631\n",
       "75%      0.407216   0.768274\n",
       "max      0.409050   0.879235"
      ]
     },
     "execution_count": 12,
     "metadata": {},
     "output_type": "execute_result"
    }
   ],
   "source": [
    "per_results.describe()"
   ]
  },
  {
   "cell_type": "markdown",
   "id": "adjustable-humor",
   "metadata": {},
   "source": [
    "In this case let's make a two-tailed test:\n",
    "\n",
    "$$H_0: \\mu_1 = \\mu_2, \\: H_1: \\mu_1 \\neq \\mu_2 $$\n",
    "\n",
    "because results are quite worser."
   ]
  },
  {
   "cell_type": "code",
   "execution_count": 13,
   "id": "adjusted-jesus",
   "metadata": {},
   "outputs": [],
   "source": [
    "p_value = 2*(1-stats.distributions.t(5-1).cdf(abs(t_stat(per_results))))"
   ]
  },
  {
   "cell_type": "code",
   "execution_count": 14,
   "id": "canadian-occasion",
   "metadata": {},
   "outputs": [
    {
     "data": {
      "text/plain": [
       "0.3317938085675962"
      ]
     },
     "execution_count": 14,
     "metadata": {},
     "output_type": "execute_result"
    }
   ],
   "source": [
    "p_value"
   ]
  },
  {
   "cell_type": "markdown",
   "id": "alive-paraguay",
   "metadata": {},
   "source": [
    " So, we definetely couldn't reject null hypotheses of means equality."
   ]
  },
  {
   "cell_type": "markdown",
   "id": "conscious-trustee",
   "metadata": {},
   "source": [
    "Let's compare the models using Holm's method for comparing two models by finding out the familywise error rate (FWER, групповая вероятность ошибки первого рода)."
   ]
  },
  {
   "cell_type": "code",
   "execution_count": 15,
   "id": "exposed-oasis",
   "metadata": {},
   "outputs": [],
   "source": [
    "from statsmodels.stats.multitest import multipletests"
   ]
  },
  {
   "cell_type": "code",
   "execution_count": 16,
   "id": "hazardous-document",
   "metadata": {
    "scrolled": true
   },
   "outputs": [],
   "source": [
    "result = multipletests([0.0044111410254475195, 8.303535724950009e-06, 0.3317938085675962],\n",
    "                          method='holm')"
   ]
  },
  {
   "cell_type": "code",
   "execution_count": 17,
   "id": "illegal-value",
   "metadata": {},
   "outputs": [
    {
     "name": "stdout",
     "output_type": "stream",
     "text": [
      "Labels: [ORG LOC PER]\n",
      "rejected null hypotheses:[ True  True False]\n",
      "corrected p-values:[8.82228205e-03 2.49106072e-05 3.31793809e-01]\n"
     ]
    }
   ],
   "source": [
    "print(f\"Labels: [ORG LOC PER]\")\n",
    "print(f\"rejected null hypotheses:{result[0]}\")\n",
    "print(f\"corrected p-values:{result[1]}\")"
   ]
  },
  {
   "cell_type": "markdown",
   "id": "existing-selection",
   "metadata": {},
   "source": [
    "Formally, we couldn't reject the null hypotheses of mean equivalence in the ORG and PER cases. But in the ORG case we see that the results of multihead model are mainly better, in the PER case its results are comparable to multilable case."
   ]
  }
 ],
 "metadata": {
  "kernelspec": {
   "display_name": "practice",
   "language": "python",
   "name": "practice"
  },
  "language_info": {
   "codemirror_mode": {
    "name": "ipython",
    "version": 3
   },
   "file_extension": ".py",
   "mimetype": "text/x-python",
   "name": "python",
   "nbconvert_exporter": "python",
   "pygments_lexer": "ipython3",
   "version": "3.7.9"
  }
 },
 "nbformat": 4,
 "nbformat_minor": 5
}
