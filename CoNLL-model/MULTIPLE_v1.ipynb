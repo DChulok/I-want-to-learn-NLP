{
  "nbformat": 4,
  "nbformat_minor": 0,
  "metadata": {
    "colab": {
      "name": "NEWEXPER.ipynb",
      "provenance": [],
      "collapsed_sections": [
        "zNBmPWcXheAq"
      ]
    },
    "kernelspec": {
      "name": "python3",
      "display_name": "Python 3"
    },
    "accelerator": "GPU",
    "widgets": {
      "application/vnd.jupyter.widget-state+json": {
        "1eb1a50849a34201bbb5ce4ee791360a": {
          "model_module": "@jupyter-widgets/controls",
          "model_name": "HBoxModel",
          "state": {
            "_view_name": "HBoxView",
            "_dom_classes": [],
            "_model_name": "HBoxModel",
            "_view_module": "@jupyter-widgets/controls",
            "_model_module_version": "1.5.0",
            "_view_count": null,
            "_view_module_version": "1.5.0",
            "box_style": "",
            "layout": "IPY_MODEL_1b22750cfd1a4489832cc408701162a8",
            "_model_module": "@jupyter-widgets/controls",
            "children": [
              "IPY_MODEL_7bd3c688c9594520aaa437704d68a7d2",
              "IPY_MODEL_1f211d87f827450f9d15c73dd4a04fd5"
            ]
          }
        },
        "1b22750cfd1a4489832cc408701162a8": {
          "model_module": "@jupyter-widgets/base",
          "model_name": "LayoutModel",
          "state": {
            "_view_name": "LayoutView",
            "grid_template_rows": null,
            "right": null,
            "justify_content": null,
            "_view_module": "@jupyter-widgets/base",
            "overflow": null,
            "_model_module_version": "1.2.0",
            "_view_count": null,
            "flex_flow": null,
            "width": null,
            "min_width": null,
            "border": null,
            "align_items": null,
            "bottom": null,
            "_model_module": "@jupyter-widgets/base",
            "top": null,
            "grid_column": null,
            "overflow_y": null,
            "overflow_x": null,
            "grid_auto_flow": null,
            "grid_area": null,
            "grid_template_columns": null,
            "flex": null,
            "_model_name": "LayoutModel",
            "justify_items": null,
            "grid_row": null,
            "max_height": null,
            "align_content": null,
            "visibility": null,
            "align_self": null,
            "height": null,
            "min_height": null,
            "padding": null,
            "grid_auto_rows": null,
            "grid_gap": null,
            "max_width": null,
            "order": null,
            "_view_module_version": "1.2.0",
            "grid_template_areas": null,
            "object_position": null,
            "object_fit": null,
            "grid_auto_columns": null,
            "margin": null,
            "display": null,
            "left": null
          }
        },
        "7bd3c688c9594520aaa437704d68a7d2": {
          "model_module": "@jupyter-widgets/controls",
          "model_name": "FloatProgressModel",
          "state": {
            "_view_name": "ProgressView",
            "style": "IPY_MODEL_54d4d581b78741aeb6a1d0cd624a70f1",
            "_dom_classes": [],
            "description": "Downloading: 100%",
            "_model_name": "FloatProgressModel",
            "bar_style": "success",
            "max": 213450,
            "_view_module": "@jupyter-widgets/controls",
            "_model_module_version": "1.5.0",
            "value": 213450,
            "_view_count": null,
            "_view_module_version": "1.5.0",
            "orientation": "horizontal",
            "min": 0,
            "description_tooltip": null,
            "_model_module": "@jupyter-widgets/controls",
            "layout": "IPY_MODEL_b8ed7807c022467c8280f57c58a123df"
          }
        },
        "1f211d87f827450f9d15c73dd4a04fd5": {
          "model_module": "@jupyter-widgets/controls",
          "model_name": "HTMLModel",
          "state": {
            "_view_name": "HTMLView",
            "style": "IPY_MODEL_af7b17d28aaf48d39b546a761f0d7de5",
            "_dom_classes": [],
            "description": "",
            "_model_name": "HTMLModel",
            "placeholder": "​",
            "_view_module": "@jupyter-widgets/controls",
            "_model_module_version": "1.5.0",
            "value": " 213k/213k [00:00&lt;00:00, 275kB/s]",
            "_view_count": null,
            "_view_module_version": "1.5.0",
            "description_tooltip": null,
            "_model_module": "@jupyter-widgets/controls",
            "layout": "IPY_MODEL_3b7f2db6396840a2ab1f3723fa47057a"
          }
        },
        "54d4d581b78741aeb6a1d0cd624a70f1": {
          "model_module": "@jupyter-widgets/controls",
          "model_name": "ProgressStyleModel",
          "state": {
            "_view_name": "StyleView",
            "_model_name": "ProgressStyleModel",
            "description_width": "initial",
            "_view_module": "@jupyter-widgets/base",
            "_model_module_version": "1.5.0",
            "_view_count": null,
            "_view_module_version": "1.2.0",
            "bar_color": null,
            "_model_module": "@jupyter-widgets/controls"
          }
        },
        "b8ed7807c022467c8280f57c58a123df": {
          "model_module": "@jupyter-widgets/base",
          "model_name": "LayoutModel",
          "state": {
            "_view_name": "LayoutView",
            "grid_template_rows": null,
            "right": null,
            "justify_content": null,
            "_view_module": "@jupyter-widgets/base",
            "overflow": null,
            "_model_module_version": "1.2.0",
            "_view_count": null,
            "flex_flow": null,
            "width": null,
            "min_width": null,
            "border": null,
            "align_items": null,
            "bottom": null,
            "_model_module": "@jupyter-widgets/base",
            "top": null,
            "grid_column": null,
            "overflow_y": null,
            "overflow_x": null,
            "grid_auto_flow": null,
            "grid_area": null,
            "grid_template_columns": null,
            "flex": null,
            "_model_name": "LayoutModel",
            "justify_items": null,
            "grid_row": null,
            "max_height": null,
            "align_content": null,
            "visibility": null,
            "align_self": null,
            "height": null,
            "min_height": null,
            "padding": null,
            "grid_auto_rows": null,
            "grid_gap": null,
            "max_width": null,
            "order": null,
            "_view_module_version": "1.2.0",
            "grid_template_areas": null,
            "object_position": null,
            "object_fit": null,
            "grid_auto_columns": null,
            "margin": null,
            "display": null,
            "left": null
          }
        },
        "af7b17d28aaf48d39b546a761f0d7de5": {
          "model_module": "@jupyter-widgets/controls",
          "model_name": "DescriptionStyleModel",
          "state": {
            "_view_name": "StyleView",
            "_model_name": "DescriptionStyleModel",
            "description_width": "",
            "_view_module": "@jupyter-widgets/base",
            "_model_module_version": "1.5.0",
            "_view_count": null,
            "_view_module_version": "1.2.0",
            "_model_module": "@jupyter-widgets/controls"
          }
        },
        "3b7f2db6396840a2ab1f3723fa47057a": {
          "model_module": "@jupyter-widgets/base",
          "model_name": "LayoutModel",
          "state": {
            "_view_name": "LayoutView",
            "grid_template_rows": null,
            "right": null,
            "justify_content": null,
            "_view_module": "@jupyter-widgets/base",
            "overflow": null,
            "_model_module_version": "1.2.0",
            "_view_count": null,
            "flex_flow": null,
            "width": null,
            "min_width": null,
            "border": null,
            "align_items": null,
            "bottom": null,
            "_model_module": "@jupyter-widgets/base",
            "top": null,
            "grid_column": null,
            "overflow_y": null,
            "overflow_x": null,
            "grid_auto_flow": null,
            "grid_area": null,
            "grid_template_columns": null,
            "flex": null,
            "_model_name": "LayoutModel",
            "justify_items": null,
            "grid_row": null,
            "max_height": null,
            "align_content": null,
            "visibility": null,
            "align_self": null,
            "height": null,
            "min_height": null,
            "padding": null,
            "grid_auto_rows": null,
            "grid_gap": null,
            "max_width": null,
            "order": null,
            "_view_module_version": "1.2.0",
            "grid_template_areas": null,
            "object_position": null,
            "object_fit": null,
            "grid_auto_columns": null,
            "margin": null,
            "display": null,
            "left": null
          }
        }
      }
    }
  },
  "cells": [
    {
      "cell_type": "code",
      "metadata": {
        "colab": {
          "base_uri": "https://localhost:8080/"
        },
        "id": "UxdpJX4wYsFD",
        "outputId": "c5158c4e-807c-4434-d2b6-007c42864c72"
      },
      "source": [
        "from google.colab import drive\n",
        "drive.mount('/content/drive')"
      ],
      "execution_count": 1,
      "outputs": [
        {
          "output_type": "stream",
          "text": [
            "Drive already mounted at /content/drive; to attempt to forcibly remount, call drive.mount(\"/content/drive\", force_remount=True).\n"
          ],
          "name": "stdout"
        }
      ]
    },
    {
      "cell_type": "code",
      "metadata": {
        "id": "Ect9MxMggsIR"
      },
      "source": [
        "PATH_TO_PROJECT = '/content/drive/My Drive/Serious/'\n",
        "# path to conll class as well as to conll data\n",
        "PATH_TO_CONLL = PATH_TO_PROJECT + 'coNLL/'\n",
        "PATH_TO_TAG2IDX = PATH_TO_CONLL + 'tag2idx.json'\n",
        "PATH_TO_ONE_TAG2IDX = PATH_TO_CONLL + 'one_tag2idx.json'\n",
        "PATH_TO_CHECKPOINT = '/content/drive/My Drive/models/'"
      ],
      "execution_count": 2,
      "outputs": []
    },
    {
      "cell_type": "markdown",
      "metadata": {
        "id": "zNBmPWcXheAq"
      },
      "source": [
        "### Intall requirements"
      ]
    },
    {
      "cell_type": "code",
      "metadata": {
        "colab": {
          "base_uri": "https://localhost:8080/"
        },
        "id": "ePx2hWb5gopz",
        "outputId": "04038821-35fb-498c-859e-f3d505db87e9"
      },
      "source": [
        "!pip install -r '/content/drive/My Drive/Serious/requirements.txt'"
      ],
      "execution_count": 3,
      "outputs": [
        {
          "output_type": "stream",
          "text": [
            "Requirement already satisfied: transformers~=4.3 in /usr/local/lib/python3.7/dist-packages (from -r /content/drive/My Drive/Serious/requirements.txt (line 1)) (4.3.3)\n",
            "Requirement already satisfied: allennlp~=2.0 in /usr/local/lib/python3.7/dist-packages (from -r /content/drive/My Drive/Serious/requirements.txt (line 2)) (2.1.0)\n",
            "Requirement already satisfied: seqeval~=1.2 in /usr/local/lib/python3.7/dist-packages (from -r /content/drive/My Drive/Serious/requirements.txt (line 3)) (1.2.2)\n",
            "Requirement already satisfied: pytorch-crf~=0.7 in /usr/local/lib/python3.7/dist-packages (from -r /content/drive/My Drive/Serious/requirements.txt (line 4)) (0.7.2)\n",
            "Requirement already satisfied: requests in /usr/local/lib/python3.7/dist-packages (from transformers~=4.3->-r /content/drive/My Drive/Serious/requirements.txt (line 1)) (2.23.0)\n",
            "Requirement already satisfied: tokenizers<0.11,>=0.10.1 in /usr/local/lib/python3.7/dist-packages (from transformers~=4.3->-r /content/drive/My Drive/Serious/requirements.txt (line 1)) (0.10.1)\n",
            "Requirement already satisfied: importlib-metadata; python_version < \"3.8\" in /usr/local/lib/python3.7/dist-packages (from transformers~=4.3->-r /content/drive/My Drive/Serious/requirements.txt (line 1)) (3.7.0)\n",
            "Requirement already satisfied: sacremoses in /usr/local/lib/python3.7/dist-packages (from transformers~=4.3->-r /content/drive/My Drive/Serious/requirements.txt (line 1)) (0.0.43)\n",
            "Requirement already satisfied: numpy>=1.17 in /usr/local/lib/python3.7/dist-packages (from transformers~=4.3->-r /content/drive/My Drive/Serious/requirements.txt (line 1)) (1.19.5)\n",
            "Requirement already satisfied: regex!=2019.12.17 in /usr/local/lib/python3.7/dist-packages (from transformers~=4.3->-r /content/drive/My Drive/Serious/requirements.txt (line 1)) (2019.12.20)\n",
            "Requirement already satisfied: tqdm>=4.27 in /usr/local/lib/python3.7/dist-packages (from transformers~=4.3->-r /content/drive/My Drive/Serious/requirements.txt (line 1)) (4.41.1)\n",
            "Requirement already satisfied: packaging in /usr/local/lib/python3.7/dist-packages (from transformers~=4.3->-r /content/drive/My Drive/Serious/requirements.txt (line 1)) (20.9)\n",
            "Requirement already satisfied: filelock in /usr/local/lib/python3.7/dist-packages (from transformers~=4.3->-r /content/drive/My Drive/Serious/requirements.txt (line 1)) (3.0.12)\n",
            "Requirement already satisfied: jsonnet>=0.10.0; sys_platform != \"win32\" in /usr/local/lib/python3.7/dist-packages (from allennlp~=2.0->-r /content/drive/My Drive/Serious/requirements.txt (line 2)) (0.17.0)\n",
            "Requirement already satisfied: boto3<2.0,>=1.14 in /usr/local/lib/python3.7/dist-packages (from allennlp~=2.0->-r /content/drive/My Drive/Serious/requirements.txt (line 2)) (1.17.23)\n",
            "Requirement already satisfied: scikit-learn in /usr/local/lib/python3.7/dist-packages (from allennlp~=2.0->-r /content/drive/My Drive/Serious/requirements.txt (line 2)) (0.22.2.post1)\n",
            "Requirement already satisfied: scipy in /usr/local/lib/python3.7/dist-packages (from allennlp~=2.0->-r /content/drive/My Drive/Serious/requirements.txt (line 2)) (1.4.1)\n",
            "Requirement already satisfied: tensorboardX>=1.2 in /usr/local/lib/python3.7/dist-packages (from allennlp~=2.0->-r /content/drive/My Drive/Serious/requirements.txt (line 2)) (2.1)\n",
            "Requirement already satisfied: lmdb in /usr/local/lib/python3.7/dist-packages (from allennlp~=2.0->-r /content/drive/My Drive/Serious/requirements.txt (line 2)) (0.99)\n",
            "Requirement already satisfied: spacy<3.1,>=2.1.0 in /usr/local/lib/python3.7/dist-packages (from allennlp~=2.0->-r /content/drive/My Drive/Serious/requirements.txt (line 2)) (2.2.4)\n",
            "Requirement already satisfied: torchvision<0.9.0,>=0.8.1 in /usr/local/lib/python3.7/dist-packages (from allennlp~=2.0->-r /content/drive/My Drive/Serious/requirements.txt (line 2)) (0.8.2)\n",
            "Requirement already satisfied: sentencepiece in /usr/local/lib/python3.7/dist-packages (from allennlp~=2.0->-r /content/drive/My Drive/Serious/requirements.txt (line 2)) (0.1.95)\n",
            "Requirement already satisfied: nltk in /usr/local/lib/python3.7/dist-packages (from allennlp~=2.0->-r /content/drive/My Drive/Serious/requirements.txt (line 2)) (3.2.5)\n",
            "Requirement already satisfied: jsonpickle in /usr/local/lib/python3.7/dist-packages (from allennlp~=2.0->-r /content/drive/My Drive/Serious/requirements.txt (line 2)) (2.0.0)\n",
            "Requirement already satisfied: h5py in /usr/local/lib/python3.7/dist-packages (from allennlp~=2.0->-r /content/drive/My Drive/Serious/requirements.txt (line 2)) (2.10.0)\n",
            "Requirement already satisfied: torch<1.8.0,>=1.6.0 in /usr/local/lib/python3.7/dist-packages (from allennlp~=2.0->-r /content/drive/My Drive/Serious/requirements.txt (line 2)) (1.7.1)\n",
            "Requirement already satisfied: pytest in /usr/local/lib/python3.7/dist-packages (from allennlp~=2.0->-r /content/drive/My Drive/Serious/requirements.txt (line 2)) (3.6.4)\n",
            "Requirement already satisfied: overrides==3.1.0 in /usr/local/lib/python3.7/dist-packages (from allennlp~=2.0->-r /content/drive/My Drive/Serious/requirements.txt (line 2)) (3.1.0)\n",
            "Requirement already satisfied: more-itertools in /usr/local/lib/python3.7/dist-packages (from allennlp~=2.0->-r /content/drive/My Drive/Serious/requirements.txt (line 2)) (8.7.0)\n",
            "Requirement already satisfied: certifi>=2017.4.17 in /usr/local/lib/python3.7/dist-packages (from requests->transformers~=4.3->-r /content/drive/My Drive/Serious/requirements.txt (line 1)) (2020.12.5)\n",
            "Requirement already satisfied: idna<3,>=2.5 in /usr/local/lib/python3.7/dist-packages (from requests->transformers~=4.3->-r /content/drive/My Drive/Serious/requirements.txt (line 1)) (2.10)\n",
            "Requirement already satisfied: chardet<4,>=3.0.2 in /usr/local/lib/python3.7/dist-packages (from requests->transformers~=4.3->-r /content/drive/My Drive/Serious/requirements.txt (line 1)) (3.0.4)\n",
            "Requirement already satisfied: urllib3!=1.25.0,!=1.25.1,<1.26,>=1.21.1 in /usr/local/lib/python3.7/dist-packages (from requests->transformers~=4.3->-r /content/drive/My Drive/Serious/requirements.txt (line 1)) (1.24.3)\n",
            "Requirement already satisfied: typing-extensions>=3.6.4; python_version < \"3.8\" in /usr/local/lib/python3.7/dist-packages (from importlib-metadata; python_version < \"3.8\"->transformers~=4.3->-r /content/drive/My Drive/Serious/requirements.txt (line 1)) (3.7.4.3)\n",
            "Requirement already satisfied: zipp>=0.5 in /usr/local/lib/python3.7/dist-packages (from importlib-metadata; python_version < \"3.8\"->transformers~=4.3->-r /content/drive/My Drive/Serious/requirements.txt (line 1)) (3.4.1)\n",
            "Requirement already satisfied: joblib in /usr/local/lib/python3.7/dist-packages (from sacremoses->transformers~=4.3->-r /content/drive/My Drive/Serious/requirements.txt (line 1)) (1.0.1)\n",
            "Requirement already satisfied: six in /usr/local/lib/python3.7/dist-packages (from sacremoses->transformers~=4.3->-r /content/drive/My Drive/Serious/requirements.txt (line 1)) (1.15.0)\n",
            "Requirement already satisfied: click in /usr/local/lib/python3.7/dist-packages (from sacremoses->transformers~=4.3->-r /content/drive/My Drive/Serious/requirements.txt (line 1)) (7.1.2)\n",
            "Requirement already satisfied: pyparsing>=2.0.2 in /usr/local/lib/python3.7/dist-packages (from packaging->transformers~=4.3->-r /content/drive/My Drive/Serious/requirements.txt (line 1)) (2.4.7)\n",
            "Requirement already satisfied: s3transfer<0.4.0,>=0.3.0 in /usr/local/lib/python3.7/dist-packages (from boto3<2.0,>=1.14->allennlp~=2.0->-r /content/drive/My Drive/Serious/requirements.txt (line 2)) (0.3.4)\n",
            "Requirement already satisfied: jmespath<1.0.0,>=0.7.1 in /usr/local/lib/python3.7/dist-packages (from boto3<2.0,>=1.14->allennlp~=2.0->-r /content/drive/My Drive/Serious/requirements.txt (line 2)) (0.10.0)\n",
            "Requirement already satisfied: botocore<1.21.0,>=1.20.23 in /usr/local/lib/python3.7/dist-packages (from boto3<2.0,>=1.14->allennlp~=2.0->-r /content/drive/My Drive/Serious/requirements.txt (line 2)) (1.20.23)\n",
            "Requirement already satisfied: protobuf>=3.8.0 in /usr/local/lib/python3.7/dist-packages (from tensorboardX>=1.2->allennlp~=2.0->-r /content/drive/My Drive/Serious/requirements.txt (line 2)) (3.12.4)\n",
            "Requirement already satisfied: plac<1.2.0,>=0.9.6 in /usr/local/lib/python3.7/dist-packages (from spacy<3.1,>=2.1.0->allennlp~=2.0->-r /content/drive/My Drive/Serious/requirements.txt (line 2)) (1.1.3)\n",
            "Requirement already satisfied: wasabi<1.1.0,>=0.4.0 in /usr/local/lib/python3.7/dist-packages (from spacy<3.1,>=2.1.0->allennlp~=2.0->-r /content/drive/My Drive/Serious/requirements.txt (line 2)) (0.8.2)\n",
            "Requirement already satisfied: blis<0.5.0,>=0.4.0 in /usr/local/lib/python3.7/dist-packages (from spacy<3.1,>=2.1.0->allennlp~=2.0->-r /content/drive/My Drive/Serious/requirements.txt (line 2)) (0.4.1)\n",
            "Requirement already satisfied: thinc==7.4.0 in /usr/local/lib/python3.7/dist-packages (from spacy<3.1,>=2.1.0->allennlp~=2.0->-r /content/drive/My Drive/Serious/requirements.txt (line 2)) (7.4.0)\n",
            "Requirement already satisfied: catalogue<1.1.0,>=0.0.7 in /usr/local/lib/python3.7/dist-packages (from spacy<3.1,>=2.1.0->allennlp~=2.0->-r /content/drive/My Drive/Serious/requirements.txt (line 2)) (1.0.0)\n",
            "Requirement already satisfied: cymem<2.1.0,>=2.0.2 in /usr/local/lib/python3.7/dist-packages (from spacy<3.1,>=2.1.0->allennlp~=2.0->-r /content/drive/My Drive/Serious/requirements.txt (line 2)) (2.0.5)\n",
            "Requirement already satisfied: setuptools in /usr/local/lib/python3.7/dist-packages (from spacy<3.1,>=2.1.0->allennlp~=2.0->-r /content/drive/My Drive/Serious/requirements.txt (line 2)) (54.0.0)\n",
            "Requirement already satisfied: srsly<1.1.0,>=1.0.2 in /usr/local/lib/python3.7/dist-packages (from spacy<3.1,>=2.1.0->allennlp~=2.0->-r /content/drive/My Drive/Serious/requirements.txt (line 2)) (1.0.5)\n",
            "Requirement already satisfied: murmurhash<1.1.0,>=0.28.0 in /usr/local/lib/python3.7/dist-packages (from spacy<3.1,>=2.1.0->allennlp~=2.0->-r /content/drive/My Drive/Serious/requirements.txt (line 2)) (1.0.5)\n",
            "Requirement already satisfied: preshed<3.1.0,>=3.0.2 in /usr/local/lib/python3.7/dist-packages (from spacy<3.1,>=2.1.0->allennlp~=2.0->-r /content/drive/My Drive/Serious/requirements.txt (line 2)) (3.0.5)\n",
            "Requirement already satisfied: pillow>=4.1.1 in /usr/local/lib/python3.7/dist-packages (from torchvision<0.9.0,>=0.8.1->allennlp~=2.0->-r /content/drive/My Drive/Serious/requirements.txt (line 2)) (7.0.0)\n",
            "Requirement already satisfied: attrs>=17.4.0 in /usr/local/lib/python3.7/dist-packages (from pytest->allennlp~=2.0->-r /content/drive/My Drive/Serious/requirements.txt (line 2)) (20.3.0)\n",
            "Requirement already satisfied: atomicwrites>=1.0 in /usr/local/lib/python3.7/dist-packages (from pytest->allennlp~=2.0->-r /content/drive/My Drive/Serious/requirements.txt (line 2)) (1.4.0)\n",
            "Requirement already satisfied: pluggy<0.8,>=0.5 in /usr/local/lib/python3.7/dist-packages (from pytest->allennlp~=2.0->-r /content/drive/My Drive/Serious/requirements.txt (line 2)) (0.7.1)\n",
            "Requirement already satisfied: py>=1.5.0 in /usr/local/lib/python3.7/dist-packages (from pytest->allennlp~=2.0->-r /content/drive/My Drive/Serious/requirements.txt (line 2)) (1.10.0)\n",
            "Requirement already satisfied: python-dateutil<3.0.0,>=2.1 in /usr/local/lib/python3.7/dist-packages (from botocore<1.21.0,>=1.20.23->boto3<2.0,>=1.14->allennlp~=2.0->-r /content/drive/My Drive/Serious/requirements.txt (line 2)) (2.8.1)\n"
          ],
          "name": "stdout"
        }
      ]
    },
    {
      "cell_type": "markdown",
      "metadata": {
        "id": "Ig5ZPACeZfR0"
      },
      "source": [
        "### Loading coNLL"
      ]
    },
    {
      "cell_type": "code",
      "metadata": {
        "id": "iMQq-F5Y-9pO"
      },
      "source": [
        "import sys\n",
        "sys.path.append(PATH_TO_PROJECT)\n",
        "sys.path.append(PATH_TO_CONLL)\n",
        "\n",
        "from importlib import reload\n",
        "import conll as co"
      ],
      "execution_count": 4,
      "outputs": []
    },
    {
      "cell_type": "code",
      "metadata": {
        "id": "iVoDyuLrZUZW"
      },
      "source": [
        "conll = co.CoNLL(PATH_TO_CONLL)"
      ],
      "execution_count": 5,
      "outputs": []
    },
    {
      "cell_type": "code",
      "metadata": {
        "id": "iDaiJBYeZz22"
      },
      "source": [
        "# splitting raw data to sentences and labels\n",
        "for typ in conll.types:\n",
        "    conll.split_text_label(typ)\n",
        "\n",
        "# define set of all labels\n",
        "conll.create_set_of_labels()\n",
        "\n",
        "for typ in conll.types:\n",
        "    # for multiple heads of CRF layer\n",
        "    conll.create_one_labeled_data(typ)\n",
        "\n",
        "    # creating one_tag2idx dictionary\n",
        "    conll.create_one_tag2idx(PATH_TO_ONE_TAG2IDX)\n",
        "    conll.create_idx2one_tag()"
      ],
      "execution_count": 6,
      "outputs": []
    },
    {
      "cell_type": "code",
      "metadata": {
        "colab": {
          "base_uri": "https://localhost:8080/"
        },
        "id": "BLenRElisZ7u",
        "outputId": "1156bde6-8463-49b5-e724-9de381e19da0"
      },
      "source": [
        "# dict of tag2idx mapping for each CRF-head (one head responsible for 'LOC' etc.)\n",
        "conll.one_tag2idx"
      ],
      "execution_count": 7,
      "outputs": [
        {
          "output_type": "execute_result",
          "data": {
            "text/plain": [
              "{'LOC': {'B-LOC': 0, 'I-LOC': 3, 'O': 2, 'PAD': 1},\n",
              " 'MISC': {'B-MISC': 0, 'I-MISC': 3, 'O': 2, 'PAD': 1},\n",
              " 'ORG': {'B-ORG': 2, 'I-ORG': 3, 'O': 1, 'PAD': 0},\n",
              " 'PER': {'B-PER': 2, 'I-PER': 0, 'O': 3, 'PAD': 1}}"
            ]
          },
          "metadata": {
            "tags": []
          },
          "execution_count": 7
        }
      ]
    },
    {
      "cell_type": "code",
      "metadata": {
        "colab": {
          "base_uri": "https://localhost:8080/"
        },
        "id": "r31Vd_X7aFYq",
        "outputId": "013564d4-44f2-4f04-eeef-dd8ac0621a5f"
      },
      "source": [
        "print(f\"sen example: {conll.sentences['train'][0]}\")\n",
        "print(f\"tags example: {conll.labels['train'][0]}\")\n",
        "print(f\"tags example with only 'ORG' tag: {conll.one_tag_dict['train']['ORG'][0]}\")\n",
        "print(f\"tags for CRF tags has labels: {conll.one_tag_dict['train'].keys()}\")"
      ],
      "execution_count": 8,
      "outputs": [
        {
          "output_type": "stream",
          "text": [
            "sen example: ['EU', 'rejects', 'German', 'call', 'to', 'boycott', 'British', 'lamb', '.']\n",
            "tags example: ['B-ORG', 'O', 'B-MISC', 'O', 'O', 'O', 'B-MISC', 'O', 'O']\n",
            "tags example with only 'ORG' tag: ['B-ORG', 'O', 'O', 'O', 'O', 'O', 'O', 'O', 'O']\n",
            "tags for CRF tags has labels: dict_keys(['PER', 'MISC', 'LOC', 'ORG'])\n"
          ],
          "name": "stdout"
        }
      ]
    },
    {
      "cell_type": "markdown",
      "metadata": {
        "id": "0QAfxs-oksA8"
      },
      "source": [
        "### Importing packages"
      ]
    },
    {
      "cell_type": "code",
      "metadata": {
        "id": "fRTdZDZhaswg"
      },
      "source": [
        "import numpy as np\n",
        "import torch\n",
        "from torch import nn\n",
        "from torch.optim import AdamW\n",
        "from transformers import BertTokenizer, BertModel\n",
        "from transformers import BertForTokenClassification\n",
        "from allennlp.modules.elmo import Elmo, batch_to_ids\n",
        "\n",
        "from torchcrf import CRF\n",
        "\n",
        "from sklearn.model_selection import KFold, ParameterGrid\n",
        "\n",
        "from transformers import get_linear_schedule_with_warmup\n",
        "\n",
        "import matplotlib\n",
        "from matplotlib import pyplot as plt\n",
        "\n",
        "%matplotlib inline"
      ],
      "execution_count": 9,
      "outputs": []
    },
    {
      "cell_type": "markdown",
      "metadata": {
        "id": "4Wbv4ooQlF-L"
      },
      "source": [
        "### Creating dataloaders"
      ]
    },
    {
      "cell_type": "code",
      "metadata": {
        "id": "sWa5WR6-Hq1-"
      },
      "source": [
        "import data_loaders as dalo"
      ],
      "execution_count": 10,
      "outputs": []
    },
    {
      "cell_type": "code",
      "metadata": {
        "id": "J0-SYtcug_EN",
        "colab": {
          "base_uri": "https://localhost:8080/",
          "height": 66,
          "referenced_widgets": [
            "1eb1a50849a34201bbb5ce4ee791360a",
            "1b22750cfd1a4489832cc408701162a8",
            "7bd3c688c9594520aaa437704d68a7d2",
            "1f211d87f827450f9d15c73dd4a04fd5",
            "54d4d581b78741aeb6a1d0cd624a70f1",
            "b8ed7807c022467c8280f57c58a123df",
            "af7b17d28aaf48d39b546a761f0d7de5",
            "3b7f2db6396840a2ab1f3723fa47057a"
          ]
        },
        "outputId": "7b731d43-792e-4077-d977-1003ac615b26"
      },
      "source": [
        "bert_tokenizer = BertTokenizer.from_pretrained('bert-base-cased', do_lower_case=False)"
      ],
      "execution_count": 11,
      "outputs": [
        {
          "output_type": "display_data",
          "data": {
            "application/vnd.jupyter.widget-view+json": {
              "model_id": "1eb1a50849a34201bbb5ce4ee791360a",
              "version_minor": 0,
              "version_major": 2
            },
            "text/plain": [
              "HBox(children=(FloatProgress(value=0.0, description='Downloading', max=213450.0, style=ProgressStyle(descripti…"
            ]
          },
          "metadata": {
            "tags": []
          }
        },
        {
          "output_type": "stream",
          "text": [
            "\n"
          ],
          "name": "stdout"
        }
      ]
    },
    {
      "cell_type": "code",
      "metadata": {
        "id": "oxXzWE70ZqHt"
      },
      "source": [
        "TAG_NAMES = ['ORG', 'LOC', 'PER']\n",
        "NUM_OF_HEADS = len(TAG_NAMES)"
      ],
      "execution_count": 12,
      "outputs": []
    },
    {
      "cell_type": "code",
      "metadata": {
        "colab": {
          "base_uri": "https://localhost:8080/"
        },
        "id": "GfEU-vEzg1cC",
        "outputId": "523de627-a2cd-4cc5-9fc7-daa8d4781ce6"
      },
      "source": [
        "# in the second argument we pass list of tag names for every head of the model\n",
        "train_dataset, train_sampler, train_dataloader = dalo.create_dataloader(conll, bert_tokenizer, TAG_NAMES)\n",
        "\n",
        "# sanity check for output sizes\n",
        "assert train_dataset[0][0].shape[0] == train_dataset[0][1].shape[0]\n",
        "if NUM_OF_HEADS > 1:\n",
        "  assert train_dataset[0][2].shape[0] == NUM_OF_HEADS\n",
        "  assert train_dataset[0][2].shape[1] == train_dataset[0][0].shape[0]\n",
        "else:\n",
        "  assert len(train_dataset[0][2].shape) == NUM_OF_HEADS # == 1\n",
        "  assert train_dataset[0][2].shape[0] == train_dataset[0][0].shape[0]\n",
        "assert train_dataset[0][3].shape[0] == train_dataset[0][0].shape[0]\n",
        "\n",
        "print(f\"bert sentence shape: {train_dataset[0][0].shape}\")\n",
        "print(f\"elmo sentence shape: {train_dataset[0][1].shape}\")\n",
        "print(f\"number of heads: {train_dataset[0][2].shape[0] if NUM_OF_HEADS > 1 else 1}\")\n",
        "print(f\"tokens len: {train_dataset[0][2].shape[1] if NUM_OF_HEADS > 1 else train_dataset[0][2].shape[0]}\")\n",
        "print(f\"mask shape: {train_dataset[0][3].shape}\")"
      ],
      "execution_count": 13,
      "outputs": [
        {
          "output_type": "stream",
          "text": [
            "bert sentence shape: torch.Size([173])\n",
            "elmo sentence shape: torch.Size([173, 50])\n",
            "number of heads: 3\n",
            "tokens len: 173\n",
            "mask shape: torch.Size([173])\n"
          ],
          "name": "stdout"
        }
      ]
    },
    {
      "cell_type": "code",
      "metadata": {
        "id": "MYwcH-OXOlEK",
        "colab": {
          "base_uri": "https://localhost:8080/"
        },
        "outputId": "002ce9b9-0dec-4bf6-c1cc-3e3199f76dd4"
      },
      "source": [
        "valid_dataset, valid_sampler, valid_dataloader = dalo.create_dataloader(conll, bert_tokenizer, TAG_NAMES,\n",
        "                                                                        'valid', desired_pad=train_dataset[0][0].shape[0])\n",
        "\n",
        "# sanity check for output sizes\n",
        "assert valid_dataset[0][0].shape[0] == train_dataset[0][1].shape[0]\n",
        "if NUM_OF_HEADS > 1:\n",
        "  assert valid_dataset[0][2].shape[0] == NUM_OF_HEADS\n",
        "  assert valid_dataset[0][2].shape[1] == train_dataset[0][0].shape[0]\n",
        "else:\n",
        "  assert len(valid_dataset[0][2].shape) == NUM_OF_HEADS # == 1\n",
        "  assert valid_dataset[0][2].shape[0] == train_dataset[0][0].shape[0]\n",
        "assert valid_dataset[0][3].shape[0] == train_dataset[0][0].shape[0]\n",
        "\n",
        "print(f\"bert sentence shape: {valid_dataset[0][0].shape}\")\n",
        "print(f\"elmo sentence shape: {valid_dataset[0][1].shape}\")"
      ],
      "execution_count": 14,
      "outputs": [
        {
          "output_type": "stream",
          "text": [
            "bert sentence shape: torch.Size([173])\n",
            "elmo sentence shape: torch.Size([173, 50])\n"
          ],
          "name": "stdout"
        }
      ]
    },
    {
      "cell_type": "markdown",
      "metadata": {
        "id": "HIZt3E_7T7wL"
      },
      "source": [
        "### Creating model"
      ]
    },
    {
      "cell_type": "code",
      "metadata": {
        "id": "iLKRCesGaQge"
      },
      "source": [
        "from bert_config import *\n",
        "from elmo_config import *"
      ],
      "execution_count": 15,
      "outputs": []
    },
    {
      "cell_type": "code",
      "metadata": {
        "id": "4E_iWY0bTiuL"
      },
      "source": [
        "class BEbiC(nn.Module):\n",
        "    \"\"\"\n",
        "    BERT+Elmo+biLSTM+CRFs\n",
        "    \"\"\"\n",
        "    def __init__(self, hidden_size=128, num_labels=4, tag_names=TAG_NAMES,\n",
        "                 elmo_layers=2, bert_layers=1, concat_bert=True,\n",
        "                 bilstm_layers=1, bilstm_dropout=0):\n",
        "        \"\"\"\n",
        "        Creates model\n",
        "        \n",
        "        Parameters\n",
        "        ----------\n",
        "        hidden_size: int, default=128\n",
        "          LSTM parameter\n",
        "        num_labels: int, defualt=4\n",
        "          The number of each CRF labels (ex: B-LABEL, I-LABEL, O, PAD for multiple heads case)\n",
        "        tag_names: list of str\n",
        "          List of tag names for models heads\n",
        "        elmo_layers: int, default=2\n",
        "          Num of ELMo layers to be considered\n",
        "        bert_layers: int, default=1\n",
        "          Num of final BERT hidden layers to be used as embedding vector.\n",
        "        concat_bert: bool, default=True\n",
        "          Whether to concat (True) or sum (False) last BERT hidden layers.\n",
        "        bilstm_layers: int, default=1\n",
        "          Number of layers in biLSTM\n",
        "        bilstm_dropout: int, default=0\n",
        "          Dropout value in bilstm layes\n",
        "\n",
        "        \"\"\"\n",
        "\n",
        "        super(BEbiC, self).__init__()\n",
        "\n",
        "        self.hidden_size = hidden_size\n",
        "        self.num_labels = num_labels\n",
        "        self.tag_names = tag_names\n",
        "        self.num_heads = len(self.tag_names)\n",
        "        self.elmo_layers = elmo_layers\n",
        "        self.bert_layers = bert_layers\n",
        "        self.concat_bert = concat_bert\n",
        "        self.bilstm_layers = bilstm_layers\n",
        "        self.bilstm_dropout = bilstm_dropout\n",
        "        \n",
        "        self.bert = BertForTokenClassification.from_pretrained(\n",
        "                        BERT_MODEL,\n",
        "                        output_hidden_states=True)\n",
        "        \n",
        "        for pars in self.bert.parameters():\n",
        "            pars.requires_grad = False\n",
        "        \n",
        "        bert_embedding_dim = self.bert.config.to_dict()['hidden_size']\n",
        "\n",
        "        self.elmo = Elmo(options_file, weight_file, self.elmo_layers, dropout=0, requires_grad=False)\n",
        "        \n",
        "        elmo_embedding_dim = 512 # it's always fixed\n",
        "\n",
        "        \n",
        "        if self.concat_bert:\n",
        "          self.linear1 = nn.Linear(bert_embedding_dim*self.bert_layers+elmo_embedding_dim*self.elmo_layers, 1024)\n",
        "        else:\n",
        "          self.linear1 = nn.Linear(bert_embedding_dim+elmo_embedding_dim*self.elmo_layers, 1024)\n",
        "        \n",
        "        self.bilstm = nn.LSTM(1024, self.hidden_size, self.bilstm_layers, \n",
        "                              bidirectional=True, dropout=self.bilstm_dropout)\n",
        "        self.active_body = True\n",
        "\n",
        "        self.heads = {}\n",
        "        for i, tag in enumerate(self.tag_names):\n",
        "            lin_crf = nn.ModuleDict({'linear': nn.Linear(self.hidden_size*2, self.num_labels),\n",
        "                                     'crf': CRF(num_tags=self.num_labels, batch_first=True)})\n",
        "            self.heads[tag] = lin_crf\n",
        "\n",
        "        self.heads = nn.ModuleDict(self.heads)\n",
        "        self.active_heads = {head: True for head in self.heads.keys()}\n",
        "\n",
        "    def get_model_pars_dict(self):\n",
        "        \"\"\"\n",
        "        Returns dict with described model's parameters.\n",
        "        \n",
        "        \"\"\"\n",
        "        pars = {}\n",
        "        pars['hidden_size'] = self.hidden_size\n",
        "        pars['num_labels'] = self.num_labels\n",
        "        pars['tag_names'] = self.tag_names\n",
        "        pars['elmo_layers'] = self.elmo_layers\n",
        "        pars['bert_layers'] = self.bert_layers\n",
        "        pars['concat_bert'] = int(self.concat_bert)\n",
        "        pars['bilstm_layers'] = self.bilstm_layers\n",
        "        pars['bilstm_dropout'] = self.bilstm_dropout\n",
        "\n",
        "        return pars\n",
        "\n",
        "    def add_head(self, tag_name):\n",
        "        \"\"\"\n",
        "        Adds new head to the model\n",
        "\n",
        "        \"\"\"\n",
        "        self.tag_names.append(tag_name)\n",
        "        self.num_heads += 1\n",
        "        lin_crf = nn.ModuleDict({'linear': nn.Linear(self.hidden_size*2, self.num_labels),\n",
        "                                     'crf': CRF(num_tags=self.num_labels, batch_first=True)})\n",
        "        self.heads.update({tag_name: lin_crf})\n",
        "\n",
        "\n",
        "    def shared_forward(self, bert_ids, elmo_ids, attention_mask):\n",
        "        \"\"\"\n",
        "        Forward propogate of model shared layers.\n",
        "        \n",
        "        Parameters\n",
        "        ----------\n",
        "        bert_ids:\n",
        "        elmo_ids:\n",
        "        attention_mask:\n",
        "        \n",
        "        Returns\n",
        "        -------\n",
        "        Bilstm logits with shape (seq_len, batch, 2*self.hidden_size)\n",
        "        \n",
        "        \"\"\"\n",
        "\n",
        "        mask = attention_mask.byte()\n",
        "        bert_hiddens = self.bert(bert_ids, attention_mask=mask)[1]\n",
        "        elmo_hiddens = self.elmo(elmo_ids)\n",
        "\n",
        "        if self.concat_bert:\n",
        "            bert_embedding = torch.cat(bert_hiddens[-self.bert_layers:], dim=2)\n",
        "        else:\n",
        "            emb_sum = 0\n",
        "            for h in bert_hiddens[-self.bert_layers:]:\n",
        "                emb_sum += h\n",
        "            bert_embedding = emb_sum\n",
        "\n",
        "        elmo_bert_embeddings = torch.clone(bert_embedding)\n",
        "        for el_hi in elmo_hiddens['elmo_representations']:\n",
        "            elmo_bert_embeddings = torch.cat((elmo_bert_embeddings, el_hi), dim=-1)\n",
        "\n",
        "        linear1_output = nn.functional.relu(self.linear1(elmo_bert_embeddings))\n",
        "\n",
        "        bilstm_output, (h_n, c_n) = self.bilstm(linear1_output)\n",
        "\n",
        "        return bilstm_output\n",
        "    \n",
        "    def get_one_head_loss(self, bilstm_logits, head_labels, attention_mask, head_tag):\n",
        "        \"\"\"\n",
        "        Returns negative log-likelihood for one head.\n",
        "        You should run it after shared forward.\n",
        "\n",
        "        Parameters\n",
        "        ----------\n",
        "        bilstm_logits:\n",
        "        head_labels:\n",
        "        attention_mask:\n",
        "        head_tag: str\n",
        "          Key of self.heads dictionary.\n",
        "        \n",
        "        Returns\n",
        "        -------\n",
        "        Loss\n",
        "\n",
        "        \"\"\"\n",
        "        lin_out = nn.functional.relu(self.heads[head_tag]['linear'](bilstm_logits))\n",
        "        loss = -1*self.heads[head_tag]['crf'].forward(lin_out, head_labels, mask=attention_mask.byte())\n",
        "        return loss\n",
        "    \n",
        "    def get_one_head_seq(self, bilstm_logits, attention_mask, head_tag):\n",
        "        \"\"\"\n",
        "        Returns the most likely sequence of labels for the given head.\n",
        "        You should run it after shared forward.\n",
        "\n",
        "        Parameters\n",
        "        ----------\n",
        "        bilstm_logits:\n",
        "        attention_mask:\n",
        "        head_tag: str\n",
        "          Key of self.heads dictionary.\n",
        "        \n",
        "        Returns\n",
        "        -------\n",
        "        List\n",
        "        \"\"\"\n",
        "      \n",
        "        lin_out = nn.functional.relu(self.heads[head_tag]['linear'](bilstm_logits))\n",
        "        seq = self.heads[head_tag]['crf'].decode(lin_out, mask=attention_mask.byte())\n",
        "        return seq\n",
        "    \n",
        "    def forward(self, bert_ids, elmo_ids, head_labels, attention_mask):\n",
        "        \"\"\"\n",
        "        Forward model pass.\n",
        "        \n",
        "        Parameters\n",
        "        ----------\n",
        "        bert_ids:\n",
        "        elmo_ids:\n",
        "        head_labels:\n",
        "        attention_mask:\n",
        "        \n",
        "        Returns\n",
        "        -------\n",
        "        Total loss for all heads.\n",
        "\n",
        "        \"\"\"\n",
        "\n",
        "        mask = attention_mask.byte()\n",
        "        bilstm_logits = self.shared_forward(bert_ids, elmo_ids, mask)\n",
        "        head_loss = 0\n",
        "        for i, tag in enumerate(self.heads.keys()):\n",
        "          _one_head_labels = head_labels[:,i,:] if len(self.heads.keys()) > 1 else head_labels\n",
        "          head_loss += self.get_one_head_loss(bilstm_logits, _one_head_labels, mask, tag)\n",
        "        return head_loss\n",
        "    \n",
        "    def freeze_head(self, head_tag):\n",
        "        \"\"\"\n",
        "        Freezes model's head parameters.\n",
        "\n",
        "        \"\"\"\n",
        "        if head_tag not in self.heads.keys():\n",
        "            raise ValueError(f\"Unknown head tag. Please, give one of {self.heads.keys()}\")\n",
        "        \n",
        "        for parameter in self.heads[head_tag].parameters():\n",
        "            parameter.requires_grad = False\n",
        "        \n",
        "        self.active_heads[head_tag] = False\n",
        "    \n",
        "    def unfreeze_head(self, head_tag):\n",
        "        \"\"\"\n",
        "        Unfreezes model's head parameters.\n",
        "\n",
        "        \"\"\"\n",
        "        if head_tag not in self.heads.keys():\n",
        "            raise ValueError(f\"Unknown head tag. Please, give one of {self.heads.keys()}\")\n",
        "        \n",
        "        for parameter in self.heads[head_tag].parameters():\n",
        "            parameter.requires_grad = True\n",
        "        \n",
        "        self.active_heads[head_tag] = True\n",
        "      \n",
        "    def freeze_body(self):\n",
        "        \"\"\"\n",
        "        Freezes model's body parameters.\n",
        "\n",
        "        \"\"\"\n",
        "        for parameter in self.body.parameters():\n",
        "            parameter.requires_grad = False\n",
        "        \n",
        "        self.active_body = False\n",
        "    \n",
        "    def unfreeze_body(self):\n",
        "        \"\"\"\n",
        "        Freezes model's body parameters.\n",
        "\n",
        "        \"\"\"\n",
        "        for parameter in self.body.parameters():\n",
        "            parameter.requires_grad = True\n",
        "        \n",
        "        self.active_body = True\n",
        "    "
      ],
      "execution_count": 16,
      "outputs": []
    },
    {
      "cell_type": "code",
      "metadata": {
        "colab": {
          "base_uri": "https://localhost:8080/"
        },
        "id": "RRrAN94jZ3aO",
        "outputId": "fab2cc2f-e787-4b1f-f698-9b347728e846"
      },
      "source": [
        "model = BEbiC(hidden_size=512, bert_layers=2)"
      ],
      "execution_count": 18,
      "outputs": [
        {
          "output_type": "stream",
          "text": [
            "Some weights of the model checkpoint at bert-base-cased were not used when initializing BertForTokenClassification: ['cls.predictions.bias', 'cls.predictions.transform.dense.weight', 'cls.predictions.transform.dense.bias', 'cls.predictions.decoder.weight', 'cls.seq_relationship.weight', 'cls.seq_relationship.bias', 'cls.predictions.transform.LayerNorm.weight', 'cls.predictions.transform.LayerNorm.bias']\n",
            "- This IS expected if you are initializing BertForTokenClassification from the checkpoint of a model trained on another task or with another architecture (e.g. initializing a BertForSequenceClassification model from a BertForPreTraining model).\n",
            "- This IS NOT expected if you are initializing BertForTokenClassification from the checkpoint of a model that you expect to be exactly identical (initializing a BertForSequenceClassification model from a BertForSequenceClassification model).\n",
            "Some weights of BertForTokenClassification were not initialized from the model checkpoint at bert-base-cased and are newly initialized: ['classifier.weight', 'classifier.bias']\n",
            "You should probably TRAIN this model on a down-stream task to be able to use it for predictions and inference.\n"
          ],
          "name": "stderr"
        }
      ]
    },
    {
      "cell_type": "code",
      "metadata": {
        "id": "f9E6afKGZGZT"
      },
      "source": [
        "N_EPOCHS = 10\n",
        "total_steps = len(train_dataloader) *  N_EPOCHS"
      ],
      "execution_count": 19,
      "outputs": []
    },
    {
      "cell_type": "code",
      "metadata": {
        "id": "NPWdYLAD7fgU"
      },
      "source": [
        "import model_utils as mu"
      ],
      "execution_count": 17,
      "outputs": []
    },
    {
      "cell_type": "code",
      "metadata": {
        "id": "pZwc0dzXjFV3"
      },
      "source": [
        "import torch"
      ],
      "execution_count": 1,
      "outputs": []
    },
    {
      "cell_type": "code",
      "metadata": {
        "id": "Pd9OMA00PCNX",
        "colab": {
          "base_uri": "https://localhost:8080/"
        },
        "outputId": "07347124-e2c3-4f57-b387-23dfc838aae6"
      },
      "source": [
        "device = torch.device(\"cuda\" if torch.cuda.is_available() else \"cpu\")\n",
        "n_gpu = torch.cuda.device_count()\n",
        "print(torch.cuda.get_device_name(0))\n",
        "\n",
        "#model.to(device)"
      ],
      "execution_count": 18,
      "outputs": [
        {
          "output_type": "stream",
          "text": [
            "Tesla K80\n"
          ],
          "name": "stdout"
        }
      ]
    },
    {
      "cell_type": "code",
      "metadata": {
        "id": "ePpFCTGrfo34"
      },
      "source": [
        "t = torch.cuda.get_device_properties(0).total_memory\n",
        "r = torch.cuda.memory_reserved(0) \n",
        "a = torch.cuda.memory_allocated(0)"
      ],
      "execution_count": 4,
      "outputs": []
    },
    {
      "cell_type": "code",
      "metadata": {
        "id": "ZPu6JHCJ9CIr"
      },
      "source": [
        "model.tag_names"
      ],
      "execution_count": null,
      "outputs": []
    },
    {
      "cell_type": "code",
      "metadata": {
        "id": "ezSoQeCuPGAL"
      },
      "source": [
        "optimizer = AdamW(params=model.parameters(),lr=5e-4)\n",
        "\n",
        "scheduler = get_linear_schedule_with_warmup(\n",
        "    optimizer,\n",
        "    num_warmup_steps=0,\n",
        "    num_training_steps=total_steps\n",
        ")\n",
        "\n",
        "if device.type != 'cpu':\n",
        "    model.to(device)\n",
        "\n",
        "loss_value, head_results = mu.train(model, train_dataloader, optimizer, device, conll, scheduler, n_epoch=N_EPOCHS,\n",
        "                                valid_dataloader=valid_dataloader, path_to_save=PATH_TO_CHECKPOINT)"
      ],
      "execution_count": null,
      "outputs": []
    },
    {
      "cell_type": "code",
      "metadata": {
        "id": "dtNisogew8-P"
      },
      "source": [
        "mu.eval_model(model, valid_dataloader, device, conll)"
      ],
      "execution_count": null,
      "outputs": []
    },
    {
      "cell_type": "markdown",
      "metadata": {
        "id": "U5H727E05BTw"
      },
      "source": [
        "### Loading pretrained model"
      ]
    },
    {
      "cell_type": "code",
      "metadata": {
        "id": "0pP0yRmB6_L-"
      },
      "source": [
        "from models import *"
      ],
      "execution_count": 21,
      "outputs": []
    },
    {
      "cell_type": "code",
      "metadata": {
        "id": "laN65dnu63he"
      },
      "source": [
        "bert_tokenizer, model, opt_state, model_pars = mu.load_checkpoint(PATH_TO_CHECKPOINT+'BEbic_9_state_dict.pth',\n",
        "                                                                  PATH_TO_CHECKPOINT+'BEbic_9_tokenizer.pth')"
      ],
      "execution_count": 40,
      "outputs": []
    },
    {
      "cell_type": "code",
      "metadata": {
        "colab": {
          "base_uri": "https://localhost:8080/"
        },
        "id": "o4-ilZod9opg",
        "outputId": "acbaa12c-df18-4bde-ca4d-fd711715bc21"
      },
      "source": [
        "model.heads"
      ],
      "execution_count": 22,
      "outputs": [
        {
          "output_type": "execute_result",
          "data": {
            "text/plain": [
              "ModuleDict(\n",
              "  (ORG): ModuleDict(\n",
              "    (linear): Linear(in_features=1024, out_features=4, bias=True)\n",
              "    (crf): CRF(num_tags=4)\n",
              "  )\n",
              "  (LOC): ModuleDict(\n",
              "    (linear): Linear(in_features=1024, out_features=4, bias=True)\n",
              "    (crf): CRF(num_tags=4)\n",
              "  )\n",
              "  (PER): ModuleDict(\n",
              "    (linear): Linear(in_features=1024, out_features=4, bias=True)\n",
              "    (crf): CRF(num_tags=4)\n",
              "  )\n",
              ")"
            ]
          },
          "metadata": {
            "tags": []
          },
          "execution_count": 22
        }
      ]
    },
    {
      "cell_type": "code",
      "metadata": {
        "colab": {
          "base_uri": "https://localhost:8080/"
        },
        "id": "ypJGtiItZUTu",
        "outputId": "db661fa5-983e-421d-f743-9695660f16e0"
      },
      "source": [
        "model_pars"
      ],
      "execution_count": 42,
      "outputs": [
        {
          "output_type": "execute_result",
          "data": {
            "text/plain": [
              "{'bert_layers': 2,\n",
              " 'bilstm_layers': 1,\n",
              " 'concat_bert': 1,\n",
              " 'elmo_layers': 2,\n",
              " 'hidden_size': 512,\n",
              " 'num_labels': 4,\n",
              " 'tag_names': ['ORG', 'LOC', 'PER']}"
            ]
          },
          "metadata": {
            "tags": []
          },
          "execution_count": 42
        }
      ]
    },
    {
      "cell_type": "code",
      "metadata": {
        "id": "O_nKjJ-dEWfx"
      },
      "source": [
        "optimizer = AdamW(params=model.parameters(),lr=3e-4)\n",
        "optimizer.load_state_dict(opt_state)"
      ],
      "execution_count": 23,
      "outputs": []
    },
    {
      "cell_type": "code",
      "metadata": {
        "id": "o8QEc1Bs8AiR"
      },
      "source": [
        "device = torch.device(\"cuda\" if torch.cuda.is_available() else \"cpu\")\n",
        "n_gpu = torch.cuda.device_count()\n",
        "\n",
        "model.to(device)"
      ],
      "execution_count": null,
      "outputs": []
    },
    {
      "cell_type": "code",
      "metadata": {
        "id": "0M4ByPSW88Mr"
      },
      "source": [
        "valid_dataset, valid_sampler, valid_dataloader = dalo.create_dataloader(conll, bert_tokenizer, \n",
        "                                                                        model_pars['tag_names'], \n",
        "                                                                        'valid', desired_pad=173)"
      ],
      "execution_count": 49,
      "outputs": []
    },
    {
      "cell_type": "code",
      "metadata": {
        "id": "TQe_CGEz9DLX"
      },
      "source": [
        "head_result, mean_loss, mean_acc, mean_f1 = mu.eval_model(model, valid_dataloader, device, conll)"
      ],
      "execution_count": 50,
      "outputs": []
    },
    {
      "cell_type": "code",
      "metadata": {
        "colab": {
          "base_uri": "https://localhost:8080/"
        },
        "id": "OMwI3yEHDm1Q",
        "outputId": "62c4e7c1-d665-4bee-d059-276f609b2893"
      },
      "source": [
        "head_result"
      ],
      "execution_count": 51,
      "outputs": [
        {
          "output_type": "execute_result",
          "data": {
            "text/plain": [
              "{'LOC': {'acc': 0.9913228024930153, 'f1': 0.9035911602209944},\n",
              " 'ORG': {'acc': 0.9772458628841607, 'f1': 0.634631886047709},\n",
              " 'PER': {'acc': 0.9769100580270793, 'f1': 0.3787528868360277}}"
            ]
          },
          "metadata": {
            "tags": []
          },
          "execution_count": 51
        }
      ]
    },
    {
      "cell_type": "markdown",
      "metadata": {
        "id": "dKF7rRyJ9ooK"
      },
      "source": [
        "#### Continue to train pretrained model"
      ]
    },
    {
      "cell_type": "code",
      "metadata": {
        "id": "FDIeShD--TQs"
      },
      "source": [
        "TAG_NAMES = ['ORG', 'LOC', 'PER']\n",
        "NUM_OF_HEADS = len(TAG_NAMES)\n",
        "\n",
        "# in the second argument we pass list of tag names for every head of the model\n",
        "train_dataset, train_sampler, train_dataloader = dalo.create_dataloader(conll, bert_tokenizer, TAG_NAMES)"
      ],
      "execution_count": null,
      "outputs": []
    },
    {
      "cell_type": "code",
      "metadata": {
        "id": "b_dgr1559Fpy"
      },
      "source": [
        "N_EPOCHS = 5\n",
        "total_steps = len(train_dataloader) *  N_EPOCHS"
      ],
      "execution_count": null,
      "outputs": []
    },
    {
      "cell_type": "code",
      "metadata": {
        "id": "wORAtulk9-ue"
      },
      "source": [
        "optimizer = AdamW(params=model.parameters(),lr=1e-4)\n",
        "\n",
        "scheduler = get_linear_schedule_with_warmup(\n",
        "    optimizer,\n",
        "    num_warmup_steps=0,\n",
        "    num_training_steps=total_steps\n",
        ")\n",
        "\n",
        "if device.type != 'cpu':\n",
        "    model.to(device)\n",
        "\n",
        "loss_value, head_results = mu.train(model, train_dataloader, optimizer, device, conll, scheduler, n_epoch=N_EPOCHS,\n",
        "                                valid_dataloader=valid_dataloader, path_to_save=PATH_TO_CHECKPOINT)"
      ],
      "execution_count": null,
      "outputs": []
    },
    {
      "cell_type": "markdown",
      "metadata": {
        "id": "r6OWQ2XsVzwK"
      },
      "source": [
        "### K-fold for multihead model"
      ]
    },
    {
      "cell_type": "code",
      "metadata": {
        "id": "ZYhNSH_VV6w4"
      },
      "source": [
        "import json"
      ],
      "execution_count": 19,
      "outputs": []
    },
    {
      "cell_type": "code",
      "metadata": {
        "id": "TN1Qe5CAXcBR"
      },
      "source": [
        "N_FOLDS = 5\n",
        "RANDOM_SEED = 42\n",
        "N_EPOCHS = 10\n",
        "BATCH_SIZE = 128\n",
        "\n",
        "TAG_NAMES = ['ORG', 'LOC', 'PER']\n",
        "NUM_OF_HEADS = len(TAG_NAMES)"
      ],
      "execution_count": 20,
      "outputs": []
    },
    {
      "cell_type": "code",
      "metadata": {
        "id": "IezQc2CaYnDY"
      },
      "source": [
        "device = torch.device(\"cuda\" if torch.cuda.is_available() else \"cpu\")\n",
        "n_gpu = torch.cuda.device_count()"
      ],
      "execution_count": 25,
      "outputs": []
    },
    {
      "cell_type": "code",
      "metadata": {
        "id": "CpH5sly8V-KC"
      },
      "source": [
        "kf = KFold(n_splits=N_FOLDS, shuffle=True, random_state=RANDOM_SEED)"
      ],
      "execution_count": 21,
      "outputs": []
    },
    {
      "cell_type": "code",
      "metadata": {
        "id": "WK9Cl7phXVp4"
      },
      "source": [
        "all_loss_values = []\n",
        "all_head_results = []\n",
        "\n",
        "for i, (train_index, valid_index) in enumerate(kf.split(train_dataset)):\n",
        "    print(f\"FOLD #{i}\\n\")\n",
        "    # train_dataset based on conll and defined above specially for multiple-head model input\n",
        "    train_fold = torch.utils.data.Subset(train_dataset, train_index)\n",
        "    valid_fold = torch.utils.data.Subset(train_dataset, valid_index)\n",
        "    \n",
        "    _train_dataloader = torch.utils.data.DataLoader(train_fold, batch_size=BATCH_SIZE)\n",
        "    _valid_dataloader = torch.utils.data.DataLoader(valid_fold, batch_size=BATCH_SIZE)\n",
        "\n",
        "    total_steps = len(train_fold) *  N_EPOCHS\n",
        "\n",
        "    model = BEbiC(hidden_size=512, bert_layers=2)\n",
        "    model.to(device)\n",
        "\n",
        "    optimizer = AdamW(params=model.parameters(),lr=5e-4)\n",
        "\n",
        "    scheduler = get_linear_schedule_with_warmup(\n",
        "        optimizer,\n",
        "        num_warmup_steps=0,\n",
        "        num_training_steps=total_steps\n",
        "    )\n",
        "\n",
        "    loss_value, head_results = mu.train(model, _train_dataloader, optimizer, device, conll, scheduler, n_epoch=N_EPOCHS,\n",
        "                                valid_dataloader=_valid_dataloader, save_model=False)\n",
        "    \n",
        "    print(f\"Head_results:\\n{head_results}\")\n",
        "    all_loss_values.append(loss_value)\n",
        "    all_head_results.append(head_results)\n",
        "\n",
        "    torch.cuda.empty_cache()\n",
        "\n",
        "with open(PATH_TO_CHECKPOINT+\"BEbic-5fold_head_results.json\", \"w\") as f:\n",
        "    json.dump(all_head_results, f)\n",
        "\n",
        "with open(PATH_TO_CHECKPOINT+\"BEbic-5fold_loss_values.json\", \"w\") as f:\n",
        "    json.dump(all_loss_values, f)"
      ],
      "execution_count": null,
      "outputs": []
    },
    {
      "cell_type": "markdown",
      "metadata": {
        "id": "mZDF-YLzZsWU"
      },
      "source": [
        "### Load one-head model to compare with multi-head one"
      ]
    },
    {
      "cell_type": "markdown",
      "metadata": {
        "id": "wm-2iLpHXWUb"
      },
      "source": [
        "#### Old model"
      ]
    },
    {
      "cell_type": "code",
      "metadata": {
        "id": "QqwJJL9Lz66M"
      },
      "source": [
        "conll_old = co.CoNLL_old(PATH_TO_CONLL)\n",
        "for typ in conll_old.types:\n",
        "  conll_old.split_text_label(typ)\n",
        "conll_old.create_tag2idx(PATH_TO_TAG2IDX)\n",
        "conll_old.create_idx2tag()"
      ],
      "execution_count": 28,
      "outputs": []
    },
    {
      "cell_type": "code",
      "metadata": {
        "id": "iQzQbs4JcEZh"
      },
      "source": [
        "# importing BEboC model class\n",
        "from models import *"
      ],
      "execution_count": 29,
      "outputs": []
    },
    {
      "cell_type": "code",
      "metadata": {
        "colab": {
          "base_uri": "https://localhost:8080/"
        },
        "id": "jobcoyu_cVz8",
        "outputId": "b1f06ed2-f230-489f-cd80-2a21386fc8d9"
      },
      "source": [
        "bert_tokenizer, old_model, opt_state, model_pars = mu.load_checkpoint(PATH_TO_CHECKPOINT+'ElMo_BERT_biLSTM_oneCRF_19_state_dict.pth',\n",
        "                                                          PATH_TO_CHECKPOINT+'ElMo_BERT_biLSTM_oneCRF_19_tokenizer.pth')"
      ],
      "execution_count": 33,
      "outputs": [
        {
          "output_type": "stream",
          "text": [
            "/usr/local/lib/python3.7/dist-packages/torch/nn/modules/container.py:435: UserWarning: Setting attributes on ParameterList is not supported.\n",
            "  warnings.warn(\"Setting attributes on ParameterList is not supported.\")\n"
          ],
          "name": "stderr"
        }
      ]
    },
    {
      "cell_type": "code",
      "metadata": {
        "id": "VePYY0AXswjd"
      },
      "source": [
        "device = torch.device(\"cuda\" if torch.cuda.is_available() else \"cpu\")\n",
        "n_gpu = torch.cuda.device_count()\n",
        "\n",
        "old_model.to(device)"
      ],
      "execution_count": null,
      "outputs": []
    },
    {
      "cell_type": "markdown",
      "metadata": {
        "id": "gh7WnZK9Z3mp"
      },
      "source": [
        "Evaluating on the entire validation dataset"
      ]
    },
    {
      "cell_type": "code",
      "metadata": {
        "id": "WWS87LaoZ8az"
      },
      "source": [
        "# 173 because I remember this value, it's temporary\n",
        "valid_dataset, valid_sampler, valid_dataloader = dalo.create_dataloader(conll_old, bert_tokenizer, datatype='valid', desired_pad=173)"
      ],
      "execution_count": 36,
      "outputs": []
    },
    {
      "cell_type": "code",
      "metadata": {
        "colab": {
          "base_uri": "https://localhost:8080/"
        },
        "id": "3_Ym-QJpalzu",
        "outputId": "9cec24d4-10c2-4f58-d0e5-093675bf742d"
      },
      "source": [
        "mu.eval_old(old_model, valid_dataloader, device, conll_old.idx2tag)"
      ],
      "execution_count": 37,
      "outputs": [
        {
          "output_type": "stream",
          "text": [
            "/usr/local/lib/python3.7/dist-packages/torch/nn/modules/container.py:435: UserWarning: Setting attributes on ParameterList is not supported.\n",
            "  warnings.warn(\"Setting attributes on ParameterList is not supported.\")\n"
          ],
          "name": "stderr"
        },
        {
          "output_type": "execute_result",
          "data": {
            "text/plain": [
              "(277.77915220994214, 0.9769234902213626, 0.8913024125344965)"
            ]
          },
          "metadata": {
            "tags": []
          },
          "execution_count": 37
        }
      ]
    },
    {
      "cell_type": "markdown",
      "metadata": {
        "id": "zbzPmUC7cZUa"
      },
      "source": [
        "So it's f1-score is 0.89"
      ]
    },
    {
      "cell_type": "markdown",
      "metadata": {
        "id": "a-XNTKvo7CBA"
      },
      "source": [
        "Let's evaluate the old model on just PER entity"
      ]
    },
    {
      "cell_type": "code",
      "metadata": {
        "id": "e___e9zazzUb"
      },
      "source": [
        "valid_dataset, valid_sampler, valid_dataloader = dalo.create_dataloader_old(conll.sentences['valid'],\n",
        "                                                                            conll.one_tag_dict['valid']['PER'], conll_old.tag2idx,\n",
        "                                                                            bert_tokenizer, datatype='valid', desired_pad=173)"
      ],
      "execution_count": 195,
      "outputs": []
    },
    {
      "cell_type": "code",
      "metadata": {
        "colab": {
          "base_uri": "https://localhost:8080/"
        },
        "id": "rr2ZBFJ8mki1",
        "outputId": "72bbee10-e127-4565-c66c-08a16d397b88"
      },
      "source": [
        "mu.eval_old(old_model, valid_dataloader, device, conll_old.idx2tag)"
      ],
      "execution_count": 197,
      "outputs": [
        {
          "output_type": "stream",
          "text": [
            "/usr/local/lib/python3.7/dist-packages/torch/nn/modules/container.py:435: UserWarning: Setting attributes on ParameterList is not supported.\n",
            "  warnings.warn(\"Setting attributes on ParameterList is not supported.\")\n"
          ],
          "name": "stderr"
        },
        {
          "output_type": "execute_result",
          "data": {
            "text/plain": [
              "(2879.9386127178486, 0.8668600902643456, 0.4219006007646095)"
            ]
          },
          "metadata": {
            "tags": []
          },
          "execution_count": 197
        }
      ]
    },
    {
      "cell_type": "markdown",
      "metadata": {
        "id": "pg47RHnf7G8N"
      },
      "source": [
        "ORG"
      ]
    },
    {
      "cell_type": "code",
      "metadata": {
        "id": "RIWApeiF7ERC"
      },
      "source": [
        "valid_dataset, valid_sampler, valid_dataloader = dalo.create_dataloader_old(conll.sentences['valid'],\n",
        "                                                                            conll.one_tag_dict['valid']['ORG'], conll_old.tag2idx,\n",
        "                                                                            bert_tokenizer, datatype='valid', desired_pad=173)"
      ],
      "execution_count": 198,
      "outputs": []
    },
    {
      "cell_type": "code",
      "metadata": {
        "colab": {
          "base_uri": "https://localhost:8080/"
        },
        "id": "AmzEKqGO6HiW",
        "outputId": "0c82c70b-d424-4d9d-e0f7-7803309ad03e"
      },
      "source": [
        "mu.eval_old(old_model, valid_dataloader, device, conll_old.idx2tag)"
      ],
      "execution_count": 199,
      "outputs": [
        {
          "output_type": "stream",
          "text": [
            "/usr/local/lib/python3.7/dist-packages/torch/nn/modules/container.py:435: UserWarning: Setting attributes on ParameterList is not supported.\n",
            "  warnings.warn(\"Setting attributes on ParameterList is not supported.\")\n"
          ],
          "name": "stderr"
        },
        {
          "output_type": "execute_result",
          "data": {
            "text/plain": [
              "(4071.6029616135816, 0.8300827423167849, 0.3436274160188289)"
            ]
          },
          "metadata": {
            "tags": []
          },
          "execution_count": 199
        }
      ]
    },
    {
      "cell_type": "markdown",
      "metadata": {
        "id": "nzz7AXK37d7h"
      },
      "source": [
        "LOC"
      ]
    },
    {
      "cell_type": "code",
      "metadata": {
        "id": "FhUsB3vS7LXR"
      },
      "source": [
        "valid_dataset, valid_sampler, valid_dataloader = dalo.create_dataloader_old(conll.sentences['valid'],\n",
        "                                                                            conll.one_tag_dict['valid']['LOC'], conll_old.tag2idx,\n",
        "                                                                            bert_tokenizer, datatype='valid', desired_pad=173)"
      ],
      "execution_count": 200,
      "outputs": []
    },
    {
      "cell_type": "code",
      "metadata": {
        "colab": {
          "base_uri": "https://localhost:8080/"
        },
        "id": "lfmeB_Xa7hA9",
        "outputId": "0bb38b0a-e945-462b-f6a0-6db5c46a0051"
      },
      "source": [
        "mu.eval_old(old_model, valid_dataloader, device, conll_old.idx2tag)"
      ],
      "execution_count": 201,
      "outputs": [
        {
          "output_type": "stream",
          "text": [
            "/usr/local/lib/python3.7/dist-packages/torch/nn/modules/container.py:435: UserWarning: Setting attributes on ParameterList is not supported.\n",
            "  warnings.warn(\"Setting attributes on ParameterList is not supported.\")\n"
          ],
          "name": "stderr"
        },
        {
          "output_type": "execute_result",
          "data": {
            "text/plain": [
              "(4093.646503155048, 0.8329706640876854, 0.44121974053764873)"
            ]
          },
          "metadata": {
            "tags": []
          },
          "execution_count": 201
        }
      ]
    },
    {
      "cell_type": "markdown",
      "metadata": {
        "id": "-RRhpGeU7oPB"
      },
      "source": [
        "The last values above are f1-scores.\n",
        "\n",
        "In the case of multiple-head fitting of this 3 heads at the same time we got:\n",
        "\n",
        "'PER' - 0.3787528868360277 (vs 0.4219006007646095)\n",
        "\n",
        "'ORG' - 0.6343975283213182 (vs 0.3436274160188289)\n",
        "\n",
        "'LOC' - 0.9035911602209944 (vs 0.44121974053764873)\n",
        "\n",
        "So, results of multiple heads look better!"
      ]
    },
    {
      "cell_type": "code",
      "metadata": {
        "id": "ihuzR6kMikKm"
      },
      "source": [
        ""
      ],
      "execution_count": null,
      "outputs": []
    }
  ]
}