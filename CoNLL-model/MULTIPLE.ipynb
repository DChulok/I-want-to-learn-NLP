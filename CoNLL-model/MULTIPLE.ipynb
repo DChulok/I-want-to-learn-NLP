{
  "nbformat": 4,
  "nbformat_minor": 0,
  "metadata": {
    "colab": {
      "name": "NEWEXPER.ipynb",
      "provenance": [],
      "collapsed_sections": [
        "zNBmPWcXheAq",
        "0QAfxs-oksA8"
      ]
    },
    "kernelspec": {
      "name": "python3",
      "display_name": "Python 3"
    },
    "accelerator": "GPU",
    "widgets": {
      "application/vnd.jupyter.widget-state+json": {
        "905d0f76d7ef420b8d95e31268a494f4": {
          "model_module": "@jupyter-widgets/controls",
          "model_name": "HBoxModel",
          "state": {
            "_view_name": "HBoxView",
            "_dom_classes": [],
            "_model_name": "HBoxModel",
            "_view_module": "@jupyter-widgets/controls",
            "_model_module_version": "1.5.0",
            "_view_count": null,
            "_view_module_version": "1.5.0",
            "box_style": "",
            "layout": "IPY_MODEL_4394d35e24234d63b724dd2632064ff6",
            "_model_module": "@jupyter-widgets/controls",
            "children": [
              "IPY_MODEL_980277d8ac794a3d84cb0b613b1833fd",
              "IPY_MODEL_dfc5d008f167419088c386556632195d"
            ]
          }
        },
        "4394d35e24234d63b724dd2632064ff6": {
          "model_module": "@jupyter-widgets/base",
          "model_name": "LayoutModel",
          "state": {
            "_view_name": "LayoutView",
            "grid_template_rows": null,
            "right": null,
            "justify_content": null,
            "_view_module": "@jupyter-widgets/base",
            "overflow": null,
            "_model_module_version": "1.2.0",
            "_view_count": null,
            "flex_flow": null,
            "width": null,
            "min_width": null,
            "border": null,
            "align_items": null,
            "bottom": null,
            "_model_module": "@jupyter-widgets/base",
            "top": null,
            "grid_column": null,
            "overflow_y": null,
            "overflow_x": null,
            "grid_auto_flow": null,
            "grid_area": null,
            "grid_template_columns": null,
            "flex": null,
            "_model_name": "LayoutModel",
            "justify_items": null,
            "grid_row": null,
            "max_height": null,
            "align_content": null,
            "visibility": null,
            "align_self": null,
            "height": null,
            "min_height": null,
            "padding": null,
            "grid_auto_rows": null,
            "grid_gap": null,
            "max_width": null,
            "order": null,
            "_view_module_version": "1.2.0",
            "grid_template_areas": null,
            "object_position": null,
            "object_fit": null,
            "grid_auto_columns": null,
            "margin": null,
            "display": null,
            "left": null
          }
        },
        "980277d8ac794a3d84cb0b613b1833fd": {
          "model_module": "@jupyter-widgets/controls",
          "model_name": "FloatProgressModel",
          "state": {
            "_view_name": "ProgressView",
            "style": "IPY_MODEL_28167de8322a4567b9d38119770a049d",
            "_dom_classes": [],
            "description": "Downloading: 100%",
            "_model_name": "FloatProgressModel",
            "bar_style": "success",
            "max": 213450,
            "_view_module": "@jupyter-widgets/controls",
            "_model_module_version": "1.5.0",
            "value": 213450,
            "_view_count": null,
            "_view_module_version": "1.5.0",
            "orientation": "horizontal",
            "min": 0,
            "description_tooltip": null,
            "_model_module": "@jupyter-widgets/controls",
            "layout": "IPY_MODEL_e1cf58eada5e43c6904c5af9b5547f94"
          }
        },
        "dfc5d008f167419088c386556632195d": {
          "model_module": "@jupyter-widgets/controls",
          "model_name": "HTMLModel",
          "state": {
            "_view_name": "HTMLView",
            "style": "IPY_MODEL_3fe1be6bfcf8445598e12cd019abd48e",
            "_dom_classes": [],
            "description": "",
            "_model_name": "HTMLModel",
            "placeholder": "​",
            "_view_module": "@jupyter-widgets/controls",
            "_model_module_version": "1.5.0",
            "value": " 213k/213k [00:00&lt;00:00, 738kB/s]",
            "_view_count": null,
            "_view_module_version": "1.5.0",
            "description_tooltip": null,
            "_model_module": "@jupyter-widgets/controls",
            "layout": "IPY_MODEL_d6fb4f7c0a1f40c4b191124eeb9ea15a"
          }
        },
        "28167de8322a4567b9d38119770a049d": {
          "model_module": "@jupyter-widgets/controls",
          "model_name": "ProgressStyleModel",
          "state": {
            "_view_name": "StyleView",
            "_model_name": "ProgressStyleModel",
            "description_width": "initial",
            "_view_module": "@jupyter-widgets/base",
            "_model_module_version": "1.5.0",
            "_view_count": null,
            "_view_module_version": "1.2.0",
            "bar_color": null,
            "_model_module": "@jupyter-widgets/controls"
          }
        },
        "e1cf58eada5e43c6904c5af9b5547f94": {
          "model_module": "@jupyter-widgets/base",
          "model_name": "LayoutModel",
          "state": {
            "_view_name": "LayoutView",
            "grid_template_rows": null,
            "right": null,
            "justify_content": null,
            "_view_module": "@jupyter-widgets/base",
            "overflow": null,
            "_model_module_version": "1.2.0",
            "_view_count": null,
            "flex_flow": null,
            "width": null,
            "min_width": null,
            "border": null,
            "align_items": null,
            "bottom": null,
            "_model_module": "@jupyter-widgets/base",
            "top": null,
            "grid_column": null,
            "overflow_y": null,
            "overflow_x": null,
            "grid_auto_flow": null,
            "grid_area": null,
            "grid_template_columns": null,
            "flex": null,
            "_model_name": "LayoutModel",
            "justify_items": null,
            "grid_row": null,
            "max_height": null,
            "align_content": null,
            "visibility": null,
            "align_self": null,
            "height": null,
            "min_height": null,
            "padding": null,
            "grid_auto_rows": null,
            "grid_gap": null,
            "max_width": null,
            "order": null,
            "_view_module_version": "1.2.0",
            "grid_template_areas": null,
            "object_position": null,
            "object_fit": null,
            "grid_auto_columns": null,
            "margin": null,
            "display": null,
            "left": null
          }
        },
        "3fe1be6bfcf8445598e12cd019abd48e": {
          "model_module": "@jupyter-widgets/controls",
          "model_name": "DescriptionStyleModel",
          "state": {
            "_view_name": "StyleView",
            "_model_name": "DescriptionStyleModel",
            "description_width": "",
            "_view_module": "@jupyter-widgets/base",
            "_model_module_version": "1.5.0",
            "_view_count": null,
            "_view_module_version": "1.2.0",
            "_model_module": "@jupyter-widgets/controls"
          }
        },
        "d6fb4f7c0a1f40c4b191124eeb9ea15a": {
          "model_module": "@jupyter-widgets/base",
          "model_name": "LayoutModel",
          "state": {
            "_view_name": "LayoutView",
            "grid_template_rows": null,
            "right": null,
            "justify_content": null,
            "_view_module": "@jupyter-widgets/base",
            "overflow": null,
            "_model_module_version": "1.2.0",
            "_view_count": null,
            "flex_flow": null,
            "width": null,
            "min_width": null,
            "border": null,
            "align_items": null,
            "bottom": null,
            "_model_module": "@jupyter-widgets/base",
            "top": null,
            "grid_column": null,
            "overflow_y": null,
            "overflow_x": null,
            "grid_auto_flow": null,
            "grid_area": null,
            "grid_template_columns": null,
            "flex": null,
            "_model_name": "LayoutModel",
            "justify_items": null,
            "grid_row": null,
            "max_height": null,
            "align_content": null,
            "visibility": null,
            "align_self": null,
            "height": null,
            "min_height": null,
            "padding": null,
            "grid_auto_rows": null,
            "grid_gap": null,
            "max_width": null,
            "order": null,
            "_view_module_version": "1.2.0",
            "grid_template_areas": null,
            "object_position": null,
            "object_fit": null,
            "grid_auto_columns": null,
            "margin": null,
            "display": null,
            "left": null
          }
        }
      }
    }
  },
  "cells": [
    {
      "cell_type": "code",
      "metadata": {
        "colab": {
          "base_uri": "https://localhost:8080/"
        },
        "id": "UxdpJX4wYsFD",
        "outputId": "fc3db587-ec84-4bfe-a19c-d0c2ea4615ba"
      },
      "source": [
        "from google.colab import drive\n",
        "drive.mount('/content/drive')"
      ],
      "execution_count": 3,
      "outputs": [
        {
          "output_type": "stream",
          "text": [
            "Mounted at /content/drive\n"
          ],
          "name": "stdout"
        }
      ]
    },
    {
      "cell_type": "code",
      "metadata": {
        "id": "Ect9MxMggsIR"
      },
      "source": [
        "PATH_TO_PROJECT = '/content/drive/My Drive/Serious/'\n",
        "# path to conll class as well as to conll data\n",
        "PATH_TO_CONLL = PATH_TO_PROJECT + 'coNLL/'\n",
        "PATH_TO_TAG2IDX = PATH_TO_CONLL + 'tag2idx.json'\n",
        "PATH_TO_ONE_TAG2IDX = PATH_TO_CONLL + 'one_tag2idx.json'\n",
        "PATH_TO_CHECKPOINT = '/content/drive/My Drive/models/'"
      ],
      "execution_count": 4,
      "outputs": []
    },
    {
      "cell_type": "markdown",
      "metadata": {
        "id": "zNBmPWcXheAq"
      },
      "source": [
        "### Intall requirements"
      ]
    },
    {
      "cell_type": "code",
      "metadata": {
        "colab": {
          "base_uri": "https://localhost:8080/"
        },
        "id": "ePx2hWb5gopz",
        "outputId": "ddeb0e36-1743-4a6f-9123-830999d25ac1"
      },
      "source": [
        "!pip install -r '/content/drive/My Drive/Serious/requirements.txt'"
      ],
      "execution_count": 5,
      "outputs": [
        {
          "output_type": "stream",
          "text": [
            "Collecting transformers~=4.3\n",
            "\u001b[?25l  Downloading https://files.pythonhosted.org/packages/f9/54/5ca07ec9569d2f232f3166de5457b63943882f7950ddfcc887732fc7fb23/transformers-4.3.3-py3-none-any.whl (1.9MB)\n",
            "\u001b[K     |████████████████████████████████| 1.9MB 16.9MB/s \n",
            "\u001b[?25hCollecting allennlp~=2.0\n",
            "\u001b[?25l  Downloading https://files.pythonhosted.org/packages/e7/bd/c75fa01e3deb9322b637fe0be45164b40d43747661aca9195b5fb334947c/allennlp-2.1.0-py3-none-any.whl (585kB)\n",
            "\u001b[K     |████████████████████████████████| 593kB 49.7MB/s \n",
            "\u001b[?25hCollecting seqeval~=1.2\n",
            "\u001b[?25l  Downloading https://files.pythonhosted.org/packages/9d/2d/233c79d5b4e5ab1dbf111242299153f3caddddbb691219f363ad55ce783d/seqeval-1.2.2.tar.gz (43kB)\n",
            "\u001b[K     |████████████████████████████████| 51kB 8.8MB/s \n",
            "\u001b[?25hCollecting pytorch-crf~=0.7\n",
            "  Downloading https://files.pythonhosted.org/packages/96/7d/4c4688e26ea015fc118a0327e5726e6596836abce9182d3738be8ec2e32a/pytorch_crf-0.7.2-py3-none-any.whl\n",
            "Requirement already satisfied: regex!=2019.12.17 in /usr/local/lib/python3.7/dist-packages (from transformers~=4.3->-r /content/drive/My Drive/Serious/requirements.txt (line 1)) (2019.12.20)\n",
            "Requirement already satisfied: importlib-metadata; python_version < \"3.8\" in /usr/local/lib/python3.7/dist-packages (from transformers~=4.3->-r /content/drive/My Drive/Serious/requirements.txt (line 1)) (3.7.0)\n",
            "Requirement already satisfied: packaging in /usr/local/lib/python3.7/dist-packages (from transformers~=4.3->-r /content/drive/My Drive/Serious/requirements.txt (line 1)) (20.9)\n",
            "Collecting sacremoses\n",
            "\u001b[?25l  Downloading https://files.pythonhosted.org/packages/7d/34/09d19aff26edcc8eb2a01bed8e98f13a1537005d31e95233fd48216eed10/sacremoses-0.0.43.tar.gz (883kB)\n",
            "\u001b[K     |████████████████████████████████| 890kB 56.6MB/s \n",
            "\u001b[?25hCollecting tokenizers<0.11,>=0.10.1\n",
            "\u001b[?25l  Downloading https://files.pythonhosted.org/packages/71/23/2ddc317b2121117bf34dd00f5b0de194158f2a44ee2bf5e47c7166878a97/tokenizers-0.10.1-cp37-cp37m-manylinux2010_x86_64.whl (3.2MB)\n",
            "\u001b[K     |████████████████████████████████| 3.2MB 56.0MB/s \n",
            "\u001b[?25hRequirement already satisfied: filelock in /usr/local/lib/python3.7/dist-packages (from transformers~=4.3->-r /content/drive/My Drive/Serious/requirements.txt (line 1)) (3.0.12)\n",
            "Requirement already satisfied: tqdm>=4.27 in /usr/local/lib/python3.7/dist-packages (from transformers~=4.3->-r /content/drive/My Drive/Serious/requirements.txt (line 1)) (4.41.1)\n",
            "Requirement already satisfied: requests in /usr/local/lib/python3.7/dist-packages (from transformers~=4.3->-r /content/drive/My Drive/Serious/requirements.txt (line 1)) (2.23.0)\n",
            "Requirement already satisfied: numpy>=1.17 in /usr/local/lib/python3.7/dist-packages (from transformers~=4.3->-r /content/drive/My Drive/Serious/requirements.txt (line 1)) (1.19.5)\n",
            "Collecting jsonnet>=0.10.0; sys_platform != \"win32\"\n",
            "\u001b[?25l  Downloading https://files.pythonhosted.org/packages/42/40/6f16e5ac994b16fa71c24310f97174ce07d3a97b433275589265c6b94d2b/jsonnet-0.17.0.tar.gz (259kB)\n",
            "\u001b[K     |████████████████████████████████| 266kB 58.7MB/s \n",
            "\u001b[?25hCollecting sentencepiece\n",
            "\u001b[?25l  Downloading https://files.pythonhosted.org/packages/f5/99/e0808cb947ba10f575839c43e8fafc9cc44e4a7a2c8f79c60db48220a577/sentencepiece-0.1.95-cp37-cp37m-manylinux2014_x86_64.whl (1.2MB)\n",
            "\u001b[K     |████████████████████████████████| 1.2MB 53.5MB/s \n",
            "\u001b[?25hRequirement already satisfied: scipy in /usr/local/lib/python3.7/dist-packages (from allennlp~=2.0->-r /content/drive/My Drive/Serious/requirements.txt (line 2)) (1.4.1)\n",
            "Requirement already satisfied: torch<1.8.0,>=1.6.0 in /usr/local/lib/python3.7/dist-packages (from allennlp~=2.0->-r /content/drive/My Drive/Serious/requirements.txt (line 2)) (1.7.1+cu101)\n",
            "Collecting overrides==3.1.0\n",
            "  Downloading https://files.pythonhosted.org/packages/ff/b1/10f69c00947518e6676bbd43e739733048de64b8dd998e9c2d5a71f44c5d/overrides-3.1.0.tar.gz\n",
            "Requirement already satisfied: spacy<3.1,>=2.1.0 in /usr/local/lib/python3.7/dist-packages (from allennlp~=2.0->-r /content/drive/My Drive/Serious/requirements.txt (line 2)) (2.2.4)\n",
            "Collecting boto3<2.0,>=1.14\n",
            "\u001b[?25l  Downloading https://files.pythonhosted.org/packages/e6/f8/9505c0a9c21ec477631c8e7e377e006ec19280376160ce73a6b8d0702336/boto3-1.17.18-py2.py3-none-any.whl (130kB)\n",
            "\u001b[K     |████████████████████████████████| 133kB 58.2MB/s \n",
            "\u001b[?25hRequirement already satisfied: lmdb in /usr/local/lib/python3.7/dist-packages (from allennlp~=2.0->-r /content/drive/My Drive/Serious/requirements.txt (line 2)) (0.99)\n",
            "Requirement already satisfied: more-itertools in /usr/local/lib/python3.7/dist-packages (from allennlp~=2.0->-r /content/drive/My Drive/Serious/requirements.txt (line 2)) (8.7.0)\n",
            "Collecting jsonpickle\n",
            "  Downloading https://files.pythonhosted.org/packages/bb/1a/f2db026d4d682303793559f1c2bb425ba3ec0d6fd7ac63397790443f2461/jsonpickle-2.0.0-py2.py3-none-any.whl\n",
            "Requirement already satisfied: h5py in /usr/local/lib/python3.7/dist-packages (from allennlp~=2.0->-r /content/drive/My Drive/Serious/requirements.txt (line 2)) (2.10.0)\n",
            "Requirement already satisfied: scikit-learn in /usr/local/lib/python3.7/dist-packages (from allennlp~=2.0->-r /content/drive/My Drive/Serious/requirements.txt (line 2)) (0.22.2.post1)\n",
            "Requirement already satisfied: nltk in /usr/local/lib/python3.7/dist-packages (from allennlp~=2.0->-r /content/drive/My Drive/Serious/requirements.txt (line 2)) (3.2.5)\n",
            "Requirement already satisfied: pytest in /usr/local/lib/python3.7/dist-packages (from allennlp~=2.0->-r /content/drive/My Drive/Serious/requirements.txt (line 2)) (3.6.4)\n",
            "Requirement already satisfied: torchvision<0.9.0,>=0.8.1 in /usr/local/lib/python3.7/dist-packages (from allennlp~=2.0->-r /content/drive/My Drive/Serious/requirements.txt (line 2)) (0.8.2+cu101)\n",
            "Collecting tensorboardX>=1.2\n",
            "\u001b[?25l  Downloading https://files.pythonhosted.org/packages/af/0c/4f41bcd45db376e6fe5c619c01100e9b7531c55791b7244815bac6eac32c/tensorboardX-2.1-py2.py3-none-any.whl (308kB)\n",
            "\u001b[K     |████████████████████████████████| 317kB 57.7MB/s \n",
            "\u001b[?25hRequirement already satisfied: zipp>=0.5 in /usr/local/lib/python3.7/dist-packages (from importlib-metadata; python_version < \"3.8\"->transformers~=4.3->-r /content/drive/My Drive/Serious/requirements.txt (line 1)) (3.4.0)\n",
            "Requirement already satisfied: typing-extensions>=3.6.4; python_version < \"3.8\" in /usr/local/lib/python3.7/dist-packages (from importlib-metadata; python_version < \"3.8\"->transformers~=4.3->-r /content/drive/My Drive/Serious/requirements.txt (line 1)) (3.7.4.3)\n",
            "Requirement already satisfied: pyparsing>=2.0.2 in /usr/local/lib/python3.7/dist-packages (from packaging->transformers~=4.3->-r /content/drive/My Drive/Serious/requirements.txt (line 1)) (2.4.7)\n",
            "Requirement already satisfied: six in /usr/local/lib/python3.7/dist-packages (from sacremoses->transformers~=4.3->-r /content/drive/My Drive/Serious/requirements.txt (line 1)) (1.15.0)\n",
            "Requirement already satisfied: click in /usr/local/lib/python3.7/dist-packages (from sacremoses->transformers~=4.3->-r /content/drive/My Drive/Serious/requirements.txt (line 1)) (7.1.2)\n",
            "Requirement already satisfied: joblib in /usr/local/lib/python3.7/dist-packages (from sacremoses->transformers~=4.3->-r /content/drive/My Drive/Serious/requirements.txt (line 1)) (1.0.1)\n",
            "Requirement already satisfied: idna<3,>=2.5 in /usr/local/lib/python3.7/dist-packages (from requests->transformers~=4.3->-r /content/drive/My Drive/Serious/requirements.txt (line 1)) (2.10)\n",
            "Requirement already satisfied: urllib3!=1.25.0,!=1.25.1,<1.26,>=1.21.1 in /usr/local/lib/python3.7/dist-packages (from requests->transformers~=4.3->-r /content/drive/My Drive/Serious/requirements.txt (line 1)) (1.24.3)\n",
            "Requirement already satisfied: chardet<4,>=3.0.2 in /usr/local/lib/python3.7/dist-packages (from requests->transformers~=4.3->-r /content/drive/My Drive/Serious/requirements.txt (line 1)) (3.0.4)\n",
            "Requirement already satisfied: certifi>=2017.4.17 in /usr/local/lib/python3.7/dist-packages (from requests->transformers~=4.3->-r /content/drive/My Drive/Serious/requirements.txt (line 1)) (2020.12.5)\n",
            "Requirement already satisfied: blis<0.5.0,>=0.4.0 in /usr/local/lib/python3.7/dist-packages (from spacy<3.1,>=2.1.0->allennlp~=2.0->-r /content/drive/My Drive/Serious/requirements.txt (line 2)) (0.4.1)\n",
            "Requirement already satisfied: thinc==7.4.0 in /usr/local/lib/python3.7/dist-packages (from spacy<3.1,>=2.1.0->allennlp~=2.0->-r /content/drive/My Drive/Serious/requirements.txt (line 2)) (7.4.0)\n",
            "Requirement already satisfied: cymem<2.1.0,>=2.0.2 in /usr/local/lib/python3.7/dist-packages (from spacy<3.1,>=2.1.0->allennlp~=2.0->-r /content/drive/My Drive/Serious/requirements.txt (line 2)) (2.0.5)\n",
            "Requirement already satisfied: catalogue<1.1.0,>=0.0.7 in /usr/local/lib/python3.7/dist-packages (from spacy<3.1,>=2.1.0->allennlp~=2.0->-r /content/drive/My Drive/Serious/requirements.txt (line 2)) (1.0.0)\n",
            "Requirement already satisfied: preshed<3.1.0,>=3.0.2 in /usr/local/lib/python3.7/dist-packages (from spacy<3.1,>=2.1.0->allennlp~=2.0->-r /content/drive/My Drive/Serious/requirements.txt (line 2)) (3.0.5)\n",
            "Requirement already satisfied: plac<1.2.0,>=0.9.6 in /usr/local/lib/python3.7/dist-packages (from spacy<3.1,>=2.1.0->allennlp~=2.0->-r /content/drive/My Drive/Serious/requirements.txt (line 2)) (1.1.3)\n",
            "Requirement already satisfied: srsly<1.1.0,>=1.0.2 in /usr/local/lib/python3.7/dist-packages (from spacy<3.1,>=2.1.0->allennlp~=2.0->-r /content/drive/My Drive/Serious/requirements.txt (line 2)) (1.0.5)\n",
            "Requirement already satisfied: setuptools in /usr/local/lib/python3.7/dist-packages (from spacy<3.1,>=2.1.0->allennlp~=2.0->-r /content/drive/My Drive/Serious/requirements.txt (line 2)) (54.0.0)\n",
            "Requirement already satisfied: murmurhash<1.1.0,>=0.28.0 in /usr/local/lib/python3.7/dist-packages (from spacy<3.1,>=2.1.0->allennlp~=2.0->-r /content/drive/My Drive/Serious/requirements.txt (line 2)) (1.0.5)\n",
            "Requirement already satisfied: wasabi<1.1.0,>=0.4.0 in /usr/local/lib/python3.7/dist-packages (from spacy<3.1,>=2.1.0->allennlp~=2.0->-r /content/drive/My Drive/Serious/requirements.txt (line 2)) (0.8.2)\n",
            "Collecting botocore<1.21.0,>=1.20.18\n",
            "\u001b[?25l  Downloading https://files.pythonhosted.org/packages/48/42/5add1bc9e32717967c1f1cc7b36053f242c6a23bc36313549c4062e30efc/botocore-1.20.18-py2.py3-none-any.whl (7.3MB)\n",
            "\u001b[K     |████████████████████████████████| 7.3MB 47.8MB/s \n",
            "\u001b[?25hCollecting s3transfer<0.4.0,>=0.3.0\n",
            "\u001b[?25l  Downloading https://files.pythonhosted.org/packages/ea/43/4b4a1b26eb03a429a4c37ca7fdf369d938bd60018fc194e94b8379b0c77c/s3transfer-0.3.4-py2.py3-none-any.whl (69kB)\n",
            "\u001b[K     |████████████████████████████████| 71kB 12.6MB/s \n",
            "\u001b[?25hCollecting jmespath<1.0.0,>=0.7.1\n",
            "  Downloading https://files.pythonhosted.org/packages/07/cb/5f001272b6faeb23c1c9e0acc04d48eaaf5c862c17709d20e3469c6e0139/jmespath-0.10.0-py2.py3-none-any.whl\n",
            "Requirement already satisfied: pluggy<0.8,>=0.5 in /usr/local/lib/python3.7/dist-packages (from pytest->allennlp~=2.0->-r /content/drive/My Drive/Serious/requirements.txt (line 2)) (0.7.1)\n",
            "Requirement already satisfied: py>=1.5.0 in /usr/local/lib/python3.7/dist-packages (from pytest->allennlp~=2.0->-r /content/drive/My Drive/Serious/requirements.txt (line 2)) (1.10.0)\n",
            "Requirement already satisfied: atomicwrites>=1.0 in /usr/local/lib/python3.7/dist-packages (from pytest->allennlp~=2.0->-r /content/drive/My Drive/Serious/requirements.txt (line 2)) (1.4.0)\n",
            "Requirement already satisfied: attrs>=17.4.0 in /usr/local/lib/python3.7/dist-packages (from pytest->allennlp~=2.0->-r /content/drive/My Drive/Serious/requirements.txt (line 2)) (20.3.0)\n",
            "Requirement already satisfied: pillow>=4.1.1 in /usr/local/lib/python3.7/dist-packages (from torchvision<0.9.0,>=0.8.1->allennlp~=2.0->-r /content/drive/My Drive/Serious/requirements.txt (line 2)) (7.0.0)\n",
            "Requirement already satisfied: protobuf>=3.8.0 in /usr/local/lib/python3.7/dist-packages (from tensorboardX>=1.2->allennlp~=2.0->-r /content/drive/My Drive/Serious/requirements.txt (line 2)) (3.12.4)\n",
            "Requirement already satisfied: python-dateutil<3.0.0,>=2.1 in /usr/local/lib/python3.7/dist-packages (from botocore<1.21.0,>=1.20.18->boto3<2.0,>=1.14->allennlp~=2.0->-r /content/drive/My Drive/Serious/requirements.txt (line 2)) (2.8.1)\n",
            "Building wheels for collected packages: seqeval, sacremoses, jsonnet, overrides\n",
            "  Building wheel for seqeval (setup.py) ... \u001b[?25l\u001b[?25hdone\n",
            "  Created wheel for seqeval: filename=seqeval-1.2.2-cp37-none-any.whl size=16172 sha256=84e74a561e56270cbfd009f630c7a2442dd512f00a3c828cfbf3d1dab89e3bd3\n",
            "  Stored in directory: /root/.cache/pip/wheels/52/df/1b/45d75646c37428f7e626214704a0e35bd3cfc32eda37e59e5f\n",
            "  Building wheel for sacremoses (setup.py) ... \u001b[?25l\u001b[?25hdone\n",
            "  Created wheel for sacremoses: filename=sacremoses-0.0.43-cp37-none-any.whl size=893262 sha256=9887a614049201b2c0d76f2cbbab8c6209d019e31bdf965ec5d46a3fdd7df142\n",
            "  Stored in directory: /root/.cache/pip/wheels/29/3c/fd/7ce5c3f0666dab31a50123635e6fb5e19ceb42ce38d4e58f45\n",
            "  Building wheel for jsonnet (setup.py) ... \u001b[?25l\u001b[?25hdone\n",
            "  Created wheel for jsonnet: filename=jsonnet-0.17.0-cp37-cp37m-linux_x86_64.whl size=3388775 sha256=963af947a765b25ef4c66a27a3fb6c2e399b44824bacaf83efc836c21b944ba1\n",
            "  Stored in directory: /root/.cache/pip/wheels/26/7a/37/7dbcc30a6b4efd17b91ad1f0128b7bbf84813bd4e1cfb8c1e3\n",
            "  Building wheel for overrides (setup.py) ... \u001b[?25l\u001b[?25hdone\n",
            "  Created wheel for overrides: filename=overrides-3.1.0-cp37-none-any.whl size=10174 sha256=99494e61b436502b1b32b5f7a877bd9cffd25dee643f0ff50c2cee7d214eb63c\n",
            "  Stored in directory: /root/.cache/pip/wheels/5c/24/13/6ef8600e6f147c95e595f1289a86a3cc82ed65df57582c65a9\n",
            "Successfully built seqeval sacremoses jsonnet overrides\n",
            "\u001b[31mERROR: botocore 1.20.18 has requirement urllib3<1.27,>=1.25.4, but you'll have urllib3 1.24.3 which is incompatible.\u001b[0m\n",
            "Installing collected packages: sacremoses, tokenizers, transformers, jsonnet, sentencepiece, overrides, jmespath, botocore, s3transfer, boto3, jsonpickle, tensorboardX, allennlp, seqeval, pytorch-crf\n",
            "Successfully installed allennlp-2.1.0 boto3-1.17.18 botocore-1.20.18 jmespath-0.10.0 jsonnet-0.17.0 jsonpickle-2.0.0 overrides-3.1.0 pytorch-crf-0.7.2 s3transfer-0.3.4 sacremoses-0.0.43 sentencepiece-0.1.95 seqeval-1.2.2 tensorboardX-2.1 tokenizers-0.10.1 transformers-4.3.3\n"
          ],
          "name": "stdout"
        }
      ]
    },
    {
      "cell_type": "markdown",
      "metadata": {
        "id": "Ig5ZPACeZfR0"
      },
      "source": [
        "### Loading coNLL"
      ]
    },
    {
      "cell_type": "code",
      "metadata": {
        "id": "iMQq-F5Y-9pO"
      },
      "source": [
        "import sys\n",
        "sys.path.append(PATH_TO_PROJECT)\n",
        "sys.path.append(PATH_TO_CONLL)\n",
        "\n",
        "from importlib import reload\n",
        "import conll as co"
      ],
      "execution_count": 6,
      "outputs": []
    },
    {
      "cell_type": "code",
      "metadata": {
        "id": "iVoDyuLrZUZW"
      },
      "source": [
        "conll = co.CoNLL(PATH_TO_CONLL)"
      ],
      "execution_count": 7,
      "outputs": []
    },
    {
      "cell_type": "code",
      "metadata": {
        "id": "iDaiJBYeZz22"
      },
      "source": [
        "# splitting raw data to sentences and labels\n",
        "for typ in conll.types:\n",
        "    conll.split_text_label(typ)\n",
        "\n",
        "# define set of all labels\n",
        "conll.create_set_of_labels()\n",
        "\n",
        "for typ in conll.types:\n",
        "    # for multiple heads of CRF layer\n",
        "    conll.create_one_labeled_data(typ)\n",
        "\n",
        "    # creating one_tag2idx dictionary\n",
        "    conll.create_one_tag2idx(PATH_TO_ONE_TAG2IDX)\n",
        "    conll.create_idx2one_tag()"
      ],
      "execution_count": 62,
      "outputs": []
    },
    {
      "cell_type": "code",
      "metadata": {
        "colab": {
          "base_uri": "https://localhost:8080/"
        },
        "id": "BLenRElisZ7u",
        "outputId": "2306f7cf-cfd3-42b2-d84c-e4e6d139c637"
      },
      "source": [
        "# dict of tag2idx mapping for each CRF-head (one head responsible for 'LOC' etc.)\n",
        "conll.one_tag2idx"
      ],
      "execution_count": 63,
      "outputs": [
        {
          "output_type": "execute_result",
          "data": {
            "text/plain": [
              "{'LOC': {'B-LOC': 0, 'I-LOC': 3, 'O': 2, 'PAD': 1},\n",
              " 'MISC': {'B-MISC': 0, 'I-MISC': 3, 'O': 2, 'PAD': 1},\n",
              " 'ORG': {'B-ORG': 2, 'I-ORG': 3, 'O': 1, 'PAD': 0},\n",
              " 'PER': {'B-PER': 2, 'I-PER': 0, 'O': 3, 'PAD': 1}}"
            ]
          },
          "metadata": {
            "tags": []
          },
          "execution_count": 63
        }
      ]
    },
    {
      "cell_type": "code",
      "metadata": {
        "colab": {
          "base_uri": "https://localhost:8080/"
        },
        "id": "r31Vd_X7aFYq",
        "outputId": "d9900cf1-9364-46c3-85bb-de214f9ba90b"
      },
      "source": [
        "print(f\"sen example: {conll.sentences['train'][0]}\")\n",
        "print(f\"tags example: {conll.labels['train'][0]}\")\n",
        "print(f\"tags example with only 'ORG' tag: {conll.one_tag_dict['train']['ORG'][0]}\")\n",
        "print(f\"tags for CRF tags has labels: {conll.one_tag_dict['train'].keys()}\")"
      ],
      "execution_count": 64,
      "outputs": [
        {
          "output_type": "stream",
          "text": [
            "sen example: ['EU', 'rejects', 'German', 'call', 'to', 'boycott', 'British', 'lamb', '.']\n",
            "tags example: ['B-ORG', 'O', 'B-MISC', 'O', 'O', 'O', 'B-MISC', 'O', 'O']\n",
            "tags example with only 'ORG' tag: ['B-ORG', 'O', 'O', 'O', 'O', 'O', 'O', 'O', 'O']\n",
            "tags for CRF tags has labels: dict_keys(['LOC', 'PER', 'ORG', 'MISC'])\n"
          ],
          "name": "stdout"
        }
      ]
    },
    {
      "cell_type": "markdown",
      "metadata": {
        "id": "0QAfxs-oksA8"
      },
      "source": [
        "### Importing packages"
      ]
    },
    {
      "cell_type": "code",
      "metadata": {
        "id": "fRTdZDZhaswg"
      },
      "source": [
        "import numpy as np\n",
        "import torch\n",
        "from torch import nn\n",
        "from torch.optim import AdamW\n",
        "from transformers import BertTokenizer, BertModel\n",
        "from transformers import BertForTokenClassification\n",
        "from allennlp.modules.elmo import Elmo, batch_to_ids\n",
        "\n",
        "from torchcrf import CRF\n",
        "\n",
        "from sklearn.model_selection import KFold, ParameterGrid\n",
        "\n",
        "from transformers import get_linear_schedule_with_warmup\n",
        "\n",
        "import matplotlib\n",
        "from matplotlib import pyplot as plt\n",
        "\n",
        "%matplotlib inline"
      ],
      "execution_count": 8,
      "outputs": []
    },
    {
      "cell_type": "markdown",
      "metadata": {
        "id": "4Wbv4ooQlF-L"
      },
      "source": [
        "### Creating dataloaders"
      ]
    },
    {
      "cell_type": "code",
      "metadata": {
        "id": "sWa5WR6-Hq1-"
      },
      "source": [
        "import data_loaders as dalo"
      ],
      "execution_count": 152,
      "outputs": []
    },
    {
      "cell_type": "code",
      "metadata": {
        "colab": {
          "base_uri": "https://localhost:8080/"
        },
        "id": "-8m8C4zP0mB-",
        "outputId": "2499eba9-f0d5-40a7-dc47-1e1cce985511"
      },
      "source": [
        "reload(dalo)"
      ],
      "execution_count": 153,
      "outputs": [
        {
          "output_type": "execute_result",
          "data": {
            "text/plain": [
              "<module 'data_loaders' from '/content/drive/My Drive/Serious/data_loaders.py'>"
            ]
          },
          "metadata": {
            "tags": []
          },
          "execution_count": 153
        }
      ]
    },
    {
      "cell_type": "code",
      "metadata": {
        "id": "J0-SYtcug_EN",
        "colab": {
          "base_uri": "https://localhost:8080/",
          "height": 66,
          "referenced_widgets": [
            "905d0f76d7ef420b8d95e31268a494f4",
            "4394d35e24234d63b724dd2632064ff6",
            "980277d8ac794a3d84cb0b613b1833fd",
            "dfc5d008f167419088c386556632195d",
            "28167de8322a4567b9d38119770a049d",
            "e1cf58eada5e43c6904c5af9b5547f94",
            "3fe1be6bfcf8445598e12cd019abd48e",
            "d6fb4f7c0a1f40c4b191124eeb9ea15a"
          ]
        },
        "outputId": "88e74591-d2e4-4a62-9786-d7707bcb081d"
      },
      "source": [
        "bert_tokenizer = BertTokenizer.from_pretrained('bert-base-cased', do_lower_case=False)"
      ],
      "execution_count": 13,
      "outputs": [
        {
          "output_type": "display_data",
          "data": {
            "application/vnd.jupyter.widget-view+json": {
              "model_id": "905d0f76d7ef420b8d95e31268a494f4",
              "version_minor": 0,
              "version_major": 2
            },
            "text/plain": [
              "HBox(children=(FloatProgress(value=0.0, description='Downloading', max=213450.0, style=ProgressStyle(descripti…"
            ]
          },
          "metadata": {
            "tags": []
          }
        },
        {
          "output_type": "stream",
          "text": [
            "\n"
          ],
          "name": "stdout"
        }
      ]
    },
    {
      "cell_type": "code",
      "metadata": {
        "id": "oxXzWE70ZqHt"
      },
      "source": [
        "TAG_NAMES = ['ORG', 'LOC','PER']\n",
        "NUM_OF_HEADS = len(TAG_NAMES)"
      ],
      "execution_count": 91,
      "outputs": []
    },
    {
      "cell_type": "code",
      "metadata": {
        "colab": {
          "base_uri": "https://localhost:8080/"
        },
        "id": "GfEU-vEzg1cC",
        "outputId": "ae0c7e7a-f5c6-4960-91e4-85059ee42b26"
      },
      "source": [
        "# in the second argument we pass list of tag names for every head of the model\n",
        "train_dataset, train_sampler, train_dataloader = dalo.create_dataloader(conll, TAG_NAMES, bert_tokenizer)\n",
        "\n",
        "# sanity check for output sizes\n",
        "assert train_dataset[0][0].shape[0] == train_dataset[0][1].shape[0]\n",
        "if NUM_OF_HEADS > 1:\n",
        "  assert train_dataset[0][2].shape[0] == NUM_OF_HEADS\n",
        "  assert train_dataset[0][2].shape[1] == train_dataset[0][0].shape[0]\n",
        "else:\n",
        "  assert len(train_dataset[0][2].shape) == NUM_OF_HEADS # == 1\n",
        "  assert train_dataset[0][2].shape[0] == train_dataset[0][0].shape[0]\n",
        "assert train_dataset[0][3].shape[0] == train_dataset[0][0].shape[0]\n",
        "\n",
        "print(f\"bert sentence shape: {train_dataset[0][0].shape}\")\n",
        "print(f\"elmo sentence shape: {train_dataset[0][1].shape}\")\n",
        "print(f\"number of heads: {train_dataset[0][2].shape[0] if NUM_OF_HEADS > 1 else 1}\")\n",
        "print(f\"tokens len: {train_dataset[0][2].shape[1] if NUM_OF_HEADS > 1 else train_dataset[0][2].shape[0]}\")\n",
        "print(f\"mask shape: {train_dataset[0][3].shape}\")"
      ],
      "execution_count": 92,
      "outputs": [
        {
          "output_type": "stream",
          "text": [
            "bert sentence shape: torch.Size([173])\n",
            "elmo sentence shape: torch.Size([173, 50])\n",
            "number of heads: 3\n",
            "tokens len: 173\n",
            "mask shape: torch.Size([173])\n"
          ],
          "name": "stdout"
        }
      ]
    },
    {
      "cell_type": "code",
      "metadata": {
        "id": "MYwcH-OXOlEK",
        "colab": {
          "base_uri": "https://localhost:8080/"
        },
        "outputId": "3245de25-527c-4b1a-bab0-2f6872ee7949"
      },
      "source": [
        "valid_dataset, valid_sampler, valid_dataloader = dalo.create_dataloader(conll, TAG_NAMES, bert_tokenizer,\n",
        "                                                                        'valid', desired_pad=train_dataset[0][0].shape[0])\n",
        "\n",
        "# sanity check for output sizes\n",
        "assert valid_dataset[0][0].shape[0] == train_dataset[0][1].shape[0]\n",
        "if NUM_OF_HEADS > 1:\n",
        "  assert valid_dataset[0][2].shape[0] == NUM_OF_HEADS\n",
        "  assert valid_dataset[0][2].shape[1] == train_dataset[0][0].shape[0]\n",
        "else:\n",
        "  assert len(valid_dataset[0][2].shape) == NUM_OF_HEADS # == 1\n",
        "  assert valid_dataset[0][2].shape[0] == train_dataset[0][0].shape[0]\n",
        "assert valid_dataset[0][3].shape[0] == train_dataset[0][0].shape[0]\n",
        "\n",
        "print(f\"bert sentence shape: {valid_dataset[0][0].shape}\")\n",
        "print(f\"elmo sentence shape: {valid_dataset[0][1].shape}\")"
      ],
      "execution_count": 99,
      "outputs": [
        {
          "output_type": "stream",
          "text": [
            "bert sentence shape: torch.Size([173])\n",
            "elmo sentence shape: torch.Size([173, 50])\n"
          ],
          "name": "stdout"
        }
      ]
    },
    {
      "cell_type": "markdown",
      "metadata": {
        "id": "HIZt3E_7T7wL"
      },
      "source": [
        "### Creating model"
      ]
    },
    {
      "cell_type": "code",
      "metadata": {
        "id": "iLKRCesGaQge"
      },
      "source": [
        "from bert_config import *\n",
        "from elmo_config import *"
      ],
      "execution_count": 203,
      "outputs": []
    },
    {
      "cell_type": "code",
      "metadata": {
        "id": "4E_iWY0bTiuL"
      },
      "source": [
        "class BEbiC(nn.Module):\n",
        "    \"\"\"\n",
        "    BERT+Elmo+biLSTM+CRFs\n",
        "    \"\"\"\n",
        "    def __init__(self, hidden_size=128, num_labels=4, tag_names=TAG_NAMES,\n",
        "                 elmo_layers=2, bert_layers=1, concat_bert=True,\n",
        "                 bilstm_layers=1, bilstm_dropout=0):\n",
        "        \"\"\"\n",
        "        Creates model\n",
        "        \n",
        "        Parameters\n",
        "        ----------\n",
        "        hidden_size: int, default=128\n",
        "          LSTM parameter\n",
        "        num_labels: int, defualt=4\n",
        "          The number of each CRF labels (ex: B-LABEL, I-LABEL, O, PAD for multiple heads case)\n",
        "        tag_names: list of str\n",
        "          List of tag names for models heads\n",
        "        elmo_layers: int, default=2\n",
        "          Num of ELMo layers to be considered\n",
        "        bert_layers: int, default=1\n",
        "          Num of final BERT hidden layers to be used as embedding vector.\n",
        "        concat_bert: bool, default=True\n",
        "          Whether to concat (True) or sum (False) last BERT hidden layers.\n",
        "        bilstm_layers: int, default=1\n",
        "\n",
        "        \"\"\"\n",
        "\n",
        "        super(BEbiC, self).__init__()\n",
        "\n",
        "        self.hidden_size = hidden_size\n",
        "        self.num_labels = num_labels\n",
        "        self.tag_names = tag_names\n",
        "        self.num_heads = len(self.tag_names)\n",
        "        self.elmo_layers = elmo_layers\n",
        "        self.bert_layers = bert_layers\n",
        "        self.concat_bert = concat_bert\n",
        "        self.bilstm_layers = bilstm_layers\n",
        "        self.bilstm_dropout = bilstm_dropout\n",
        "        \n",
        "        self.bert = BertForTokenClassification.from_pretrained(\n",
        "                        BERT_MODEL,\n",
        "                        output_hidden_states=True)\n",
        "        \n",
        "        for pars in self.bert.parameters():\n",
        "            pars.requires_grad = False\n",
        "        \n",
        "        bert_embedding_dim = self.bert.config.to_dict()['hidden_size']\n",
        "\n",
        "        self.elmo = Elmo(options_file, weight_file, self.elmo_layers, dropout=0, requires_grad=False)\n",
        "        \n",
        "        elmo_embedding_dim = 512 # it's always fixed\n",
        "\n",
        "        if self.concat_bert:\n",
        "          self.linear1 = nn.Linear(bert_embedding_dim*self.bert_layers+elmo_embedding_dim*self.elmo_layers, 1024)\n",
        "        else:\n",
        "          self.linear1 = nn.Linear(bert_embedding_dim+elmo_embedding_dim*self.elmo_layers, 1024)\n",
        "        \n",
        "        self.bilstm = nn.LSTM(1024, self.hidden_size, self.bilstm_layers, \n",
        "                              bidirectional=True, dropout=self.bilstm_dropout)\n",
        "\n",
        "        self.heads = {}\n",
        "        for i, tag in enumerate(self.tag_names):\n",
        "            lin_crf = nn.ModuleDict({'linear': nn.Linear(self.hidden_size*2, self.num_labels),\n",
        "                                     'crf': CRF(num_tags=self.num_labels, batch_first=True)})\n",
        "            self.heads[tag] = lin_crf\n",
        "\n",
        "        self.heads = nn.ModuleDict(self.heads)\n",
        "        self.active_heads = {head: True for head in self.heads.keys()}\n",
        "\n",
        "    def add_head(self, tag_name):\n",
        "        \"\"\"\n",
        "        Adds new head to the model\n",
        "\n",
        "        \"\"\"\n",
        "        self.tag_names.append(tag_name)\n",
        "        self.num_heads += 1\n",
        "        lin_crf = nn.ModuleDict({'linear': nn.Linear(self.hidden_size*2, self.num_labels),\n",
        "                                     'crf': CRF(num_tags=self.num_labels, batch_first=True)})\n",
        "        self.heads.update({tag_name: lin_crf})\n",
        "\n",
        "\n",
        "    def shared_forward(self, bert_ids, elmo_ids, attention_mask):\n",
        "        \"\"\"\n",
        "        Forward propogate of model shared layers.\n",
        "        \n",
        "        Parameters\n",
        "        ----------\n",
        "        bert_ids:\n",
        "        elmo_ids:\n",
        "        attention_mask:\n",
        "        \n",
        "        Returns\n",
        "        -------\n",
        "        Bilstm logits with shape (seq_len, batch, 2*self.hidden_size)\n",
        "        \n",
        "        \"\"\"\n",
        "\n",
        "        mask = attention_mask.byte()\n",
        "        bert_hiddens = self.bert(bert_ids, attention_mask=mask)[1]\n",
        "        elmo_hiddens = self.elmo(elmo_ids)\n",
        "\n",
        "        if self.concat_bert:\n",
        "            bert_embedding = torch.cat(bert_hiddens[-self.bert_layers:], dim=2)\n",
        "        else:\n",
        "            emb_sum = 0\n",
        "            for h in bert_hiddens[-self.bert_layers:]:\n",
        "                emb_sum += h\n",
        "            bert_embedding = emb_sum\n",
        "\n",
        "        elmo_bert_embeddings = torch.clone(bert_embedding)\n",
        "        for el_hi in elmo_hiddens['elmo_representations']:\n",
        "            elmo_bert_embeddings = torch.cat((elmo_bert_embeddings, el_hi), dim=-1)\n",
        "\n",
        "        linear1_output = nn.functional.relu(self.linear1(elmo_bert_embeddings))\n",
        "\n",
        "        bilstm_output, (h_n, c_n) = self.bilstm(linear1_output)\n",
        "\n",
        "        return bilstm_output\n",
        "    \n",
        "    def get_one_head_loss(self, bilstm_logits, head_labels, attention_mask, head_tag):\n",
        "        \"\"\"\n",
        "        Returns negative log-likelihood for one head.\n",
        "        You should run it after shared forward.\n",
        "\n",
        "        Parameters\n",
        "        ----------\n",
        "        bilstm_logits:\n",
        "        head_labels:\n",
        "        attention_mask:\n",
        "        head_tag: str\n",
        "          Key of self.heads dictionary.\n",
        "        \n",
        "        Returns\n",
        "        -------\n",
        "        Loss\n",
        "\n",
        "        \"\"\"\n",
        "        lin_out = nn.functional.relu(self.heads[head_tag]['linear'](bilstm_logits))\n",
        "        loss = -1*self.heads[head_tag]['crf'].forward(lin_out, head_labels, mask=attention_mask.byte())\n",
        "        return loss\n",
        "    \n",
        "    def get_one_head_seq(self, bilstm_logits, attention_mask, head_tag):\n",
        "        \"\"\"\n",
        "        Returns the most likely sequence of labels for the given head.\n",
        "        You should run it after shared forward.\n",
        "\n",
        "        Parameters\n",
        "        ----------\n",
        "        bilstm_logits:\n",
        "        attention_mask:\n",
        "        head_tag: str\n",
        "          Key of self.heads dictionary.\n",
        "        \n",
        "        Returns\n",
        "        -------\n",
        "        List\n",
        "        \"\"\"\n",
        "      \n",
        "        lin_out = nn.functional.relu(self.heads[head_tag]['linear'](bilstm_logits))\n",
        "        seq = self.heads[head_tag]['crf'].decode(lin_out, mask=attention_mask.byte())\n",
        "        return seq\n",
        "    \n",
        "    def forward(self, bert_ids, elmo_ids, head_labels, attention_mask):\n",
        "        \"\"\"\n",
        "        Forward model pass.\n",
        "        \n",
        "        Parameters\n",
        "        ----------\n",
        "        bert_ids:\n",
        "        elmo_ids:\n",
        "        head_labels:\n",
        "        attention_mask:\n",
        "        \n",
        "        Returns\n",
        "        -------\n",
        "        Total loss for all heads.\n",
        "\n",
        "        \"\"\"\n",
        "\n",
        "        mask = attention_mask.byte()\n",
        "        bilstm_logits = self.shared_forward(bert_ids, elmo_ids, mask)\n",
        "        head_loss = 0\n",
        "        for i, tag in enumerate(self.heads.keys()):\n",
        "          _one_head_labels = head_labels[:,i,:] if len(self.heads.keys()) > 1 else head_labels\n",
        "          head_loss += self.get_one_head_loss(bilstm_logits, _one_head_labels, mask, tag)\n",
        "        return head_loss\n",
        "    \n",
        "    def freeze_head(self, head_tag):\n",
        "        \"\"\"\n",
        "        Freezes model's head parameters.\n",
        "\n",
        "        \"\"\"\n",
        "        if head_tag not in self.heads.keys():\n",
        "            raise ValueError(f\"Unknown head tag. Please, give one of {self.heads.keys()}\")\n",
        "        \n",
        "        for parameter in self.heads[head_tag].parameters():\n",
        "            parameter.requires_grad = False\n",
        "        \n",
        "        self.active_heads[head_tag] = False\n",
        "    \n",
        "    def unfreeze_head(self, head_tag):\n",
        "        \"\"\"\n",
        "        Unfreezes model's head parameters.\n",
        "\n",
        "        \"\"\"\n",
        "        if head_tag not in self.heads.keys():\n",
        "            raise ValueError(f\"Unknown head tag. Please, give one of {self.heads.keys()}\")\n",
        "        \n",
        "        for parameter in self.heads[head_tag].parameters():\n",
        "            parameter.requires_grad = True\n",
        "        \n",
        "        self.active_heads[head_tag] = True"
      ],
      "execution_count": 204,
      "outputs": []
    },
    {
      "cell_type": "code",
      "metadata": {
        "id": "RRrAN94jZ3aO"
      },
      "source": [
        "model = BEbiC(hidden_size=512, bert_layers=2, bilstm_layers=2, bilstm_dropout=0.3)"
      ],
      "execution_count": null,
      "outputs": []
    },
    {
      "cell_type": "code",
      "metadata": {
        "id": "NPWdYLAD7fgU"
      },
      "source": [
        "import model_utils as mu"
      ],
      "execution_count": 141,
      "outputs": []
    },
    {
      "cell_type": "code",
      "metadata": {
        "colab": {
          "base_uri": "https://localhost:8080/"
        },
        "id": "lVtQGR316QJ0",
        "outputId": "690eb5b7-e61b-4ac1-debf-1a34000b3b8a"
      },
      "source": [
        "reload(mu)"
      ],
      "execution_count": 142,
      "outputs": [
        {
          "output_type": "execute_result",
          "data": {
            "text/plain": [
              "<module 'model_utils' from '/content/drive/My Drive/Serious/model_utils.py'>"
            ]
          },
          "metadata": {
            "tags": []
          },
          "execution_count": 142
        }
      ]
    },
    {
      "cell_type": "code",
      "metadata": {
        "id": "f9E6afKGZGZT"
      },
      "source": [
        "N_EPOCHS = 10\n",
        "total_steps = len(train_dataloader) *  N_EPOCHS"
      ],
      "execution_count": 20,
      "outputs": []
    },
    {
      "cell_type": "code",
      "metadata": {
        "id": "Pd9OMA00PCNX"
      },
      "source": [
        "device = torch.device(\"cuda\" if torch.cuda.is_available() else \"cpu\")\n",
        "n_gpu = torch.cuda.device_count()\n",
        "\n",
        "model.to(device)"
      ],
      "execution_count": 12,
      "outputs": []
    },
    {
      "cell_type": "markdown",
      "metadata": {
        "id": "2hht0bf98-D2"
      },
      "source": [
        "Two head experiment"
      ]
    },
    {
      "cell_type": "code",
      "metadata": {
        "id": "ZPu6JHCJ9CIr"
      },
      "source": [
        "model.tag_names"
      ],
      "execution_count": null,
      "outputs": []
    },
    {
      "cell_type": "code",
      "metadata": {
        "id": "ezSoQeCuPGAL"
      },
      "source": [
        "optimizer = AdamW(params=model.parameters(),lr=5e-4)\n",
        "\n",
        "scheduler = get_linear_schedule_with_warmup(\n",
        "    optimizer,\n",
        "    num_warmup_steps=0,\n",
        "    num_training_steps=total_steps\n",
        ")\n",
        "\n",
        "if device.type != 'cpu':\n",
        "    model.to(device)\n",
        "\n",
        "loss_value, head_results = mu.train(model, train_dataloader, optimizer, device, conll, scheduler, n_epoch=N_EPOCHS,\n",
        "                                valid_dataloader=valid_dataloader, path_to_save=PATH_TO_CHECKPOINT)"
      ],
      "execution_count": null,
      "outputs": []
    },
    {
      "cell_type": "code",
      "metadata": {
        "id": "dtNisogew8-P"
      },
      "source": [
        "mu.eval_model(model, valid_dataloader, device, conll)"
      ],
      "execution_count": null,
      "outputs": []
    },
    {
      "cell_type": "markdown",
      "metadata": {
        "id": "U5H727E05BTw"
      },
      "source": [
        "### Loading pretrained model"
      ]
    },
    {
      "cell_type": "code",
      "metadata": {
        "id": "laN65dnu63he"
      },
      "source": [
        "bert_tokenizer, model, opt_state = mu.load_checkpoint(PATH_TO_CHECKPOINT+'BEbic_9_state_dict.pth',\n",
        "                                                      PATH_TO_CHECKPOINT+'BEbic_9_tokenizer.pth')"
      ],
      "execution_count": 205,
      "outputs": []
    },
    {
      "cell_type": "code",
      "metadata": {
        "colab": {
          "base_uri": "https://localhost:8080/"
        },
        "id": "o4-ilZod9opg",
        "outputId": "d65fda62-70b8-4fe5-cff5-9f3a3afda955"
      },
      "source": [
        "model.heads"
      ],
      "execution_count": 206,
      "outputs": [
        {
          "output_type": "execute_result",
          "data": {
            "text/plain": [
              "ModuleDict(\n",
              "  (ORG): ModuleDict(\n",
              "    (linear): Linear(in_features=1024, out_features=4, bias=True)\n",
              "    (crf): CRF(num_tags=4)\n",
              "  )\n",
              "  (LOC): ModuleDict(\n",
              "    (linear): Linear(in_features=1024, out_features=4, bias=True)\n",
              "    (crf): CRF(num_tags=4)\n",
              "  )\n",
              "  (PER): ModuleDict(\n",
              "    (linear): Linear(in_features=1024, out_features=4, bias=True)\n",
              "    (crf): CRF(num_tags=4)\n",
              "  )\n",
              ")"
            ]
          },
          "metadata": {
            "tags": []
          },
          "execution_count": 206
        }
      ]
    },
    {
      "cell_type": "code",
      "metadata": {
        "id": "O_nKjJ-dEWfx"
      },
      "source": [
        "optimizer = AdamW(params=model.parameters(),lr=3e-4)\n",
        "optimizer.load_state_dict(opt_state)"
      ],
      "execution_count": 30,
      "outputs": []
    },
    {
      "cell_type": "code",
      "metadata": {
        "id": "o8QEc1Bs8AiR"
      },
      "source": [
        "device = torch.device(\"cuda\" if torch.cuda.is_available() else \"cpu\")\n",
        "n_gpu = torch.cuda.device_count()\n",
        "\n",
        "model.to(device)"
      ],
      "execution_count": null,
      "outputs": []
    },
    {
      "cell_type": "code",
      "metadata": {
        "id": "0M4ByPSW88Mr"
      },
      "source": [
        "valid_dataset, valid_sampler, valid_dataloader = dalo.create_dataloader(conll, TAG_NAMES, bert_tokenizer, 'valid', desired_pad=173)"
      ],
      "execution_count": 208,
      "outputs": []
    },
    {
      "cell_type": "code",
      "metadata": {
        "id": "TQe_CGEz9DLX"
      },
      "source": [
        "head_result, mean_loss, mean_acc, mean_f1 = mu.eval_model(model, valid_dataloader, device, conll)"
      ],
      "execution_count": 209,
      "outputs": []
    },
    {
      "cell_type": "code",
      "metadata": {
        "colab": {
          "base_uri": "https://localhost:8080/"
        },
        "id": "OMwI3yEHDm1Q",
        "outputId": "578f7890-5c38-4a82-df3b-7bf2aca9d304"
      },
      "source": [
        "head_result"
      ],
      "execution_count": 210,
      "outputs": [
        {
          "output_type": "execute_result",
          "data": {
            "text/plain": [
              "{'LOC': {'acc': 0.9913228024930153, 'f1': 0.9035911602209944},\n",
              " 'ORG': {'acc': 0.9772324306898775, 'f1': 0.6343975283213182},\n",
              " 'PER': {'acc': 0.9769100580270793, 'f1': 0.3787528868360277}}"
            ]
          },
          "metadata": {
            "tags": []
          },
          "execution_count": 210
        }
      ]
    },
    {
      "cell_type": "markdown",
      "metadata": {
        "id": "dKF7rRyJ9ooK"
      },
      "source": [
        "#### Continue to train pretrained model"
      ]
    },
    {
      "cell_type": "code",
      "metadata": {
        "id": "FDIeShD--TQs"
      },
      "source": [
        "TAG_NAMES = ['ORG', 'LOC', 'PER']\n",
        "NUM_OF_HEADS = len(TAG_NAMES)\n",
        "\n",
        "# in the second argument we pass list of tag names for every head of the model\n",
        "train_dataset, train_sampler, train_dataloader = dalo.create_dataloader(conll, TAG_NAMES, bert_tokenizer)"
      ],
      "execution_count": null,
      "outputs": []
    },
    {
      "cell_type": "code",
      "metadata": {
        "id": "b_dgr1559Fpy"
      },
      "source": [
        "N_EPOCHS = 5\n",
        "total_steps = len(train_dataloader) *  N_EPOCHS"
      ],
      "execution_count": null,
      "outputs": []
    },
    {
      "cell_type": "code",
      "metadata": {
        "id": "wORAtulk9-ue"
      },
      "source": [
        "optimizer = AdamW(params=model.parameters(),lr=1e-4)\n",
        "\n",
        "scheduler = get_linear_schedule_with_warmup(\n",
        "    optimizer,\n",
        "    num_warmup_steps=0,\n",
        "    num_training_steps=total_steps\n",
        ")\n",
        "\n",
        "if device.type != 'cpu':\n",
        "    model.to(device)\n",
        "\n",
        "loss_value, head_results = mu.train(model, train_dataloader, optimizer, device, conll, scheduler, n_epoch=N_EPOCHS,\n",
        "                                valid_dataloader=valid_dataloader, path_to_save=PATH_TO_CHECKPOINT)"
      ],
      "execution_count": null,
      "outputs": []
    },
    {
      "cell_type": "markdown",
      "metadata": {
        "id": "mZDF-YLzZsWU"
      },
      "source": [
        "### Load one-head model to compare with mul-head one"
      ]
    },
    {
      "cell_type": "code",
      "metadata": {
        "id": "QqwJJL9Lz66M"
      },
      "source": [
        "conll_old = co.CoNLL_old(PATH_TO_CONLL)\n",
        "for typ in conll_old.types:\n",
        "  conll_old.split_text_label(typ)\n",
        "conll_old.create_tag2idx(PATH_TO_TAG2IDX)\n",
        "conll_old.create_idx2tag()"
      ],
      "execution_count": 193,
      "outputs": []
    },
    {
      "cell_type": "code",
      "metadata": {
        "id": "iQzQbs4JcEZh"
      },
      "source": [
        "# importing BEboC model class\n",
        "from models import *"
      ],
      "execution_count": 109,
      "outputs": []
    },
    {
      "cell_type": "code",
      "metadata": {
        "colab": {
          "base_uri": "https://localhost:8080/"
        },
        "id": "jobcoyu_cVz8",
        "outputId": "829a555f-32c6-4348-8e48-41611a79e909"
      },
      "source": [
        "bert_tokenizer, old_model, opt_state = mu.load_checkpoint(PATH_TO_CHECKPOINT+'ElMo_BERT_biLSTM_oneCRF_19_state_dict.pth',\n",
        "                                                          PATH_TO_CHECKPOINT+'ElMo_BERT_biLSTM_oneCRF_19_tokenizer.pth')"
      ],
      "execution_count": 110,
      "outputs": [
        {
          "output_type": "stream",
          "text": [
            "/usr/local/lib/python3.7/dist-packages/torch/nn/modules/container.py:435: UserWarning: Setting attributes on ParameterList is not supported.\n",
            "  warnings.warn(\"Setting attributes on ParameterList is not supported.\")\n"
          ],
          "name": "stderr"
        }
      ]
    },
    {
      "cell_type": "code",
      "metadata": {
        "id": "VePYY0AXswjd"
      },
      "source": [
        "device = torch.device(\"cuda\" if torch.cuda.is_available() else \"cpu\")\n",
        "n_gpu = torch.cuda.device_count()\n",
        "\n",
        "old_model.to(device)"
      ],
      "execution_count": null,
      "outputs": []
    },
    {
      "cell_type": "markdown",
      "metadata": {
        "id": "a-XNTKvo7CBA"
      },
      "source": [
        "PER"
      ]
    },
    {
      "cell_type": "markdown",
      "metadata": {
        "id": "XZGWjeHz6fKo"
      },
      "source": [
        "We need an old dataloader here"
      ]
    },
    {
      "cell_type": "code",
      "metadata": {
        "id": "e___e9zazzUb"
      },
      "source": [
        "valid_dataset, valid_sampler, valid_dataloader = dalo.create_dataloader_old(conll.sentences['valid'],\n",
        "                                                                            conll.one_tag_dict['valid']['PER'], conll_old.tag2idx,\n",
        "                                                                            bert_tokenizer, datatype='valid', desired_pad=173)"
      ],
      "execution_count": 195,
      "outputs": []
    },
    {
      "cell_type": "code",
      "metadata": {
        "colab": {
          "base_uri": "https://localhost:8080/"
        },
        "id": "rr2ZBFJ8mki1",
        "outputId": "72bbee10-e127-4565-c66c-08a16d397b88"
      },
      "source": [
        "mu.eval_old(old_model, valid_dataloader, device, conll_old.idx2tag)"
      ],
      "execution_count": 197,
      "outputs": [
        {
          "output_type": "stream",
          "text": [
            "/usr/local/lib/python3.7/dist-packages/torch/nn/modules/container.py:435: UserWarning: Setting attributes on ParameterList is not supported.\n",
            "  warnings.warn(\"Setting attributes on ParameterList is not supported.\")\n"
          ],
          "name": "stderr"
        },
        {
          "output_type": "execute_result",
          "data": {
            "text/plain": [
              "(2879.9386127178486, 0.8668600902643456, 0.4219006007646095)"
            ]
          },
          "metadata": {
            "tags": []
          },
          "execution_count": 197
        }
      ]
    },
    {
      "cell_type": "markdown",
      "metadata": {
        "id": "pg47RHnf7G8N"
      },
      "source": [
        "ORG"
      ]
    },
    {
      "cell_type": "code",
      "metadata": {
        "id": "RIWApeiF7ERC"
      },
      "source": [
        "valid_dataset, valid_sampler, valid_dataloader = dalo.create_dataloader_old(conll.sentences['valid'],\n",
        "                                                                            conll.one_tag_dict['valid']['ORG'], conll_old.tag2idx,\n",
        "                                                                            bert_tokenizer, datatype='valid', desired_pad=173)"
      ],
      "execution_count": 198,
      "outputs": []
    },
    {
      "cell_type": "code",
      "metadata": {
        "colab": {
          "base_uri": "https://localhost:8080/"
        },
        "id": "AmzEKqGO6HiW",
        "outputId": "0c82c70b-d424-4d9d-e0f7-7803309ad03e"
      },
      "source": [
        "mu.eval_old(old_model, valid_dataloader, device, conll_old.idx2tag)"
      ],
      "execution_count": 199,
      "outputs": [
        {
          "output_type": "stream",
          "text": [
            "/usr/local/lib/python3.7/dist-packages/torch/nn/modules/container.py:435: UserWarning: Setting attributes on ParameterList is not supported.\n",
            "  warnings.warn(\"Setting attributes on ParameterList is not supported.\")\n"
          ],
          "name": "stderr"
        },
        {
          "output_type": "execute_result",
          "data": {
            "text/plain": [
              "(4071.6029616135816, 0.8300827423167849, 0.3436274160188289)"
            ]
          },
          "metadata": {
            "tags": []
          },
          "execution_count": 199
        }
      ]
    },
    {
      "cell_type": "markdown",
      "metadata": {
        "id": "nzz7AXK37d7h"
      },
      "source": [
        "LOC"
      ]
    },
    {
      "cell_type": "code",
      "metadata": {
        "id": "FhUsB3vS7LXR"
      },
      "source": [
        "valid_dataset, valid_sampler, valid_dataloader = dalo.create_dataloader_old(conll.sentences['valid'],\n",
        "                                                                            conll.one_tag_dict['valid']['LOC'], conll_old.tag2idx,\n",
        "                                                                            bert_tokenizer, datatype='valid', desired_pad=173)"
      ],
      "execution_count": 200,
      "outputs": []
    },
    {
      "cell_type": "code",
      "metadata": {
        "colab": {
          "base_uri": "https://localhost:8080/"
        },
        "id": "lfmeB_Xa7hA9",
        "outputId": "0bb38b0a-e945-462b-f6a0-6db5c46a0051"
      },
      "source": [
        "mu.eval_old(old_model, valid_dataloader, device, conll_old.idx2tag)"
      ],
      "execution_count": 201,
      "outputs": [
        {
          "output_type": "stream",
          "text": [
            "/usr/local/lib/python3.7/dist-packages/torch/nn/modules/container.py:435: UserWarning: Setting attributes on ParameterList is not supported.\n",
            "  warnings.warn(\"Setting attributes on ParameterList is not supported.\")\n"
          ],
          "name": "stderr"
        },
        {
          "output_type": "execute_result",
          "data": {
            "text/plain": [
              "(4093.646503155048, 0.8329706640876854, 0.44121974053764873)"
            ]
          },
          "metadata": {
            "tags": []
          },
          "execution_count": 201
        }
      ]
    },
    {
      "cell_type": "markdown",
      "metadata": {
        "id": "-RRhpGeU7oPB"
      },
      "source": [
        "The last values above are f1-scores.\n",
        "\n",
        "In the case of multiple-head fitting of this 3 heads at the same time we got:\n",
        "\n",
        "'PER' - 0.3787528868360277 (vs 0.4219006007646095)\n",
        "\n",
        "'ORG' - 0.6343975283213182 (vs 0.3436274160188289)\n",
        "\n",
        "'LOC' - 0.9035911602209944 (vs 0.44121974053764873)\n",
        "\n",
        "So, results of multiple heads look better!"
      ]
    },
    {
      "cell_type": "code",
      "metadata": {
        "id": "zL7fGE3v7iWz"
      },
      "source": [
        ""
      ],
      "execution_count": null,
      "outputs": []
    }
  ]
}