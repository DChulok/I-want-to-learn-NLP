{
  "nbformat": 4,
  "nbformat_minor": 0,
  "metadata": {
    "accelerator": "GPU",
    "colab": {
      "name": "ONE-v2.ipynb",
      "provenance": [],
      "collapsed_sections": [
        "5B0vXWGpjJvP",
        "Rc7JfSK1Hs8Q",
        "LFu_4fMKPCjv",
        "RBeYV1uDDOvk",
        "dB8TmGLD29DC",
        "W4iZbz4pAgg9",
        "lEjtb2Ft2Yqb",
        "Ct8d_FlWwCaJ",
        "XJ5MGmRy4wIP"
      ],
      "toc_visible": true
    },
    "kernelspec": {
      "name": "python3",
      "display_name": "Python 3"
    },
    "widgets": {
      "application/vnd.jupyter.widget-state+json": {
        "fabda6be26ec46fe82e2b0f39b00ef08": {
          "model_module": "@jupyter-widgets/controls",
          "model_name": "HBoxModel",
          "state": {
            "_view_name": "HBoxView",
            "_dom_classes": [],
            "_model_name": "HBoxModel",
            "_view_module": "@jupyter-widgets/controls",
            "_model_module_version": "1.5.0",
            "_view_count": null,
            "_view_module_version": "1.5.0",
            "box_style": "",
            "layout": "IPY_MODEL_bd296e9be0244c8cbca970ea432f03b1",
            "_model_module": "@jupyter-widgets/controls",
            "children": [
              "IPY_MODEL_d1fa3e2e2fd945bfa33657482e6bd378",
              "IPY_MODEL_9a0965d80bef49caa7d63dc2ced49278"
            ]
          }
        },
        "bd296e9be0244c8cbca970ea432f03b1": {
          "model_module": "@jupyter-widgets/base",
          "model_name": "LayoutModel",
          "state": {
            "_view_name": "LayoutView",
            "grid_template_rows": null,
            "right": null,
            "justify_content": null,
            "_view_module": "@jupyter-widgets/base",
            "overflow": null,
            "_model_module_version": "1.2.0",
            "_view_count": null,
            "flex_flow": null,
            "width": null,
            "min_width": null,
            "border": null,
            "align_items": null,
            "bottom": null,
            "_model_module": "@jupyter-widgets/base",
            "top": null,
            "grid_column": null,
            "overflow_y": null,
            "overflow_x": null,
            "grid_auto_flow": null,
            "grid_area": null,
            "grid_template_columns": null,
            "flex": null,
            "_model_name": "LayoutModel",
            "justify_items": null,
            "grid_row": null,
            "max_height": null,
            "align_content": null,
            "visibility": null,
            "align_self": null,
            "height": null,
            "min_height": null,
            "padding": null,
            "grid_auto_rows": null,
            "grid_gap": null,
            "max_width": null,
            "order": null,
            "_view_module_version": "1.2.0",
            "grid_template_areas": null,
            "object_position": null,
            "object_fit": null,
            "grid_auto_columns": null,
            "margin": null,
            "display": null,
            "left": null
          }
        },
        "d1fa3e2e2fd945bfa33657482e6bd378": {
          "model_module": "@jupyter-widgets/controls",
          "model_name": "FloatProgressModel",
          "state": {
            "_view_name": "ProgressView",
            "style": "IPY_MODEL_6ee6502bf49f4a359d31300efbc20f2a",
            "_dom_classes": [],
            "description": "Downloading: 100%",
            "_model_name": "FloatProgressModel",
            "bar_style": "success",
            "max": 213450,
            "_view_module": "@jupyter-widgets/controls",
            "_model_module_version": "1.5.0",
            "value": 213450,
            "_view_count": null,
            "_view_module_version": "1.5.0",
            "orientation": "horizontal",
            "min": 0,
            "description_tooltip": null,
            "_model_module": "@jupyter-widgets/controls",
            "layout": "IPY_MODEL_99670762b58949d9b4b18c3a0d1f4416"
          }
        },
        "9a0965d80bef49caa7d63dc2ced49278": {
          "model_module": "@jupyter-widgets/controls",
          "model_name": "HTMLModel",
          "state": {
            "_view_name": "HTMLView",
            "style": "IPY_MODEL_d123b21ecb3f44f68a73250122e10561",
            "_dom_classes": [],
            "description": "",
            "_model_name": "HTMLModel",
            "placeholder": "​",
            "_view_module": "@jupyter-widgets/controls",
            "_model_module_version": "1.5.0",
            "value": " 213k/213k [00:00&lt;00:00, 3.13MB/s]",
            "_view_count": null,
            "_view_module_version": "1.5.0",
            "description_tooltip": null,
            "_model_module": "@jupyter-widgets/controls",
            "layout": "IPY_MODEL_6d2776df651d42d98cf111b10b8cf86d"
          }
        },
        "6ee6502bf49f4a359d31300efbc20f2a": {
          "model_module": "@jupyter-widgets/controls",
          "model_name": "ProgressStyleModel",
          "state": {
            "_view_name": "StyleView",
            "_model_name": "ProgressStyleModel",
            "description_width": "initial",
            "_view_module": "@jupyter-widgets/base",
            "_model_module_version": "1.5.0",
            "_view_count": null,
            "_view_module_version": "1.2.0",
            "bar_color": null,
            "_model_module": "@jupyter-widgets/controls"
          }
        },
        "99670762b58949d9b4b18c3a0d1f4416": {
          "model_module": "@jupyter-widgets/base",
          "model_name": "LayoutModel",
          "state": {
            "_view_name": "LayoutView",
            "grid_template_rows": null,
            "right": null,
            "justify_content": null,
            "_view_module": "@jupyter-widgets/base",
            "overflow": null,
            "_model_module_version": "1.2.0",
            "_view_count": null,
            "flex_flow": null,
            "width": null,
            "min_width": null,
            "border": null,
            "align_items": null,
            "bottom": null,
            "_model_module": "@jupyter-widgets/base",
            "top": null,
            "grid_column": null,
            "overflow_y": null,
            "overflow_x": null,
            "grid_auto_flow": null,
            "grid_area": null,
            "grid_template_columns": null,
            "flex": null,
            "_model_name": "LayoutModel",
            "justify_items": null,
            "grid_row": null,
            "max_height": null,
            "align_content": null,
            "visibility": null,
            "align_self": null,
            "height": null,
            "min_height": null,
            "padding": null,
            "grid_auto_rows": null,
            "grid_gap": null,
            "max_width": null,
            "order": null,
            "_view_module_version": "1.2.0",
            "grid_template_areas": null,
            "object_position": null,
            "object_fit": null,
            "grid_auto_columns": null,
            "margin": null,
            "display": null,
            "left": null
          }
        },
        "d123b21ecb3f44f68a73250122e10561": {
          "model_module": "@jupyter-widgets/controls",
          "model_name": "DescriptionStyleModel",
          "state": {
            "_view_name": "StyleView",
            "_model_name": "DescriptionStyleModel",
            "description_width": "",
            "_view_module": "@jupyter-widgets/base",
            "_model_module_version": "1.5.0",
            "_view_count": null,
            "_view_module_version": "1.2.0",
            "_model_module": "@jupyter-widgets/controls"
          }
        },
        "6d2776df651d42d98cf111b10b8cf86d": {
          "model_module": "@jupyter-widgets/base",
          "model_name": "LayoutModel",
          "state": {
            "_view_name": "LayoutView",
            "grid_template_rows": null,
            "right": null,
            "justify_content": null,
            "_view_module": "@jupyter-widgets/base",
            "overflow": null,
            "_model_module_version": "1.2.0",
            "_view_count": null,
            "flex_flow": null,
            "width": null,
            "min_width": null,
            "border": null,
            "align_items": null,
            "bottom": null,
            "_model_module": "@jupyter-widgets/base",
            "top": null,
            "grid_column": null,
            "overflow_y": null,
            "overflow_x": null,
            "grid_auto_flow": null,
            "grid_area": null,
            "grid_template_columns": null,
            "flex": null,
            "_model_name": "LayoutModel",
            "justify_items": null,
            "grid_row": null,
            "max_height": null,
            "align_content": null,
            "visibility": null,
            "align_self": null,
            "height": null,
            "min_height": null,
            "padding": null,
            "grid_auto_rows": null,
            "grid_gap": null,
            "max_width": null,
            "order": null,
            "_view_module_version": "1.2.0",
            "grid_template_areas": null,
            "object_position": null,
            "object_fit": null,
            "grid_auto_columns": null,
            "margin": null,
            "display": null,
            "left": null
          }
        },
        "f06d4f3f09e44d7281575f8ee9b8b8eb": {
          "model_module": "@jupyter-widgets/controls",
          "model_name": "HBoxModel",
          "state": {
            "_view_name": "HBoxView",
            "_dom_classes": [],
            "_model_name": "HBoxModel",
            "_view_module": "@jupyter-widgets/controls",
            "_model_module_version": "1.5.0",
            "_view_count": null,
            "_view_module_version": "1.5.0",
            "box_style": "",
            "layout": "IPY_MODEL_a710f50332c04a2a8b4e65c7c3d1dc30",
            "_model_module": "@jupyter-widgets/controls",
            "children": [
              "IPY_MODEL_9a2e456c1e864e098a5eff059e3920ae",
              "IPY_MODEL_28631b66e20046ad8dc16a9a576160fc"
            ]
          }
        },
        "a710f50332c04a2a8b4e65c7c3d1dc30": {
          "model_module": "@jupyter-widgets/base",
          "model_name": "LayoutModel",
          "state": {
            "_view_name": "LayoutView",
            "grid_template_rows": null,
            "right": null,
            "justify_content": null,
            "_view_module": "@jupyter-widgets/base",
            "overflow": null,
            "_model_module_version": "1.2.0",
            "_view_count": null,
            "flex_flow": null,
            "width": null,
            "min_width": null,
            "border": null,
            "align_items": null,
            "bottom": null,
            "_model_module": "@jupyter-widgets/base",
            "top": null,
            "grid_column": null,
            "overflow_y": null,
            "overflow_x": null,
            "grid_auto_flow": null,
            "grid_area": null,
            "grid_template_columns": null,
            "flex": null,
            "_model_name": "LayoutModel",
            "justify_items": null,
            "grid_row": null,
            "max_height": null,
            "align_content": null,
            "visibility": null,
            "align_self": null,
            "height": null,
            "min_height": null,
            "padding": null,
            "grid_auto_rows": null,
            "grid_gap": null,
            "max_width": null,
            "order": null,
            "_view_module_version": "1.2.0",
            "grid_template_areas": null,
            "object_position": null,
            "object_fit": null,
            "grid_auto_columns": null,
            "margin": null,
            "display": null,
            "left": null
          }
        },
        "9a2e456c1e864e098a5eff059e3920ae": {
          "model_module": "@jupyter-widgets/controls",
          "model_name": "FloatProgressModel",
          "state": {
            "_view_name": "ProgressView",
            "style": "IPY_MODEL_4089fd51dead419189a1c9d0856e992f",
            "_dom_classes": [],
            "description": "Downloading: 100%",
            "_model_name": "FloatProgressModel",
            "bar_style": "success",
            "max": 433,
            "_view_module": "@jupyter-widgets/controls",
            "_model_module_version": "1.5.0",
            "value": 433,
            "_view_count": null,
            "_view_module_version": "1.5.0",
            "orientation": "horizontal",
            "min": 0,
            "description_tooltip": null,
            "_model_module": "@jupyter-widgets/controls",
            "layout": "IPY_MODEL_9b29bc675ea7456ba9724c44986d3b43"
          }
        },
        "28631b66e20046ad8dc16a9a576160fc": {
          "model_module": "@jupyter-widgets/controls",
          "model_name": "HTMLModel",
          "state": {
            "_view_name": "HTMLView",
            "style": "IPY_MODEL_2c71105966934923afb6d0d923884af4",
            "_dom_classes": [],
            "description": "",
            "_model_name": "HTMLModel",
            "placeholder": "​",
            "_view_module": "@jupyter-widgets/controls",
            "_model_module_version": "1.5.0",
            "value": " 433/433 [00:08&lt;00:00, 48.9B/s]",
            "_view_count": null,
            "_view_module_version": "1.5.0",
            "description_tooltip": null,
            "_model_module": "@jupyter-widgets/controls",
            "layout": "IPY_MODEL_f7932c6432954d01b73b3a856116991c"
          }
        },
        "4089fd51dead419189a1c9d0856e992f": {
          "model_module": "@jupyter-widgets/controls",
          "model_name": "ProgressStyleModel",
          "state": {
            "_view_name": "StyleView",
            "_model_name": "ProgressStyleModel",
            "description_width": "initial",
            "_view_module": "@jupyter-widgets/base",
            "_model_module_version": "1.5.0",
            "_view_count": null,
            "_view_module_version": "1.2.0",
            "bar_color": null,
            "_model_module": "@jupyter-widgets/controls"
          }
        },
        "9b29bc675ea7456ba9724c44986d3b43": {
          "model_module": "@jupyter-widgets/base",
          "model_name": "LayoutModel",
          "state": {
            "_view_name": "LayoutView",
            "grid_template_rows": null,
            "right": null,
            "justify_content": null,
            "_view_module": "@jupyter-widgets/base",
            "overflow": null,
            "_model_module_version": "1.2.0",
            "_view_count": null,
            "flex_flow": null,
            "width": null,
            "min_width": null,
            "border": null,
            "align_items": null,
            "bottom": null,
            "_model_module": "@jupyter-widgets/base",
            "top": null,
            "grid_column": null,
            "overflow_y": null,
            "overflow_x": null,
            "grid_auto_flow": null,
            "grid_area": null,
            "grid_template_columns": null,
            "flex": null,
            "_model_name": "LayoutModel",
            "justify_items": null,
            "grid_row": null,
            "max_height": null,
            "align_content": null,
            "visibility": null,
            "align_self": null,
            "height": null,
            "min_height": null,
            "padding": null,
            "grid_auto_rows": null,
            "grid_gap": null,
            "max_width": null,
            "order": null,
            "_view_module_version": "1.2.0",
            "grid_template_areas": null,
            "object_position": null,
            "object_fit": null,
            "grid_auto_columns": null,
            "margin": null,
            "display": null,
            "left": null
          }
        },
        "2c71105966934923afb6d0d923884af4": {
          "model_module": "@jupyter-widgets/controls",
          "model_name": "DescriptionStyleModel",
          "state": {
            "_view_name": "StyleView",
            "_model_name": "DescriptionStyleModel",
            "description_width": "",
            "_view_module": "@jupyter-widgets/base",
            "_model_module_version": "1.5.0",
            "_view_count": null,
            "_view_module_version": "1.2.0",
            "_model_module": "@jupyter-widgets/controls"
          }
        },
        "f7932c6432954d01b73b3a856116991c": {
          "model_module": "@jupyter-widgets/base",
          "model_name": "LayoutModel",
          "state": {
            "_view_name": "LayoutView",
            "grid_template_rows": null,
            "right": null,
            "justify_content": null,
            "_view_module": "@jupyter-widgets/base",
            "overflow": null,
            "_model_module_version": "1.2.0",
            "_view_count": null,
            "flex_flow": null,
            "width": null,
            "min_width": null,
            "border": null,
            "align_items": null,
            "bottom": null,
            "_model_module": "@jupyter-widgets/base",
            "top": null,
            "grid_column": null,
            "overflow_y": null,
            "overflow_x": null,
            "grid_auto_flow": null,
            "grid_area": null,
            "grid_template_columns": null,
            "flex": null,
            "_model_name": "LayoutModel",
            "justify_items": null,
            "grid_row": null,
            "max_height": null,
            "align_content": null,
            "visibility": null,
            "align_self": null,
            "height": null,
            "min_height": null,
            "padding": null,
            "grid_auto_rows": null,
            "grid_gap": null,
            "max_width": null,
            "order": null,
            "_view_module_version": "1.2.0",
            "grid_template_areas": null,
            "object_position": null,
            "object_fit": null,
            "grid_auto_columns": null,
            "margin": null,
            "display": null,
            "left": null
          }
        },
        "ade080fbbbfb4bb080edbf58da5ad5fe": {
          "model_module": "@jupyter-widgets/controls",
          "model_name": "HBoxModel",
          "state": {
            "_view_name": "HBoxView",
            "_dom_classes": [],
            "_model_name": "HBoxModel",
            "_view_module": "@jupyter-widgets/controls",
            "_model_module_version": "1.5.0",
            "_view_count": null,
            "_view_module_version": "1.5.0",
            "box_style": "",
            "layout": "IPY_MODEL_f5b9ac612c064b949099708ccd020f08",
            "_model_module": "@jupyter-widgets/controls",
            "children": [
              "IPY_MODEL_7bd992fe00dd44a6a686325e71f23cad",
              "IPY_MODEL_8dde2b3b744e48abb7c67df105a09e68"
            ]
          }
        },
        "f5b9ac612c064b949099708ccd020f08": {
          "model_module": "@jupyter-widgets/base",
          "model_name": "LayoutModel",
          "state": {
            "_view_name": "LayoutView",
            "grid_template_rows": null,
            "right": null,
            "justify_content": null,
            "_view_module": "@jupyter-widgets/base",
            "overflow": null,
            "_model_module_version": "1.2.0",
            "_view_count": null,
            "flex_flow": null,
            "width": null,
            "min_width": null,
            "border": null,
            "align_items": null,
            "bottom": null,
            "_model_module": "@jupyter-widgets/base",
            "top": null,
            "grid_column": null,
            "overflow_y": null,
            "overflow_x": null,
            "grid_auto_flow": null,
            "grid_area": null,
            "grid_template_columns": null,
            "flex": null,
            "_model_name": "LayoutModel",
            "justify_items": null,
            "grid_row": null,
            "max_height": null,
            "align_content": null,
            "visibility": null,
            "align_self": null,
            "height": null,
            "min_height": null,
            "padding": null,
            "grid_auto_rows": null,
            "grid_gap": null,
            "max_width": null,
            "order": null,
            "_view_module_version": "1.2.0",
            "grid_template_areas": null,
            "object_position": null,
            "object_fit": null,
            "grid_auto_columns": null,
            "margin": null,
            "display": null,
            "left": null
          }
        },
        "7bd992fe00dd44a6a686325e71f23cad": {
          "model_module": "@jupyter-widgets/controls",
          "model_name": "FloatProgressModel",
          "state": {
            "_view_name": "ProgressView",
            "style": "IPY_MODEL_1af0a6b1f7654da0b54ebbe8cf7ea5ce",
            "_dom_classes": [],
            "description": "Downloading: 100%",
            "_model_name": "FloatProgressModel",
            "bar_style": "success",
            "max": 435779157,
            "_view_module": "@jupyter-widgets/controls",
            "_model_module_version": "1.5.0",
            "value": 435779157,
            "_view_count": null,
            "_view_module_version": "1.5.0",
            "orientation": "horizontal",
            "min": 0,
            "description_tooltip": null,
            "_model_module": "@jupyter-widgets/controls",
            "layout": "IPY_MODEL_ca2c3838700b481198277fbb72a7f6c6"
          }
        },
        "8dde2b3b744e48abb7c67df105a09e68": {
          "model_module": "@jupyter-widgets/controls",
          "model_name": "HTMLModel",
          "state": {
            "_view_name": "HTMLView",
            "style": "IPY_MODEL_c85299002a1941259f2c6343016bd7a6",
            "_dom_classes": [],
            "description": "",
            "_model_name": "HTMLModel",
            "placeholder": "​",
            "_view_module": "@jupyter-widgets/controls",
            "_model_module_version": "1.5.0",
            "value": " 436M/436M [00:08&lt;00:00, 51.8MB/s]",
            "_view_count": null,
            "_view_module_version": "1.5.0",
            "description_tooltip": null,
            "_model_module": "@jupyter-widgets/controls",
            "layout": "IPY_MODEL_12df2642d803487fa9575e80c738012d"
          }
        },
        "1af0a6b1f7654da0b54ebbe8cf7ea5ce": {
          "model_module": "@jupyter-widgets/controls",
          "model_name": "ProgressStyleModel",
          "state": {
            "_view_name": "StyleView",
            "_model_name": "ProgressStyleModel",
            "description_width": "initial",
            "_view_module": "@jupyter-widgets/base",
            "_model_module_version": "1.5.0",
            "_view_count": null,
            "_view_module_version": "1.2.0",
            "bar_color": null,
            "_model_module": "@jupyter-widgets/controls"
          }
        },
        "ca2c3838700b481198277fbb72a7f6c6": {
          "model_module": "@jupyter-widgets/base",
          "model_name": "LayoutModel",
          "state": {
            "_view_name": "LayoutView",
            "grid_template_rows": null,
            "right": null,
            "justify_content": null,
            "_view_module": "@jupyter-widgets/base",
            "overflow": null,
            "_model_module_version": "1.2.0",
            "_view_count": null,
            "flex_flow": null,
            "width": null,
            "min_width": null,
            "border": null,
            "align_items": null,
            "bottom": null,
            "_model_module": "@jupyter-widgets/base",
            "top": null,
            "grid_column": null,
            "overflow_y": null,
            "overflow_x": null,
            "grid_auto_flow": null,
            "grid_area": null,
            "grid_template_columns": null,
            "flex": null,
            "_model_name": "LayoutModel",
            "justify_items": null,
            "grid_row": null,
            "max_height": null,
            "align_content": null,
            "visibility": null,
            "align_self": null,
            "height": null,
            "min_height": null,
            "padding": null,
            "grid_auto_rows": null,
            "grid_gap": null,
            "max_width": null,
            "order": null,
            "_view_module_version": "1.2.0",
            "grid_template_areas": null,
            "object_position": null,
            "object_fit": null,
            "grid_auto_columns": null,
            "margin": null,
            "display": null,
            "left": null
          }
        },
        "c85299002a1941259f2c6343016bd7a6": {
          "model_module": "@jupyter-widgets/controls",
          "model_name": "DescriptionStyleModel",
          "state": {
            "_view_name": "StyleView",
            "_model_name": "DescriptionStyleModel",
            "description_width": "",
            "_view_module": "@jupyter-widgets/base",
            "_model_module_version": "1.5.0",
            "_view_count": null,
            "_view_module_version": "1.2.0",
            "_model_module": "@jupyter-widgets/controls"
          }
        },
        "12df2642d803487fa9575e80c738012d": {
          "model_module": "@jupyter-widgets/base",
          "model_name": "LayoutModel",
          "state": {
            "_view_name": "LayoutView",
            "grid_template_rows": null,
            "right": null,
            "justify_content": null,
            "_view_module": "@jupyter-widgets/base",
            "overflow": null,
            "_model_module_version": "1.2.0",
            "_view_count": null,
            "flex_flow": null,
            "width": null,
            "min_width": null,
            "border": null,
            "align_items": null,
            "bottom": null,
            "_model_module": "@jupyter-widgets/base",
            "top": null,
            "grid_column": null,
            "overflow_y": null,
            "overflow_x": null,
            "grid_auto_flow": null,
            "grid_area": null,
            "grid_template_columns": null,
            "flex": null,
            "_model_name": "LayoutModel",
            "justify_items": null,
            "grid_row": null,
            "max_height": null,
            "align_content": null,
            "visibility": null,
            "align_self": null,
            "height": null,
            "min_height": null,
            "padding": null,
            "grid_auto_rows": null,
            "grid_gap": null,
            "max_width": null,
            "order": null,
            "_view_module_version": "1.2.0",
            "grid_template_areas": null,
            "object_position": null,
            "object_fit": null,
            "grid_auto_columns": null,
            "margin": null,
            "display": null,
            "left": null
          }
        },
        "718ed377ae7f408391c8fe64bba7db94": {
          "model_module": "@jupyter-widgets/controls",
          "model_name": "HBoxModel",
          "state": {
            "_view_name": "HBoxView",
            "_dom_classes": [],
            "_model_name": "HBoxModel",
            "_view_module": "@jupyter-widgets/controls",
            "_model_module_version": "1.5.0",
            "_view_count": null,
            "_view_module_version": "1.5.0",
            "box_style": "",
            "layout": "IPY_MODEL_69d795b4b192462888445faca93f5c81",
            "_model_module": "@jupyter-widgets/controls",
            "children": [
              "IPY_MODEL_e8b97b59d48948558981a9254057b50c",
              "IPY_MODEL_80077ded9200499983f14f4ea4ef4fa4"
            ]
          }
        },
        "69d795b4b192462888445faca93f5c81": {
          "model_module": "@jupyter-widgets/base",
          "model_name": "LayoutModel",
          "state": {
            "_view_name": "LayoutView",
            "grid_template_rows": null,
            "right": null,
            "justify_content": null,
            "_view_module": "@jupyter-widgets/base",
            "overflow": null,
            "_model_module_version": "1.2.0",
            "_view_count": null,
            "flex_flow": null,
            "width": null,
            "min_width": null,
            "border": null,
            "align_items": null,
            "bottom": null,
            "_model_module": "@jupyter-widgets/base",
            "top": null,
            "grid_column": null,
            "overflow_y": null,
            "overflow_x": null,
            "grid_auto_flow": null,
            "grid_area": null,
            "grid_template_columns": null,
            "flex": null,
            "_model_name": "LayoutModel",
            "justify_items": null,
            "grid_row": null,
            "max_height": null,
            "align_content": null,
            "visibility": null,
            "align_self": null,
            "height": null,
            "min_height": null,
            "padding": null,
            "grid_auto_rows": null,
            "grid_gap": null,
            "max_width": null,
            "order": null,
            "_view_module_version": "1.2.0",
            "grid_template_areas": null,
            "object_position": null,
            "object_fit": null,
            "grid_auto_columns": null,
            "margin": null,
            "display": null,
            "left": null
          }
        },
        "e8b97b59d48948558981a9254057b50c": {
          "model_module": "@jupyter-widgets/controls",
          "model_name": "FloatProgressModel",
          "state": {
            "_view_name": "ProgressView",
            "style": "IPY_MODEL_7fe5054095a44a8290c7ed06644ce306",
            "_dom_classes": [],
            "description": "Downloading: 100%",
            "_model_name": "FloatProgressModel",
            "bar_style": "success",
            "max": 570,
            "_view_module": "@jupyter-widgets/controls",
            "_model_module_version": "1.5.0",
            "value": 570,
            "_view_count": null,
            "_view_module_version": "1.5.0",
            "orientation": "horizontal",
            "min": 0,
            "description_tooltip": null,
            "_model_module": "@jupyter-widgets/controls",
            "layout": "IPY_MODEL_9c67cd790d424e9eba55fa442db29b42"
          }
        },
        "80077ded9200499983f14f4ea4ef4fa4": {
          "model_module": "@jupyter-widgets/controls",
          "model_name": "HTMLModel",
          "state": {
            "_view_name": "HTMLView",
            "style": "IPY_MODEL_c8a335a58ba945c4ad664c471a1e08b3",
            "_dom_classes": [],
            "description": "",
            "_model_name": "HTMLModel",
            "placeholder": "​",
            "_view_module": "@jupyter-widgets/controls",
            "_model_module_version": "1.5.0",
            "value": " 570/570 [00:00&lt;00:00, 9.88kB/s]",
            "_view_count": null,
            "_view_module_version": "1.5.0",
            "description_tooltip": null,
            "_model_module": "@jupyter-widgets/controls",
            "layout": "IPY_MODEL_8192e6d75a2744acaec83fba9d577b62"
          }
        },
        "7fe5054095a44a8290c7ed06644ce306": {
          "model_module": "@jupyter-widgets/controls",
          "model_name": "ProgressStyleModel",
          "state": {
            "_view_name": "StyleView",
            "_model_name": "ProgressStyleModel",
            "description_width": "initial",
            "_view_module": "@jupyter-widgets/base",
            "_model_module_version": "1.5.0",
            "_view_count": null,
            "_view_module_version": "1.2.0",
            "bar_color": null,
            "_model_module": "@jupyter-widgets/controls"
          }
        },
        "9c67cd790d424e9eba55fa442db29b42": {
          "model_module": "@jupyter-widgets/base",
          "model_name": "LayoutModel",
          "state": {
            "_view_name": "LayoutView",
            "grid_template_rows": null,
            "right": null,
            "justify_content": null,
            "_view_module": "@jupyter-widgets/base",
            "overflow": null,
            "_model_module_version": "1.2.0",
            "_view_count": null,
            "flex_flow": null,
            "width": null,
            "min_width": null,
            "border": null,
            "align_items": null,
            "bottom": null,
            "_model_module": "@jupyter-widgets/base",
            "top": null,
            "grid_column": null,
            "overflow_y": null,
            "overflow_x": null,
            "grid_auto_flow": null,
            "grid_area": null,
            "grid_template_columns": null,
            "flex": null,
            "_model_name": "LayoutModel",
            "justify_items": null,
            "grid_row": null,
            "max_height": null,
            "align_content": null,
            "visibility": null,
            "align_self": null,
            "height": null,
            "min_height": null,
            "padding": null,
            "grid_auto_rows": null,
            "grid_gap": null,
            "max_width": null,
            "order": null,
            "_view_module_version": "1.2.0",
            "grid_template_areas": null,
            "object_position": null,
            "object_fit": null,
            "grid_auto_columns": null,
            "margin": null,
            "display": null,
            "left": null
          }
        },
        "c8a335a58ba945c4ad664c471a1e08b3": {
          "model_module": "@jupyter-widgets/controls",
          "model_name": "DescriptionStyleModel",
          "state": {
            "_view_name": "StyleView",
            "_model_name": "DescriptionStyleModel",
            "description_width": "",
            "_view_module": "@jupyter-widgets/base",
            "_model_module_version": "1.5.0",
            "_view_count": null,
            "_view_module_version": "1.2.0",
            "_model_module": "@jupyter-widgets/controls"
          }
        },
        "8192e6d75a2744acaec83fba9d577b62": {
          "model_module": "@jupyter-widgets/base",
          "model_name": "LayoutModel",
          "state": {
            "_view_name": "LayoutView",
            "grid_template_rows": null,
            "right": null,
            "justify_content": null,
            "_view_module": "@jupyter-widgets/base",
            "overflow": null,
            "_model_module_version": "1.2.0",
            "_view_count": null,
            "flex_flow": null,
            "width": null,
            "min_width": null,
            "border": null,
            "align_items": null,
            "bottom": null,
            "_model_module": "@jupyter-widgets/base",
            "top": null,
            "grid_column": null,
            "overflow_y": null,
            "overflow_x": null,
            "grid_auto_flow": null,
            "grid_area": null,
            "grid_template_columns": null,
            "flex": null,
            "_model_name": "LayoutModel",
            "justify_items": null,
            "grid_row": null,
            "max_height": null,
            "align_content": null,
            "visibility": null,
            "align_self": null,
            "height": null,
            "min_height": null,
            "padding": null,
            "grid_auto_rows": null,
            "grid_gap": null,
            "max_width": null,
            "order": null,
            "_view_module_version": "1.2.0",
            "grid_template_areas": null,
            "object_position": null,
            "object_fit": null,
            "grid_auto_columns": null,
            "margin": null,
            "display": null,
            "left": null
          }
        },
        "ccf3bcbae64545e3b75f2de1cbab399d": {
          "model_module": "@jupyter-widgets/controls",
          "model_name": "HBoxModel",
          "state": {
            "_view_name": "HBoxView",
            "_dom_classes": [],
            "_model_name": "HBoxModel",
            "_view_module": "@jupyter-widgets/controls",
            "_model_module_version": "1.5.0",
            "_view_count": null,
            "_view_module_version": "1.5.0",
            "box_style": "",
            "layout": "IPY_MODEL_cc406cf96b834d6d85ed98b49579e1ec",
            "_model_module": "@jupyter-widgets/controls",
            "children": [
              "IPY_MODEL_8de07daaeed54e1bafd6782abb974bdc",
              "IPY_MODEL_c1c659d78bd54edba449441334c278b0"
            ]
          }
        },
        "cc406cf96b834d6d85ed98b49579e1ec": {
          "model_module": "@jupyter-widgets/base",
          "model_name": "LayoutModel",
          "state": {
            "_view_name": "LayoutView",
            "grid_template_rows": null,
            "right": null,
            "justify_content": null,
            "_view_module": "@jupyter-widgets/base",
            "overflow": null,
            "_model_module_version": "1.2.0",
            "_view_count": null,
            "flex_flow": null,
            "width": null,
            "min_width": null,
            "border": null,
            "align_items": null,
            "bottom": null,
            "_model_module": "@jupyter-widgets/base",
            "top": null,
            "grid_column": null,
            "overflow_y": null,
            "overflow_x": null,
            "grid_auto_flow": null,
            "grid_area": null,
            "grid_template_columns": null,
            "flex": null,
            "_model_name": "LayoutModel",
            "justify_items": null,
            "grid_row": null,
            "max_height": null,
            "align_content": null,
            "visibility": null,
            "align_self": null,
            "height": null,
            "min_height": null,
            "padding": null,
            "grid_auto_rows": null,
            "grid_gap": null,
            "max_width": null,
            "order": null,
            "_view_module_version": "1.2.0",
            "grid_template_areas": null,
            "object_position": null,
            "object_fit": null,
            "grid_auto_columns": null,
            "margin": null,
            "display": null,
            "left": null
          }
        },
        "8de07daaeed54e1bafd6782abb974bdc": {
          "model_module": "@jupyter-widgets/controls",
          "model_name": "FloatProgressModel",
          "state": {
            "_view_name": "ProgressView",
            "style": "IPY_MODEL_7ca4a7a73be34bfd88831491bdaac821",
            "_dom_classes": [],
            "description": "Downloading: 100%",
            "_model_name": "FloatProgressModel",
            "bar_style": "success",
            "max": 435779157,
            "_view_module": "@jupyter-widgets/controls",
            "_model_module_version": "1.5.0",
            "value": 435779157,
            "_view_count": null,
            "_view_module_version": "1.5.0",
            "orientation": "horizontal",
            "min": 0,
            "description_tooltip": null,
            "_model_module": "@jupyter-widgets/controls",
            "layout": "IPY_MODEL_da3f430d8b4d40e6b32ee07fcf74265a"
          }
        },
        "c1c659d78bd54edba449441334c278b0": {
          "model_module": "@jupyter-widgets/controls",
          "model_name": "HTMLModel",
          "state": {
            "_view_name": "HTMLView",
            "style": "IPY_MODEL_3ec610e12f2b487eb7d3fa43be566026",
            "_dom_classes": [],
            "description": "",
            "_model_name": "HTMLModel",
            "placeholder": "​",
            "_view_module": "@jupyter-widgets/controls",
            "_model_module_version": "1.5.0",
            "value": " 436M/436M [00:07&lt;00:00, 55.0MB/s]",
            "_view_count": null,
            "_view_module_version": "1.5.0",
            "description_tooltip": null,
            "_model_module": "@jupyter-widgets/controls",
            "layout": "IPY_MODEL_fd65b08e15a24460a8bab2630fc44094"
          }
        },
        "7ca4a7a73be34bfd88831491bdaac821": {
          "model_module": "@jupyter-widgets/controls",
          "model_name": "ProgressStyleModel",
          "state": {
            "_view_name": "StyleView",
            "_model_name": "ProgressStyleModel",
            "description_width": "initial",
            "_view_module": "@jupyter-widgets/base",
            "_model_module_version": "1.5.0",
            "_view_count": null,
            "_view_module_version": "1.2.0",
            "bar_color": null,
            "_model_module": "@jupyter-widgets/controls"
          }
        },
        "da3f430d8b4d40e6b32ee07fcf74265a": {
          "model_module": "@jupyter-widgets/base",
          "model_name": "LayoutModel",
          "state": {
            "_view_name": "LayoutView",
            "grid_template_rows": null,
            "right": null,
            "justify_content": null,
            "_view_module": "@jupyter-widgets/base",
            "overflow": null,
            "_model_module_version": "1.2.0",
            "_view_count": null,
            "flex_flow": null,
            "width": null,
            "min_width": null,
            "border": null,
            "align_items": null,
            "bottom": null,
            "_model_module": "@jupyter-widgets/base",
            "top": null,
            "grid_column": null,
            "overflow_y": null,
            "overflow_x": null,
            "grid_auto_flow": null,
            "grid_area": null,
            "grid_template_columns": null,
            "flex": null,
            "_model_name": "LayoutModel",
            "justify_items": null,
            "grid_row": null,
            "max_height": null,
            "align_content": null,
            "visibility": null,
            "align_self": null,
            "height": null,
            "min_height": null,
            "padding": null,
            "grid_auto_rows": null,
            "grid_gap": null,
            "max_width": null,
            "order": null,
            "_view_module_version": "1.2.0",
            "grid_template_areas": null,
            "object_position": null,
            "object_fit": null,
            "grid_auto_columns": null,
            "margin": null,
            "display": null,
            "left": null
          }
        },
        "3ec610e12f2b487eb7d3fa43be566026": {
          "model_module": "@jupyter-widgets/controls",
          "model_name": "DescriptionStyleModel",
          "state": {
            "_view_name": "StyleView",
            "_model_name": "DescriptionStyleModel",
            "description_width": "",
            "_view_module": "@jupyter-widgets/base",
            "_model_module_version": "1.5.0",
            "_view_count": null,
            "_view_module_version": "1.2.0",
            "_model_module": "@jupyter-widgets/controls"
          }
        },
        "fd65b08e15a24460a8bab2630fc44094": {
          "model_module": "@jupyter-widgets/base",
          "model_name": "LayoutModel",
          "state": {
            "_view_name": "LayoutView",
            "grid_template_rows": null,
            "right": null,
            "justify_content": null,
            "_view_module": "@jupyter-widgets/base",
            "overflow": null,
            "_model_module_version": "1.2.0",
            "_view_count": null,
            "flex_flow": null,
            "width": null,
            "min_width": null,
            "border": null,
            "align_items": null,
            "bottom": null,
            "_model_module": "@jupyter-widgets/base",
            "top": null,
            "grid_column": null,
            "overflow_y": null,
            "overflow_x": null,
            "grid_auto_flow": null,
            "grid_area": null,
            "grid_template_columns": null,
            "flex": null,
            "_model_name": "LayoutModel",
            "justify_items": null,
            "grid_row": null,
            "max_height": null,
            "align_content": null,
            "visibility": null,
            "align_self": null,
            "height": null,
            "min_height": null,
            "padding": null,
            "grid_auto_rows": null,
            "grid_gap": null,
            "max_width": null,
            "order": null,
            "_view_module_version": "1.2.0",
            "grid_template_areas": null,
            "object_position": null,
            "object_fit": null,
            "grid_auto_columns": null,
            "margin": null,
            "display": null,
            "left": null
          }
        }
      }
    }
  },
  "cells": [
    {
      "cell_type": "code",
      "metadata": {
        "colab": {
          "base_uri": "https://localhost:8080/"
        },
        "id": "dg8fjZSik8Pq",
        "outputId": "db7ff8f5-f671-47f0-d57a-6cfc8dafeb7b"
      },
      "source": [
        "from google.colab import drive\n",
        "drive.mount('/content/drive')"
      ],
      "execution_count": 1,
      "outputs": [
        {
          "output_type": "stream",
          "text": [
            "Mounted at /content/drive\n"
          ],
          "name": "stdout"
        }
      ]
    },
    {
      "cell_type": "code",
      "metadata": {
        "id": "I7hQb7BQj3qD"
      },
      "source": [
        "PATH_TO_PROJECT = '/content/drive/My Drive/Serious/'\n",
        "# path to conll class as well as to conll data\n",
        "PATH_TO_CONLL = PATH_TO_PROJECT + 'coNLL/'\n",
        "PATH_TO_TAG2IDX = PATH_TO_CONLL + 'tag2idx.json'\n",
        "PATH_TO_ONE_TAG2IDX = PATH_TO_CONLL + 'one_tag2idx.json'\n",
        "PATH_TO_CHECKPOINT = PATH_TO_PROJECT + 'Models_results/'"
      ],
      "execution_count": 2,
      "outputs": []
    },
    {
      "cell_type": "markdown",
      "metadata": {
        "id": "5B0vXWGpjJvP"
      },
      "source": [
        "### Installing all packages for colab"
      ]
    },
    {
      "cell_type": "code",
      "metadata": {
        "colab": {
          "base_uri": "https://localhost:8080/"
        },
        "id": "X1EcfRFCkM0P",
        "outputId": "80e8eac7-d81c-454d-b498-02b2603cc7a0"
      },
      "source": [
        "!pip install -r '/content/drive/My Drive/Serious/requirements.txt'"
      ],
      "execution_count": 3,
      "outputs": [
        {
          "output_type": "stream",
          "text": [
            "Collecting transformers==4.3.3\n",
            "\u001b[?25l  Downloading https://files.pythonhosted.org/packages/f9/54/5ca07ec9569d2f232f3166de5457b63943882f7950ddfcc887732fc7fb23/transformers-4.3.3-py3-none-any.whl (1.9MB)\n",
            "\u001b[K     |████████████████████████████████| 1.9MB 13.8MB/s \n",
            "\u001b[?25hCollecting allennlp~=2.0\n",
            "\u001b[?25l  Downloading https://files.pythonhosted.org/packages/ed/eb/0c7ce6af0dfbc9c168a263a534e258447eff707c76df26356d4080900dd0/allennlp-2.4.0-py3-none-any.whl (625kB)\n",
            "\u001b[K     |████████████████████████████████| 634kB 52.1MB/s \n",
            "\u001b[?25hCollecting seqeval~=1.2\n",
            "\u001b[?25l  Downloading https://files.pythonhosted.org/packages/9d/2d/233c79d5b4e5ab1dbf111242299153f3caddddbb691219f363ad55ce783d/seqeval-1.2.2.tar.gz (43kB)\n",
            "\u001b[K     |████████████████████████████████| 51kB 8.7MB/s \n",
            "\u001b[?25hCollecting pytorch-crf~=0.7\n",
            "  Downloading https://files.pythonhosted.org/packages/96/7d/4c4688e26ea015fc118a0327e5726e6596836abce9182d3738be8ec2e32a/pytorch_crf-0.7.2-py3-none-any.whl\n",
            "Collecting torch~=1.7.1\n",
            "\u001b[?25l  Downloading https://files.pythonhosted.org/packages/90/5d/095ddddc91c8a769a68c791c019c5793f9c4456a688ddd235d6670924ecb/torch-1.7.1-cp37-cp37m-manylinux1_x86_64.whl (776.8MB)\n",
            "\u001b[K     |████████████████████████████████| 776.8MB 24kB/s \n",
            "\u001b[?25hRequirement already satisfied: numpy>=1.17 in /usr/local/lib/python3.7/dist-packages (from transformers==4.3.3->-r /content/drive/My Drive/Serious/requirements.txt (line 1)) (1.19.5)\n",
            "Requirement already satisfied: packaging in /usr/local/lib/python3.7/dist-packages (from transformers==4.3.3->-r /content/drive/My Drive/Serious/requirements.txt (line 1)) (20.9)\n",
            "Requirement already satisfied: requests in /usr/local/lib/python3.7/dist-packages (from transformers==4.3.3->-r /content/drive/My Drive/Serious/requirements.txt (line 1)) (2.23.0)\n",
            "Collecting tokenizers<0.11,>=0.10.1\n",
            "\u001b[?25l  Downloading https://files.pythonhosted.org/packages/ae/04/5b870f26a858552025a62f1649c20d29d2672c02ff3c3fb4c688ca46467a/tokenizers-0.10.2-cp37-cp37m-manylinux2010_x86_64.whl (3.3MB)\n",
            "\u001b[K     |████████████████████████████████| 3.3MB 46.9MB/s \n",
            "\u001b[?25hRequirement already satisfied: filelock in /usr/local/lib/python3.7/dist-packages (from transformers==4.3.3->-r /content/drive/My Drive/Serious/requirements.txt (line 1)) (3.0.12)\n",
            "Requirement already satisfied: importlib-metadata; python_version < \"3.8\" in /usr/local/lib/python3.7/dist-packages (from transformers==4.3.3->-r /content/drive/My Drive/Serious/requirements.txt (line 1)) (3.10.1)\n",
            "Collecting sacremoses\n",
            "\u001b[?25l  Downloading https://files.pythonhosted.org/packages/75/ee/67241dc87f266093c533a2d4d3d69438e57d7a90abb216fa076e7d475d4a/sacremoses-0.0.45-py3-none-any.whl (895kB)\n",
            "\u001b[K     |████████████████████████████████| 901kB 53.0MB/s \n",
            "\u001b[?25hRequirement already satisfied: tqdm>=4.27 in /usr/local/lib/python3.7/dist-packages (from transformers==4.3.3->-r /content/drive/My Drive/Serious/requirements.txt (line 1)) (4.41.1)\n",
            "Requirement already satisfied: regex!=2019.12.17 in /usr/local/lib/python3.7/dist-packages (from transformers==4.3.3->-r /content/drive/My Drive/Serious/requirements.txt (line 1)) (2019.12.20)\n",
            "Requirement already satisfied: lmdb in /usr/local/lib/python3.7/dist-packages (from allennlp~=2.0->-r /content/drive/My Drive/Serious/requirements.txt (line 2)) (0.99)\n",
            "Requirement already satisfied: scikit-learn in /usr/local/lib/python3.7/dist-packages (from allennlp~=2.0->-r /content/drive/My Drive/Serious/requirements.txt (line 2)) (0.22.2.post1)\n",
            "Collecting huggingface-hub>=0.0.8\n",
            "  Downloading https://files.pythonhosted.org/packages/a1/88/7b1e45720ecf59c6c6737ff332f41c955963090a18e72acbcbeac6b25e86/huggingface_hub-0.0.8-py3-none-any.whl\n",
            "Requirement already satisfied: spacy<3.1,>=2.1.0 in /usr/local/lib/python3.7/dist-packages (from allennlp~=2.0->-r /content/drive/My Drive/Serious/requirements.txt (line 2)) (2.2.4)\n",
            "Collecting overrides==3.1.0\n",
            "  Downloading https://files.pythonhosted.org/packages/ff/b1/10f69c00947518e6676bbd43e739733048de64b8dd998e9c2d5a71f44c5d/overrides-3.1.0.tar.gz\n",
            "Requirement already satisfied: scipy in /usr/local/lib/python3.7/dist-packages (from allennlp~=2.0->-r /content/drive/My Drive/Serious/requirements.txt (line 2)) (1.4.1)\n",
            "Collecting jsonnet>=0.10.0; sys_platform != \"win32\"\n",
            "\u001b[?25l  Downloading https://files.pythonhosted.org/packages/42/40/6f16e5ac994b16fa71c24310f97174ce07d3a97b433275589265c6b94d2b/jsonnet-0.17.0.tar.gz (259kB)\n",
            "\u001b[K     |████████████████████████████████| 266kB 57.3MB/s \n",
            "\u001b[?25hRequirement already satisfied: pytest in /usr/local/lib/python3.7/dist-packages (from allennlp~=2.0->-r /content/drive/My Drive/Serious/requirements.txt (line 2)) (3.6.4)\n",
            "Collecting tensorboardX>=1.2\n",
            "\u001b[?25l  Downloading https://files.pythonhosted.org/packages/07/84/46421bd3e0e89a92682b1a38b40efc22dafb6d8e3d947e4ceefd4a5fabc7/tensorboardX-2.2-py2.py3-none-any.whl (120kB)\n",
            "\u001b[K     |████████████████████████████████| 122kB 50.7MB/s \n",
            "\u001b[?25hRequirement already satisfied: nltk in /usr/local/lib/python3.7/dist-packages (from allennlp~=2.0->-r /content/drive/My Drive/Serious/requirements.txt (line 2)) (3.2.5)\n",
            "Collecting boto3<2.0,>=1.14\n",
            "\u001b[?25l  Downloading https://files.pythonhosted.org/packages/4b/a3/388f78a63b0545f30daf13e6542b0d850f621ff51ef721cf431eef609c87/boto3-1.17.59-py2.py3-none-any.whl (131kB)\n",
            "\u001b[K     |████████████████████████████████| 133kB 59.0MB/s \n",
            "\u001b[?25hRequirement already satisfied: more-itertools in /usr/local/lib/python3.7/dist-packages (from allennlp~=2.0->-r /content/drive/My Drive/Serious/requirements.txt (line 2)) (8.7.0)\n",
            "Collecting sentencepiece\n",
            "\u001b[?25l  Downloading https://files.pythonhosted.org/packages/f5/99/e0808cb947ba10f575839c43e8fafc9cc44e4a7a2c8f79c60db48220a577/sentencepiece-0.1.95-cp37-cp37m-manylinux2014_x86_64.whl (1.2MB)\n",
            "\u001b[K     |████████████████████████████████| 1.2MB 51.9MB/s \n",
            "\u001b[?25hRequirement already satisfied: h5py in /usr/local/lib/python3.7/dist-packages (from allennlp~=2.0->-r /content/drive/My Drive/Serious/requirements.txt (line 2)) (2.10.0)\n",
            "Collecting wandb<0.11.0,>=0.10.0\n",
            "\u001b[?25l  Downloading https://files.pythonhosted.org/packages/f6/28/4aefc543967839bdb4e139831b82004279f1c435cede2a9557ccf8369875/wandb-0.10.27-py2.py3-none-any.whl (2.1MB)\n",
            "\u001b[K     |████████████████████████████████| 2.1MB 46.7MB/s \n",
            "\u001b[?25hRequirement already satisfied: torchvision<0.10.0,>=0.8.1 in /usr/local/lib/python3.7/dist-packages (from allennlp~=2.0->-r /content/drive/My Drive/Serious/requirements.txt (line 2)) (0.9.1+cu101)\n",
            "Requirement already satisfied: typing-extensions in /usr/local/lib/python3.7/dist-packages (from torch~=1.7.1->-r /content/drive/My Drive/Serious/requirements.txt (line 5)) (3.7.4.3)\n",
            "Requirement already satisfied: pyparsing>=2.0.2 in /usr/local/lib/python3.7/dist-packages (from packaging->transformers==4.3.3->-r /content/drive/My Drive/Serious/requirements.txt (line 1)) (2.4.7)\n",
            "Requirement already satisfied: certifi>=2017.4.17 in /usr/local/lib/python3.7/dist-packages (from requests->transformers==4.3.3->-r /content/drive/My Drive/Serious/requirements.txt (line 1)) (2020.12.5)\n",
            "Requirement already satisfied: urllib3!=1.25.0,!=1.25.1,<1.26,>=1.21.1 in /usr/local/lib/python3.7/dist-packages (from requests->transformers==4.3.3->-r /content/drive/My Drive/Serious/requirements.txt (line 1)) (1.24.3)\n",
            "Requirement already satisfied: idna<3,>=2.5 in /usr/local/lib/python3.7/dist-packages (from requests->transformers==4.3.3->-r /content/drive/My Drive/Serious/requirements.txt (line 1)) (2.10)\n",
            "Requirement already satisfied: chardet<4,>=3.0.2 in /usr/local/lib/python3.7/dist-packages (from requests->transformers==4.3.3->-r /content/drive/My Drive/Serious/requirements.txt (line 1)) (3.0.4)\n",
            "Requirement already satisfied: zipp>=0.5 in /usr/local/lib/python3.7/dist-packages (from importlib-metadata; python_version < \"3.8\"->transformers==4.3.3->-r /content/drive/My Drive/Serious/requirements.txt (line 1)) (3.4.1)\n",
            "Requirement already satisfied: six in /usr/local/lib/python3.7/dist-packages (from sacremoses->transformers==4.3.3->-r /content/drive/My Drive/Serious/requirements.txt (line 1)) (1.15.0)\n",
            "Requirement already satisfied: joblib in /usr/local/lib/python3.7/dist-packages (from sacremoses->transformers==4.3.3->-r /content/drive/My Drive/Serious/requirements.txt (line 1)) (1.0.1)\n",
            "Requirement already satisfied: click in /usr/local/lib/python3.7/dist-packages (from sacremoses->transformers==4.3.3->-r /content/drive/My Drive/Serious/requirements.txt (line 1)) (7.1.2)\n",
            "Requirement already satisfied: srsly<1.1.0,>=1.0.2 in /usr/local/lib/python3.7/dist-packages (from spacy<3.1,>=2.1.0->allennlp~=2.0->-r /content/drive/My Drive/Serious/requirements.txt (line 2)) (1.0.5)\n",
            "Requirement already satisfied: preshed<3.1.0,>=3.0.2 in /usr/local/lib/python3.7/dist-packages (from spacy<3.1,>=2.1.0->allennlp~=2.0->-r /content/drive/My Drive/Serious/requirements.txt (line 2)) (3.0.5)\n",
            "Requirement already satisfied: murmurhash<1.1.0,>=0.28.0 in /usr/local/lib/python3.7/dist-packages (from spacy<3.1,>=2.1.0->allennlp~=2.0->-r /content/drive/My Drive/Serious/requirements.txt (line 2)) (1.0.5)\n",
            "Requirement already satisfied: setuptools in /usr/local/lib/python3.7/dist-packages (from spacy<3.1,>=2.1.0->allennlp~=2.0->-r /content/drive/My Drive/Serious/requirements.txt (line 2)) (56.0.0)\n",
            "Requirement already satisfied: thinc==7.4.0 in /usr/local/lib/python3.7/dist-packages (from spacy<3.1,>=2.1.0->allennlp~=2.0->-r /content/drive/My Drive/Serious/requirements.txt (line 2)) (7.4.0)\n",
            "Requirement already satisfied: catalogue<1.1.0,>=0.0.7 in /usr/local/lib/python3.7/dist-packages (from spacy<3.1,>=2.1.0->allennlp~=2.0->-r /content/drive/My Drive/Serious/requirements.txt (line 2)) (1.0.0)\n",
            "Requirement already satisfied: plac<1.2.0,>=0.9.6 in /usr/local/lib/python3.7/dist-packages (from spacy<3.1,>=2.1.0->allennlp~=2.0->-r /content/drive/My Drive/Serious/requirements.txt (line 2)) (1.1.3)\n",
            "Requirement already satisfied: blis<0.5.0,>=0.4.0 in /usr/local/lib/python3.7/dist-packages (from spacy<3.1,>=2.1.0->allennlp~=2.0->-r /content/drive/My Drive/Serious/requirements.txt (line 2)) (0.4.1)\n",
            "Requirement already satisfied: cymem<2.1.0,>=2.0.2 in /usr/local/lib/python3.7/dist-packages (from spacy<3.1,>=2.1.0->allennlp~=2.0->-r /content/drive/My Drive/Serious/requirements.txt (line 2)) (2.0.5)\n",
            "Requirement already satisfied: wasabi<1.1.0,>=0.4.0 in /usr/local/lib/python3.7/dist-packages (from spacy<3.1,>=2.1.0->allennlp~=2.0->-r /content/drive/My Drive/Serious/requirements.txt (line 2)) (0.8.2)\n",
            "Requirement already satisfied: attrs>=17.4.0 in /usr/local/lib/python3.7/dist-packages (from pytest->allennlp~=2.0->-r /content/drive/My Drive/Serious/requirements.txt (line 2)) (20.3.0)\n",
            "Requirement already satisfied: py>=1.5.0 in /usr/local/lib/python3.7/dist-packages (from pytest->allennlp~=2.0->-r /content/drive/My Drive/Serious/requirements.txt (line 2)) (1.10.0)\n",
            "Requirement already satisfied: atomicwrites>=1.0 in /usr/local/lib/python3.7/dist-packages (from pytest->allennlp~=2.0->-r /content/drive/My Drive/Serious/requirements.txt (line 2)) (1.4.0)\n",
            "Requirement already satisfied: pluggy<0.8,>=0.5 in /usr/local/lib/python3.7/dist-packages (from pytest->allennlp~=2.0->-r /content/drive/My Drive/Serious/requirements.txt (line 2)) (0.7.1)\n",
            "Requirement already satisfied: protobuf>=3.8.0 in /usr/local/lib/python3.7/dist-packages (from tensorboardX>=1.2->allennlp~=2.0->-r /content/drive/My Drive/Serious/requirements.txt (line 2)) (3.12.4)\n",
            "Collecting jmespath<1.0.0,>=0.7.1\n",
            "  Downloading https://files.pythonhosted.org/packages/07/cb/5f001272b6faeb23c1c9e0acc04d48eaaf5c862c17709d20e3469c6e0139/jmespath-0.10.0-py2.py3-none-any.whl\n",
            "Collecting botocore<1.21.0,>=1.20.59\n",
            "\u001b[?25l  Downloading https://files.pythonhosted.org/packages/25/68/e91883d8f68183216fac7cfa855cd0d1b3336c3d4b82cd4b99591118bcc7/botocore-1.20.59-py2.py3-none-any.whl (7.4MB)\n",
            "\u001b[K     |████████████████████████████████| 7.4MB 46.1MB/s \n",
            "\u001b[?25hCollecting s3transfer<0.5.0,>=0.4.0\n",
            "\u001b[?25l  Downloading https://files.pythonhosted.org/packages/63/d0/693477c688348654ddc21dcdce0817653a294aa43f41771084c25e7ff9c7/s3transfer-0.4.2-py2.py3-none-any.whl (79kB)\n",
            "\u001b[K     |████████████████████████████████| 81kB 10.9MB/s \n",
            "\u001b[?25hRequirement already satisfied: promise<3,>=2.0 in /usr/local/lib/python3.7/dist-packages (from wandb<0.11.0,>=0.10.0->allennlp~=2.0->-r /content/drive/My Drive/Serious/requirements.txt (line 2)) (2.3)\n",
            "Collecting shortuuid>=0.5.0\n",
            "  Downloading https://files.pythonhosted.org/packages/25/a6/2ecc1daa6a304e7f1b216f0896b26156b78e7c38e1211e9b798b4716c53d/shortuuid-1.0.1-py3-none-any.whl\n",
            "Collecting subprocess32>=3.5.3\n",
            "\u001b[?25l  Downloading https://files.pythonhosted.org/packages/32/c8/564be4d12629b912ea431f1a50eb8b3b9d00f1a0b1ceff17f266be190007/subprocess32-3.5.4.tar.gz (97kB)\n",
            "\u001b[K     |████████████████████████████████| 102kB 13.9MB/s \n",
            "\u001b[?25hRequirement already satisfied: PyYAML in /usr/local/lib/python3.7/dist-packages (from wandb<0.11.0,>=0.10.0->allennlp~=2.0->-r /content/drive/My Drive/Serious/requirements.txt (line 2)) (3.13)\n",
            "Requirement already satisfied: python-dateutil>=2.6.1 in /usr/local/lib/python3.7/dist-packages (from wandb<0.11.0,>=0.10.0->allennlp~=2.0->-r /content/drive/My Drive/Serious/requirements.txt (line 2)) (2.8.1)\n",
            "Collecting docker-pycreds>=0.4.0\n",
            "  Downloading https://files.pythonhosted.org/packages/f5/e8/f6bd1eee09314e7e6dee49cbe2c5e22314ccdb38db16c9fc72d2fa80d054/docker_pycreds-0.4.0-py2.py3-none-any.whl\n",
            "Collecting pathtools\n",
            "  Downloading https://files.pythonhosted.org/packages/e7/7f/470d6fcdf23f9f3518f6b0b76be9df16dcc8630ad409947f8be2eb0ed13a/pathtools-0.1.2.tar.gz\n",
            "Collecting configparser>=3.8.1\n",
            "  Downloading https://files.pythonhosted.org/packages/fd/01/ff260a18caaf4457eb028c96eeb405c4a230ca06c8ec9c1379f813caa52e/configparser-5.0.2-py3-none-any.whl\n",
            "Requirement already satisfied: psutil>=5.0.0 in /usr/local/lib/python3.7/dist-packages (from wandb<0.11.0,>=0.10.0->allennlp~=2.0->-r /content/drive/My Drive/Serious/requirements.txt (line 2)) (5.4.8)\n",
            "Collecting sentry-sdk>=0.4.0\n",
            "\u001b[?25l  Downloading https://files.pythonhosted.org/packages/f3/92/5a33be64990ba815364a8f2dd9e6f51de60d23dfddafb4f1fc5577d4dc64/sentry_sdk-1.0.0-py2.py3-none-any.whl (131kB)\n",
            "\u001b[K     |████████████████████████████████| 133kB 58.1MB/s \n",
            "\u001b[?25hCollecting GitPython>=1.0.0\n",
            "\u001b[?25l  Downloading https://files.pythonhosted.org/packages/a6/99/98019716955ba243657daedd1de8f3a88ca1f5b75057c38e959db22fb87b/GitPython-3.1.14-py3-none-any.whl (159kB)\n",
            "\u001b[K     |████████████████████████████████| 163kB 60.6MB/s \n",
            "\u001b[?25hRequirement already satisfied: pillow>=4.1.1 in /usr/local/lib/python3.7/dist-packages (from torchvision<0.10.0,>=0.8.1->allennlp~=2.0->-r /content/drive/My Drive/Serious/requirements.txt (line 2)) (7.1.2)\n",
            "Collecting gitdb<5,>=4.0.1\n",
            "\u001b[?25l  Downloading https://files.pythonhosted.org/packages/ea/e8/f414d1a4f0bbc668ed441f74f44c116d9816833a48bf81d22b697090dba8/gitdb-4.0.7-py3-none-any.whl (63kB)\n",
            "\u001b[K     |████████████████████████████████| 71kB 10.4MB/s \n",
            "\u001b[?25hCollecting smmap<5,>=3.0.1\n",
            "  Downloading https://files.pythonhosted.org/packages/68/ee/d540eb5e5996eb81c26ceffac6ee49041d473bc5125f2aa995cf51ec1cf1/smmap-4.0.0-py2.py3-none-any.whl\n",
            "Building wheels for collected packages: seqeval, overrides, jsonnet, subprocess32, pathtools\n",
            "  Building wheel for seqeval (setup.py) ... \u001b[?25l\u001b[?25hdone\n",
            "  Created wheel for seqeval: filename=seqeval-1.2.2-cp37-none-any.whl size=16172 sha256=7865c07f0b50caa42ceae4e11574607dcf19900bf311ff19be1aa62ded9ca31c\n",
            "  Stored in directory: /root/.cache/pip/wheels/52/df/1b/45d75646c37428f7e626214704a0e35bd3cfc32eda37e59e5f\n",
            "  Building wheel for overrides (setup.py) ... \u001b[?25l\u001b[?25hdone\n",
            "  Created wheel for overrides: filename=overrides-3.1.0-cp37-none-any.whl size=10174 sha256=3d4deff06d20d2da46dd256968570735666937d8042a732e482573db3e2ff83b\n",
            "  Stored in directory: /root/.cache/pip/wheels/5c/24/13/6ef8600e6f147c95e595f1289a86a3cc82ed65df57582c65a9\n",
            "  Building wheel for jsonnet (setup.py) ... \u001b[?25l\u001b[?25hdone\n",
            "  Created wheel for jsonnet: filename=jsonnet-0.17.0-cp37-cp37m-linux_x86_64.whl size=3388764 sha256=f1bfc146100faed1ecf6f897d8ed6c9ce8c7f7a3f8a21364c64858982a350f99\n",
            "  Stored in directory: /root/.cache/pip/wheels/26/7a/37/7dbcc30a6b4efd17b91ad1f0128b7bbf84813bd4e1cfb8c1e3\n",
            "  Building wheel for subprocess32 (setup.py) ... \u001b[?25l\u001b[?25hdone\n",
            "  Created wheel for subprocess32: filename=subprocess32-3.5.4-cp37-none-any.whl size=6489 sha256=6d9ce0f880b0b5ed13b34f24805ff7cbd2439d3e5c606b247d2b46ab1fdafeb2\n",
            "  Stored in directory: /root/.cache/pip/wheels/68/39/1a/5e402bdfdf004af1786c8b853fd92f8c4a04f22aad179654d1\n",
            "  Building wheel for pathtools (setup.py) ... \u001b[?25l\u001b[?25hdone\n",
            "  Created wheel for pathtools: filename=pathtools-0.1.2-cp37-none-any.whl size=8786 sha256=7f69d75f2729786a9ebd0147ce99c48a90b40617ae03a22b3a1af9e5dff5fddd\n",
            "  Stored in directory: /root/.cache/pip/wheels/0b/04/79/c3b0c3a0266a3cb4376da31e5bfe8bba0c489246968a68e843\n",
            "Successfully built seqeval overrides jsonnet subprocess32 pathtools\n",
            "\u001b[31mERROR: torchvision 0.9.1+cu101 has requirement torch==1.8.1, but you'll have torch 1.7.1 which is incompatible.\u001b[0m\n",
            "\u001b[31mERROR: torchtext 0.9.1 has requirement torch==1.8.1, but you'll have torch 1.7.1 which is incompatible.\u001b[0m\n",
            "\u001b[31mERROR: botocore 1.20.59 has requirement urllib3<1.27,>=1.25.4, but you'll have urllib3 1.24.3 which is incompatible.\u001b[0m\n",
            "Installing collected packages: tokenizers, sacremoses, transformers, huggingface-hub, overrides, torch, jsonnet, tensorboardX, jmespath, botocore, s3transfer, boto3, sentencepiece, shortuuid, subprocess32, docker-pycreds, pathtools, configparser, sentry-sdk, smmap, gitdb, GitPython, wandb, allennlp, seqeval, pytorch-crf\n",
            "  Found existing installation: torch 1.8.1+cu101\n",
            "    Uninstalling torch-1.8.1+cu101:\n",
            "      Successfully uninstalled torch-1.8.1+cu101\n",
            "Successfully installed GitPython-3.1.14 allennlp-2.4.0 boto3-1.17.59 botocore-1.20.59 configparser-5.0.2 docker-pycreds-0.4.0 gitdb-4.0.7 huggingface-hub-0.0.8 jmespath-0.10.0 jsonnet-0.17.0 overrides-3.1.0 pathtools-0.1.2 pytorch-crf-0.7.2 s3transfer-0.4.2 sacremoses-0.0.45 sentencepiece-0.1.95 sentry-sdk-1.0.0 seqeval-1.2.2 shortuuid-1.0.1 smmap-4.0.0 subprocess32-3.5.4 tensorboardX-2.2 tokenizers-0.10.2 torch-1.7.1 transformers-4.3.3 wandb-0.10.27\n"
          ],
          "name": "stdout"
        }
      ]
    },
    {
      "cell_type": "markdown",
      "metadata": {
        "id": "ZSCzDWrGkvSF"
      },
      "source": [
        "###Importing packages"
      ]
    },
    {
      "cell_type": "code",
      "metadata": {
        "id": "yHlIcoTU4xO9"
      },
      "source": [
        "import sys\n",
        "sys.path.append(PATH_TO_PROJECT)\n",
        "sys.path.append(PATH_TO_CONLL)\n",
        "\n",
        "from importlib import reload\n",
        "import conll as co\n",
        "\n",
        "import data_loaders as dalo\n",
        "\n",
        "from bert_config import *\n",
        "from elmo_config import *\n",
        "\n",
        "import model_utils as mu"
      ],
      "execution_count": 4,
      "outputs": []
    },
    {
      "cell_type": "code",
      "metadata": {
        "id": "KSczpEJZkrqr"
      },
      "source": [
        "import numpy as np\n",
        "import torch\n",
        "from torch import nn\n",
        "from torch.optim import AdamW\n",
        "from transformers import BertTokenizer, BertModel\n",
        "from transformers import BertForTokenClassification\n",
        "from allennlp.modules.elmo import Elmo, batch_to_ids\n",
        "\n",
        "from torchcrf import CRF\n",
        "\n",
        "from sklearn.model_selection import KFold, ParameterGrid\n",
        "\n",
        "from transformers import get_linear_schedule_with_warmup\n",
        "\n",
        "import matplotlib\n",
        "from matplotlib import pyplot as plt\n",
        "import json\n",
        "\n",
        "import gc\n",
        "\n",
        "%matplotlib inline"
      ],
      "execution_count": 5,
      "outputs": []
    },
    {
      "cell_type": "markdown",
      "metadata": {
        "id": "oRNrCVJDkeAx"
      },
      "source": [
        "Connect to device"
      ]
    },
    {
      "cell_type": "code",
      "metadata": {
        "id": "ZD7U4Tz4kcx7",
        "colab": {
          "base_uri": "https://localhost:8080/"
        },
        "outputId": "10509cc4-8351-4c68-d867-cb9fe8784bac"
      },
      "source": [
        "device = torch.device(\"cuda\" if torch.cuda.is_available() else \"cpu\")\n",
        "n_gpu = torch.cuda.device_count()\n",
        "\n",
        "print(torch.cuda.get_device_name(0))"
      ],
      "execution_count": 6,
      "outputs": [
        {
          "output_type": "stream",
          "text": [
            "Tesla T4\n"
          ],
          "name": "stdout"
        }
      ]
    },
    {
      "cell_type": "code",
      "metadata": {
        "id": "yqKg6gBfnHnZ"
      },
      "source": [
        "torch.cuda.empty_cache()"
      ],
      "execution_count": null,
      "outputs": []
    },
    {
      "cell_type": "code",
      "metadata": {
        "id": "OKbM8puQnS5J"
      },
      "source": [
        "t = torch.cuda.get_device_properties(0).total_memory\n",
        "r = torch.cuda.memory_reserved(0) \n",
        "a = torch.cuda.memory_allocated(0)"
      ],
      "execution_count": null,
      "outputs": []
    },
    {
      "cell_type": "markdown",
      "metadata": {
        "id": "RnYk4xX4k37T"
      },
      "source": [
        "### Preprocessing"
      ]
    },
    {
      "cell_type": "code",
      "metadata": {
        "id": "kG-jCX8jku-M"
      },
      "source": [
        "conll = co.CoNLL_old(PATH_TO_CONLL)\n",
        "for typ in conll.types:\n",
        "    conll.split_text_label(typ)\n",
        "conll.create_tag2idx(PATH_TO_TAG2IDX)\n",
        "conll.create_idx2tag()"
      ],
      "execution_count": 7,
      "outputs": []
    },
    {
      "cell_type": "code",
      "metadata": {
        "id": "IOMB_7-R5UUL"
      },
      "source": [
        "# with use it for evaluating on different tags\n",
        "conll_one_tag = co.CoNLL(PATH_TO_CONLL)\n",
        "# splitting raw data to sentences and labels\n",
        "for typ in conll_one_tag.types:\n",
        "    conll_one_tag.split_text_label(typ)\n",
        "\n",
        "# define set of all labels\n",
        "conll_one_tag.create_set_of_labels()\n",
        "\n",
        "# for multihead model\n",
        "conll_one_tag.create_tag2idx(PATH_TO_TAG2IDX)\n",
        "conll_one_tag.create_idx2tag()\n",
        "\n",
        "for typ in conll_one_tag.types:\n",
        "    # for multiple heads of CRF layer\n",
        "    conll_one_tag.create_one_labeled_data(typ)\n",
        "\n",
        "    # creating one_tag2idx dictionary\n",
        "    conll_one_tag.create_one_tag2idx(PATH_TO_ONE_TAG2IDX)\n",
        "    conll_one_tag.create_idx2one_tag()"
      ],
      "execution_count": 8,
      "outputs": []
    },
    {
      "cell_type": "code",
      "metadata": {
        "colab": {
          "base_uri": "https://localhost:8080/"
        },
        "id": "IhhxetRPyhks",
        "outputId": "1e2ded0b-3448-43fc-d4ac-e30e57aa9ccd"
      },
      "source": [
        "conll.idx2tag"
      ],
      "execution_count": 9,
      "outputs": [
        {
          "output_type": "execute_result",
          "data": {
            "text/plain": [
              "{0: 'PAD',\n",
              " 1: 'I-ORG',\n",
              " 2: 'O',\n",
              " 3: 'B-ORG',\n",
              " 4: 'B-PER',\n",
              " 5: 'B-MISC',\n",
              " 6: 'I-PER',\n",
              " 7: 'I-LOC',\n",
              " 8: 'B-LOC',\n",
              " 9: 'I-MISC'}"
            ]
          },
          "metadata": {
            "tags": []
          },
          "execution_count": 9
        }
      ]
    },
    {
      "cell_type": "markdown",
      "metadata": {
        "id": "VXAiaxejk37V"
      },
      "source": [
        "### Tokenization with BertTokenizer"
      ]
    },
    {
      "cell_type": "markdown",
      "metadata": {
        "id": "7Fig7rJPk37V"
      },
      "source": [
        "BERT (Bidirectional Encoder Representations from Transformers) is a method of pretraining language representations. These vectors (representations) are used as high-quality feature inputs to downstream models. BERT offers an advantage over models like Word2Vec, because while each word has a fixed representation under Word2Vec regardless of the context within which the word appears, BERT produces word representations that are dynamically informed by the words around them."
      ]
    },
    {
      "cell_type": "markdown",
      "metadata": {
        "id": "nPqO5Tjsk37V"
      },
      "source": [
        "The Bert implementation comes with a pretrained tokenizer and a definied vocabulary. We load the one related to the smallest pre-trained model bert-base-cased. We use the cased variate since it is well suited for NER."
      ]
    },
    {
      "cell_type": "code",
      "metadata": {
        "id": "JyuwJkHzk37V",
        "scrolled": false,
        "colab": {
          "base_uri": "https://localhost:8080/",
          "height": 66,
          "referenced_widgets": [
            "fabda6be26ec46fe82e2b0f39b00ef08",
            "bd296e9be0244c8cbca970ea432f03b1",
            "d1fa3e2e2fd945bfa33657482e6bd378",
            "9a0965d80bef49caa7d63dc2ced49278",
            "6ee6502bf49f4a359d31300efbc20f2a",
            "99670762b58949d9b4b18c3a0d1f4416",
            "d123b21ecb3f44f68a73250122e10561",
            "6d2776df651d42d98cf111b10b8cf86d"
          ]
        },
        "outputId": "4ac3e568-c8c5-4ecb-aa6e-2680898bc84f"
      },
      "source": [
        "bert_tokenizer = BertTokenizer.from_pretrained('bert-base-cased', do_lower_case=False)"
      ],
      "execution_count": 9,
      "outputs": [
        {
          "output_type": "display_data",
          "data": {
            "application/vnd.jupyter.widget-view+json": {
              "model_id": "fabda6be26ec46fe82e2b0f39b00ef08",
              "version_minor": 0,
              "version_major": 2
            },
            "text/plain": [
              "HBox(children=(FloatProgress(value=0.0, description='Downloading', max=213450.0, style=ProgressStyle(descripti…"
            ]
          },
          "metadata": {
            "tags": []
          }
        },
        {
          "output_type": "stream",
          "text": [
            "\n"
          ],
          "name": "stdout"
        }
      ]
    },
    {
      "cell_type": "markdown",
      "metadata": {
        "id": "GIs7ltIPlbVp"
      },
      "source": [
        "### Creating dataloaders"
      ]
    },
    {
      "cell_type": "code",
      "metadata": {
        "id": "O_DTCbZHfxtN"
      },
      "source": [
        "!pip uninstall protobuf -y\n",
        "!pip uninstall google -y\n",
        "!pip install google\n",
        "!pip install protobuf\n",
        "!pip install google-cloud"
      ],
      "execution_count": null,
      "outputs": []
    },
    {
      "cell_type": "code",
      "metadata": {
        "id": "zLMDhqfK44DZ"
      },
      "source": [
        "train_dataset, train_sampler, train_dataloader = dalo.create_dataloader_old(conll.sentences['train'],\n",
        "                                                                            conll.labels['train'], conll.tag2idx,\n",
        "                                                                            bert_tokenizer)"
      ],
      "execution_count": null,
      "outputs": []
    },
    {
      "cell_type": "code",
      "metadata": {
        "colab": {
          "base_uri": "https://localhost:8080/"
        },
        "id": "Gh2_h5s8pABD",
        "outputId": "b205f5ee-2d46-41bf-d91d-28b2674ea10e"
      },
      "source": [
        "# max len\n",
        "train_dataset[0][0].shape"
      ],
      "execution_count": null,
      "outputs": [
        {
          "output_type": "execute_result",
          "data": {
            "text/plain": [
              "torch.Size([173])"
            ]
          },
          "metadata": {
            "tags": []
          },
          "execution_count": 10
        }
      ]
    },
    {
      "cell_type": "code",
      "metadata": {
        "id": "c_1U6cD45Iw-"
      },
      "source": [
        "valid_dataset, valid_sampler, valid_dataloader = dalo.create_dataloader_old(conll.sentences['valid'],\n",
        "                                                            conll.labels['valid'], conll.tag2idx,\n",
        "                                                            bert_tokenizer, 'valid', desired_pad=train_dataset[0][0].shape[0])"
      ],
      "execution_count": null,
      "outputs": []
    },
    {
      "cell_type": "markdown",
      "metadata": {
        "id": "GtlwOjQkk37V"
      },
      "source": [
        "### BERT & ELMo setup"
      ]
    },
    {
      "cell_type": "markdown",
      "metadata": {
        "id": "_OFDSv-Dk37V"
      },
      "source": [
        "The transformer package provides a BertForTokenClassification class for token-level predictions. BertForTokenClassification is a fine-tuning model that wraps BertModel and adds token-level classifier on top of the BertModel."
      ]
    },
    {
      "cell_type": "markdown",
      "metadata": {
        "id": "ulzg47ERB_tw"
      },
      "source": [
        "### Define the model"
      ]
    },
    {
      "cell_type": "code",
      "metadata": {
        "id": "xn_SOeVWtX_P"
      },
      "source": [
        "def freeze_bert_layers(bert, num_of_trainable=0):\n",
        "    for name, par in bert.named_parameters():\n",
        "        if sum([str(i) in name for i in range(12-num_of_trainable, 12)]) == 0:\n",
        "            par.requires_grad = False"
      ],
      "execution_count": 10,
      "outputs": []
    },
    {
      "cell_type": "code",
      "metadata": {
        "id": "wGZZM6n8pQ-b"
      },
      "source": [
        "class BEboC(nn.Module):\n",
        "    \"\"\"\n",
        "    BERT+Elmo+biLSTM+one CRF\n",
        "    \"\"\"\n",
        "    def __init__(self, hidden_size=128, num_labels=len(conll.tag2idx), elmo_layers=2,\n",
        "                 bert_layers=1, concat_bert=True, num_of_trainable_bert_layers=0, bilstm_layers=1, dropout=0.5):\n",
        "        \"\"\"\n",
        "        Creates model\n",
        "        \n",
        "        Parameters\n",
        "        ----------\n",
        "        hidden_size:\n",
        "        num_labels:\n",
        "        elmo_layers: int, default=2\n",
        "            Num of ELMo layers to be considered\n",
        "        bert_layers: int, default=1\n",
        "            Num of final BERT hidden layers to be used as embedding vector.\n",
        "        concat_bert: bool, default=True\n",
        "            Whether to concat (True) or sum (False) last BERT hidden layers.\n",
        "        num_of_trainable_bert_layers: int, default=0\n",
        "            Num of trainable bert layers.\n",
        "        bilstm_layers: int, default=1\n",
        "        dropout: float, default=0\n",
        "          Dropout value\n",
        "        \"\"\"\n",
        "        super(BEboC, self).__init__()\n",
        "\n",
        "        self.hidden_size = hidden_size\n",
        "        self.num_labels = num_labels\n",
        "        self.elmo_layers = elmo_layers\n",
        "        self.bert_layers = bert_layers\n",
        "        self.concat_bert = concat_bert\n",
        "        self.num_of_trainable_bert_layers = num_of_trainable_bert_layers\n",
        "        self.bilstm_layers = bilstm_layers\n",
        "        self.dropout = dropout\n",
        "        \n",
        "        self.bert = BertForTokenClassification.from_pretrained(\n",
        "                        BERT_MODEL,\n",
        "                        output_hidden_states=True)\n",
        "        \n",
        "        #for pars in self.bert.parameters():\n",
        "        #    pars.requires_grad = False\n",
        "        freeze_bert_layers(self.bert, num_of_trainable=num_of_trainable_bert_layers)\n",
        "        \n",
        "        bert_embedding_dim = self.bert.config.to_dict()['hidden_size']\n",
        "\n",
        "        self.elmo = Elmo(options_file, weight_file, self.elmo_layers, dropout=0, requires_grad=False)\n",
        "        \n",
        "        elmo_embedding_dim = 512 # it's always fixed\n",
        "\n",
        "        if self.concat_bert:\n",
        "          self.linear1 = nn.Linear(bert_embedding_dim*self.bert_layers+elmo_embedding_dim*self.elmo_layers, 1024)\n",
        "        else:\n",
        "          self.linear1 = nn.Linear(bert_embedding_dim+elmo_embedding_dim*self.elmo_layers, 1024)\n",
        "        \n",
        "        self.dp1 = nn.Dropout(dropout)\n",
        "\n",
        "        self.bilstm = nn.LSTM(1024, self.hidden_size, self.bilstm_layers, bidirectional=True)\n",
        "        \n",
        "        self.dp2 = nn.Dropout(dropout)\n",
        "\n",
        "        self.linear2 = nn.Linear(self.hidden_size*2, self.num_labels)\n",
        "\n",
        "        self.crf = CRF(num_tags=self.num_labels, batch_first=True)\n",
        "    \n",
        "    def get_model_pars_dict(self):\n",
        "        \"\"\"\n",
        "        Returns dict with described model's parameters.\n",
        "        \n",
        "        \"\"\"\n",
        "        pars = {}\n",
        "        pars['hidden_size'] = self.hidden_size\n",
        "        pars['num_labels'] = self.num_labels\n",
        "        pars['elmo_layers'] = self.elmo_layers\n",
        "        pars['bert_layers'] = self.bert_layers\n",
        "        pars['concat_bert'] = int(self.concat_bert)\n",
        "        pars['bilstm_layers'] = self.bilstm_layers\n",
        "\n",
        "        return pars\n",
        "    \n",
        "    def forward(self, bert_ids, elmo_ids, attention_mask):\n",
        "        \"\"\"\n",
        "        Forward propogate of model.\n",
        "        \n",
        "        Parameters\n",
        "        ----------\n",
        "        sequence:\n",
        "        attention_mask:\n",
        "        \n",
        "        Returns\n",
        "        -------\n",
        "        Logits\n",
        "        \n",
        "        \"\"\"\n",
        "\n",
        "        bert_hiddens = self.bert(bert_ids, attention_mask=attention_mask)[1]\n",
        "        elmo_hiddens = self.elmo(elmo_ids)\n",
        "\n",
        "        if self.concat_bert:\n",
        "            bert_embedding = torch.cat(bert_hiddens[-self.bert_layers:], dim=2)#[bert_hiddens[-i] for i in range(-1, -self.bert_layers-1, -1)], dim=0)\n",
        "        else:\n",
        "            emb_sum = 0\n",
        "            for h in bert_hiddens[-self.bert_layers:]:\n",
        "                emb_sum += h\n",
        "            bert_embedding = emb_sum\n",
        "\n",
        "        elmo_bert_embeddings = torch.clone(bert_embedding)\n",
        "\n",
        "        for el_hi in elmo_hiddens['elmo_representations']:\n",
        "            elmo_bert_embeddings = torch.cat((elmo_bert_embeddings, el_hi), dim=-1)\n",
        "\n",
        "        linear1_output = nn.functional.relu(self.linear1(elmo_bert_embeddings))\n",
        "        linear1_output = self.dp1(linear1_output)\n",
        "\n",
        "        bilstm_output, (h_n, c_n) = self.bilstm(linear1_output)\n",
        "        bilstm_output = self.dp2(bilstm_output)\n",
        "\n",
        "        linear2_output = nn.functional.relu(self.linear2(bilstm_output))\n",
        "        return linear2_output\n",
        "    \n",
        "    def init_weights(self):\n",
        "        \"\"\"\n",
        "        Initializes models trainable weights (in bilstm and linear layers) \n",
        "        according to Xavier uniform distribution.\n",
        "\n",
        "        \"\"\"\n",
        "\n",
        "        for name, param in model.named_parameters():\n",
        "            if ('linear' in name or 'bilstm' in name) and \\\n",
        "            ('weight' in name) and \\\n",
        "            ('bert' not in name and 'elmo' not in name) and \\\n",
        "            param.requires_grad:\n",
        "                torch.nn.init.xavier_uniform_(param)\n"
      ],
      "execution_count": 11,
      "outputs": []
    },
    {
      "cell_type": "markdown",
      "metadata": {
        "id": "Rc7JfSK1Hs8Q"
      },
      "source": [
        "### Model selection using grid"
      ]
    },
    {
      "cell_type": "markdown",
      "metadata": {
        "id": "qVTXa0B3KaXf"
      },
      "source": [
        "Let's use small train dataset with 1000 examples (instead of 14041) in train and 250 (instead of 3250) in validation"
      ]
    },
    {
      "cell_type": "code",
      "metadata": {
        "id": "KFTvZkYwKx_g"
      },
      "source": [
        "train_dataset, train_sampler, train_dataloader = dalo.create_dataloader_old(conll.sentences['train'][:1000],\n",
        "                                                                            conll.labels['train'][:1000], conll.tag2idx,\n",
        "                                                                            bert_tokenizer)\n",
        "\n",
        "valid_dataset, valid_sampler, valid_dataloader = dalo.create_dataloader_old(conll.sentences['valid'][:250],\n",
        "                                                            conll.labels['valid'][:250], conll.tag2idx,\n",
        "                                                            bert_tokenizer, 'valid', desired_pad=train_dataset[0][0].shape[0])"
      ],
      "execution_count": null,
      "outputs": []
    },
    {
      "cell_type": "code",
      "metadata": {
        "id": "fC3j35AI4Wqp"
      },
      "source": [
        "N_EPOCHS = 15\n",
        "total_steps = len(train_dataloader) *  N_EPOCHS"
      ],
      "execution_count": null,
      "outputs": []
    },
    {
      "cell_type": "code",
      "metadata": {
        "id": "BYCHQ6sboU8R"
      },
      "source": [
        "%time\n",
        "param_grid = {\n",
        "    'hidden_size': [512],\n",
        "    'lr': [3e-4, 5e-4, 1e-3],\n",
        "    'bert_layers': [2],\n",
        "    'bilstm_layers': [1, 2],\n",
        "    'dropout': [0, 0.25, 0.5],\n",
        "    'max_grad_norm': [None, 228]\n",
        "}\n",
        "\n",
        "\n",
        "grid = ParameterGrid(param_grid)\n",
        "\n",
        "results_dict = {}\n",
        "\n",
        "for m, ps in enumerate(grid):\n",
        "    print(f\"Model #{m} of {len(grid)}\")\n",
        "    results_dict[m] = {}\n",
        "    results_dict[m]['params'] = ps\n",
        "\n",
        "    model = BEboC(hidden_size=ps['hidden_size'], bert_layers=ps['bert_layers'],\n",
        "                  dropout=ps['dropout'])\n",
        "\n",
        "    optimizer = AdamW(params=model.parameters(),lr=ps['lr'])\n",
        "\n",
        "    scheduler = get_linear_schedule_with_warmup(\n",
        "        optimizer,\n",
        "        num_warmup_steps=0,\n",
        "        num_training_steps=total_steps\n",
        "    )\n",
        "\n",
        "    if device.type != 'cpu':\n",
        "        model.to(device)\n",
        "\n",
        "    torch.cuda.empty_cache()\n",
        "    \n",
        "    results = mu.train_old(model, train_dataloader, optimizer, conll_old.idx2tag, device,\n",
        "                        scheduler, n_epoch=N_EPOCHS, max_grad_norm=ps['max_grad_norm'],\n",
        "                        validate=True, valid_dataloader=valid_dataloader, \n",
        "                        save_model=False)\n",
        "    \n",
        "\n",
        "    _, _, valid_accuracies, valid_f1_scores = results\n",
        "\n",
        "    results_dict[m]['valid_accs'] = valid_accuracies\n",
        "    results_dict[m]['valid_f1s'] = valid_f1_scores\n",
        "    \n",
        "\n",
        "with open(\"/content/drive/My Drive/Serious/Models_results/dropout_results_dict.json\", \"w\") as w:\n",
        "    json.dump(results_dict, w)"
      ],
      "execution_count": null,
      "outputs": []
    },
    {
      "cell_type": "code",
      "metadata": {
        "id": "tPS7K3gVw3KU",
        "colab": {
          "base_uri": "https://localhost:8080/"
        },
        "outputId": "93e9d53c-a15b-4af9-f7bc-d030b4bcad5c"
      },
      "source": [
        "final_f1s = {k: v['valid_f1s'][-1] for k, v in results_dict.items()}\n",
        "print(f'The best model is the {np.argmax(list(final_f1s.values()))} one.')\n",
        "print(f'Its params: {results_dict[np.argmax(list(final_f1s.values()))][\"params\"]}')"
      ],
      "execution_count": null,
      "outputs": [
        {
          "output_type": "stream",
          "text": [
            "The best model is the 15 one.\n",
            "Its params: {'bert_layers': 2, 'bilstm_layers': 1, 'dropout': 0.5, 'hidden_size': 512, 'lr': 0.0005, 'max_grad_norm': 228}\n"
          ],
          "name": "stdout"
        }
      ]
    },
    {
      "cell_type": "markdown",
      "metadata": {
        "id": "P_xcMVxJlxsn"
      },
      "source": [
        "After train for 15 epochs on small dataset the best result gave the model that concatenates two last bert layers, uses just 1 bilstm layer, dropout value 0.5 and has learning rate 5e-4, so let's train such model on all train data. Also, let's use now linear scheduler."
      ]
    },
    {
      "cell_type": "markdown",
      "metadata": {
        "id": "LFu_4fMKPCjv"
      },
      "source": [
        "### Model gradients analysis"
      ]
    },
    {
      "cell_type": "markdown",
      "metadata": {
        "id": "L3mgbU2Jwitf"
      },
      "source": [
        "Grid search has shown us that it's a little bit better to use clipping of gradient. Let's inpect gradient values of pretrained model to find max grad norm value more carefully. "
      ]
    },
    {
      "cell_type": "code",
      "metadata": {
        "colab": {
          "base_uri": "https://localhost:8080/"
        },
        "id": "dP96N0jBPS4-",
        "outputId": "2f192cba-54bc-45d8-ad5d-c9d1d48d2e04"
      },
      "source": [
        "checkpoint = torch.load(PATH_TO_CHECKPOINT+'dropout_beboc.pth')\n",
        "model = checkpoint['model']\n",
        "model.load_state_dict(checkpoint['state_dict'])"
      ],
      "execution_count": null,
      "outputs": [
        {
          "output_type": "execute_result",
          "data": {
            "text/plain": [
              "<All keys matched successfully>"
            ]
          },
          "metadata": {
            "tags": []
          },
          "execution_count": 37
        }
      ]
    },
    {
      "cell_type": "code",
      "metadata": {
        "id": "ePZAYm8i0ChQ"
      },
      "source": [
        "def get_grad_norm(model):\n",
        "    total_norm = 0\n",
        "    for p in model.parameters():\n",
        "        if p.requires_grad:\n",
        "            param_norm = p.grad.data.norm(2)\n",
        "            total_norm += param_norm.item() ** 2 \n",
        "    total_norm = total_norm ** (1. / 2)\n",
        "    return total_norm"
      ],
      "execution_count": null,
      "outputs": []
    },
    {
      "cell_type": "code",
      "metadata": {
        "id": "Gr_-ewye0NKx"
      },
      "source": [
        "model.to(device)"
      ],
      "execution_count": null,
      "outputs": []
    },
    {
      "cell_type": "code",
      "metadata": {
        "colab": {
          "base_uri": "https://localhost:8080/"
        },
        "id": "nNViVt_90oPA",
        "outputId": "1a564085-b724-4a6d-8c9a-ba26af795b42"
      },
      "source": [
        "model.train()\n",
        "grad_norms = []\n",
        "\n",
        "for batch in train_dataloader:\n",
        "    if device.type != 'cpu':\n",
        "            batch = tuple(t.to(device) for t in batch)\n",
        "    b_bert_ids, b_elmo_ids, b_labels, b_input_mask = batch\n",
        "    model.zero_grad()\n",
        "\n",
        "    logits = model.forward(b_bert_ids, b_elmo_ids, b_input_mask.byte())\n",
        "    loss = -1*model.crf.forward(logits, b_labels, mask=b_input_mask.byte())\n",
        "    loss.backward()\n",
        "    grad_norms.append(get_grad_norm(model))"
      ],
      "execution_count": null,
      "outputs": [
        {
          "output_type": "stream",
          "text": [
            "/usr/local/lib/python3.7/dist-packages/torch/nn/modules/container.py:435: UserWarning: Setting attributes on ParameterList is not supported.\n",
            "  warnings.warn(\"Setting attributes on ParameterList is not supported.\")\n"
          ],
          "name": "stderr"
        }
      ]
    },
    {
      "cell_type": "code",
      "metadata": {
        "colab": {
          "base_uri": "https://localhost:8080/",
          "height": 265
        },
        "id": "WOUzVsBRK5kc",
        "outputId": "cd4b5854-866f-4167-c670-c4f4896ec7cc"
      },
      "source": [
        "_ = plt.hist(grad_norms)"
      ],
      "execution_count": null,
      "outputs": [
        {
          "output_type": "display_data",
          "data": {
            "image/png": "[encoded data removed]",
            "text/plain": [
              "<Figure size 432x288 with 1 Axes>"
            ]
          },
          "metadata": {
            "tags": [],
            "needs_background": "light"
          }
        }
      ]
    },
    {
      "cell_type": "code",
      "metadata": {
        "colab": {
          "base_uri": "https://localhost:8080/"
        },
        "id": "Kc-cYctfR5Fk",
        "outputId": "d9f07b95-0d04-4f49-dc65-80b21440be19"
      },
      "source": [
        "print(f'Mean gradient norm: {np.mean(grad_norms)}')"
      ],
      "execution_count": null,
      "outputs": [
        {
          "output_type": "stream",
          "text": [
            "Mean gradient norm: 443.54006613919825\n"
          ],
          "name": "stdout"
        }
      ]
    },
    {
      "cell_type": "markdown",
      "metadata": {
        "id": "jQqboO0ZSM9C"
      },
      "source": [
        "So, let's set max grad norm value to be 500 during training."
      ]
    },
    {
      "cell_type": "markdown",
      "metadata": {
        "id": "RBeYV1uDDOvk"
      },
      "source": [
        "### Cross-validation with the best hyperparams on 5 folds"
      ]
    },
    {
      "cell_type": "markdown",
      "metadata": {
        "id": "6ByjTJrC8P2K"
      },
      "source": [
        "Fix some train parameters\n"
      ]
    },
    {
      "cell_type": "code",
      "metadata": {
        "id": "AnXnYO3H8GDs"
      },
      "source": [
        "N_FOLDS = 5\n",
        "RANDOM_SEED = 42\n",
        "N_EPOCHS = 15\n",
        "BATCH_SIZE = 128"
      ],
      "execution_count": null,
      "outputs": []
    },
    {
      "cell_type": "code",
      "metadata": {
        "id": "Rl13L8v75q0t"
      },
      "source": [
        "kf = KFold(n_splits=N_FOLDS, shuffle=True, random_state=RANDOM_SEED)"
      ],
      "execution_count": null,
      "outputs": []
    },
    {
      "cell_type": "code",
      "metadata": {
        "id": "DPt33hLBurfM"
      },
      "source": [
        "TAG_NAMES = ['ORG', 'LOC', 'PER', 'MISC']"
      ],
      "execution_count": null,
      "outputs": []
    },
    {
      "cell_type": "code",
      "metadata": {
        "id": "umh1pUqOejBX"
      },
      "source": [
        "train_dataset, train_sampler, train_dataloader = dalo.create_dataloader_old(conll.sentences['train'],\n",
        "                                                                            conll.labels['train'], conll.tag2idx,\n",
        "                                                                            bert_tokenizer)"
      ],
      "execution_count": null,
      "outputs": []
    },
    {
      "cell_type": "code",
      "metadata": {
        "id": "QJBtbzEvej7d"
      },
      "source": [
        "valid_dataset, valid_sampler, valid_dataloader = dalo.create_dataloader_old(conll.sentences['valid'],\n",
        "                                                            conll.labels['valid'], conll.tag2idx,\n",
        "                                                            bert_tokenizer, 'valid', desired_pad=train_dataset[0][0].shape[0])"
      ],
      "execution_count": null,
      "outputs": []
    },
    {
      "cell_type": "code",
      "metadata": {
        "id": "jv0PZ6jtmuT_"
      },
      "source": [
        "all_tag_results = []\n",
        "model_results = []\n",
        "\n",
        "for i, (train_index, valid_index) in enumerate(kf.split(train_dataset)):\n",
        "    print(f\"FOLD #{i}\\n\")\n",
        "    # train_dataset based on conll and defined above specially for multiple-head model input\n",
        "    train_fold = torch.utils.data.Subset(train_dataset, train_index)\n",
        "    valid_fold = torch.utils.data.Subset(train_dataset, valid_index)\n",
        "    \n",
        "    _train_dataloader = torch.utils.data.DataLoader(train_fold, batch_size=BATCH_SIZE)\n",
        "    _valid_dataloader = torch.utils.data.DataLoader(valid_fold, batch_size=BATCH_SIZE)\n",
        "\n",
        "    total_steps = len(train_fold) *  N_EPOCHS\n",
        "\n",
        "    model = BEboC(hidden_size=512, num_labels=len(conll.tag2idx), bert_layers=2)\n",
        "    model.to(device)\n",
        "\n",
        "    optimizer = AdamW(params=model.parameters(),lr=5e-4)\n",
        "\n",
        "    scheduler = get_linear_schedule_with_warmup(\n",
        "        optimizer,\n",
        "        num_warmup_steps=0,\n",
        "        num_training_steps=total_steps\n",
        "    )\n",
        "\n",
        "    loss_values, validation_loss_values, valid_accuracies, valid_f1_scores = mu.train_old(model, _train_dataloader, optimizer, conll.idx2tag, device, scheduler, n_epoch=N_EPOCHS,\n",
        "                                                                                          max_grad_norm=500, valid_dataloader=_valid_dataloader, save_model=False)\n",
        "    \n",
        "    # evaluating on all validation data\n",
        "    eval_loss, acc, f1 = mu.eval_old(model, _valid_dataloader, device, conll.idx2tag)\n",
        "    model_results.append({'acc': acc, 'f1': f1})\n",
        "\n",
        "    # evaluating on separate tags\n",
        "    tag_results = {}\n",
        "    for tag in TAG_NAMES:\n",
        "        # old version of create dataloader function is very suitable here\n",
        "        tag_train_dataset, _, _ = dalo.create_dataloader_old(conll_one_tag.sentences['train'],\n",
        "                                                            conll_one_tag.one_tag_dict['train'][tag], conll_one_tag.tag2idx,\n",
        "                                                            bert_tokenizer, desired_pad=train_dataset[0][0].shape[0])\n",
        "        tag_valid_fold = torch.utils.data.Subset(tag_train_dataset, valid_index)\n",
        "        tag_valid_dataloader = torch.utils.data.DataLoader(tag_valid_fold, batch_size=BATCH_SIZE)\n",
        "        eval_loss, acc, f1 = mu.eval_old(model, tag_valid_dataloader, device, conll.idx2tag)\n",
        "        \n",
        "        tag_results[tag] = {'loss': eval_loss, 'acc': acc, 'f1': f1}\n",
        "    \n",
        "    print(f\"tag_results:{tag_results}\")\n",
        "    all_tag_results.append(tag_results)\n",
        "\n",
        "    # cleaning\n",
        "    del model\n",
        "    gc.collect()\n",
        "    torch.cuda.empty_cache()\n",
        "\n",
        "    with open(PATH_TO_CHECKPOINT+f\"beboc_5folds/BEboC-5fold_tag_results_fold{i}.json\", \"w\") as f:\n",
        "        json.dump(tag_results, f)\n",
        "\n",
        "    with open(PATH_TO_CHECKPOINT+f\"beboc_5folds/BEboC-5fold_model_results_fold{i}.json\", \"w\") as f:\n",
        "        json.dump(model_results[-1], f)\n",
        "\n",
        "#with open(PATH_TO_CHECKPOINT+\"BEboC-5fold_tag_results.json\", \"w\") as f:\n",
        "#    json.dump(all_tag_results, f)\n",
        "\n",
        "#with open(PATH_TO_CHECKPOINT+\"BEboC-5fold_model_results.json\", \"w\") as f:\n",
        "#    json.dump(model_results, f)\n"
      ],
      "execution_count": null,
      "outputs": []
    },
    {
      "cell_type": "markdown",
      "metadata": {
        "id": "dB8TmGLD29DC"
      },
      "source": [
        "### Final model train"
      ]
    },
    {
      "cell_type": "code",
      "metadata": {
        "id": "iVfn5z8DMXOd"
      },
      "source": [
        "N_EPOCHS = 15"
      ],
      "execution_count": null,
      "outputs": []
    },
    {
      "cell_type": "code",
      "metadata": {
        "id": "UrTQbk8byXP_"
      },
      "source": [
        "total_steps = len(train_dataloader) *  N_EPOCHS"
      ],
      "execution_count": null,
      "outputs": []
    },
    {
      "cell_type": "code",
      "metadata": {
        "colab": {
          "base_uri": "https://localhost:8080/"
        },
        "id": "r3hRyRjLMNvJ",
        "outputId": "7614b646-ec6a-49d4-9041-60446865d796"
      },
      "source": [
        "model = BEboC(hidden_size=512, bert_layers=2, dropout=0.5)"
      ],
      "execution_count": null,
      "outputs": [
        {
          "output_type": "stream",
          "text": [
            "Some weights of the model checkpoint at bert-base-cased were not used when initializing BertForTokenClassification: ['cls.predictions.bias', 'cls.predictions.transform.dense.weight', 'cls.predictions.transform.dense.bias', 'cls.predictions.decoder.weight', 'cls.seq_relationship.weight', 'cls.seq_relationship.bias', 'cls.predictions.transform.LayerNorm.weight', 'cls.predictions.transform.LayerNorm.bias']\n",
            "- This IS expected if you are initializing BertForTokenClassification from the checkpoint of a model trained on another task or with another architecture (e.g. initializing a BertForSequenceClassification model from a BertForPreTraining model).\n",
            "- This IS NOT expected if you are initializing BertForTokenClassification from the checkpoint of a model that you expect to be exactly identical (initializing a BertForSequenceClassification model from a BertForSequenceClassification model).\n",
            "Some weights of BertForTokenClassification were not initialized from the model checkpoint at bert-base-cased and are newly initialized: ['classifier.weight', 'classifier.bias']\n",
            "You should probably TRAIN this model on a down-stream task to be able to use it for predictions and inference.\n"
          ],
          "name": "stderr"
        }
      ]
    },
    {
      "cell_type": "code",
      "metadata": {
        "id": "sZAlC_Vin_lH"
      },
      "source": [
        "model.init_weights()"
      ],
      "execution_count": null,
      "outputs": []
    },
    {
      "cell_type": "code",
      "metadata": {
        "id": "noc7jM-228Jf"
      },
      "source": [
        "model.to(device)"
      ],
      "execution_count": null,
      "outputs": []
    },
    {
      "cell_type": "code",
      "metadata": {
        "id": "ZtAb2SH5MPr_"
      },
      "source": [
        "optimizer = AdamW(params=model.parameters(), lr=5e-4)\n",
        "\n",
        "scheduler = get_linear_schedule_with_warmup(\n",
        "    optimizer,\n",
        "    num_warmup_steps=0,\n",
        "    num_training_steps=total_steps\n",
        ")\n",
        "\n",
        "#if device.type != 'cpu':\n",
        "#    model.to(device)\n",
        "\n",
        "#train_losses, valid_losses, valid_accs, valid_f1s\n",
        "results = mu.train_old(model, train_dataloader, optimizer, conll.idx2tag, device,\n",
        "                        scheduler, n_epoch=N_EPOCHS, max_grad_norm=500,\n",
        "                        valid_dataloader=valid_dataloader, \n",
        "                        save_path=PATH_TO_CHECKPOINT+'new_beboc.pth')\n",
        "\n",
        "with open(PATH_TO_CHECKPOINT+'new_beboc_results.json', 'w') as f:\n",
        "    json.dump(results, f)"
      ],
      "execution_count": null,
      "outputs": []
    },
    {
      "cell_type": "code",
      "metadata": {
        "colab": {
          "base_uri": "https://localhost:8080/",
          "height": 497
        },
        "id": "BNCH0fryUcYw",
        "outputId": "777904cb-895c-4319-ab1d-566bc163aa8b"
      },
      "source": [
        "fig = plt.figure(figsize=(10,8))\n",
        "plt.plot(results[0], label='train loss')\n",
        "plt.plot(results[1], label='valid loss')\n",
        "plt.legend()\n",
        "plt.grid()\n",
        "plt.ylabel(\"loss\")\n",
        "plt.xlabel(\"#epoch\")\n",
        "plt.xticks(np.arange(0,15,2))\n",
        "plt.show()"
      ],
      "execution_count": null,
      "outputs": [
        {
          "output_type": "display_data",
          "data": {
            "image/png": "[encoded data removed]",
            "text/plain": [
              "<Figure size 720x576 with 1 Axes>"
            ]
          },
          "metadata": {
            "tags": [],
            "needs_background": "light"
          }
        }
      ]
    },
    {
      "cell_type": "markdown",
      "metadata": {
        "id": "4tqWLr8kihG4"
      },
      "source": [
        "If we want to train model for more time"
      ]
    },
    {
      "cell_type": "code",
      "metadata": {
        "colab": {
          "base_uri": "https://localhost:8080/"
        },
        "id": "-ts056laRSDc",
        "outputId": "ec5abe6f-41eb-402a-ab4c-e618c857b49c"
      },
      "source": [
        "checkpoint = torch.load(PATH_TO_CHECKPOINT+'new_beboc.pth')\n",
        "model = checkpoint['model']\n",
        "model.load_state_dict(checkpoint['state_dict'])"
      ],
      "execution_count": null,
      "outputs": [
        {
          "output_type": "execute_result",
          "data": {
            "text/plain": [
              "<All keys matched successfully>"
            ]
          },
          "metadata": {
            "tags": []
          },
          "execution_count": 14
        }
      ]
    },
    {
      "cell_type": "code",
      "metadata": {
        "id": "A_WyjXJoifw1"
      },
      "source": [
        "N_EPOCHS = 25\n",
        "total_steps = len(train_dataloader) *  N_EPOCHS\n",
        "\n",
        "optimizer = AdamW(params=model.parameters(), lr=5e-4)\n",
        "\n",
        "scheduler = get_linear_schedule_with_warmup(\n",
        "    optimizer,\n",
        "    num_warmup_steps=0,\n",
        "    num_training_steps=total_steps\n",
        ")\n",
        "\n",
        "if device.type != 'cpu':\n",
        "    model.to(device)\n",
        "  \n",
        "model.train()\n",
        "\n",
        "#train_losses, valid_losses, valid_accs, valid_f1s\n",
        "results = mu.train_old(model, train_dataloader, optimizer, conll.idx2tag, device,\n",
        "                        scheduler, n_epoch=N_EPOCHS, max_grad_norm=500, \n",
        "                        early_stopping_steps=10, valid_dataloader=valid_dataloader, \n",
        "                        save_path=PATH_TO_CHECKPOINT+'new_beboc_v1.pth')"
      ],
      "execution_count": null,
      "outputs": []
    },
    {
      "cell_type": "code",
      "metadata": {
        "colab": {
          "base_uri": "https://localhost:8080/",
          "height": 513
        },
        "id": "6O0ec0O4R__y",
        "outputId": "60d585c2-7a86-47bb-a361-0d8d4d270643"
      },
      "source": [
        "fig = plt.figure(figsize=(10,8))\n",
        "plt.plot(results[0], label='train loss')\n",
        "plt.plot(results[1], label='valid loss')\n",
        "plt.legend()\n",
        "plt.grid()\n",
        "plt.ylabel(\"loss\")\n",
        "plt.xlabel(\"#epoch\")\n",
        "plt.title('Fine-tuning pretrained model')\n",
        "plt.xticks(np.arange(0,25,2))\n",
        "plt.show()"
      ],
      "execution_count": null,
      "outputs": [
        {
          "output_type": "display_data",
          "data": {
            "image/png": "[encoded data removed]",
            "text/plain": [
              "<Figure size 720x576 with 1 Axes>"
            ]
          },
          "metadata": {
            "tags": [],
            "needs_background": "light"
          }
        }
      ]
    },
    {
      "cell_type": "code",
      "metadata": {
        "colab": {
          "base_uri": "https://localhost:8080/",
          "height": 567
        },
        "id": "CGdw_jfJREQz",
        "outputId": "740a8053-df14-4a65-ec46-084f8734cd2c"
      },
      "source": [
        "fig = plt.figure(figsize=(10,9))\n",
        "_ = plt.plot(results[3])\n",
        "plt.grid()\n",
        "plt.xlabel('#epoch')\n",
        "plt.ylabel('f1')\n",
        "plt.title('f1 score on validation')\n",
        "plt.show()"
      ],
      "execution_count": null,
      "outputs": [
        {
          "output_type": "display_data",
          "data": {
            "image/png": "[encoded data removed]",
            "text/plain": [
              "<Figure size 720x648 with 1 Axes>"
            ]
          },
          "metadata": {
            "tags": [],
            "needs_background": "light"
          }
        }
      ]
    },
    {
      "cell_type": "markdown",
      "metadata": {
        "id": "_55aneQlAzpC"
      },
      "source": [
        "If we want to evaluate the best model on the test set"
      ]
    },
    {
      "cell_type": "code",
      "metadata": {
        "id": "f0bd-fXwgE0J"
      },
      "source": [
        "test_dataset, test_sampler, test_dataloader = dalo.create_dataloader_old(conll.sentences['test'],\n",
        "                                                            conll.labels['test'], conll.tag2idx,\n",
        "                                                            bert_tokenizer, 'test', desired_pad=train_dataset[0][0].shape[0])"
      ],
      "execution_count": null,
      "outputs": []
    },
    {
      "cell_type": "code",
      "metadata": {
        "id": "ho1fi5rCMTJN",
        "colab": {
          "base_uri": "https://localhost:8080/"
        },
        "outputId": "0c23ed9c-4227-4415-f89a-cc0497720c9a"
      },
      "source": [
        "# eval model on the test data\n",
        "mean_loss, mean_acc, mean_f1 = mu.eval_old(model, test_dataloader, device, conll.idx2tag)\n",
        "print(f\"test loss: {mean_loss}\")\n",
        "print(f\"test accuracy: {mean_acc}\")\n",
        "print(f\"test f1-score: {mean_f1}\")"
      ],
      "execution_count": null,
      "outputs": [
        {
          "output_type": "stream",
          "text": [
            "/usr/local/lib/python3.7/dist-packages/torch/nn/modules/container.py:435: UserWarning: Setting attributes on ParameterList is not supported.\n",
            "  warnings.warn(\"Setting attributes on ParameterList is not supported.\")\n"
          ],
          "name": "stderr"
        },
        {
          "output_type": "stream",
          "text": [
            "test loss: 525.2450199833622\n",
            "test accuracy: 0.9720465559139938\n",
            "test f1-score: 0.8861272208413882\n"
          ],
          "name": "stdout"
        }
      ]
    },
    {
      "cell_type": "markdown",
      "metadata": {
        "id": "97x4ZM_bBLE9"
      },
      "source": [
        "___"
      ]
    },
    {
      "cell_type": "markdown",
      "metadata": {
        "id": "W4iZbz4pAgg9"
      },
      "source": [
        "### Load the model"
      ]
    },
    {
      "cell_type": "code",
      "metadata": {
        "id": "tlJ5NZwVi5iQ"
      },
      "source": [
        "model = torch.load('/content/drive/My Drive/models/BERT_biLSTM_oneCRF.pth',\n",
        "                   map_location=torch.device('cpu'))"
      ],
      "execution_count": null,
      "outputs": []
    },
    {
      "cell_type": "code",
      "metadata": {
        "id": "4LdgKkJXCdHU"
      },
      "source": [
        "model = torch.load('/content/drive/My Drive/models/Elmo_BERT_biLSTM_oneCRF.pth',\n",
        "                   map_location=torch.device('cpu'))"
      ],
      "execution_count": null,
      "outputs": []
    },
    {
      "cell_type": "code",
      "metadata": {
        "id": "l72fDasHEj_2"
      },
      "source": [
        "def load_checkpoint(tokenizer_path, checkpoint_path):\n",
        "    \"\"\"Loads both tokenizer and our pretrained model\"\"\"\n",
        "    tokenizer = tokenizer = BertTokenizer.from_pretrained(tokenizer_path)\n",
        "    checkpoint = torch.load(checkpoint_path)\n",
        "    model = checkpoint['model']\n",
        "    model.load_state_dict(checkpoint['state_dict'])\n",
        "    #for parameter in model.parameters():\n",
        "    #    parameter.requires_grad = False\n",
        "\n",
        "    model.eval()\n",
        "    return tokenizer, model"
      ],
      "execution_count": null,
      "outputs": []
    },
    {
      "cell_type": "code",
      "metadata": {
        "id": "36G1_emY6nIF"
      },
      "source": [
        "tokenizer, model = load_checkpoint('/content/drive/My Drive/models/ElMo_BERT_biLSTM_oneCRF_19_tokenizer.pth',\n",
        "                                     '/content/drive/My Drive/models/ElMo_BERT_biLSTM_oneCRF_19_state_dict.pth')"
      ],
      "execution_count": null,
      "outputs": []
    },
    {
      "cell_type": "code",
      "metadata": {
        "colab": {
          "base_uri": "https://localhost:8080/"
        },
        "id": "w67J1ykrSs21",
        "outputId": "b6fb6770-ae59-45f9-996a-1d52ada63e7d"
      },
      "source": [
        "tokenizer.save_pretrained(f'/content/drive/My Drive/models/ElMo_BERT_biLSTM_oneCRF_19_tokenizer.pth')\n",
        "checkpoint = {'model': BEboC(hidden_size=512, bert_layers=2),\n",
        "              'state_dict': model.state_dict(), \n",
        "              'optimizer' : optimizer.state_dict()}\n",
        "\n",
        "torch.save(checkpoint,\n",
        "            f'/content/drive/My Drive/models/ElMo_BERT_biLSTM_oneCRF_19_state_dict.pth')"
      ],
      "execution_count": null,
      "outputs": [
        {
          "output_type": "stream",
          "text": [
            "Some weights of the model checkpoint at bert-base-cased were not used when initializing BertForTokenClassification: ['cls.predictions.bias', 'cls.predictions.transform.dense.weight', 'cls.predictions.transform.dense.bias', 'cls.predictions.decoder.weight', 'cls.seq_relationship.weight', 'cls.seq_relationship.bias', 'cls.predictions.transform.LayerNorm.weight', 'cls.predictions.transform.LayerNorm.bias']\n",
            "- This IS expected if you are initializing BertForTokenClassification from the checkpoint of a model trained on another task or with another architecture (e.g. initializing a BertForSequenceClassification model from a BertForPreTraining model).\n",
            "- This IS NOT expected if you are initializing BertForTokenClassification from the checkpoint of a model that you expect to be exactly identical (initializing a BertForSequenceClassification model from a BertForSequenceClassification model).\n",
            "Some weights of BertForTokenClassification were not initialized from the model checkpoint at bert-base-cased and are newly initialized: ['classifier.weight', 'classifier.bias']\n",
            "You should probably TRAIN this model on a down-stream task to be able to use it for predictions and inference.\n"
          ],
          "name": "stderr"
        }
      ]
    },
    {
      "cell_type": "code",
      "metadata": {
        "id": "beoXMar6EssL"
      },
      "source": [
        "train_dataset, train_sampler, train_dataloader = create_dataloader(tokenizer, train_data, train_labels)"
      ],
      "execution_count": null,
      "outputs": []
    },
    {
      "cell_type": "code",
      "metadata": {
        "id": "lAhyHC69E8qd"
      },
      "source": [
        "for s in train_dataset:\n",
        "  max_seq_len = s[1].shape[0]\n",
        "  break"
      ],
      "execution_count": null,
      "outputs": []
    },
    {
      "cell_type": "code",
      "metadata": {
        "id": "3PnWw3uSEptE"
      },
      "source": [
        "test_dataset, test_sampler, test_dataloader = create_dataloader(tokenizer, test_data, test_labels,\n",
        "                                                                   datatype='test',\n",
        "                                                                   desired_pad=max_seq_len)"
      ],
      "execution_count": null,
      "outputs": []
    },
    {
      "cell_type": "code",
      "metadata": {
        "colab": {
          "base_uri": "https://localhost:8080/"
        },
        "id": "J3j0QLosgsvL",
        "outputId": "55ac4c06-2dd8-4031-a0dd-4c3e63f68696"
      },
      "source": [
        "model.to(device)\n",
        "model.eval()\n",
        "test_losses = []\n",
        "true_labels = []\n",
        "pred_labels = []\n",
        "for step, batch in enumerate(test_dataloader):\n",
        "    # add batch to gpu\n",
        "    batch = tuple(t.to(device) for t in batch)\n",
        "    b_elmo_ids, b_bert_ids, b_input_mask, b_labels = batch\n",
        "    batch_true_labels = b_labels\n",
        "    for bl in batch_true_labels.detach().cpu().tolist():\n",
        "      tag_names = [idx2tag[i] for i in bl if idx2tag[i] != 'PAD']\n",
        "      true_labels.append(tag_names)\n",
        "    \n",
        "    # Always clear any previously calculated gradients before performing a backward pass.\n",
        "    # forward pass\n",
        "    # This will return the loss (rather than the model output)\n",
        "    # because we have provided the `labels`.\n",
        "    with torch.no_grad():\n",
        "        logits = model.forward(b_elmo_ids, b_bert_ids, b_input_mask.byte())\n",
        "        loss = model.crf.forward(logits, b_labels, b_input_mask.byte())\n",
        "        test_losses.append(loss.item())\n",
        "        tags = model.crf.decode(logits, b_input_mask.byte())\n",
        "    for t in tags:\n",
        "      tag_names = [idx2tag[i] for i in t]\n",
        "      pred_labels.append(tag_names)"
      ],
      "execution_count": null,
      "outputs": [
        {
          "output_type": "stream",
          "text": [
            "/usr/local/lib/python3.6/dist-packages/torch/nn/modules/container.py:434: UserWarning: Setting attributes on ParameterList is not supported.\n",
            "  warnings.warn(\"Setting attributes on ParameterList is not supported.\")\n"
          ],
          "name": "stderr"
        }
      ]
    },
    {
      "cell_type": "code",
      "metadata": {
        "colab": {
          "base_uri": "https://localhost:8080/"
        },
        "id": "Wfdmdhpghyar",
        "outputId": "64c845c4-3c93-4dcc-f28f-4d1bba83deae"
      },
      "source": [
        "f1_score(true_labels, pred_labels)"
      ],
      "execution_count": null,
      "outputs": [
        {
          "output_type": "execute_result",
          "data": {
            "text/plain": [
              "0.8405783838198957"
            ]
          },
          "metadata": {
            "tags": []
          },
          "execution_count": 39
        }
      ]
    },
    {
      "cell_type": "markdown",
      "metadata": {
        "id": "lEjtb2Ft2Yqb"
      },
      "source": [
        "### Evaluate model on tags separately"
      ]
    },
    {
      "cell_type": "code",
      "metadata": {
        "id": "h3CK0kq62iRi"
      },
      "source": [
        "checkpoint = torch.load(PATH_TO_CHECKPOINT+'new_beboc.pth')\n",
        "model = checkpoint['model']\n",
        "model.load_state_dict(checkpoint['state_dict'])\n",
        "model.eval()\n",
        "model.to(device)"
      ],
      "execution_count": null,
      "outputs": []
    },
    {
      "cell_type": "markdown",
      "metadata": {
        "id": "O0Ld3OM42fCa"
      },
      "source": [
        "Evaluating on the entire validation dataset"
      ]
    },
    {
      "cell_type": "code",
      "metadata": {
        "id": "kOf_Fc7D2eXw"
      },
      "source": [
        "# 173 because I remember this value (max len from the training)\n",
        "valid_dataset, valid_sampler, valid_dataloader = dalo.create_dataloader(conll, bert_tokenizer, datatype='valid', desired_pad=173)"
      ],
      "execution_count": null,
      "outputs": []
    },
    {
      "cell_type": "code",
      "metadata": {
        "colab": {
          "base_uri": "https://localhost:8080/"
        },
        "id": "p6M6iqPU2-Cn",
        "outputId": "31e069be-c5c4-45b0-a1dd-d3b9ecb4e342"
      },
      "source": [
        "mu.eval_old(model, valid_dataloader, device, conll.idx2tag)"
      ],
      "execution_count": null,
      "outputs": [
        {
          "output_type": "stream",
          "text": [
            "/usr/local/lib/python3.7/dist-packages/torch/nn/modules/container.py:435: UserWarning: Setting attributes on ParameterList is not supported.\n",
            "  warnings.warn(\"Setting attributes on ParameterList is not supported.\")\n"
          ],
          "name": "stderr"
        },
        {
          "output_type": "execute_result",
          "data": {
            "text/plain": [
              "(261.8769278893104, 0.9857753062540296, 0.9361052489784921)"
            ]
          },
          "metadata": {
            "tags": []
          },
          "execution_count": 31
        }
      ]
    },
    {
      "cell_type": "markdown",
      "metadata": {
        "id": "y2OGaw-U6HL3"
      },
      "source": [
        "So, f1-score on the entire validation dataset is 0.936"
      ]
    },
    {
      "cell_type": "markdown",
      "metadata": {
        "id": "OIgCNhNR3jIq"
      },
      "source": [
        "Let's evaluate the old model on just PER entity"
      ]
    },
    {
      "cell_type": "code",
      "metadata": {
        "id": "NbNPhjby3g8j"
      },
      "source": [
        "valid_dataset, valid_sampler, valid_dataloader = dalo.create_dataloader_old(conll_one_tag.sentences['valid'],\n",
        "                                                                            conll_one_tag.one_tag_dict['valid']['PER'], conll.tag2idx,\n",
        "                                                                            bert_tokenizer, datatype='valid', desired_pad=173)"
      ],
      "execution_count": null,
      "outputs": []
    },
    {
      "cell_type": "code",
      "metadata": {
        "colab": {
          "base_uri": "https://localhost:8080/"
        },
        "id": "W7aQy_o83nHC",
        "outputId": "9c4979f1-a13f-4419-c31e-c2ad774f62ef"
      },
      "source": [
        "mu.eval_old(model, valid_dataloader, device, conll.idx2tag)"
      ],
      "execution_count": null,
      "outputs": [
        {
          "output_type": "stream",
          "text": [
            "/usr/local/lib/python3.7/dist-packages/torch/nn/modules/container.py:435: UserWarning: Setting attributes on ParameterList is not supported.\n",
            "  warnings.warn(\"Setting attributes on ParameterList is not supported.\")\n"
          ],
          "name": "stderr"
        },
        {
          "output_type": "execute_result",
          "data": {
            "text/plain": [
              "(4335.669142503005, 0.8670481409843112, 0.4411235644112356)"
            ]
          },
          "metadata": {
            "tags": []
          },
          "execution_count": 23
        }
      ]
    },
    {
      "cell_type": "markdown",
      "metadata": {
        "id": "JprLailV6hU4"
      },
      "source": [
        "ORG"
      ]
    },
    {
      "cell_type": "code",
      "metadata": {
        "id": "Rbh7Me7b6hi_"
      },
      "source": [
        "valid_dataset, valid_sampler, valid_dataloader = dalo.create_dataloader_old(conll_one_tag.sentences['valid'],\n",
        "                                                                            conll_one_tag.one_tag_dict['valid']['ORG'], conll.tag2idx,\n",
        "                                                                            bert_tokenizer, datatype='valid', desired_pad=173)"
      ],
      "execution_count": null,
      "outputs": []
    },
    {
      "cell_type": "code",
      "metadata": {
        "colab": {
          "base_uri": "https://localhost:8080/"
        },
        "id": "jEFofmU06qIc",
        "outputId": "d508e436-2de1-4955-c70a-556c43cf992b"
      },
      "source": [
        "mu.eval_old(model, valid_dataloader, device, conll.idx2tag)"
      ],
      "execution_count": null,
      "outputs": [
        {
          "output_type": "stream",
          "text": [
            "/usr/local/lib/python3.7/dist-packages/torch/nn/modules/container.py:435: UserWarning: Setting attributes on ParameterList is not supported.\n",
            "  warnings.warn(\"Setting attributes on ParameterList is not supported.\")\n"
          ],
          "name": "stderr"
        },
        {
          "output_type": "execute_result",
          "data": {
            "text/plain": [
              "(5549.048011192908, 0.8306871910595315, 0.36074347291531067)"
            ]
          },
          "metadata": {
            "tags": []
          },
          "execution_count": 29
        }
      ]
    },
    {
      "cell_type": "markdown",
      "metadata": {
        "id": "8sgKz1iB6syH"
      },
      "source": [
        "LOC"
      ]
    },
    {
      "cell_type": "code",
      "metadata": {
        "id": "OkzeVRz36vdD"
      },
      "source": [
        "valid_dataset, valid_sampler, valid_dataloader = dalo.create_dataloader_old(conll_one_tag.sentences['valid'],\n",
        "                                                                            conll_one_tag.one_tag_dict['valid']['LOC'], conll.tag2idx,\n",
        "                                                                            bert_tokenizer, datatype='valid', desired_pad=173)"
      ],
      "execution_count": null,
      "outputs": []
    },
    {
      "cell_type": "code",
      "metadata": {
        "colab": {
          "base_uri": "https://localhost:8080/"
        },
        "id": "Ozsuxnpy6y6u",
        "outputId": "8fa87865-abe6-47a5-b657-a95b5796976e"
      },
      "source": [
        "mu.eval_old(model, valid_dataloader, device, conll.idx2tag)"
      ],
      "execution_count": null,
      "outputs": [
        {
          "output_type": "stream",
          "text": [
            "/usr/local/lib/python3.7/dist-packages/torch/nn/modules/container.py:435: UserWarning: Setting attributes on ParameterList is not supported.\n",
            "  warnings.warn(\"Setting attributes on ParameterList is not supported.\")\n"
          ],
          "name": "stderr"
        },
        {
          "output_type": "execute_result",
          "data": {
            "text/plain": [
              "(5305.535513070913, 0.8349854932301741, 0.46964769647696475)"
            ]
          },
          "metadata": {
            "tags": []
          },
          "execution_count": 26
        }
      ]
    },
    {
      "cell_type": "markdown",
      "metadata": {
        "id": "E528jjfa61eH"
      },
      "source": [
        "The last values above are f1-scores:\n",
        "\n",
        "'PER' - 0.4411235644112356\n",
        "\n",
        "'ORG' - 0.36074347291531067\n",
        "\n",
        "'LOC' - 0.46964769647696475"
      ]
    },
    {
      "cell_type": "markdown",
      "metadata": {
        "id": "Ct8d_FlWwCaJ"
      },
      "source": [
        "### Train BEboC on data with three labels (without MISC)."
      ]
    },
    {
      "cell_type": "markdown",
      "metadata": {
        "id": "YCFnCe9G8NFA"
      },
      "source": [
        "But CRF is still knows that there is another tag that he doesn't meet during this training (it is inpossible to add new tags to CRF)"
      ]
    },
    {
      "cell_type": "code",
      "metadata": {
        "id": "CAg-S9STwG6w"
      },
      "source": [
        "labels_w_misc = {}\n",
        "for typ in ['train', 'valid']:\n",
        "    labels_w_misc[typ] = [[l if 'MISC' not in l else 'O' for l in sen] for sen in conll.labels[typ]]"
      ],
      "execution_count": null,
      "outputs": []
    },
    {
      "cell_type": "code",
      "metadata": {
        "colab": {
          "base_uri": "https://localhost:8080/"
        },
        "id": "H1j2pSMTwRYF",
        "outputId": "71ab18c6-6f6e-421a-86d0-8e5c47fd6371"
      },
      "source": [
        "print(conll.labels['train'][0])\n",
        "print(labels_w_misc['train'][0])"
      ],
      "execution_count": null,
      "outputs": [
        {
          "output_type": "stream",
          "text": [
            "['B-ORG', 'O', 'B-MISC', 'O', 'O', 'O', 'B-MISC', 'O', 'O']\n",
            "['B-ORG', 'O', 'O', 'O', 'O', 'O', 'O', 'O', 'O']\n"
          ],
          "name": "stdout"
        }
      ]
    },
    {
      "cell_type": "code",
      "metadata": {
        "id": "tvmrT2sBwTUY"
      },
      "source": [
        "train_dataset, train_sampler, train_dataloader = dalo.create_dataloader_old(conll.sentences['train'],\n",
        "                                                                            labels_w_misc['train'], conll.tag2idx,\n",
        "                                                                            bert_tokenizer)\n",
        "\n",
        "valid_dataset, valid_sampler, valid_dataloader = dalo.create_dataloader_old(conll.sentences['valid'],\n",
        "                                                            labels_w_misc['valid'], conll.tag2idx,\n",
        "                                                            bert_tokenizer, 'valid', desired_pad=train_dataset[0][0].shape[0])"
      ],
      "execution_count": null,
      "outputs": []
    },
    {
      "cell_type": "code",
      "metadata": {
        "id": "D0xwW9yfxESY"
      },
      "source": [
        "N_EPOCHS = 15\n",
        "total_steps = len(train_dataloader) *  N_EPOCHS"
      ],
      "execution_count": null,
      "outputs": []
    },
    {
      "cell_type": "code",
      "metadata": {
        "colab": {
          "base_uri": "https://localhost:8080/",
          "height": 254,
          "referenced_widgets": [
            "f06d4f3f09e44d7281575f8ee9b8b8eb",
            "a710f50332c04a2a8b4e65c7c3d1dc30",
            "9a2e456c1e864e098a5eff059e3920ae",
            "28631b66e20046ad8dc16a9a576160fc",
            "4089fd51dead419189a1c9d0856e992f",
            "9b29bc675ea7456ba9724c44986d3b43",
            "2c71105966934923afb6d0d923884af4",
            "f7932c6432954d01b73b3a856116991c",
            "ade080fbbbfb4bb080edbf58da5ad5fe",
            "f5b9ac612c064b949099708ccd020f08",
            "7bd992fe00dd44a6a686325e71f23cad",
            "8dde2b3b744e48abb7c67df105a09e68",
            "1af0a6b1f7654da0b54ebbe8cf7ea5ce",
            "ca2c3838700b481198277fbb72a7f6c6",
            "c85299002a1941259f2c6343016bd7a6",
            "12df2642d803487fa9575e80c738012d"
          ]
        },
        "id": "Gttj5xnYw-Po",
        "outputId": "1f2e9d35-dd12-4eb6-8070-b690bfc41323"
      },
      "source": [
        "model = BEboC(hidden_size=512, bert_layers=2, dropout=0.5)"
      ],
      "execution_count": null,
      "outputs": [
        {
          "output_type": "display_data",
          "data": {
            "application/vnd.jupyter.widget-view+json": {
              "model_id": "f06d4f3f09e44d7281575f8ee9b8b8eb",
              "version_minor": 0,
              "version_major": 2
            },
            "text/plain": [
              "HBox(children=(FloatProgress(value=0.0, description='Downloading', max=433.0, style=ProgressStyle(description_…"
            ]
          },
          "metadata": {
            "tags": []
          }
        },
        {
          "output_type": "stream",
          "text": [
            "\n"
          ],
          "name": "stdout"
        },
        {
          "output_type": "display_data",
          "data": {
            "application/vnd.jupyter.widget-view+json": {
              "model_id": "ade080fbbbfb4bb080edbf58da5ad5fe",
              "version_minor": 0,
              "version_major": 2
            },
            "text/plain": [
              "HBox(children=(FloatProgress(value=0.0, description='Downloading', max=435779157.0, style=ProgressStyle(descri…"
            ]
          },
          "metadata": {
            "tags": []
          }
        },
        {
          "output_type": "stream",
          "text": [
            "\n"
          ],
          "name": "stdout"
        },
        {
          "output_type": "stream",
          "text": [
            "Some weights of the model checkpoint at bert-base-cased were not used when initializing BertForTokenClassification: ['cls.predictions.bias', 'cls.predictions.transform.dense.weight', 'cls.predictions.transform.dense.bias', 'cls.predictions.decoder.weight', 'cls.seq_relationship.weight', 'cls.seq_relationship.bias', 'cls.predictions.transform.LayerNorm.weight', 'cls.predictions.transform.LayerNorm.bias']\n",
            "- This IS expected if you are initializing BertForTokenClassification from the checkpoint of a model trained on another task or with another architecture (e.g. initializing a BertForSequenceClassification model from a BertForPreTraining model).\n",
            "- This IS NOT expected if you are initializing BertForTokenClassification from the checkpoint of a model that you expect to be exactly identical (initializing a BertForSequenceClassification model from a BertForSequenceClassification model).\n",
            "Some weights of BertForTokenClassification were not initialized from the model checkpoint at bert-base-cased and are newly initialized: ['classifier.weight', 'classifier.bias']\n",
            "You should probably TRAIN this model on a down-stream task to be able to use it for predictions and inference.\n",
            "downloading: 100%|##########| 336/336 [00:00<00:00, 965926.08B/s]\n",
            "downloading: 100%|##########| 112140184/112140184 [00:02<00:00, 53843224.96B/s]\n"
          ],
          "name": "stderr"
        }
      ]
    },
    {
      "cell_type": "code",
      "metadata": {
        "colab": {
          "base_uri": "https://localhost:8080/"
        },
        "id": "iLl1QJQzyvoQ",
        "outputId": "883a1cd9-c431-42c8-d8fb-7c8c0c441896"
      },
      "source": [
        "reload(mu)"
      ],
      "execution_count": null,
      "outputs": [
        {
          "output_type": "execute_result",
          "data": {
            "text/plain": [
              "<module 'model_utils' from '/content/drive/My Drive/Serious/model_utils.py'>"
            ]
          },
          "metadata": {
            "tags": []
          },
          "execution_count": 68
        }
      ]
    },
    {
      "cell_type": "code",
      "metadata": {
        "id": "fAKj2Dp13Uiz"
      },
      "source": [
        "model.to(device)"
      ],
      "execution_count": null,
      "outputs": []
    },
    {
      "cell_type": "code",
      "metadata": {
        "id": "Evj-hxxGxMfe"
      },
      "source": [
        "optimizer = AdamW(params=model.parameters(),lr=5e-4)\n",
        "\n",
        "scheduler = get_linear_schedule_with_warmup(\n",
        "    optimizer,\n",
        "    num_warmup_steps=0,\n",
        "    num_training_steps=total_steps\n",
        ")\n",
        "\n",
        "#train_losses, valid_losses, valid_accs, valid_f1s\n",
        "results = mu.train_old(model, train_dataloader, optimizer, conll.idx2tag, device,\n",
        "                       scheduler, n_epoch=N_EPOCHS, max_grad_norm=500,\n",
        "                       validate=True, valid_dataloader=valid_dataloader, \n",
        "                       save_path=PATH_TO_CHECKPOINT+'Beboc_without_misc.pth')"
      ],
      "execution_count": null,
      "outputs": []
    },
    {
      "cell_type": "markdown",
      "metadata": {
        "id": "XJ5MGmRy4wIP"
      },
      "source": [
        "### Continue to train BEboC on data with MISC"
      ]
    },
    {
      "cell_type": "markdown",
      "metadata": {
        "id": "GbVjUiF845tG"
      },
      "source": [
        "Now let's try to keep 85% of examples with one or more tags MISC and 15% without it. So, we would simulate the real case of receiving new data with new tag."
      ]
    },
    {
      "cell_type": "code",
      "metadata": {
        "colab": {
          "base_uri": "https://localhost:8080/"
        },
        "id": "8kOBURT5pstG",
        "outputId": "5c124992-c2d4-4eef-a296-c9d604539f91"
      },
      "source": [
        "checkpoint = torch.load(PATH_TO_CHECKPOINT+'Beboc_without_misc.pth')\n",
        "model = checkpoint['model']\n",
        "model.load_state_dict(checkpoint['state_dict'])"
      ],
      "execution_count": null,
      "outputs": [
        {
          "output_type": "execute_result",
          "data": {
            "text/plain": [
              "<All keys matched successfully>"
            ]
          },
          "metadata": {
            "tags": []
          },
          "execution_count": 12
        }
      ]
    },
    {
      "cell_type": "code",
      "metadata": {
        "id": "1Pg5P8i41HIb"
      },
      "source": [
        "indexes_with_misc = [i for i, s in enumerate(conll.labels['train']) if 'B-MISC' in s]\n",
        "indexes_without_misc = [i for i in range(len(conll.labels['train'])) if i not in indexes_with_misc]"
      ],
      "execution_count": null,
      "outputs": []
    },
    {
      "cell_type": "code",
      "metadata": {
        "colab": {
          "base_uri": "https://localhost:8080/"
        },
        "id": "gJfUQ_oE5bR3",
        "outputId": "cdad9705-597b-4972-fc6e-ff16166d716e"
      },
      "source": [
        "print(f\"# sentences with MISC: {len(indexes_with_misc)}\")\n",
        "print(f\"# sentences without MISC: {len(indexes_without_misc)}\")"
      ],
      "execution_count": null,
      "outputs": [
        {
          "output_type": "stream",
          "text": [
            "# sentences with MISC: 2698\n",
            "# sentences without MISC: 11343\n"
          ],
          "name": "stdout"
        }
      ]
    },
    {
      "cell_type": "markdown",
      "metadata": {
        "id": "UNNVZGw25g_G"
      },
      "source": [
        "Also, let's consider multiple \"random\" cases."
      ]
    },
    {
      "cell_type": "code",
      "metadata": {
        "id": "zxedMhtGBFF1"
      },
      "source": [
        "BATCH_SIZE=32\n",
        "RANDOM_SEED=42\n",
        "N_EPOCHS = 15"
      ],
      "execution_count": null,
      "outputs": []
    },
    {
      "cell_type": "code",
      "metadata": {
        "id": "3yBCGSa65des"
      },
      "source": [
        "results_dict = {}\n",
        "for seed in [1234, 12345]:\n",
        "    print(f\"SEED:{seed}\")\n",
        "    np.random.seed(seed)\n",
        "    results_dict[seed] = {}\n",
        "\n",
        "    for n_train_samples in range(100, 351, 50):\n",
        "        print(f\"NUMBER OF TRAIN SAMPLES: {n_train_samples}\")\n",
        "        \n",
        "        torch.cuda.empty_cache()\n",
        "\n",
        "        model = checkpoint['model']\n",
        "        model.load_state_dict(checkpoint['state_dict'])\n",
        "        \n",
        "        model.train()\n",
        "        \n",
        "        # I just remember that max sequence length in train is 173\n",
        "        all_valid_dataset, all_valid_sampler, all_valid_dataloader = dalo.create_dataloader_old(conll.sentences['valid'],\n",
        "                                                                              conll.labels['valid'], conll.tag2idx,\n",
        "                                                                              bert_tokenizer, 'valid', desired_pad=173)\n",
        "        \n",
        "        # train indexes\n",
        "        n_train_with_misc = int(n_train_samples*0.85)\n",
        "        train_misk_indexes = np.random.choice(indexes_with_misc, n_train_with_misc)\n",
        "        train_nmisk_indexes = np.random.choice(indexes_without_misc, n_train_samples-n_train_with_misc)\n",
        "        train_indexes = np.append(train_misk_indexes, train_nmisk_indexes)\n",
        "\n",
        "        # let's create small validation data with the same proportion of MISC samples from the train data\n",
        "        n_valid_samples = int(n_train_samples/4)\n",
        "        _idxes_with_misc = [i for i in indexes_with_misc if i not in train_misk_indexes]\n",
        "        _idxes_without_misc = [i for i in indexes_without_misc if i not in train_nmisk_indexes]\n",
        "\n",
        "        # validation indexes\n",
        "        n_valid_with_misc = int(n_valid_samples*0.85)\n",
        "        valid_misk_indexes = np.random.choice(_idxes_with_misc, n_valid_with_misc)\n",
        "        valid_nmisk_indexes = np.random.choice(_idxes_without_misc, n_valid_samples-n_valid_with_misc)\n",
        "        valid_indexes = np.append(valid_misk_indexes, valid_nmisk_indexes)\n",
        "\n",
        "        train_dataset, train_sampler, train_dataloader = dalo.create_dataloader(conll, bert_tokenizer,\n",
        "                                                                      desired_pad=173, batch_size=BATCH_SIZE,\n",
        "                                                                      indexes=train_indexes)\n",
        "        \n",
        "        valid_dataset, valid_sampler, valid_dataloader = dalo.create_dataloader(conll, bert_tokenizer,\n",
        "                                                                            desired_pad=173, batch_size=BATCH_SIZE,\n",
        "                                                                            indexes=valid_indexes)\n",
        "        \n",
        "        total_steps = len(train_dataloader) *  N_EPOCHS\n",
        "\n",
        "        optimizer = AdamW(params=model.parameters(),lr=5e-4)\n",
        "\n",
        "        scheduler = get_linear_schedule_with_warmup(\n",
        "            optimizer,\n",
        "            num_warmup_steps=0,\n",
        "            num_training_steps=total_steps\n",
        "        )\n",
        "\n",
        "        if device.type != 'cpu':\n",
        "            model.to(device)\n",
        "\n",
        "        results = mu.train_old(model, train_dataloader, optimizer, conll.idx2tag, device,\n",
        "                        scheduler, n_epoch=N_EPOCHS, max_grad_norm=500,\n",
        "                        validate=True, valid_dataloader=valid_dataloader, \n",
        "                        save_model=False)\n",
        "        \n",
        "        _, _, valid_accuracies, valid_f1_scores = results\n",
        "\n",
        "        results_dict[seed][n_train_samples] = {}\n",
        "        results_dict[seed][n_train_samples]['small_valid_accs'] = valid_accuracies\n",
        "        results_dict[seed][n_train_samples]['small_valid_f1s'] = valid_f1_scores\n",
        "\n",
        "        # eval model on the all validation data\n",
        "        mean_loss, mean_acc, mean_f1 = mu.eval_old(model, all_valid_dataloader, device, conll.idx2tag)\n",
        "        print(f\"validation loss: {mean_loss}\")\n",
        "        print(f\"validation accuracy: {mean_acc}\")\n",
        "        print(f\"validation f1-score: {mean_f1}\")\n",
        "\n",
        "        results_dict[seed][n_train_samples][\"all_valid_loss\"] = mean_loss\n",
        "        results_dict[seed][n_train_samples][\"all_valid_acc\"] = mean_acc\n",
        "        results_dict[seed][n_train_samples][\"all_valid_f1\"] = mean_f1\n",
        "\n",
        "        # eval model on every tag separately\n",
        "        results_dict[seed][n_train_samples]['tags_results'] = {}\n",
        "        for tag in ['LOC', 'PER', 'ORG', 'MISC']:\n",
        "            tag_dataset, tag_sampler, tag_dataloader = dalo.create_dataloader_old(conll_one_tag.sentences['valid'],\n",
        "                                                                              conll_one_tag.one_tag_dict['valid']['ORG'], conll.tag2idx,\n",
        "                                                                              bert_tokenizer, datatype='valid', desired_pad=173)\n",
        "            loss, acc, f1 = mu.eval_old(model, tag_dataloader, device, conll.idx2tag)\n",
        "            results_dict[seed][n_train_samples]['tags_results'][tag] = {'loss': loss, 'acc': acc, 'f1': f1}\n",
        "\n",
        "    with open(PATH_TO_CHECKPOINT+f\"misc_finetune/results_seed{seed}.json\", \"w\") as f:\n",
        "        json.dump(results_dict[seed], f)"
      ],
      "execution_count": null,
      "outputs": []
    },
    {
      "cell_type": "markdown",
      "metadata": {
        "id": "5sj2tz4vRZfQ"
      },
      "source": [
        "# Train on a half of training set"
      ]
    },
    {
      "cell_type": "code",
      "metadata": {
        "id": "yHKmBajvR2UH"
      },
      "source": [
        "TAG_NAMES = ['ORG', 'LOC', 'PER']\n",
        "NUM_OF_HEADS = len(TAG_NAMES)\n",
        "PAD_LEN = 173 #I use the old value "
      ],
      "execution_count": 12,
      "outputs": []
    },
    {
      "cell_type": "code",
      "metadata": {
        "id": "BqwmopJ7R7wD"
      },
      "source": [
        "# we are training on three-labels data\n",
        "labels_w_misc = {}\n",
        "for typ in ['train', 'valid']:\n",
        "    labels_w_misc[typ] = [[l if 'MISC' not in l else 'O' for l in sen] for sen in conll.labels[typ]]"
      ],
      "execution_count": 13,
      "outputs": []
    },
    {
      "cell_type": "code",
      "metadata": {
        "id": "BC35Q7YGSFaw"
      },
      "source": [
        "half_train_len = int(len(conll.sentences['train'])/2)\n",
        "\n",
        "train_dataset, train_sampler, train_dataloader = dalo.create_dataloader_old(conll.sentences['train'][half_train_len:],\n",
        "                                                                            labels_w_misc['train'][half_train_len:], \n",
        "                                                                            conll.tag2idx,\n",
        "                                                                            bert_tokenizer)"
      ],
      "execution_count": 14,
      "outputs": []
    },
    {
      "cell_type": "markdown",
      "metadata": {
        "id": "_xZyfC4dUL64"
      },
      "source": [
        "## K-fold fot multilabel model"
      ]
    },
    {
      "cell_type": "code",
      "metadata": {
        "id": "wKwd5BhLUJzE"
      },
      "source": [
        "N_FOLDS = 5\n",
        "RANDOM_SEED = 42\n",
        "N_EPOCHS = 40\n",
        "BATCH_SIZE = 128"
      ],
      "execution_count": 15,
      "outputs": []
    },
    {
      "cell_type": "code",
      "metadata": {
        "id": "mGliqp2KUQ2x"
      },
      "source": [
        "kf = KFold(n_splits=N_FOLDS, shuffle=True, random_state=RANDOM_SEED)"
      ],
      "execution_count": 16,
      "outputs": []
    },
    {
      "cell_type": "code",
      "metadata": {
        "colab": {
          "base_uri": "https://localhost:8080/",
          "height": 1000,
          "referenced_widgets": [
            "718ed377ae7f408391c8fe64bba7db94",
            "69d795b4b192462888445faca93f5c81",
            "e8b97b59d48948558981a9254057b50c",
            "80077ded9200499983f14f4ea4ef4fa4",
            "7fe5054095a44a8290c7ed06644ce306",
            "9c67cd790d424e9eba55fa442db29b42",
            "c8a335a58ba945c4ad664c471a1e08b3",
            "8192e6d75a2744acaec83fba9d577b62",
            "ccf3bcbae64545e3b75f2de1cbab399d",
            "cc406cf96b834d6d85ed98b49579e1ec",
            "8de07daaeed54e1bafd6782abb974bdc",
            "c1c659d78bd54edba449441334c278b0",
            "7ca4a7a73be34bfd88831491bdaac821",
            "da3f430d8b4d40e6b32ee07fcf74265a",
            "3ec610e12f2b487eb7d3fa43be566026",
            "fd65b08e15a24460a8bab2630fc44094"
          ]
        },
        "id": "jVTD55YnUa_M",
        "outputId": "7d53f288-e6c2-4284-e31c-17919ff1f7c7"
      },
      "source": [
        "all_tag_results = []\n",
        "model_results = []\n",
        "\n",
        "for i, (train_index, valid_index) in enumerate(kf.split(train_dataset)):\n",
        "    if i < 1:\n",
        "        continue\n",
        "    print(f\"FOLD #{i}\\n\")\n",
        "    # train_dataset based on conll and defined above specially for multiple-head model input\n",
        "    train_fold = torch.utils.data.Subset(train_dataset, train_index)\n",
        "    valid_fold = torch.utils.data.Subset(train_dataset, valid_index)\n",
        "    \n",
        "    _train_dataloader = torch.utils.data.DataLoader(train_fold, batch_size=BATCH_SIZE)\n",
        "    _valid_dataloader = torch.utils.data.DataLoader(valid_fold, batch_size=BATCH_SIZE)\n",
        "\n",
        "    total_steps = len(train_fold) *  N_EPOCHS\n",
        "\n",
        "    model = BEboC(hidden_size=512, num_labels=len(conll.tag2idx), bert_layers=2,\n",
        "                  num_of_trainable_bert_layers=1, dropout=0.5)\n",
        "    model.init_weights()\n",
        "    model.to(device)\n",
        "\n",
        "    optimizer = AdamW(params=model.parameters(),lr=5e-4)\n",
        "\n",
        "    scheduler = get_linear_schedule_with_warmup(\n",
        "        optimizer,\n",
        "        num_warmup_steps=0,\n",
        "        num_training_steps=total_steps\n",
        "    )\n",
        "\n",
        "    loss_values, valid_loss_values, valid_accuracies, valid_f1_scores = mu.train_old(model, _train_dataloader, optimizer, conll.idx2tag, device, scheduler, n_epoch=N_EPOCHS,\n",
        "                                                                                          max_grad_norm=500, valid_dataloader=_valid_dataloader, save_path=PATH_TO_CHECKPOINT+'temporal_beboc.pth')\n",
        "    \n",
        "    model_results.append({'losses': loss_values, 'valid_losses': valid_loss_values, 'valid_accs': valid_accuracies, 'valid_f1s': valid_f1_scores})\n",
        "    # loading the best model\n",
        "    checkpoint = torch.load(PATH_TO_CHECKPOINT+'temporal_beboc.pth')\n",
        "    model = checkpoint['model']\n",
        "    model.load_state_dict(checkpoint['state_dict'])\n",
        "\n",
        "    # evaluating on separate tags\n",
        "    tag_results = {}\n",
        "    for tag in TAG_NAMES:\n",
        "        # old version of create dataloader function is very suitable here\n",
        "        tag_train_dataset, _, _ = dalo.create_dataloader_old(conll_one_tag.sentences['train'],\n",
        "                                                            conll_one_tag.one_tag_dict['train'][tag], conll_one_tag.tag2idx,\n",
        "                                                            bert_tokenizer, desired_pad=PAD_LEN)\n",
        "        tag_valid_fold = torch.utils.data.Subset(tag_train_dataset, valid_index)\n",
        "        tag_valid_dataloader = torch.utils.data.DataLoader(tag_valid_fold, batch_size=BATCH_SIZE)\n",
        "        eval_loss, acc, f1 = mu.eval_old(model, tag_valid_dataloader, device, conll.idx2tag)\n",
        "        \n",
        "        tag_results[tag] = {'loss': eval_loss, 'acc': acc, 'f1': f1}\n",
        "    \n",
        "    print(f\"tag_results:{tag_results}\")\n",
        "    all_tag_results.append(tag_results)\n",
        "\n",
        "    # cleaning\n",
        "    del model\n",
        "    gc.collect()\n",
        "    torch.cuda.empty_cache()\n",
        "\n",
        "    with open(PATH_TO_CHECKPOINT+f\"beboc_5folds_half_train_second/BEboC-5fold_tag_results_fold{i}.json\", \"w\") as f:\n",
        "        json.dump(tag_results, f)\n",
        "\n",
        "    with open(PATH_TO_CHECKPOINT+f\"beboc_5folds_half_train_second/BEboC-5fold_model_results_fold{i}.json\", \"w\") as f:\n",
        "        json.dump(model_results[-1], f)"
      ],
      "execution_count": null,
      "outputs": [
        {
          "output_type": "stream",
          "text": [
            "FOLD #1\n",
            "\n"
          ],
          "name": "stdout"
        },
        {
          "output_type": "display_data",
          "data": {
            "application/vnd.jupyter.widget-view+json": {
              "model_id": "718ed377ae7f408391c8fe64bba7db94",
              "version_minor": 0,
              "version_major": 2
            },
            "text/plain": [
              "HBox(children=(FloatProgress(value=0.0, description='Downloading', max=570.0, style=ProgressStyle(description_…"
            ]
          },
          "metadata": {
            "tags": []
          }
        },
        {
          "output_type": "stream",
          "text": [
            "\n"
          ],
          "name": "stdout"
        },
        {
          "output_type": "display_data",
          "data": {
            "application/vnd.jupyter.widget-view+json": {
              "model_id": "ccf3bcbae64545e3b75f2de1cbab399d",
              "version_minor": 0,
              "version_major": 2
            },
            "text/plain": [
              "HBox(children=(FloatProgress(value=0.0, description='Downloading', max=435779157.0, style=ProgressStyle(descri…"
            ]
          },
          "metadata": {
            "tags": []
          }
        },
        {
          "output_type": "stream",
          "text": [
            "\n"
          ],
          "name": "stdout"
        },
        {
          "output_type": "stream",
          "text": [
            "Some weights of the model checkpoint at bert-base-cased were not used when initializing BertForTokenClassification: ['cls.predictions.bias', 'cls.predictions.transform.dense.weight', 'cls.predictions.transform.dense.bias', 'cls.predictions.decoder.weight', 'cls.seq_relationship.weight', 'cls.seq_relationship.bias', 'cls.predictions.transform.LayerNorm.weight', 'cls.predictions.transform.LayerNorm.bias']\n",
            "- This IS expected if you are initializing BertForTokenClassification from the checkpoint of a model trained on another task or with another architecture (e.g. initializing a BertForSequenceClassification model from a BertForPreTraining model).\n",
            "- This IS NOT expected if you are initializing BertForTokenClassification from the checkpoint of a model that you expect to be exactly identical (initializing a BertForSequenceClassification model from a BertForSequenceClassification model).\n",
            "Some weights of BertForTokenClassification were not initialized from the model checkpoint at bert-base-cased and are newly initialized: ['classifier.weight', 'classifier.bias']\n",
            "You should probably TRAIN this model on a down-stream task to be able to use it for predictions and inference.\n",
            "downloading: 100%|##########| 336/336 [00:00<00:00, 859320.82B/s]\n",
            "downloading: 100%|##########| 112140184/112140184 [00:04<00:00, 26748041.27B/s]\n",
            "/usr/local/lib/python3.7/dist-packages/torch/nn/modules/container.py:435: UserWarning: Setting attributes on ParameterList is not supported.\n",
            "  warnings.warn(\"Setting attributes on ParameterList is not supported.\")\n",
            "  0%|          | 0/44 [00:00<?, ?it/s]"
          ],
          "name": "stderr"
        },
        {
          "output_type": "stream",
          "text": [
            "\n",
            "Epoch #0\n"
          ],
          "name": "stdout"
        },
        {
          "output_type": "stream",
          "text": [
            " 23%|██▎       | 10/44 [00:30<01:44,  3.07s/it]"
          ],
          "name": "stderr"
        },
        {
          "output_type": "stream",
          "text": [
            "\n",
            "9: avg loss per batch: 2486.95654296875\n",
            "\n"
          ],
          "name": "stdout"
        },
        {
          "output_type": "stream",
          "text": [
            " 45%|████▌     | 20/44 [01:02<01:16,  3.19s/it]"
          ],
          "name": "stderr"
        },
        {
          "output_type": "stream",
          "text": [
            "\n",
            "19: avg loss per batch: 1760.6346724660773\n",
            "\n"
          ],
          "name": "stdout"
        },
        {
          "output_type": "stream",
          "text": [
            " 68%|██████▊   | 30/44 [01:35<00:47,  3.37s/it]"
          ],
          "name": "stderr"
        },
        {
          "output_type": "stream",
          "text": [
            "\n",
            "29: avg loss per batch: 1504.4768466291757\n",
            "\n"
          ],
          "name": "stdout"
        },
        {
          "output_type": "stream",
          "text": [
            " 91%|█████████ | 40/44 [02:09<00:13,  3.34s/it]"
          ],
          "name": "stderr"
        },
        {
          "output_type": "stream",
          "text": [
            "\n",
            "39: avg loss per batch: 1310.9898133889224\n",
            "\n"
          ],
          "name": "stdout"
        },
        {
          "output_type": "stream",
          "text": [
            "100%|██████████| 44/44 [02:21<00:00,  3.22s/it]\n"
          ],
          "name": "stderr"
        },
        {
          "output_type": "stream",
          "text": [
            "Average train loss: 1216.587158203125\n",
            "Validation loss: 677.4966291947799\n",
            "Validation accuracy: 0.93249932499325\n",
            "Validation F1-score: 0.6173391365721679\n",
            "\n"
          ],
          "name": "stdout"
        },
        {
          "output_type": "stream",
          "text": [
            "\r  0%|          | 0/44 [00:00<?, ?it/s]"
          ],
          "name": "stderr"
        },
        {
          "output_type": "stream",
          "text": [
            "\n",
            "Epoch #1\n"
          ],
          "name": "stdout"
        },
        {
          "output_type": "stream",
          "text": [
            " 23%|██▎       | 10/44 [00:33<01:55,  3.39s/it]"
          ],
          "name": "stderr"
        },
        {
          "output_type": "stream",
          "text": [
            "\n",
            "9: avg loss per batch: 639.1452857123481\n",
            "\n"
          ],
          "name": "stdout"
        },
        {
          "output_type": "stream",
          "text": [
            " 45%|████▌     | 20/44 [01:06<01:18,  3.27s/it]"
          ],
          "name": "stderr"
        },
        {
          "output_type": "stream",
          "text": [
            "\n",
            "19: avg loss per batch: 579.9317586798417\n",
            "\n"
          ],
          "name": "stdout"
        },
        {
          "output_type": "stream",
          "text": [
            " 68%|██████▊   | 30/44 [01:39<00:46,  3.30s/it]"
          ],
          "name": "stderr"
        },
        {
          "output_type": "stream",
          "text": [
            "\n",
            "29: avg loss per batch: 583.1082305908203\n",
            "\n"
          ],
          "name": "stdout"
        },
        {
          "output_type": "stream",
          "text": [
            " 91%|█████████ | 40/44 [02:13<00:13,  3.38s/it]"
          ],
          "name": "stderr"
        },
        {
          "output_type": "stream",
          "text": [
            "\n",
            "39: avg loss per batch: 564.3308758857922\n",
            "\n"
          ],
          "name": "stdout"
        },
        {
          "output_type": "stream",
          "text": [
            "100%|██████████| 44/44 [02:25<00:00,  3.32s/it]\n"
          ],
          "name": "stderr"
        },
        {
          "output_type": "stream",
          "text": [
            "Average train loss: 536.0004657398571\n",
            "Validation loss: 462.862754128196\n",
            "Validation accuracy: 0.952419524195242\n",
            "Validation F1-score: 0.7359962734365901\n",
            "\n"
          ],
          "name": "stdout"
        },
        {
          "output_type": "stream",
          "text": [
            "\r  0%|          | 0/44 [00:00<?, ?it/s]"
          ],
          "name": "stderr"
        },
        {
          "output_type": "stream",
          "text": [
            "\n",
            "Epoch #2\n"
          ],
          "name": "stdout"
        },
        {
          "output_type": "stream",
          "text": [
            " 23%|██▎       | 10/44 [00:33<01:53,  3.35s/it]"
          ],
          "name": "stderr"
        },
        {
          "output_type": "stream",
          "text": [
            "\n",
            "9: avg loss per batch: 476.5763753255208\n",
            "\n"
          ],
          "name": "stdout"
        },
        {
          "output_type": "stream",
          "text": [
            " 45%|████▌     | 20/44 [01:06<01:19,  3.30s/it]"
          ],
          "name": "stderr"
        },
        {
          "output_type": "stream",
          "text": [
            "\n",
            "19: avg loss per batch: 463.04706934878703\n",
            "\n"
          ],
          "name": "stdout"
        },
        {
          "output_type": "stream",
          "text": [
            " 68%|██████▊   | 30/44 [01:39<00:46,  3.31s/it]"
          ],
          "name": "stderr"
        },
        {
          "output_type": "stream",
          "text": [
            "\n",
            "29: avg loss per batch: 461.01418541217674\n",
            "\n"
          ],
          "name": "stdout"
        },
        {
          "output_type": "stream",
          "text": [
            " 91%|█████████ | 40/44 [02:13<00:13,  3.38s/it]"
          ],
          "name": "stderr"
        },
        {
          "output_type": "stream",
          "text": [
            "\n",
            "39: avg loss per batch: 442.5711360833584\n",
            "\n"
          ],
          "name": "stdout"
        },
        {
          "output_type": "stream",
          "text": [
            "100%|██████████| 44/44 [02:26<00:00,  3.32s/it]\n"
          ],
          "name": "stderr"
        },
        {
          "output_type": "stream",
          "text": [
            "Average train loss: 421.4095098322088\n",
            "Validation loss: 449.170146595348\n",
            "Validation accuracy: 0.959079590795908\n",
            "Validation F1-score: 0.7694303573534614\n",
            "\n"
          ],
          "name": "stdout"
        },
        {
          "output_type": "stream",
          "text": [
            "\r  0%|          | 0/44 [00:00<?, ?it/s]"
          ],
          "name": "stderr"
        },
        {
          "output_type": "stream",
          "text": [
            "\n",
            "Epoch #3\n"
          ],
          "name": "stdout"
        },
        {
          "output_type": "stream",
          "text": [
            " 23%|██▎       | 10/44 [00:33<01:53,  3.33s/it]"
          ],
          "name": "stderr"
        },
        {
          "output_type": "stream",
          "text": [
            "\n",
            "9: avg loss per batch: 381.4192403157552\n",
            "\n"
          ],
          "name": "stdout"
        },
        {
          "output_type": "stream",
          "text": [
            " 45%|████▌     | 20/44 [01:06<01:19,  3.29s/it]"
          ],
          "name": "stderr"
        },
        {
          "output_type": "stream",
          "text": [
            "\n",
            "19: avg loss per batch: 357.9963659989206\n",
            "\n"
          ],
          "name": "stdout"
        },
        {
          "output_type": "stream",
          "text": [
            " 68%|██████▊   | 30/44 [01:39<00:46,  3.30s/it]"
          ],
          "name": "stderr"
        },
        {
          "output_type": "stream",
          "text": [
            "\n",
            "29: avg loss per batch: 339.07178471006193\n",
            "\n"
          ],
          "name": "stdout"
        },
        {
          "output_type": "stream",
          "text": [
            " 91%|█████████ | 40/44 [02:12<00:13,  3.37s/it]"
          ],
          "name": "stderr"
        },
        {
          "output_type": "stream",
          "text": [
            "\n",
            "39: avg loss per batch: 313.8965098063151\n",
            "\n"
          ],
          "name": "stdout"
        },
        {
          "output_type": "stream",
          "text": [
            "100%|██████████| 44/44 [02:25<00:00,  3.31s/it]\n"
          ],
          "name": "stderr"
        },
        {
          "output_type": "stream",
          "text": [
            "Average train loss: 293.42358363758433\n",
            "Validation loss: 284.495512528853\n",
            "Validation accuracy: 0.973089730897309\n",
            "Validation F1-score: 0.8476756887971841\n",
            "\n"
          ],
          "name": "stdout"
        },
        {
          "output_type": "stream",
          "text": [
            "\r  0%|          | 0/44 [00:00<?, ?it/s]"
          ],
          "name": "stderr"
        },
        {
          "output_type": "stream",
          "text": [
            "\n",
            "Epoch #4\n"
          ],
          "name": "stdout"
        },
        {
          "output_type": "stream",
          "text": [
            " 23%|██▎       | 10/44 [00:33<01:53,  3.34s/it]"
          ],
          "name": "stderr"
        },
        {
          "output_type": "stream",
          "text": [
            "\n",
            "9: avg loss per batch: 206.558224995931\n",
            "\n"
          ],
          "name": "stdout"
        },
        {
          "output_type": "stream",
          "text": [
            " 45%|████▌     | 20/44 [01:06<01:19,  3.29s/it]"
          ],
          "name": "stderr"
        },
        {
          "output_type": "stream",
          "text": [
            "\n",
            "19: avg loss per batch: 215.93742812307258\n",
            "\n"
          ],
          "name": "stdout"
        },
        {
          "output_type": "stream",
          "text": [
            " 68%|██████▊   | 30/44 [01:39<00:46,  3.30s/it]"
          ],
          "name": "stderr"
        },
        {
          "output_type": "stream",
          "text": [
            "\n",
            "29: avg loss per batch: 233.4064231083311\n",
            "\n"
          ],
          "name": "stdout"
        },
        {
          "output_type": "stream",
          "text": [
            " 91%|█████████ | 40/44 [02:13<00:13,  3.36s/it]"
          ],
          "name": "stderr"
        },
        {
          "output_type": "stream",
          "text": [
            "\n",
            "39: avg loss per batch: 225.4885512131911\n",
            "\n"
          ],
          "name": "stdout"
        },
        {
          "output_type": "stream",
          "text": [
            "100%|██████████| 44/44 [02:25<00:00,  3.32s/it]\n"
          ],
          "name": "stderr"
        },
        {
          "output_type": "stream",
          "text": [
            "Average train loss: 212.96266954595393\n",
            "Validation loss: 251.0964619029652\n",
            "Validation accuracy: 0.977739777397774\n",
            "Validation F1-score: 0.8740043446777698\n",
            "\n"
          ],
          "name": "stdout"
        },
        {
          "output_type": "stream",
          "text": [
            "\r  0%|          | 0/44 [00:00<?, ?it/s]"
          ],
          "name": "stderr"
        },
        {
          "output_type": "stream",
          "text": [
            "\n",
            "Epoch #5\n"
          ],
          "name": "stdout"
        },
        {
          "output_type": "stream",
          "text": [
            " 23%|██▎       | 10/44 [00:33<01:53,  3.34s/it]"
          ],
          "name": "stderr"
        },
        {
          "output_type": "stream",
          "text": [
            "\n",
            "9: avg loss per batch: 156.07632107204861\n",
            "\n"
          ],
          "name": "stdout"
        },
        {
          "output_type": "stream",
          "text": [
            " 45%|████▌     | 20/44 [01:06<01:19,  3.30s/it]"
          ],
          "name": "stderr"
        },
        {
          "output_type": "stream",
          "text": [
            "\n",
            "19: avg loss per batch: 158.91543057090357\n",
            "\n"
          ],
          "name": "stdout"
        },
        {
          "output_type": "stream",
          "text": [
            " 68%|██████▊   | 30/44 [01:39<00:46,  3.30s/it]"
          ],
          "name": "stderr"
        },
        {
          "output_type": "stream",
          "text": [
            "\n",
            "29: avg loss per batch: 163.26568998139481\n",
            "\n"
          ],
          "name": "stdout"
        },
        {
          "output_type": "stream",
          "text": [
            " 91%|█████████ | 40/44 [02:13<00:13,  3.37s/it]"
          ],
          "name": "stderr"
        },
        {
          "output_type": "stream",
          "text": [
            "\n",
            "39: avg loss per batch: 167.363283206255\n",
            "\n"
          ],
          "name": "stdout"
        },
        {
          "output_type": "stream",
          "text": [
            "100%|██████████| 44/44 [02:25<00:00,  3.31s/it]\n"
          ],
          "name": "stderr"
        },
        {
          "output_type": "stream",
          "text": [
            "Average train loss: 157.81039359352806\n"
          ],
          "name": "stdout"
        },
        {
          "output_type": "stream",
          "text": [
            "\r  0%|          | 0/44 [00:00<?, ?it/s]"
          ],
          "name": "stderr"
        },
        {
          "output_type": "stream",
          "text": [
            "Validation loss: 275.6292003284801\n",
            "Validation accuracy: 0.9747997479974799\n",
            "Validation F1-score: 0.8524271844660194\n",
            "\n",
            "\n",
            "Epoch #6\n"
          ],
          "name": "stdout"
        },
        {
          "output_type": "stream",
          "text": [
            " 23%|██▎       | 10/44 [00:33<01:52,  3.31s/it]"
          ],
          "name": "stderr"
        },
        {
          "output_type": "stream",
          "text": [
            "\n",
            "9: avg loss per batch: 124.89684592352972\n",
            "\n"
          ],
          "name": "stdout"
        },
        {
          "output_type": "stream",
          "text": [
            " 45%|████▌     | 20/44 [01:05<01:18,  3.28s/it]"
          ],
          "name": "stderr"
        },
        {
          "output_type": "stream",
          "text": [
            "\n",
            "19: avg loss per batch: 128.765179081967\n",
            "\n"
          ],
          "name": "stdout"
        },
        {
          "output_type": "stream",
          "text": [
            " 68%|██████▊   | 30/44 [01:39<00:46,  3.31s/it]"
          ],
          "name": "stderr"
        },
        {
          "output_type": "stream",
          "text": [
            "\n",
            "29: avg loss per batch: 130.34296022612472\n",
            "\n"
          ],
          "name": "stdout"
        },
        {
          "output_type": "stream",
          "text": [
            " 91%|█████████ | 40/44 [02:12<00:13,  3.37s/it]"
          ],
          "name": "stderr"
        },
        {
          "output_type": "stream",
          "text": [
            "\n",
            "39: avg loss per batch: 123.98879354428023\n",
            "\n"
          ],
          "name": "stdout"
        },
        {
          "output_type": "stream",
          "text": [
            "100%|██████████| 44/44 [02:25<00:00,  3.30s/it]\n"
          ],
          "name": "stderr"
        },
        {
          "output_type": "stream",
          "text": [
            "Average train loss: 121.14970601688732\n"
          ],
          "name": "stdout"
        },
        {
          "output_type": "stream",
          "text": [
            "\r  0%|          | 0/44 [00:00<?, ?it/s]"
          ],
          "name": "stderr"
        },
        {
          "output_type": "stream",
          "text": [
            "Validation loss: 313.62203840775925\n",
            "Validation accuracy: 0.97389973899739\n",
            "Validation F1-score: 0.8453379378391712\n",
            "\n",
            "\n",
            "Epoch #7\n"
          ],
          "name": "stdout"
        },
        {
          "output_type": "stream",
          "text": [
            " 23%|██▎       | 10/44 [00:33<01:52,  3.31s/it]"
          ],
          "name": "stderr"
        },
        {
          "output_type": "stream",
          "text": [
            "\n",
            "9: avg loss per batch: 116.56175231933594\n",
            "\n"
          ],
          "name": "stdout"
        },
        {
          "output_type": "stream",
          "text": [
            " 45%|████▌     | 20/44 [01:06<01:19,  3.30s/it]"
          ],
          "name": "stderr"
        },
        {
          "output_type": "stream",
          "text": [
            "\n",
            "19: avg loss per batch: 116.10074535169099\n",
            "\n"
          ],
          "name": "stdout"
        },
        {
          "output_type": "stream",
          "text": [
            " 68%|██████▊   | 30/44 [01:39<00:46,  3.33s/it]"
          ],
          "name": "stderr"
        },
        {
          "output_type": "stream",
          "text": [
            "\n",
            "29: avg loss per batch: 112.60970266934099\n",
            "\n"
          ],
          "name": "stdout"
        },
        {
          "output_type": "stream",
          "text": [
            " 91%|█████████ | 40/44 [02:12<00:13,  3.38s/it]"
          ],
          "name": "stderr"
        },
        {
          "output_type": "stream",
          "text": [
            "\n",
            "39: avg loss per batch: 110.73394863422101\n",
            "\n"
          ],
          "name": "stdout"
        },
        {
          "output_type": "stream",
          "text": [
            "100%|██████████| 44/44 [02:25<00:00,  3.31s/it]\n"
          ],
          "name": "stderr"
        },
        {
          "output_type": "stream",
          "text": [
            "Average train loss: 106.09074791994962\n"
          ],
          "name": "stdout"
        },
        {
          "output_type": "stream",
          "text": [
            "\r  0%|          | 0/44 [00:00<?, ?it/s]"
          ],
          "name": "stderr"
        },
        {
          "output_type": "stream",
          "text": [
            "Validation loss: 291.2181327126243\n",
            "Validation accuracy: 0.977109771097711\n",
            "Validation F1-score: 0.8633146204539908\n",
            "\n",
            "\n",
            "Epoch #8\n"
          ],
          "name": "stdout"
        },
        {
          "output_type": "stream",
          "text": [
            " 23%|██▎       | 10/44 [00:33<01:52,  3.32s/it]"
          ],
          "name": "stderr"
        },
        {
          "output_type": "stream",
          "text": [
            "\n",
            "9: avg loss per batch: 93.35723283555772\n",
            "\n"
          ],
          "name": "stdout"
        },
        {
          "output_type": "stream",
          "text": [
            " 45%|████▌     | 20/44 [01:06<01:19,  3.30s/it]"
          ],
          "name": "stderr"
        },
        {
          "output_type": "stream",
          "text": [
            "\n",
            "19: avg loss per batch: 107.85344033492238\n",
            "\n"
          ],
          "name": "stdout"
        },
        {
          "output_type": "stream",
          "text": [
            " 68%|██████▊   | 30/44 [01:39<00:46,  3.29s/it]"
          ],
          "name": "stderr"
        },
        {
          "output_type": "stream",
          "text": [
            "\n",
            "29: avg loss per batch: 107.66216896320212\n",
            "\n"
          ],
          "name": "stdout"
        },
        {
          "output_type": "stream",
          "text": [
            " 91%|█████████ | 40/44 [02:12<00:13,  3.36s/it]"
          ],
          "name": "stderr"
        },
        {
          "output_type": "stream",
          "text": [
            "\n",
            "39: avg loss per batch: 104.57184121547601\n",
            "\n"
          ],
          "name": "stdout"
        },
        {
          "output_type": "stream",
          "text": [
            "100%|██████████| 44/44 [02:25<00:00,  3.30s/it]\n"
          ],
          "name": "stderr"
        },
        {
          "output_type": "stream",
          "text": [
            "Average train loss: 98.34828662872314\n"
          ],
          "name": "stdout"
        },
        {
          "output_type": "stream",
          "text": [
            "\r  0%|          | 0/44 [00:00<?, ?it/s]"
          ],
          "name": "stderr"
        },
        {
          "output_type": "stream",
          "text": [
            "Validation loss: 290.1838642467152\n",
            "Validation accuracy: 0.9768097680976809\n",
            "Validation F1-score: 0.8708708708708708\n",
            "\n",
            "\n",
            "Epoch #9\n"
          ],
          "name": "stdout"
        },
        {
          "output_type": "stream",
          "text": [
            " 23%|██▎       | 10/44 [00:32<01:52,  3.31s/it]"
          ],
          "name": "stderr"
        },
        {
          "output_type": "stream",
          "text": [
            "\n",
            "9: avg loss per batch: 99.56906933254666\n",
            "\n"
          ],
          "name": "stdout"
        },
        {
          "output_type": "stream",
          "text": [
            " 45%|████▌     | 20/44 [01:05<01:18,  3.29s/it]"
          ],
          "name": "stderr"
        },
        {
          "output_type": "stream",
          "text": [
            "\n",
            "19: avg loss per batch: 99.18765800877621\n",
            "\n"
          ],
          "name": "stdout"
        },
        {
          "output_type": "stream",
          "text": [
            " 68%|██████▊   | 30/44 [01:39<00:46,  3.31s/it]"
          ],
          "name": "stderr"
        },
        {
          "output_type": "stream",
          "text": [
            "\n",
            "29: avg loss per batch: 113.31802946945717\n",
            "\n"
          ],
          "name": "stdout"
        },
        {
          "output_type": "stream",
          "text": [
            " 91%|█████████ | 40/44 [02:12<00:13,  3.37s/it]"
          ],
          "name": "stderr"
        },
        {
          "output_type": "stream",
          "text": [
            "\n",
            "39: avg loss per batch: 106.88271194849258\n",
            "\n"
          ],
          "name": "stdout"
        },
        {
          "output_type": "stream",
          "text": [
            "100%|██████████| 44/44 [02:25<00:00,  3.30s/it]\n"
          ],
          "name": "stderr"
        },
        {
          "output_type": "stream",
          "text": [
            "Average train loss: 102.05103874206543\n"
          ],
          "name": "stdout"
        },
        {
          "output_type": "stream",
          "text": [
            "\r  0%|          | 0/44 [00:00<?, ?it/s]"
          ],
          "name": "stderr"
        },
        {
          "output_type": "stream",
          "text": [
            "Validation loss: 270.1384360573509\n",
            "Validation accuracy: 0.9768097680976809\n",
            "Validation F1-score: 0.8649934578327584\n",
            "\n",
            "\n",
            "Epoch #10\n"
          ],
          "name": "stdout"
        },
        {
          "output_type": "stream",
          "text": [
            " 23%|██▎       | 10/44 [00:33<01:52,  3.31s/it]"
          ],
          "name": "stderr"
        },
        {
          "output_type": "stream",
          "text": [
            "\n",
            "9: avg loss per batch: 91.35507329305013\n",
            "\n"
          ],
          "name": "stdout"
        },
        {
          "output_type": "stream",
          "text": [
            " 45%|████▌     | 20/44 [01:06<01:19,  3.29s/it]"
          ],
          "name": "stderr"
        },
        {
          "output_type": "stream",
          "text": [
            "\n",
            "19: avg loss per batch: 79.88241055137233\n",
            "\n"
          ],
          "name": "stdout"
        },
        {
          "output_type": "stream",
          "text": [
            " 68%|██████▊   | 30/44 [01:39<00:46,  3.31s/it]"
          ],
          "name": "stderr"
        },
        {
          "output_type": "stream",
          "text": [
            "\n",
            "29: avg loss per batch: 81.79288324816474\n",
            "\n"
          ],
          "name": "stdout"
        },
        {
          "output_type": "stream",
          "text": [
            " 91%|█████████ | 40/44 [02:12<00:13,  3.36s/it]"
          ],
          "name": "stderr"
        },
        {
          "output_type": "stream",
          "text": [
            "\n",
            "39: avg loss per batch: 83.28343352293356\n",
            "\n"
          ],
          "name": "stdout"
        },
        {
          "output_type": "stream",
          "text": [
            "100%|██████████| 44/44 [02:25<00:00,  3.30s/it]\n"
          ],
          "name": "stderr"
        },
        {
          "output_type": "stream",
          "text": [
            "Average train loss: 77.06969300183383\n",
            "Validation loss: 271.51417264071375\n",
            "Validation accuracy: 0.9790297902979029\n",
            "Validation F1-score: 0.8783751493428912\n",
            "\n"
          ],
          "name": "stdout"
        },
        {
          "output_type": "stream",
          "text": [
            "\r  0%|          | 0/44 [00:00<?, ?it/s]"
          ],
          "name": "stderr"
        },
        {
          "output_type": "stream",
          "text": [
            "\n",
            "Epoch #11\n"
          ],
          "name": "stdout"
        },
        {
          "output_type": "stream",
          "text": [
            " 23%|██▎       | 10/44 [00:33<01:53,  3.32s/it]"
          ],
          "name": "stderr"
        },
        {
          "output_type": "stream",
          "text": [
            "\n",
            "9: avg loss per batch: 87.64711464775934\n",
            "\n"
          ],
          "name": "stdout"
        },
        {
          "output_type": "stream",
          "text": [
            " 45%|████▌     | 20/44 [01:06<01:18,  3.29s/it]"
          ],
          "name": "stderr"
        },
        {
          "output_type": "stream",
          "text": [
            "\n",
            "19: avg loss per batch: 83.00128715916684\n",
            "\n"
          ],
          "name": "stdout"
        },
        {
          "output_type": "stream",
          "text": [
            " 68%|██████▊   | 30/44 [01:39<00:46,  3.29s/it]"
          ],
          "name": "stderr"
        },
        {
          "output_type": "stream",
          "text": [
            "\n",
            "29: avg loss per batch: 77.70484213993467\n",
            "\n"
          ],
          "name": "stdout"
        },
        {
          "output_type": "stream",
          "text": [
            " 91%|█████████ | 40/44 [02:12<00:13,  3.36s/it]"
          ],
          "name": "stderr"
        },
        {
          "output_type": "stream",
          "text": [
            "\n",
            "39: avg loss per batch: 78.31772104899089\n",
            "\n"
          ],
          "name": "stdout"
        },
        {
          "output_type": "stream",
          "text": [
            "100%|██████████| 44/44 [02:25<00:00,  3.30s/it]\n"
          ],
          "name": "stderr"
        },
        {
          "output_type": "stream",
          "text": [
            "Average train loss: 72.5168966813521\n",
            "Validation loss: 290.42263932661575\n",
            "Validation accuracy: 0.9790597905979059\n",
            "Validation F1-score: 0.8906365200294913\n",
            "\n"
          ],
          "name": "stdout"
        },
        {
          "output_type": "stream",
          "text": [
            "\r  0%|          | 0/44 [00:00<?, ?it/s]"
          ],
          "name": "stderr"
        },
        {
          "output_type": "stream",
          "text": [
            "\n",
            "Epoch #12\n"
          ],
          "name": "stdout"
        },
        {
          "output_type": "stream",
          "text": [
            " 23%|██▎       | 10/44 [00:33<01:53,  3.32s/it]"
          ],
          "name": "stderr"
        },
        {
          "output_type": "stream",
          "text": [
            "\n",
            "9: avg loss per batch: 64.85418701171875\n",
            "\n"
          ],
          "name": "stdout"
        },
        {
          "output_type": "stream",
          "text": [
            " 45%|████▌     | 20/44 [01:06<01:18,  3.29s/it]"
          ],
          "name": "stderr"
        },
        {
          "output_type": "stream",
          "text": [
            "\n",
            "19: avg loss per batch: 55.26800035175524\n",
            "\n"
          ],
          "name": "stdout"
        },
        {
          "output_type": "stream",
          "text": [
            " 68%|██████▊   | 30/44 [01:39<00:46,  3.29s/it]"
          ],
          "name": "stderr"
        },
        {
          "output_type": "stream",
          "text": [
            "\n",
            "29: avg loss per batch: 54.39473553361564\n",
            "\n"
          ],
          "name": "stdout"
        },
        {
          "output_type": "stream",
          "text": [
            " 91%|█████████ | 40/44 [02:12<00:13,  3.35s/it]"
          ],
          "name": "stderr"
        },
        {
          "output_type": "stream",
          "text": [
            "\n",
            "39: avg loss per batch: 54.465059133676384\n",
            "\n"
          ],
          "name": "stdout"
        },
        {
          "output_type": "stream",
          "text": [
            "100%|██████████| 44/44 [02:25<00:00,  3.30s/it]\n"
          ],
          "name": "stderr"
        },
        {
          "output_type": "stream",
          "text": [
            "Average train loss: 51.16462603482333\n",
            "Validation loss: 272.86912328546697\n",
            "Validation accuracy: 0.98139981399814\n",
            "Validation F1-score: 0.9006429697925512\n",
            "\n"
          ],
          "name": "stdout"
        },
        {
          "output_type": "stream",
          "text": [
            "\r  0%|          | 0/44 [00:00<?, ?it/s]"
          ],
          "name": "stderr"
        },
        {
          "output_type": "stream",
          "text": [
            "\n",
            "Epoch #13\n"
          ],
          "name": "stdout"
        },
        {
          "output_type": "stream",
          "text": [
            " 23%|██▎       | 10/44 [00:33<01:53,  3.33s/it]"
          ],
          "name": "stderr"
        },
        {
          "output_type": "stream",
          "text": [
            "\n",
            "9: avg loss per batch: 37.083246019151474\n",
            "\n"
          ],
          "name": "stdout"
        },
        {
          "output_type": "stream",
          "text": [
            " 45%|████▌     | 20/44 [01:06<01:18,  3.28s/it]"
          ],
          "name": "stderr"
        },
        {
          "output_type": "stream",
          "text": [
            "\n",
            "19: avg loss per batch: 40.83727164017527\n",
            "\n"
          ],
          "name": "stdout"
        },
        {
          "output_type": "stream",
          "text": [
            " 68%|██████▊   | 30/44 [01:39<00:46,  3.29s/it]"
          ],
          "name": "stderr"
        },
        {
          "output_type": "stream",
          "text": [
            "\n",
            "29: avg loss per batch: 46.371583741286706\n",
            "\n"
          ],
          "name": "stdout"
        },
        {
          "output_type": "stream",
          "text": [
            " 91%|█████████ | 40/44 [02:12<00:13,  3.36s/it]"
          ],
          "name": "stderr"
        },
        {
          "output_type": "stream",
          "text": [
            "\n",
            "39: avg loss per batch: 46.50750693296775\n",
            "\n"
          ],
          "name": "stdout"
        },
        {
          "output_type": "stream",
          "text": [
            "100%|██████████| 44/44 [02:25<00:00,  3.31s/it]\n"
          ],
          "name": "stderr"
        },
        {
          "output_type": "stream",
          "text": [
            "Average train loss: 43.0408107584173\n"
          ],
          "name": "stdout"
        },
        {
          "output_type": "stream",
          "text": [
            "\r  0%|          | 0/44 [00:00<?, ?it/s]"
          ],
          "name": "stderr"
        },
        {
          "output_type": "stream",
          "text": [
            "Validation loss: 264.3381819291548\n",
            "Validation accuracy: 0.981519815198152\n",
            "Validation F1-score: 0.8987403100775194\n",
            "\n",
            "\n",
            "Epoch #14\n"
          ],
          "name": "stdout"
        },
        {
          "output_type": "stream",
          "text": [
            " 23%|██▎       | 10/44 [00:32<01:52,  3.30s/it]"
          ],
          "name": "stderr"
        },
        {
          "output_type": "stream",
          "text": [
            "\n",
            "9: avg loss per batch: 37.07959323459201\n",
            "\n"
          ],
          "name": "stdout"
        },
        {
          "output_type": "stream",
          "text": [
            " 45%|████▌     | 20/44 [01:05<01:19,  3.29s/it]"
          ],
          "name": "stderr"
        },
        {
          "output_type": "stream",
          "text": [
            "\n",
            "19: avg loss per batch: 33.93120574951172\n",
            "\n"
          ],
          "name": "stdout"
        },
        {
          "output_type": "stream",
          "text": [
            " 68%|██████▊   | 30/44 [01:38<00:46,  3.30s/it]"
          ],
          "name": "stderr"
        },
        {
          "output_type": "stream",
          "text": [
            "\n",
            "29: avg loss per batch: 36.36264998337318\n",
            "\n"
          ],
          "name": "stdout"
        },
        {
          "output_type": "stream",
          "text": [
            " 91%|█████████ | 40/44 [02:12<00:13,  3.36s/it]"
          ],
          "name": "stderr"
        },
        {
          "output_type": "stream",
          "text": [
            "\n",
            "39: avg loss per batch: 36.47023714505709\n",
            "\n"
          ],
          "name": "stdout"
        },
        {
          "output_type": "stream",
          "text": [
            "100%|██████████| 44/44 [02:25<00:00,  3.30s/it]\n"
          ],
          "name": "stderr"
        },
        {
          "output_type": "stream",
          "text": [
            "Average train loss: 35.064410122958094\n"
          ],
          "name": "stdout"
        },
        {
          "output_type": "stream",
          "text": [
            "\r  0%|          | 0/44 [00:00<?, ?it/s]"
          ],
          "name": "stderr"
        },
        {
          "output_type": "stream",
          "text": [
            "Validation loss: 263.0878282026811\n",
            "Validation accuracy: 0.980979809798098\n",
            "Validation F1-score: 0.8969594594594593\n",
            "\n",
            "\n",
            "Epoch #15\n"
          ],
          "name": "stdout"
        },
        {
          "output_type": "stream",
          "text": [
            " 23%|██▎       | 10/44 [00:32<01:52,  3.30s/it]"
          ],
          "name": "stderr"
        },
        {
          "output_type": "stream",
          "text": [
            "\n",
            "9: avg loss per batch: 39.737708197699654\n",
            "\n"
          ],
          "name": "stdout"
        },
        {
          "output_type": "stream",
          "text": [
            " 45%|████▌     | 20/44 [01:05<01:19,  3.29s/it]"
          ],
          "name": "stderr"
        },
        {
          "output_type": "stream",
          "text": [
            "\n",
            "19: avg loss per batch: 42.27552052548057\n",
            "\n"
          ],
          "name": "stdout"
        },
        {
          "output_type": "stream",
          "text": [
            " 68%|██████▊   | 30/44 [01:38<00:46,  3.30s/it]"
          ],
          "name": "stderr"
        },
        {
          "output_type": "stream",
          "text": [
            "\n",
            "29: avg loss per batch: 41.35971161414837\n",
            "\n"
          ],
          "name": "stdout"
        },
        {
          "output_type": "stream",
          "text": [
            " 91%|█████████ | 40/44 [02:12<00:13,  3.35s/it]"
          ],
          "name": "stderr"
        },
        {
          "output_type": "stream",
          "text": [
            "\n",
            "39: avg loss per batch: 42.191209548558945\n",
            "\n"
          ],
          "name": "stdout"
        },
        {
          "output_type": "stream",
          "text": [
            "100%|██████████| 44/44 [02:25<00:00,  3.30s/it]\n"
          ],
          "name": "stderr"
        },
        {
          "output_type": "stream",
          "text": [
            "Average train loss: 40.248365055431016\n"
          ],
          "name": "stdout"
        },
        {
          "output_type": "stream",
          "text": [
            "\r  0%|          | 0/44 [00:00<?, ?it/s]"
          ],
          "name": "stderr"
        },
        {
          "output_type": "stream",
          "text": [
            "Validation loss: 299.65948763760656\n",
            "Validation accuracy: 0.9800498004980049\n",
            "Validation F1-score: 0.8937447472685797\n",
            "\n",
            "\n",
            "Epoch #16\n"
          ],
          "name": "stdout"
        },
        {
          "output_type": "stream",
          "text": [
            " 23%|██▎       | 10/44 [00:33<01:52,  3.32s/it]"
          ],
          "name": "stderr"
        },
        {
          "output_type": "stream",
          "text": [
            "\n",
            "9: avg loss per batch: 49.68194876776801\n",
            "\n"
          ],
          "name": "stdout"
        },
        {
          "output_type": "stream",
          "text": [
            " 45%|████▌     | 20/44 [01:05<01:18,  3.27s/it]"
          ],
          "name": "stderr"
        },
        {
          "output_type": "stream",
          "text": [
            "\n",
            "19: avg loss per batch: 44.21763731303968\n",
            "\n"
          ],
          "name": "stdout"
        },
        {
          "output_type": "stream",
          "text": [
            " 68%|██████▊   | 30/44 [01:39<00:46,  3.32s/it]"
          ],
          "name": "stderr"
        },
        {
          "output_type": "stream",
          "text": [
            "\n",
            "29: avg loss per batch: 44.268513251995216\n",
            "\n"
          ],
          "name": "stdout"
        },
        {
          "output_type": "stream",
          "text": [
            " 91%|█████████ | 40/44 [02:12<00:13,  3.37s/it]"
          ],
          "name": "stderr"
        },
        {
          "output_type": "stream",
          "text": [
            "\n",
            "39: avg loss per batch: 43.38651833167443\n",
            "\n"
          ],
          "name": "stdout"
        },
        {
          "output_type": "stream",
          "text": [
            "100%|██████████| 44/44 [02:25<00:00,  3.31s/it]\n"
          ],
          "name": "stderr"
        },
        {
          "output_type": "stream",
          "text": [
            "Average train loss: 40.3805046081543\n"
          ],
          "name": "stdout"
        },
        {
          "output_type": "stream",
          "text": [
            "\r  0%|          | 0/44 [00:00<?, ?it/s]"
          ],
          "name": "stderr"
        },
        {
          "output_type": "stream",
          "text": [
            "Validation loss: 278.0300001664595\n",
            "Validation accuracy: 0.98079980799808\n",
            "Validation F1-score: 0.8972644376899697\n",
            "\n",
            "\n",
            "Epoch #17\n"
          ],
          "name": "stdout"
        },
        {
          "output_type": "stream",
          "text": [
            " 23%|██▎       | 10/44 [00:32<01:52,  3.30s/it]"
          ],
          "name": "stderr"
        },
        {
          "output_type": "stream",
          "text": [
            "\n",
            "9: avg loss per batch: 37.211993323432075\n",
            "\n"
          ],
          "name": "stdout"
        },
        {
          "output_type": "stream",
          "text": [
            " 45%|████▌     | 20/44 [01:05<01:18,  3.29s/it]"
          ],
          "name": "stderr"
        },
        {
          "output_type": "stream",
          "text": [
            "\n",
            "19: avg loss per batch: 34.91637842278732\n",
            "\n"
          ],
          "name": "stdout"
        },
        {
          "output_type": "stream",
          "text": [
            " 68%|██████▊   | 30/44 [01:38<00:46,  3.31s/it]"
          ],
          "name": "stderr"
        },
        {
          "output_type": "stream",
          "text": [
            "\n",
            "29: avg loss per batch: 35.274552970096984\n",
            "\n"
          ],
          "name": "stdout"
        },
        {
          "output_type": "stream",
          "text": [
            " 91%|█████████ | 40/44 [02:12<00:13,  3.36s/it]"
          ],
          "name": "stderr"
        },
        {
          "output_type": "stream",
          "text": [
            "\n",
            "39: avg loss per batch: 36.461927267221306\n",
            "\n"
          ],
          "name": "stdout"
        },
        {
          "output_type": "stream",
          "text": [
            "100%|██████████| 44/44 [02:25<00:00,  3.30s/it]\n"
          ],
          "name": "stderr"
        },
        {
          "output_type": "stream",
          "text": [
            "Average train loss: 36.06552444804799\n",
            "Validation loss: 289.5761878273704\n",
            "Validation accuracy: 0.981789817898179\n",
            "Validation F1-score: 0.9042591918456498\n",
            "\n"
          ],
          "name": "stdout"
        },
        {
          "output_type": "stream",
          "text": [
            "\r  0%|          | 0/44 [00:00<?, ?it/s]"
          ],
          "name": "stderr"
        },
        {
          "output_type": "stream",
          "text": [
            "\n",
            "Epoch #18\n"
          ],
          "name": "stdout"
        },
        {
          "output_type": "stream",
          "text": [
            " 23%|██▎       | 10/44 [00:33<01:53,  3.35s/it]"
          ],
          "name": "stderr"
        },
        {
          "output_type": "stream",
          "text": [
            "\n",
            "9: avg loss per batch: 36.01833724975586\n",
            "\n"
          ],
          "name": "stdout"
        },
        {
          "output_type": "stream",
          "text": [
            " 45%|████▌     | 20/44 [01:06<01:19,  3.31s/it]"
          ],
          "name": "stderr"
        },
        {
          "output_type": "stream",
          "text": [
            "\n",
            "19: avg loss per batch: 34.939490468878496\n",
            "\n"
          ],
          "name": "stdout"
        },
        {
          "output_type": "stream",
          "text": [
            " 68%|██████▊   | 30/44 [01:39<00:46,  3.31s/it]"
          ],
          "name": "stderr"
        },
        {
          "output_type": "stream",
          "text": [
            "\n",
            "29: avg loss per batch: 33.77858786747373\n",
            "\n"
          ],
          "name": "stdout"
        },
        {
          "output_type": "stream",
          "text": [
            " 91%|█████████ | 40/44 [02:13<00:13,  3.38s/it]"
          ],
          "name": "stderr"
        },
        {
          "output_type": "stream",
          "text": [
            "\n",
            "39: avg loss per batch: 32.25137260632637\n",
            "\n"
          ],
          "name": "stdout"
        },
        {
          "output_type": "stream",
          "text": [
            "100%|██████████| 44/44 [02:26<00:00,  3.32s/it]\n"
          ],
          "name": "stderr"
        },
        {
          "output_type": "stream",
          "text": [
            "Average train loss: 32.1160441311923\n"
          ],
          "name": "stdout"
        },
        {
          "output_type": "stream",
          "text": [
            "\r  0%|          | 0/44 [00:00<?, ?it/s]"
          ],
          "name": "stderr"
        },
        {
          "output_type": "stream",
          "text": [
            "Validation loss: 333.47409889914775\n",
            "Validation accuracy: 0.976269762697627\n",
            "Validation F1-score: 0.8710743801652893\n",
            "\n",
            "\n",
            "Epoch #19\n"
          ],
          "name": "stdout"
        },
        {
          "output_type": "stream",
          "text": [
            " 23%|██▎       | 10/44 [00:32<01:52,  3.31s/it]"
          ],
          "name": "stderr"
        },
        {
          "output_type": "stream",
          "text": [
            "\n",
            "9: avg loss per batch: 31.91742494371202\n",
            "\n"
          ],
          "name": "stdout"
        },
        {
          "output_type": "stream",
          "text": [
            " 34%|███▍      | 15/44 [00:49<01:35,  3.31s/it]"
          ],
          "name": "stderr"
        }
      ]
    },
    {
      "cell_type": "markdown",
      "metadata": {
        "id": "Q1_LgYi3MOW7"
      },
      "source": [
        "## Extra"
      ]
    },
    {
      "cell_type": "code",
      "metadata": {
        "id": "Y2oGJq_yMPmD"
      },
      "source": [
        "from seqeval.metrics import f1_score, accuracy_score"
      ],
      "execution_count": null,
      "outputs": []
    },
    {
      "cell_type": "code",
      "metadata": {
        "colab": {
          "base_uri": "https://localhost:8080/"
        },
        "id": "lGxRQ0cfMQtj",
        "outputId": "f38ec06c-5bf0-4a39-fa78-d54f8d022031"
      },
      "source": [
        "y_true_1 = ['B-PER', 'I-PER', 'O', 'O', 'O', 'B-LOC', 'O', 'O', 'O']\n",
        "y_pred_1 = ['B-PER', 'O', 'O', 'O', 'O', 'B-LOC', 'O', 'O', 'O']\n",
        "\n",
        "y_true_2 = ['B-PER', 'I-PER', 'O', 'O', 'O', 'O', 'O', 'O', 'O']\n",
        "y_pred_2 = ['B-PER', 'O', 'O', 'O', 'O', 'O', 'O', 'O', 'O']\n",
        "\n",
        "f1_score([y_true_1], [y_pred_1]), f1_score([y_true_2], [y_pred_2])"
      ],
      "execution_count": null,
      "outputs": [
        {
          "output_type": "execute_result",
          "data": {
            "text/plain": [
              "(0.5, 0.0)"
            ]
          },
          "metadata": {
            "tags": []
          },
          "execution_count": 8
        }
      ]
    },
    {
      "cell_type": "code",
      "metadata": {
        "colab": {
          "base_uri": "https://localhost:8080/"
        },
        "id": "zFWQi8faMmlD",
        "outputId": "92c99be1-b7c8-41df-c62b-edd0ec543d0c"
      },
      "source": [
        "y_true_1 = ['B-PER', 'I-PER', 'O', 'O', 'O', 'B-LOC', 'O', 'O', 'B-PER']\n",
        "y_pred_1 = ['B-PER', 'O', 'O', 'O', 'O', 'B-LOC', 'O', 'O', 'B-PER']\n",
        "\n",
        "y_true_2 = ['B-PER', 'I-PER', 'O', 'O', 'O', 'O', 'O', 'O', 'B-PER']\n",
        "y_pred_2 = ['B-PER', 'O', 'O', 'O', 'O', 'O', 'O', 'O', 'B-PER']\n",
        "\n",
        "f1_score([y_true_1], [y_pred_1]), f1_score([y_true_2], [y_pred_2])"
      ],
      "execution_count": null,
      "outputs": [
        {
          "output_type": "execute_result",
          "data": {
            "text/plain": [
              "(0.6666666666666666, 0.5)"
            ]
          },
          "metadata": {
            "tags": []
          },
          "execution_count": 9
        }
      ]
    },
    {
      "cell_type": "code",
      "metadata": {
        "colab": {
          "base_uri": "https://localhost:8080/"
        },
        "id": "s_-fgMM8luI6",
        "outputId": "e8b67561-37f4-4597-be17-58df24462ec7"
      },
      "source": [
        "checkpoint=torch.load(PATH_TO_CHECKPOINT+'new_beboc.pth')\n",
        "model = checkpoint['model']\n",
        "model.load_state_dict(checkpoint['state_dict'])"
      ],
      "execution_count": null,
      "outputs": [
        {
          "output_type": "execute_result",
          "data": {
            "text/plain": [
              "<All keys matched successfully>"
            ]
          },
          "metadata": {
            "tags": []
          },
          "execution_count": 13
        }
      ]
    },
    {
      "cell_type": "code",
      "metadata": {
        "id": "PGibUNaKq4tD"
      },
      "source": [
        ""
      ],
      "execution_count": null,
      "outputs": []
    }
  ]
}