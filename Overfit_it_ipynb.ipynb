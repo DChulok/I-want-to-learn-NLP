{
  "nbformat": 4,
  "nbformat_minor": 0,
  "metadata": {
    "accelerator": "GPU",
    "colab": {
      "name": "Копия блокнота \"Overfit it.ipynb\"",
      "provenance": [],
      "collapsed_sections": [],
      "include_colab_link": true
    },
    "kernelspec": {
      "display_name": "Python 3",
      "language": "python",
      "name": "python3"
    },
    "language_info": {
      "codemirror_mode": {
        "name": "ipython",
        "version": 3
      },
      "file_extension": ".py",
      "mimetype": "text/x-python",
      "name": "python",
      "nbconvert_exporter": "python",
      "pygments_lexer": "ipython3",
      "version": "3.7.7"
    },
    "widgets": {
      "application/vnd.jupyter.widget-state+json": {
        "6a388251f58841a4b6e127ef0901fd33": {
          "model_module": "@jupyter-widgets/controls",
          "model_name": "HBoxModel",
          "state": {
            "_view_name": "HBoxView",
            "_dom_classes": [],
            "_model_name": "HBoxModel",
            "_view_module": "@jupyter-widgets/controls",
            "_model_module_version": "1.5.0",
            "_view_count": null,
            "_view_module_version": "1.5.0",
            "box_style": "",
            "layout": "IPY_MODEL_5382f34fe0c74c79a07fdb513635d609",
            "_model_module": "@jupyter-widgets/controls",
            "children": [
              "IPY_MODEL_19bc8688ea2246dabffb96f670dc17b2",
              "IPY_MODEL_4bccb0ceea0447f68edbe12254e89b38"
            ]
          }
        },
        "5382f34fe0c74c79a07fdb513635d609": {
          "model_module": "@jupyter-widgets/base",
          "model_name": "LayoutModel",
          "state": {
            "_view_name": "LayoutView",
            "grid_template_rows": null,
            "right": null,
            "justify_content": null,
            "_view_module": "@jupyter-widgets/base",
            "overflow": null,
            "_model_module_version": "1.2.0",
            "_view_count": null,
            "flex_flow": null,
            "width": null,
            "min_width": null,
            "border": null,
            "align_items": null,
            "bottom": null,
            "_model_module": "@jupyter-widgets/base",
            "top": null,
            "grid_column": null,
            "overflow_y": null,
            "overflow_x": null,
            "grid_auto_flow": null,
            "grid_area": null,
            "grid_template_columns": null,
            "flex": null,
            "_model_name": "LayoutModel",
            "justify_items": null,
            "grid_row": null,
            "max_height": null,
            "align_content": null,
            "visibility": null,
            "align_self": null,
            "height": null,
            "min_height": null,
            "padding": null,
            "grid_auto_rows": null,
            "grid_gap": null,
            "max_width": null,
            "order": null,
            "_view_module_version": "1.2.0",
            "grid_template_areas": null,
            "object_position": null,
            "object_fit": null,
            "grid_auto_columns": null,
            "margin": null,
            "display": null,
            "left": null
          }
        },
        "19bc8688ea2246dabffb96f670dc17b2": {
          "model_module": "@jupyter-widgets/controls",
          "model_name": "FloatProgressModel",
          "state": {
            "_view_name": "ProgressView",
            "style": "IPY_MODEL_1d0fe34b611e46f2bd7f11afcb9efa36",
            "_dom_classes": [],
            "description": "",
            "_model_name": "FloatProgressModel",
            "bar_style": "info",
            "max": 1,
            "_view_module": "@jupyter-widgets/controls",
            "_model_module_version": "1.5.0",
            "value": 1,
            "_view_count": null,
            "_view_module_version": "1.5.0",
            "orientation": "horizontal",
            "min": 0,
            "description_tooltip": null,
            "_model_module": "@jupyter-widgets/controls",
            "layout": "IPY_MODEL_b2ec75e736314e2c9babfdc380d6edf7"
          }
        },
        "4bccb0ceea0447f68edbe12254e89b38": {
          "model_module": "@jupyter-widgets/controls",
          "model_name": "HTMLModel",
          "state": {
            "_view_name": "HTMLView",
            "style": "IPY_MODEL_8f80ba1155694122ae179f58ef3528ec",
            "_dom_classes": [],
            "description": "",
            "_model_name": "HTMLModel",
            "placeholder": "​",
            "_view_module": "@jupyter-widgets/controls",
            "_model_module_version": "1.5.0",
            "value": " 26427392/? [00:20&lt;00:00, 6619322.48it/s]",
            "_view_count": null,
            "_view_module_version": "1.5.0",
            "description_tooltip": null,
            "_model_module": "@jupyter-widgets/controls",
            "layout": "IPY_MODEL_385f78e0c0d84ae68359ba8d51e05364"
          }
        },
        "1d0fe34b611e46f2bd7f11afcb9efa36": {
          "model_module": "@jupyter-widgets/controls",
          "model_name": "ProgressStyleModel",
          "state": {
            "_view_name": "StyleView",
            "_model_name": "ProgressStyleModel",
            "description_width": "initial",
            "_view_module": "@jupyter-widgets/base",
            "_model_module_version": "1.5.0",
            "_view_count": null,
            "_view_module_version": "1.2.0",
            "bar_color": null,
            "_model_module": "@jupyter-widgets/controls"
          }
        },
        "b2ec75e736314e2c9babfdc380d6edf7": {
          "model_module": "@jupyter-widgets/base",
          "model_name": "LayoutModel",
          "state": {
            "_view_name": "LayoutView",
            "grid_template_rows": null,
            "right": null,
            "justify_content": null,
            "_view_module": "@jupyter-widgets/base",
            "overflow": null,
            "_model_module_version": "1.2.0",
            "_view_count": null,
            "flex_flow": null,
            "width": null,
            "min_width": null,
            "border": null,
            "align_items": null,
            "bottom": null,
            "_model_module": "@jupyter-widgets/base",
            "top": null,
            "grid_column": null,
            "overflow_y": null,
            "overflow_x": null,
            "grid_auto_flow": null,
            "grid_area": null,
            "grid_template_columns": null,
            "flex": null,
            "_model_name": "LayoutModel",
            "justify_items": null,
            "grid_row": null,
            "max_height": null,
            "align_content": null,
            "visibility": null,
            "align_self": null,
            "height": null,
            "min_height": null,
            "padding": null,
            "grid_auto_rows": null,
            "grid_gap": null,
            "max_width": null,
            "order": null,
            "_view_module_version": "1.2.0",
            "grid_template_areas": null,
            "object_position": null,
            "object_fit": null,
            "grid_auto_columns": null,
            "margin": null,
            "display": null,
            "left": null
          }
        },
        "8f80ba1155694122ae179f58ef3528ec": {
          "model_module": "@jupyter-widgets/controls",
          "model_name": "DescriptionStyleModel",
          "state": {
            "_view_name": "StyleView",
            "_model_name": "DescriptionStyleModel",
            "description_width": "",
            "_view_module": "@jupyter-widgets/base",
            "_model_module_version": "1.5.0",
            "_view_count": null,
            "_view_module_version": "1.2.0",
            "_model_module": "@jupyter-widgets/controls"
          }
        },
        "385f78e0c0d84ae68359ba8d51e05364": {
          "model_module": "@jupyter-widgets/base",
          "model_name": "LayoutModel",
          "state": {
            "_view_name": "LayoutView",
            "grid_template_rows": null,
            "right": null,
            "justify_content": null,
            "_view_module": "@jupyter-widgets/base",
            "overflow": null,
            "_model_module_version": "1.2.0",
            "_view_count": null,
            "flex_flow": null,
            "width": null,
            "min_width": null,
            "border": null,
            "align_items": null,
            "bottom": null,
            "_model_module": "@jupyter-widgets/base",
            "top": null,
            "grid_column": null,
            "overflow_y": null,
            "overflow_x": null,
            "grid_auto_flow": null,
            "grid_area": null,
            "grid_template_columns": null,
            "flex": null,
            "_model_name": "LayoutModel",
            "justify_items": null,
            "grid_row": null,
            "max_height": null,
            "align_content": null,
            "visibility": null,
            "align_self": null,
            "height": null,
            "min_height": null,
            "padding": null,
            "grid_auto_rows": null,
            "grid_gap": null,
            "max_width": null,
            "order": null,
            "_view_module_version": "1.2.0",
            "grid_template_areas": null,
            "object_position": null,
            "object_fit": null,
            "grid_auto_columns": null,
            "margin": null,
            "display": null,
            "left": null
          }
        },
        "c6d4ca413d654453868fa6f5c3e6fb33": {
          "model_module": "@jupyter-widgets/controls",
          "model_name": "HBoxModel",
          "state": {
            "_view_name": "HBoxView",
            "_dom_classes": [],
            "_model_name": "HBoxModel",
            "_view_module": "@jupyter-widgets/controls",
            "_model_module_version": "1.5.0",
            "_view_count": null,
            "_view_module_version": "1.5.0",
            "box_style": "",
            "layout": "IPY_MODEL_05a8a609e38c468db29b27d5e28e8ff7",
            "_model_module": "@jupyter-widgets/controls",
            "children": [
              "IPY_MODEL_8ca7584185e544e48a32c4e0718773cf",
              "IPY_MODEL_7f2e91d79b354dd58fa9964aa6be3fcf"
            ]
          }
        },
        "05a8a609e38c468db29b27d5e28e8ff7": {
          "model_module": "@jupyter-widgets/base",
          "model_name": "LayoutModel",
          "state": {
            "_view_name": "LayoutView",
            "grid_template_rows": null,
            "right": null,
            "justify_content": null,
            "_view_module": "@jupyter-widgets/base",
            "overflow": null,
            "_model_module_version": "1.2.0",
            "_view_count": null,
            "flex_flow": null,
            "width": null,
            "min_width": null,
            "border": null,
            "align_items": null,
            "bottom": null,
            "_model_module": "@jupyter-widgets/base",
            "top": null,
            "grid_column": null,
            "overflow_y": null,
            "overflow_x": null,
            "grid_auto_flow": null,
            "grid_area": null,
            "grid_template_columns": null,
            "flex": null,
            "_model_name": "LayoutModel",
            "justify_items": null,
            "grid_row": null,
            "max_height": null,
            "align_content": null,
            "visibility": null,
            "align_self": null,
            "height": null,
            "min_height": null,
            "padding": null,
            "grid_auto_rows": null,
            "grid_gap": null,
            "max_width": null,
            "order": null,
            "_view_module_version": "1.2.0",
            "grid_template_areas": null,
            "object_position": null,
            "object_fit": null,
            "grid_auto_columns": null,
            "margin": null,
            "display": null,
            "left": null
          }
        },
        "8ca7584185e544e48a32c4e0718773cf": {
          "model_module": "@jupyter-widgets/controls",
          "model_name": "FloatProgressModel",
          "state": {
            "_view_name": "ProgressView",
            "style": "IPY_MODEL_e4fb8b6e455c48709d0efa365a15d950",
            "_dom_classes": [],
            "description": "",
            "_model_name": "FloatProgressModel",
            "bar_style": "info",
            "max": 1,
            "_view_module": "@jupyter-widgets/controls",
            "_model_module_version": "1.5.0",
            "value": 1,
            "_view_count": null,
            "_view_module_version": "1.5.0",
            "orientation": "horizontal",
            "min": 0,
            "description_tooltip": null,
            "_model_module": "@jupyter-widgets/controls",
            "layout": "IPY_MODEL_bf4d5b623eea4be883b17ffd0d5567d9"
          }
        },
        "7f2e91d79b354dd58fa9964aa6be3fcf": {
          "model_module": "@jupyter-widgets/controls",
          "model_name": "HTMLModel",
          "state": {
            "_view_name": "HTMLView",
            "style": "IPY_MODEL_43f8fe263bdf4d918c60c2cd0effb918",
            "_dom_classes": [],
            "description": "",
            "_model_name": "HTMLModel",
            "placeholder": "​",
            "_view_module": "@jupyter-widgets/controls",
            "_model_module_version": "1.5.0",
            "value": " 32768/? [00:16&lt;00:00, 112543.44it/s]",
            "_view_count": null,
            "_view_module_version": "1.5.0",
            "description_tooltip": null,
            "_model_module": "@jupyter-widgets/controls",
            "layout": "IPY_MODEL_438475d7457141c39f0f54d241a5da7c"
          }
        },
        "e4fb8b6e455c48709d0efa365a15d950": {
          "model_module": "@jupyter-widgets/controls",
          "model_name": "ProgressStyleModel",
          "state": {
            "_view_name": "StyleView",
            "_model_name": "ProgressStyleModel",
            "description_width": "initial",
            "_view_module": "@jupyter-widgets/base",
            "_model_module_version": "1.5.0",
            "_view_count": null,
            "_view_module_version": "1.2.0",
            "bar_color": null,
            "_model_module": "@jupyter-widgets/controls"
          }
        },
        "bf4d5b623eea4be883b17ffd0d5567d9": {
          "model_module": "@jupyter-widgets/base",
          "model_name": "LayoutModel",
          "state": {
            "_view_name": "LayoutView",
            "grid_template_rows": null,
            "right": null,
            "justify_content": null,
            "_view_module": "@jupyter-widgets/base",
            "overflow": null,
            "_model_module_version": "1.2.0",
            "_view_count": null,
            "flex_flow": null,
            "width": null,
            "min_width": null,
            "border": null,
            "align_items": null,
            "bottom": null,
            "_model_module": "@jupyter-widgets/base",
            "top": null,
            "grid_column": null,
            "overflow_y": null,
            "overflow_x": null,
            "grid_auto_flow": null,
            "grid_area": null,
            "grid_template_columns": null,
            "flex": null,
            "_model_name": "LayoutModel",
            "justify_items": null,
            "grid_row": null,
            "max_height": null,
            "align_content": null,
            "visibility": null,
            "align_self": null,
            "height": null,
            "min_height": null,
            "padding": null,
            "grid_auto_rows": null,
            "grid_gap": null,
            "max_width": null,
            "order": null,
            "_view_module_version": "1.2.0",
            "grid_template_areas": null,
            "object_position": null,
            "object_fit": null,
            "grid_auto_columns": null,
            "margin": null,
            "display": null,
            "left": null
          }
        },
        "43f8fe263bdf4d918c60c2cd0effb918": {
          "model_module": "@jupyter-widgets/controls",
          "model_name": "DescriptionStyleModel",
          "state": {
            "_view_name": "StyleView",
            "_model_name": "DescriptionStyleModel",
            "description_width": "",
            "_view_module": "@jupyter-widgets/base",
            "_model_module_version": "1.5.0",
            "_view_count": null,
            "_view_module_version": "1.2.0",
            "_model_module": "@jupyter-widgets/controls"
          }
        },
        "438475d7457141c39f0f54d241a5da7c": {
          "model_module": "@jupyter-widgets/base",
          "model_name": "LayoutModel",
          "state": {
            "_view_name": "LayoutView",
            "grid_template_rows": null,
            "right": null,
            "justify_content": null,
            "_view_module": "@jupyter-widgets/base",
            "overflow": null,
            "_model_module_version": "1.2.0",
            "_view_count": null,
            "flex_flow": null,
            "width": null,
            "min_width": null,
            "border": null,
            "align_items": null,
            "bottom": null,
            "_model_module": "@jupyter-widgets/base",
            "top": null,
            "grid_column": null,
            "overflow_y": null,
            "overflow_x": null,
            "grid_auto_flow": null,
            "grid_area": null,
            "grid_template_columns": null,
            "flex": null,
            "_model_name": "LayoutModel",
            "justify_items": null,
            "grid_row": null,
            "max_height": null,
            "align_content": null,
            "visibility": null,
            "align_self": null,
            "height": null,
            "min_height": null,
            "padding": null,
            "grid_auto_rows": null,
            "grid_gap": null,
            "max_width": null,
            "order": null,
            "_view_module_version": "1.2.0",
            "grid_template_areas": null,
            "object_position": null,
            "object_fit": null,
            "grid_auto_columns": null,
            "margin": null,
            "display": null,
            "left": null
          }
        },
        "1e57576812b44149b92d9c8d5ee63f6f": {
          "model_module": "@jupyter-widgets/controls",
          "model_name": "HBoxModel",
          "state": {
            "_view_name": "HBoxView",
            "_dom_classes": [],
            "_model_name": "HBoxModel",
            "_view_module": "@jupyter-widgets/controls",
            "_model_module_version": "1.5.0",
            "_view_count": null,
            "_view_module_version": "1.5.0",
            "box_style": "",
            "layout": "IPY_MODEL_b12f2d18f0a94e76a4f4ff29931c9825",
            "_model_module": "@jupyter-widgets/controls",
            "children": [
              "IPY_MODEL_f71d2154433848b099d19c8303ed3b14",
              "IPY_MODEL_951dff185f02498ba087f72d874edc79"
            ]
          }
        },
        "b12f2d18f0a94e76a4f4ff29931c9825": {
          "model_module": "@jupyter-widgets/base",
          "model_name": "LayoutModel",
          "state": {
            "_view_name": "LayoutView",
            "grid_template_rows": null,
            "right": null,
            "justify_content": null,
            "_view_module": "@jupyter-widgets/base",
            "overflow": null,
            "_model_module_version": "1.2.0",
            "_view_count": null,
            "flex_flow": null,
            "width": null,
            "min_width": null,
            "border": null,
            "align_items": null,
            "bottom": null,
            "_model_module": "@jupyter-widgets/base",
            "top": null,
            "grid_column": null,
            "overflow_y": null,
            "overflow_x": null,
            "grid_auto_flow": null,
            "grid_area": null,
            "grid_template_columns": null,
            "flex": null,
            "_model_name": "LayoutModel",
            "justify_items": null,
            "grid_row": null,
            "max_height": null,
            "align_content": null,
            "visibility": null,
            "align_self": null,
            "height": null,
            "min_height": null,
            "padding": null,
            "grid_auto_rows": null,
            "grid_gap": null,
            "max_width": null,
            "order": null,
            "_view_module_version": "1.2.0",
            "grid_template_areas": null,
            "object_position": null,
            "object_fit": null,
            "grid_auto_columns": null,
            "margin": null,
            "display": null,
            "left": null
          }
        },
        "f71d2154433848b099d19c8303ed3b14": {
          "model_module": "@jupyter-widgets/controls",
          "model_name": "FloatProgressModel",
          "state": {
            "_view_name": "ProgressView",
            "style": "IPY_MODEL_0c2cbbbbb04b4cf9946c2d8a7f55d301",
            "_dom_classes": [],
            "description": "",
            "_model_name": "FloatProgressModel",
            "bar_style": "info",
            "max": 1,
            "_view_module": "@jupyter-widgets/controls",
            "_model_module_version": "1.5.0",
            "value": 1,
            "_view_count": null,
            "_view_module_version": "1.5.0",
            "orientation": "horizontal",
            "min": 0,
            "description_tooltip": null,
            "_model_module": "@jupyter-widgets/controls",
            "layout": "IPY_MODEL_ef982b6e05db46b8a99cfef7a9808cf0"
          }
        },
        "951dff185f02498ba087f72d874edc79": {
          "model_module": "@jupyter-widgets/controls",
          "model_name": "HTMLModel",
          "state": {
            "_view_name": "HTMLView",
            "style": "IPY_MODEL_1facad254a7346e0b72662d623953f59",
            "_dom_classes": [],
            "description": "",
            "_model_name": "HTMLModel",
            "placeholder": "​",
            "_view_module": "@jupyter-widgets/controls",
            "_model_module_version": "1.5.0",
            "value": " 4423680/? [00:16&lt;00:00, 787496.34it/s]",
            "_view_count": null,
            "_view_module_version": "1.5.0",
            "description_tooltip": null,
            "_model_module": "@jupyter-widgets/controls",
            "layout": "IPY_MODEL_cd1d76d610e943e1b2c8839055552aa6"
          }
        },
        "0c2cbbbbb04b4cf9946c2d8a7f55d301": {
          "model_module": "@jupyter-widgets/controls",
          "model_name": "ProgressStyleModel",
          "state": {
            "_view_name": "StyleView",
            "_model_name": "ProgressStyleModel",
            "description_width": "initial",
            "_view_module": "@jupyter-widgets/base",
            "_model_module_version": "1.5.0",
            "_view_count": null,
            "_view_module_version": "1.2.0",
            "bar_color": null,
            "_model_module": "@jupyter-widgets/controls"
          }
        },
        "ef982b6e05db46b8a99cfef7a9808cf0": {
          "model_module": "@jupyter-widgets/base",
          "model_name": "LayoutModel",
          "state": {
            "_view_name": "LayoutView",
            "grid_template_rows": null,
            "right": null,
            "justify_content": null,
            "_view_module": "@jupyter-widgets/base",
            "overflow": null,
            "_model_module_version": "1.2.0",
            "_view_count": null,
            "flex_flow": null,
            "width": null,
            "min_width": null,
            "border": null,
            "align_items": null,
            "bottom": null,
            "_model_module": "@jupyter-widgets/base",
            "top": null,
            "grid_column": null,
            "overflow_y": null,
            "overflow_x": null,
            "grid_auto_flow": null,
            "grid_area": null,
            "grid_template_columns": null,
            "flex": null,
            "_model_name": "LayoutModel",
            "justify_items": null,
            "grid_row": null,
            "max_height": null,
            "align_content": null,
            "visibility": null,
            "align_self": null,
            "height": null,
            "min_height": null,
            "padding": null,
            "grid_auto_rows": null,
            "grid_gap": null,
            "max_width": null,
            "order": null,
            "_view_module_version": "1.2.0",
            "grid_template_areas": null,
            "object_position": null,
            "object_fit": null,
            "grid_auto_columns": null,
            "margin": null,
            "display": null,
            "left": null
          }
        },
        "1facad254a7346e0b72662d623953f59": {
          "model_module": "@jupyter-widgets/controls",
          "model_name": "DescriptionStyleModel",
          "state": {
            "_view_name": "StyleView",
            "_model_name": "DescriptionStyleModel",
            "description_width": "",
            "_view_module": "@jupyter-widgets/base",
            "_model_module_version": "1.5.0",
            "_view_count": null,
            "_view_module_version": "1.2.0",
            "_model_module": "@jupyter-widgets/controls"
          }
        },
        "cd1d76d610e943e1b2c8839055552aa6": {
          "model_module": "@jupyter-widgets/base",
          "model_name": "LayoutModel",
          "state": {
            "_view_name": "LayoutView",
            "grid_template_rows": null,
            "right": null,
            "justify_content": null,
            "_view_module": "@jupyter-widgets/base",
            "overflow": null,
            "_model_module_version": "1.2.0",
            "_view_count": null,
            "flex_flow": null,
            "width": null,
            "min_width": null,
            "border": null,
            "align_items": null,
            "bottom": null,
            "_model_module": "@jupyter-widgets/base",
            "top": null,
            "grid_column": null,
            "overflow_y": null,
            "overflow_x": null,
            "grid_auto_flow": null,
            "grid_area": null,
            "grid_template_columns": null,
            "flex": null,
            "_model_name": "LayoutModel",
            "justify_items": null,
            "grid_row": null,
            "max_height": null,
            "align_content": null,
            "visibility": null,
            "align_self": null,
            "height": null,
            "min_height": null,
            "padding": null,
            "grid_auto_rows": null,
            "grid_gap": null,
            "max_width": null,
            "order": null,
            "_view_module_version": "1.2.0",
            "grid_template_areas": null,
            "object_position": null,
            "object_fit": null,
            "grid_auto_columns": null,
            "margin": null,
            "display": null,
            "left": null
          }
        },
        "35258c347ca44076a582eeaec20b0edb": {
          "model_module": "@jupyter-widgets/controls",
          "model_name": "HBoxModel",
          "state": {
            "_view_name": "HBoxView",
            "_dom_classes": [],
            "_model_name": "HBoxModel",
            "_view_module": "@jupyter-widgets/controls",
            "_model_module_version": "1.5.0",
            "_view_count": null,
            "_view_module_version": "1.5.0",
            "box_style": "",
            "layout": "IPY_MODEL_a7afc1651f7c4c049b10e4097ee3a69c",
            "_model_module": "@jupyter-widgets/controls",
            "children": [
              "IPY_MODEL_cc8d7cf9b1634c9eb74ee662ba3264b6",
              "IPY_MODEL_298e39f499404206acc19e175210f1c2"
            ]
          }
        },
        "a7afc1651f7c4c049b10e4097ee3a69c": {
          "model_module": "@jupyter-widgets/base",
          "model_name": "LayoutModel",
          "state": {
            "_view_name": "LayoutView",
            "grid_template_rows": null,
            "right": null,
            "justify_content": null,
            "_view_module": "@jupyter-widgets/base",
            "overflow": null,
            "_model_module_version": "1.2.0",
            "_view_count": null,
            "flex_flow": null,
            "width": null,
            "min_width": null,
            "border": null,
            "align_items": null,
            "bottom": null,
            "_model_module": "@jupyter-widgets/base",
            "top": null,
            "grid_column": null,
            "overflow_y": null,
            "overflow_x": null,
            "grid_auto_flow": null,
            "grid_area": null,
            "grid_template_columns": null,
            "flex": null,
            "_model_name": "LayoutModel",
            "justify_items": null,
            "grid_row": null,
            "max_height": null,
            "align_content": null,
            "visibility": null,
            "align_self": null,
            "height": null,
            "min_height": null,
            "padding": null,
            "grid_auto_rows": null,
            "grid_gap": null,
            "max_width": null,
            "order": null,
            "_view_module_version": "1.2.0",
            "grid_template_areas": null,
            "object_position": null,
            "object_fit": null,
            "grid_auto_columns": null,
            "margin": null,
            "display": null,
            "left": null
          }
        },
        "cc8d7cf9b1634c9eb74ee662ba3264b6": {
          "model_module": "@jupyter-widgets/controls",
          "model_name": "FloatProgressModel",
          "state": {
            "_view_name": "ProgressView",
            "style": "IPY_MODEL_e88964dec10d4c40b003a04c2542c242",
            "_dom_classes": [],
            "description": "  0%",
            "_model_name": "FloatProgressModel",
            "bar_style": "info",
            "max": 1,
            "_view_module": "@jupyter-widgets/controls",
            "_model_module_version": "1.5.0",
            "value": 0,
            "_view_count": null,
            "_view_module_version": "1.5.0",
            "orientation": "horizontal",
            "min": 0,
            "description_tooltip": null,
            "_model_module": "@jupyter-widgets/controls",
            "layout": "IPY_MODEL_8aff10babdd04ba3b1fb54d8c6cf61ac"
          }
        },
        "298e39f499404206acc19e175210f1c2": {
          "model_module": "@jupyter-widgets/controls",
          "model_name": "HTMLModel",
          "state": {
            "_view_name": "HTMLView",
            "style": "IPY_MODEL_6ee395431f21460f944d03612a95c582",
            "_dom_classes": [],
            "description": "",
            "_model_name": "HTMLModel",
            "placeholder": "​",
            "_view_module": "@jupyter-widgets/controls",
            "_model_module_version": "1.5.0",
            "value": " 0/5148 [00:00&lt;?, ?it/s]",
            "_view_count": null,
            "_view_module_version": "1.5.0",
            "description_tooltip": null,
            "_model_module": "@jupyter-widgets/controls",
            "layout": "IPY_MODEL_e4c75d7092d441559d42f6f7c725d528"
          }
        },
        "e88964dec10d4c40b003a04c2542c242": {
          "model_module": "@jupyter-widgets/controls",
          "model_name": "ProgressStyleModel",
          "state": {
            "_view_name": "StyleView",
            "_model_name": "ProgressStyleModel",
            "description_width": "initial",
            "_view_module": "@jupyter-widgets/base",
            "_model_module_version": "1.5.0",
            "_view_count": null,
            "_view_module_version": "1.2.0",
            "bar_color": null,
            "_model_module": "@jupyter-widgets/controls"
          }
        },
        "8aff10babdd04ba3b1fb54d8c6cf61ac": {
          "model_module": "@jupyter-widgets/base",
          "model_name": "LayoutModel",
          "state": {
            "_view_name": "LayoutView",
            "grid_template_rows": null,
            "right": null,
            "justify_content": null,
            "_view_module": "@jupyter-widgets/base",
            "overflow": null,
            "_model_module_version": "1.2.0",
            "_view_count": null,
            "flex_flow": null,
            "width": null,
            "min_width": null,
            "border": null,
            "align_items": null,
            "bottom": null,
            "_model_module": "@jupyter-widgets/base",
            "top": null,
            "grid_column": null,
            "overflow_y": null,
            "overflow_x": null,
            "grid_auto_flow": null,
            "grid_area": null,
            "grid_template_columns": null,
            "flex": null,
            "_model_name": "LayoutModel",
            "justify_items": null,
            "grid_row": null,
            "max_height": null,
            "align_content": null,
            "visibility": null,
            "align_self": null,
            "height": null,
            "min_height": null,
            "padding": null,
            "grid_auto_rows": null,
            "grid_gap": null,
            "max_width": null,
            "order": null,
            "_view_module_version": "1.2.0",
            "grid_template_areas": null,
            "object_position": null,
            "object_fit": null,
            "grid_auto_columns": null,
            "margin": null,
            "display": null,
            "left": null
          }
        },
        "6ee395431f21460f944d03612a95c582": {
          "model_module": "@jupyter-widgets/controls",
          "model_name": "DescriptionStyleModel",
          "state": {
            "_view_name": "StyleView",
            "_model_name": "DescriptionStyleModel",
            "description_width": "",
            "_view_module": "@jupyter-widgets/base",
            "_model_module_version": "1.5.0",
            "_view_count": null,
            "_view_module_version": "1.2.0",
            "_model_module": "@jupyter-widgets/controls"
          }
        },
        "e4c75d7092d441559d42f6f7c725d528": {
          "model_module": "@jupyter-widgets/base",
          "model_name": "LayoutModel",
          "state": {
            "_view_name": "LayoutView",
            "grid_template_rows": null,
            "right": null,
            "justify_content": null,
            "_view_module": "@jupyter-widgets/base",
            "overflow": null,
            "_model_module_version": "1.2.0",
            "_view_count": null,
            "flex_flow": null,
            "width": null,
            "min_width": null,
            "border": null,
            "align_items": null,
            "bottom": null,
            "_model_module": "@jupyter-widgets/base",
            "top": null,
            "grid_column": null,
            "overflow_y": null,
            "overflow_x": null,
            "grid_auto_flow": null,
            "grid_area": null,
            "grid_template_columns": null,
            "flex": null,
            "_model_name": "LayoutModel",
            "justify_items": null,
            "grid_row": null,
            "max_height": null,
            "align_content": null,
            "visibility": null,
            "align_self": null,
            "height": null,
            "min_height": null,
            "padding": null,
            "grid_auto_rows": null,
            "grid_gap": null,
            "max_width": null,
            "order": null,
            "_view_module_version": "1.2.0",
            "grid_template_areas": null,
            "object_position": null,
            "object_fit": null,
            "grid_auto_columns": null,
            "margin": null,
            "display": null,
            "left": null
          }
        }
      }
    }
  },
  "cells": [
    {
      "cell_type": "markdown",
      "metadata": {
        "id": "view-in-github",
        "colab_type": "text"
      },
      "source": [
        "<a href=\"https://colab.research.google.com/github/DChulok/I-want-to-learn-NLP/blob/master/Overfit_it_ipynb.ipynb\" target=\"_parent\"><img src=\"https://colab.research.google.com/assets/colab-badge.svg\" alt=\"Open In Colab\"/></a>"
      ]
    },
    {
      "cell_type": "markdown",
      "metadata": {
        "id": "NFmOh482SyEF"
      },
      "source": [
        "## Lab 2\n",
        "### Part 2: Dealing with overfitting"
      ]
    },
    {
      "cell_type": "markdown",
      "metadata": {
        "id": "AjzAuO3oSvsI"
      },
      "source": [
        "Today we work with [Fashion-MNIST dataset](https://github.com/zalandoresearch/fashion-mnist) (*hint: it is available in `torchvision`*).\n",
        "\n",
        "Your goal for today:\n",
        "1. Train a FC (fully-connected) network that achieves >= 0.885 test accuracy.\n",
        "2. Cause considerable overfitting by modifying the network (e.g. increasing the number of network parameters and/or layers) and demonstrate in in the appropriate way (e.g. plot loss and accurasy on train and validation set w.r.t. network complexity).\n",
        "3. Try to deal with overfitting (at least partially) by using regularization techniques (Dropout/Batchnorm/...) and demonstrate the results.\n",
        "\n",
        "__Please, write a small report describing your ideas, tries and achieved results in the end of this file.__\n",
        "\n",
        "*Note*: Tasks 2 and 3 are interrelated, in task 3 your goal is to make the network from task 2 less prone to overfitting. Task 1 is independent from 2 and 3.\n",
        "\n",
        "*Note 2*: We recomment to use Google Colab or other machine with GPU acceleration."
      ]
    },
    {
      "cell_type": "code",
      "metadata": {
        "id": "_KBld6VOSwhW"
      },
      "source": [
        "import torch\n",
        "import torch.nn as nn\n",
        "import torchvision\n",
        "import torchvision.transforms as transforms\n",
        "import torchsummary\n",
        "from IPython.display import clear_output\n",
        "from matplotlib import pyplot as plt\n",
        "from matplotlib.pyplot import figure\n",
        "import numpy as np\n",
        "import os\n",
        "\n",
        "\n",
        "device = 'cuda:0' if torch.cuda.is_available() else 'cpu'"
      ],
      "execution_count": null,
      "outputs": []
    },
    {
      "cell_type": "code",
      "metadata": {
        "colab": {
          "base_uri": "https://localhost:8080/"
        },
        "id": "EdLOG0XqS_g5",
        "outputId": "5b6a22cd-6d59-4684-c61e-2d6bde84d8c6"
      },
      "source": [
        "# Technical function\n",
        "def mkdir(path):\n",
        "    if not os.path.exists(root_path):\n",
        "        os.mkdir(root_path)\n",
        "        print('Directory', path, 'is created!')\n",
        "    else:\n",
        "        print('Directory', path, 'already exists!')\n",
        "        \n",
        "root_path = 'fmnist'\n",
        "mkdir(root_path)"
      ],
      "execution_count": null,
      "outputs": [
        {
          "output_type": "stream",
          "text": [
            "Directory fmnist is created!\n"
          ],
          "name": "stdout"
        }
      ]
    },
    {
      "cell_type": "code",
      "metadata": {
        "colab": {
          "base_uri": "https://localhost:8080/",
          "height": 369,
          "referenced_widgets": [
            "6a388251f58841a4b6e127ef0901fd33",
            "5382f34fe0c74c79a07fdb513635d609",
            "19bc8688ea2246dabffb96f670dc17b2",
            "4bccb0ceea0447f68edbe12254e89b38",
            "1d0fe34b611e46f2bd7f11afcb9efa36",
            "b2ec75e736314e2c9babfdc380d6edf7",
            "8f80ba1155694122ae179f58ef3528ec",
            "385f78e0c0d84ae68359ba8d51e05364",
            "c6d4ca413d654453868fa6f5c3e6fb33",
            "05a8a609e38c468db29b27d5e28e8ff7",
            "8ca7584185e544e48a32c4e0718773cf",
            "7f2e91d79b354dd58fa9964aa6be3fcf",
            "e4fb8b6e455c48709d0efa365a15d950",
            "bf4d5b623eea4be883b17ffd0d5567d9",
            "43f8fe263bdf4d918c60c2cd0effb918",
            "438475d7457141c39f0f54d241a5da7c",
            "1e57576812b44149b92d9c8d5ee63f6f",
            "b12f2d18f0a94e76a4f4ff29931c9825",
            "f71d2154433848b099d19c8303ed3b14",
            "951dff185f02498ba087f72d874edc79",
            "0c2cbbbbb04b4cf9946c2d8a7f55d301",
            "ef982b6e05db46b8a99cfef7a9808cf0",
            "1facad254a7346e0b72662d623953f59",
            "cd1d76d610e943e1b2c8839055552aa6",
            "35258c347ca44076a582eeaec20b0edb",
            "a7afc1651f7c4c049b10e4097ee3a69c",
            "cc8d7cf9b1634c9eb74ee662ba3264b6",
            "298e39f499404206acc19e175210f1c2",
            "e88964dec10d4c40b003a04c2542c242",
            "8aff10babdd04ba3b1fb54d8c6cf61ac",
            "6ee395431f21460f944d03612a95c582",
            "e4c75d7092d441559d42f6f7c725d528"
          ]
        },
        "id": "qt6LE7XaTDT9",
        "outputId": "10423ea4-1c53-454c-90a2-e55667c3d480"
      },
      "source": [
        "download = True\n",
        "train_transform = transforms.ToTensor()\n",
        "test_transform = transforms.ToTensor()\n",
        "transforms.Compose((transforms.ToTensor()))\n",
        "\n",
        "\n",
        "fmnist_dataset_train = torchvision.datasets.FashionMNIST(root_path, \n",
        "                                                        train=True, \n",
        "                                                        transform=train_transform,\n",
        "                                                        target_transform=None,\n",
        "                                                        download=download)\n",
        "fmnist_dataset_test = torchvision.datasets.FashionMNIST(root_path, \n",
        "                                                       train=False, \n",
        "                                                       transform=test_transform,\n",
        "                                                       target_transform=None,\n",
        "                                                       download=download)"
      ],
      "execution_count": null,
      "outputs": [
        {
          "output_type": "stream",
          "text": [
            "Downloading http://fashion-mnist.s3-website.eu-central-1.amazonaws.com/train-images-idx3-ubyte.gz to fmnist/FashionMNIST/raw/train-images-idx3-ubyte.gz\n"
          ],
          "name": "stdout"
        },
        {
          "output_type": "display_data",
          "data": {
            "application/vnd.jupyter.widget-view+json": {
              "model_id": "6a388251f58841a4b6e127ef0901fd33",
              "version_minor": 0,
              "version_major": 2
            },
            "text/plain": [
              "HBox(children=(FloatProgress(value=1.0, bar_style='info', max=1.0), HTML(value='')))"
            ]
          },
          "metadata": {
            "tags": []
          }
        },
        {
          "output_type": "stream",
          "text": [
            "Extracting fmnist/FashionMNIST/raw/train-images-idx3-ubyte.gz to fmnist/FashionMNIST/raw\n",
            "Downloading http://fashion-mnist.s3-website.eu-central-1.amazonaws.com/train-labels-idx1-ubyte.gz to fmnist/FashionMNIST/raw/train-labels-idx1-ubyte.gz\n"
          ],
          "name": "stdout"
        },
        {
          "output_type": "display_data",
          "data": {
            "application/vnd.jupyter.widget-view+json": {
              "model_id": "c6d4ca413d654453868fa6f5c3e6fb33",
              "version_minor": 0,
              "version_major": 2
            },
            "text/plain": [
              "HBox(children=(FloatProgress(value=1.0, bar_style='info', max=1.0), HTML(value='')))"
            ]
          },
          "metadata": {
            "tags": []
          }
        },
        {
          "output_type": "stream",
          "text": [
            "Extracting fmnist/FashionMNIST/raw/train-labels-idx1-ubyte.gz to fmnist/FashionMNIST/raw\n",
            "Downloading http://fashion-mnist.s3-website.eu-central-1.amazonaws.com/t10k-images-idx3-ubyte.gz to fmnist/FashionMNIST/raw/t10k-images-idx3-ubyte.gz\n"
          ],
          "name": "stdout"
        },
        {
          "output_type": "display_data",
          "data": {
            "application/vnd.jupyter.widget-view+json": {
              "model_id": "1e57576812b44149b92d9c8d5ee63f6f",
              "version_minor": 0,
              "version_major": 2
            },
            "text/plain": [
              "HBox(children=(FloatProgress(value=1.0, bar_style='info', max=1.0), HTML(value='')))"
            ]
          },
          "metadata": {
            "tags": []
          }
        },
        {
          "output_type": "stream",
          "text": [
            "Extracting fmnist/FashionMNIST/raw/t10k-images-idx3-ubyte.gz to fmnist/FashionMNIST/raw\n",
            "Downloading http://fashion-mnist.s3-website.eu-central-1.amazonaws.com/t10k-labels-idx1-ubyte.gz to fmnist/FashionMNIST/raw/t10k-labels-idx1-ubyte.gz\n"
          ],
          "name": "stdout"
        },
        {
          "output_type": "display_data",
          "data": {
            "application/vnd.jupyter.widget-view+json": {
              "model_id": "35258c347ca44076a582eeaec20b0edb",
              "version_minor": 0,
              "version_major": 2
            },
            "text/plain": [
              "HBox(children=(FloatProgress(value=1.0, bar_style='info', max=1.0), HTML(value='')))"
            ]
          },
          "metadata": {
            "tags": []
          }
        },
        {
          "output_type": "stream",
          "text": [
            "Extracting fmnist/FashionMNIST/raw/t10k-labels-idx1-ubyte.gz to fmnist/FashionMNIST/raw\n",
            "Processing...\n",
            "Done!\n"
          ],
          "name": "stdout"
        },
        {
          "output_type": "stream",
          "text": [
            "/usr/local/lib/python3.6/dist-packages/torchvision/datasets/mnist.py:480: UserWarning: The given NumPy array is not writeable, and PyTorch does not support non-writeable tensors. This means you can write to the underlying (supposedly non-writeable) NumPy array using the tensor. You may want to copy the array to protect its data or make it writeable before converting it to a tensor. This type of warning will be suppressed for the rest of this program. (Triggered internally at  /pytorch/torch/csrc/utils/tensor_numpy.cpp:141.)\n",
            "  return torch.from_numpy(parsed.astype(m[2], copy=False)).view(*s)\n"
          ],
          "name": "stderr"
        }
      ]
    },
    {
      "cell_type": "code",
      "metadata": {
        "id": "71YP0SPwTIxD"
      },
      "source": [
        "train_loader = torch.utils.data.DataLoader(fmnist_dataset_train, \n",
        "                                           batch_size=128,\n",
        "                                           shuffle=True,\n",
        "                                           num_workers=2)\n",
        "test_loader = torch.utils.data.DataLoader(fmnist_dataset_test,\n",
        "                                          batch_size=256,\n",
        "                                          shuffle=False,\n",
        "                                          num_workers=2)"
      ],
      "execution_count": null,
      "outputs": []
    },
    {
      "cell_type": "code",
      "metadata": {
        "colab": {
          "base_uri": "https://localhost:8080/"
        },
        "id": "v_YFmF7NTWrQ",
        "outputId": "6050aff6-fe5a-4e4d-d817-72e59da5b487"
      },
      "source": [
        "len(fmnist_dataset_test)"
      ],
      "execution_count": null,
      "outputs": [
        {
          "output_type": "execute_result",
          "data": {
            "text/plain": [
              "10000"
            ]
          },
          "metadata": {
            "tags": []
          },
          "execution_count": 6
        }
      ]
    },
    {
      "cell_type": "code",
      "metadata": {
        "colab": {
          "base_uri": "https://localhost:8080/"
        },
        "id": "aHca15bOTY4B",
        "outputId": "a7d6d40d-2bf6-4159-8036-b6c9265616a3"
      },
      "source": [
        "for img, label in train_loader:\n",
        "    print(img.shape)\n",
        "#     print(img)\n",
        "    print(label.shape)\n",
        "    print(label.size(0))\n",
        "    break"
      ],
      "execution_count": null,
      "outputs": [
        {
          "output_type": "stream",
          "text": [
            "torch.Size([128, 1, 28, 28])\n",
            "torch.Size([128])\n",
            "128\n"
          ],
          "name": "stdout"
        }
      ]
    },
    {
      "cell_type": "markdown",
      "metadata": {
        "id": "b6OOOffHTfX5"
      },
      "source": [
        "### Task 1\n",
        "Train a network that achieves $\\geq 0.885$ test accuracy. It's fine to use only Linear (`nn.Linear`) layers and activations/dropout/batchnorm. Convolutional layers might be a great use, but we will meet them a bit later."
      ]
    },
    {
      "cell_type": "code",
      "metadata": {
        "id": "ftpkTjxlTcFx"
      },
      "source": [
        "class TinyNeuralNetwork(nn.Module):\n",
        "    def __init__(self, input_shape=28*28, num_classes=10, input_channels=1):\n",
        "        super(self.__class__, self).__init__()\n",
        "        self.model = nn.Sequential(\n",
        "            nn.Flatten(), # This layer converts image into a vector to use Linear layers afterwards\n",
        "            # Your network structure comes here\n",
        "            nn.Linear(input_shape, 256),\n",
        "            nn.BatchNorm1d(256),\n",
        "            nn.ReLU(),\n",
        "            nn.Dropout(0.3),\n",
        "            nn.Linear(256, 64),\n",
        "            nn.BatchNorm1d(64),\n",
        "            nn.ReLU(),\n",
        "            nn.Dropout(0.2),\n",
        "            nn.Linear(64, 32),\n",
        "            nn.BatchNorm1d(32),\n",
        "            nn.ReLU(),\n",
        "            nn.Dropout(0.1),\n",
        "            nn.Linear(32, num_classes),\n",
        "        )\n",
        "        \n",
        "    def forward(self, inp):       \n",
        "        out = self.model(inp)\n",
        "        return out"
      ],
      "execution_count": null,
      "outputs": []
    },
    {
      "cell_type": "code",
      "metadata": {
        "id": "E72GxyyVCn6Y",
        "colab": {
          "base_uri": "https://localhost:8080/"
        },
        "outputId": "582b3091-d227-447e-e6ff-5402a15e7a95"
      },
      "source": [
        "torchsummary.summary(TinyNeuralNetwork().to(device), (28*28,))"
      ],
      "execution_count": null,
      "outputs": [
        {
          "output_type": "stream",
          "text": [
            "----------------------------------------------------------------\n",
            "        Layer (type)               Output Shape         Param #\n",
            "================================================================\n",
            "           Flatten-1                  [-1, 784]               0\n",
            "            Linear-2                  [-1, 256]         200,960\n",
            "       BatchNorm1d-3                  [-1, 256]             512\n",
            "              ReLU-4                  [-1, 256]               0\n",
            "           Dropout-5                  [-1, 256]               0\n",
            "            Linear-6                   [-1, 64]          16,448\n",
            "       BatchNorm1d-7                   [-1, 64]             128\n",
            "              ReLU-8                   [-1, 64]               0\n",
            "           Dropout-9                   [-1, 64]               0\n",
            "           Linear-10                   [-1, 32]           2,080\n",
            "      BatchNorm1d-11                   [-1, 32]              64\n",
            "             ReLU-12                   [-1, 32]               0\n",
            "          Dropout-13                   [-1, 32]               0\n",
            "           Linear-14                   [-1, 10]             330\n",
            "================================================================\n",
            "Total params: 220,522\n",
            "Trainable params: 220,522\n",
            "Non-trainable params: 0\n",
            "----------------------------------------------------------------\n",
            "Input size (MB): 0.00\n",
            "Forward/backward pass size (MB): 0.02\n",
            "Params size (MB): 0.84\n",
            "Estimated Total Size (MB): 0.86\n",
            "----------------------------------------------------------------\n"
          ],
          "name": "stdout"
        }
      ]
    },
    {
      "cell_type": "markdown",
      "metadata": {
        "id": "544PGKEnjPr5"
      },
      "source": [
        "Your experiments come here:"
      ]
    },
    {
      "cell_type": "code",
      "metadata": {
        "colab": {
          "base_uri": "https://localhost:8080/"
        },
        "id": "i3POFj90Ti-6",
        "outputId": "7f54da0f-4375-42be-a804-519cf516d722"
      },
      "source": [
        "model = TinyNeuralNetwork().to(device)\n",
        "opt = torch.optim.Adam(model.parameters(), lr=1e-3)\n",
        "loss_func = nn.CrossEntropyLoss()\n",
        "\n",
        "n_epoch = 15\n",
        "mean_train_losses = []\n",
        "\n",
        "for e in range(n_epoch):\n",
        "  epoch_train_losses = np.array([])\n",
        "  for i, batch in enumerate(train_loader):\n",
        "    imgs, labels = batch\n",
        "    imgs_ = imgs.to(device)\n",
        "    labels_ = labels.to(device)\n",
        "\n",
        "    model.train(True)\n",
        "    model.zero_grad()\n",
        "\n",
        "    output = model.forward(imgs_)\n",
        "    loss = loss_func(output, labels_)\n",
        "\n",
        "    loss.backward()\n",
        "    \n",
        "    loss_ = loss.detach().cpu().numpy()\n",
        "    epoch_train_losses = np.append(epoch_train_losses, loss_)\n",
        "\n",
        "    opt.step()\n",
        "    \n",
        "  mean_train_losses.append(epoch_train_losses.mean())\n",
        "\n",
        "  print(f\"Epoch {e}\")\n",
        "  print(f\"Mean epoch train loss: {mean_train_losses[-1]}\")\n",
        "\n",
        "# Your experiments, training and validation loops here"
      ],
      "execution_count": null,
      "outputs": [
        {
          "output_type": "stream",
          "text": [
            "Epoch 0\n",
            "Mean epoch train loss: 0.6993377474325297\n",
            "Epoch 1\n",
            "Mean epoch train loss: 0.4331253862330146\n",
            "Epoch 2\n",
            "Mean epoch train loss: 0.39500894685035576\n",
            "Epoch 3\n",
            "Mean epoch train loss: 0.3654751468823154\n",
            "Epoch 4\n",
            "Mean epoch train loss: 0.3499556719811995\n",
            "Epoch 5\n",
            "Mean epoch train loss: 0.3335766552417263\n",
            "Epoch 6\n",
            "Mean epoch train loss: 0.32422916057394513\n",
            "Epoch 7\n",
            "Mean epoch train loss: 0.3155867419580915\n",
            "Epoch 8\n",
            "Mean epoch train loss: 0.30397266816737045\n",
            "Epoch 9\n",
            "Mean epoch train loss: 0.2978011873929994\n",
            "Epoch 10\n",
            "Mean epoch train loss: 0.28700129370064115\n",
            "Epoch 11\n",
            "Mean epoch train loss: 0.28049285341300434\n",
            "Epoch 12\n",
            "Mean epoch train loss: 0.2776903808752357\n",
            "Epoch 13\n",
            "Mean epoch train loss: 0.27135008627544843\n",
            "Epoch 14\n",
            "Mean epoch train loss: 0.26259435119151053\n"
          ],
          "name": "stdout"
        }
      ]
    },
    {
      "cell_type": "code",
      "metadata": {
        "id": "3T_6FUGHEuJm"
      },
      "source": [
        "from sklearn.metrics import accuracy_score"
      ],
      "execution_count": null,
      "outputs": []
    },
    {
      "cell_type": "code",
      "metadata": {
        "id": "EjnYGO1ME6rU"
      },
      "source": [
        "model_predictions = []\n",
        "test_labels = []\n",
        "model.train(False)\n",
        "for imgs, labels in test_loader:\n",
        "  imgs_ = imgs.to(device)\n",
        "\n",
        "  with torch.no_grad():\n",
        "    output = model.forward(imgs_)\n",
        "  preds = torch.argmax(output, dim=1)\n",
        "\n",
        "  model_predictions += preds.detach().cpu().tolist()\n",
        "  test_labels += labels.tolist()\n"
      ],
      "execution_count": null,
      "outputs": []
    },
    {
      "cell_type": "code",
      "metadata": {
        "id": "R81g8bVGGX86",
        "colab": {
          "base_uri": "https://localhost:8080/"
        },
        "outputId": "1c73270c-9601-491d-9e15-8766b530cba3"
      },
      "source": [
        "accuracy_score(test_labels, model_predictions)"
      ],
      "execution_count": null,
      "outputs": [
        {
          "output_type": "execute_result",
          "data": {
            "text/plain": [
              "0.8902"
            ]
          },
          "metadata": {
            "tags": []
          },
          "execution_count": 31
        }
      ]
    },
    {
      "cell_type": "markdown",
      "metadata": {
        "id": "LSK2uuSiMc3L"
      },
      "source": [
        "We've gotten it!"
      ]
    },
    {
      "cell_type": "markdown",
      "metadata": {
        "id": "L7ISqkjmCPB1"
      },
      "source": [
        "### Task 2: Overfit it.\n",
        "Build a network that will overfit to this dataset. Demonstrate the overfitting in the appropriate way (e.g. plot loss and accurasy on train and test set w.r.t. network complexity).\n",
        "\n",
        "*Note:* you also might decrease the size of `train` dataset to enforce the overfitting and speed up the computations."
      ]
    },
    {
      "cell_type": "code",
      "metadata": {
        "id": "Runnxs7Yaapj"
      },
      "source": [
        "# let's create small train and validation datasets\n",
        "small_train = []\n",
        "small_valid = []\n",
        "for i, b in enumerate(train_loader):\n",
        "  if i < 79:\n",
        "    small_train.append(b)\n",
        "  elif i < 102:\n",
        "    small_valid.append(b)\n",
        "  else:\n",
        "    break"
      ],
      "execution_count": null,
      "outputs": []
    },
    {
      "cell_type": "markdown",
      "metadata": {
        "id": "543HM0C_dygH"
      },
      "source": [
        "Now, our small train dataset constist of 128*79=10112 samples"
      ]
    },
    {
      "cell_type": "code",
      "metadata": {
        "id": "H12uAWiGBwJx"
      },
      "source": [
        "class OverfittingNeuralNetwork(nn.Module):\n",
        "    def __init__(self, input_shape=28*28, num_classes=10, input_channels=1):\n",
        "        super(self.__class__, self).__init__()\n",
        "        self.model = nn.Sequential(\n",
        "            nn.Flatten(), # This layer converts image into a vector to use Linear layers afterwards\n",
        "            # Your network structure comes here\n",
        "            nn.Linear(input_shape, 512),\n",
        "            nn.ReLU(),\n",
        "            nn.Linear(512, 256),\n",
        "            nn.ReLU(),\n",
        "            nn.Linear(256, 64),\n",
        "            nn.ReLU(),\n",
        "            nn.Linear(64, 32),\n",
        "            nn.ReLU(),\n",
        "            nn.Linear(32, 16),\n",
        "            nn.ReLU(),\n",
        "            nn.Linear(16, num_classes)\n",
        "        )\n",
        "        \n",
        "    def forward(self, inp):       \n",
        "        out = self.model(inp)\n",
        "        return out"
      ],
      "execution_count": null,
      "outputs": []
    },
    {
      "cell_type": "code",
      "metadata": {
        "id": "JgXAKCpvCwqH",
        "colab": {
          "base_uri": "https://localhost:8080/"
        },
        "outputId": "c6275873-0b02-4545-fe2d-b4d06c89d46d"
      },
      "source": [
        "torchsummary.summary(OverfittingNeuralNetwork().to(device), (28*28,))"
      ],
      "execution_count": null,
      "outputs": [
        {
          "output_type": "stream",
          "text": [
            "----------------------------------------------------------------\n",
            "        Layer (type)               Output Shape         Param #\n",
            "================================================================\n",
            "           Flatten-1                  [-1, 784]               0\n",
            "            Linear-2                  [-1, 512]         401,920\n",
            "              ReLU-3                  [-1, 512]               0\n",
            "            Linear-4                  [-1, 256]         131,328\n",
            "              ReLU-5                  [-1, 256]               0\n",
            "            Linear-6                   [-1, 64]          16,448\n",
            "              ReLU-7                   [-1, 64]               0\n",
            "            Linear-8                   [-1, 32]           2,080\n",
            "              ReLU-9                   [-1, 32]               0\n",
            "           Linear-10                   [-1, 16]             528\n",
            "             ReLU-11                   [-1, 16]               0\n",
            "           Linear-12                   [-1, 10]             170\n",
            "================================================================\n",
            "Total params: 552,474\n",
            "Trainable params: 552,474\n",
            "Non-trainable params: 0\n",
            "----------------------------------------------------------------\n",
            "Input size (MB): 0.00\n",
            "Forward/backward pass size (MB): 0.02\n",
            "Params size (MB): 2.11\n",
            "Estimated Total Size (MB): 2.13\n",
            "----------------------------------------------------------------\n"
          ],
          "name": "stdout"
        }
      ]
    },
    {
      "cell_type": "code",
      "metadata": {
        "id": "VBJKDtHqCn6Y",
        "colab": {
          "base_uri": "https://localhost:8080/"
        },
        "outputId": "8ca76778-8f12-4a3e-f246-0d8c70aaf237"
      },
      "source": [
        "model = OverfittingNeuralNetwork().to(device)\n",
        "opt = torch.optim.Adam(model.parameters(), lr=3e-4)\n",
        "loss_func = nn.CrossEntropyLoss()\n",
        "\n",
        "mean_train_losses = []\n",
        "mean_valid_losses = []\n",
        "acc_train = []\n",
        "acc_valid = []\n",
        "\n",
        "n_epoch = 50\n",
        "\n",
        "for e in range(n_epoch):\n",
        "  epoch_train_losses = []\n",
        "  epoch_valid_losses = []\n",
        "  train_preds, valid_preds = [], []\n",
        "  train_labels, valid_labels = [], []\n",
        "  # train\n",
        "  for i, batch in enumerate(small_train):\n",
        "    imgs, labels = batch\n",
        "    imgs_, labels_ = imgs.to(device), labels.to(device)\n",
        "\n",
        "    model.train(True)\n",
        "    model.zero_grad()\n",
        "\n",
        "    output = model.forward(imgs_)\n",
        "    loss = loss_func(output, labels_)\n",
        "\n",
        "    loss.backward()\n",
        "    opt.step()\n",
        "\n",
        "    epoch_train_losses.append(loss.item())\n",
        "\n",
        "    train_preds.extend(torch.argmax(output.detach().cpu(), dim=1).tolist())\n",
        "    train_labels.extend(labels)\n",
        "\n",
        "  # validation\n",
        "  for i, batch in enumerate(small_valid):\n",
        "    imgs, labels = batch\n",
        "    imgs_, labels_ = imgs.to(device), labels.to(device)\n",
        "\n",
        "    model.eval()\n",
        "    with torch.no_grad():\n",
        "      output = model.forward(imgs_)\n",
        "    \n",
        "    loss = loss_func(output, labels_)\n",
        "\n",
        "    epoch_valid_losses.append(loss.item())\n",
        "\n",
        "    valid_preds.extend(torch.argmax(output.detach().cpu(), dim=1).tolist())\n",
        "    valid_labels.extend(labels)\n",
        "\n",
        "  mean_train_losses.append(np.mean(np.asarray(epoch_train_losses)))\n",
        "  mean_valid_losses.append(np.mean(np.asarray(epoch_valid_losses)))\n",
        "\n",
        "  # accuracy after the current epoch\n",
        "  acc_train.append(accuracy_score(train_labels, train_preds))\n",
        "  acc_valid.append(accuracy_score(valid_labels, valid_preds))\n",
        "\n",
        "  if e % 5 == 1:\n",
        "    print(f\"Epoch: {e}\")\n",
        "    print(f\"Mean epoch train loss: {mean_train_losses[-1]}\")\n",
        "    print(f\"Mean epoch valid loss: {mean_valid_losses[-1]}\")\n",
        "    "
      ],
      "execution_count": null,
      "outputs": [
        {
          "output_type": "stream",
          "text": [
            "Epoch: 1\n",
            "Mean epoch train loss: 1.0281344712535037\n",
            "Mean epoch valid loss: 0.8357137234314628\n",
            "Epoch: 6\n",
            "Mean epoch train loss: 0.49983594877810417\n",
            "Mean epoch valid loss: 0.5226782365985538\n",
            "Epoch: 11\n",
            "Mean epoch train loss: 0.40501238820673546\n",
            "Mean epoch valid loss: 0.47316688299179077\n",
            "Epoch: 16\n",
            "Mean epoch train loss: 0.35473645223846917\n",
            "Mean epoch valid loss: 0.4588443740554478\n",
            "Epoch: 21\n",
            "Mean epoch train loss: 0.32480972269667857\n",
            "Mean epoch valid loss: 0.4435134504152381\n",
            "Epoch: 26\n",
            "Mean epoch train loss: 0.2933930811248248\n",
            "Mean epoch valid loss: 0.44948298386905505\n",
            "Epoch: 31\n",
            "Mean epoch train loss: 0.2753169604494602\n",
            "Mean epoch valid loss: 0.4686080230318982\n",
            "Epoch: 36\n",
            "Mean epoch train loss: 0.26113199942474125\n",
            "Mean epoch valid loss: 0.503932799981988\n",
            "Epoch: 41\n",
            "Mean epoch train loss: 0.2362408294707914\n",
            "Mean epoch valid loss: 0.520941295053648\n",
            "Epoch: 46\n",
            "Mean epoch train loss: 0.2248123078783856\n",
            "Mean epoch valid loss: 0.5091734722904537\n"
          ],
          "name": "stdout"
        }
      ]
    },
    {
      "cell_type": "code",
      "metadata": {
        "colab": {
          "base_uri": "https://localhost:8080/",
          "height": 405
        },
        "id": "lhnNGqRgpYvg",
        "outputId": "d113dd53-93ab-4879-f57e-4a639bf915c7"
      },
      "source": [
        "plt.figure(figsize=(8,6))\n",
        "plt.xlabel(\"#epoch\")\n",
        "plt.ylabel(\"loss\")\n",
        "plt.plot(mean_train_losses, 'b', label='Train')\n",
        "plt.plot(mean_valid_losses, 'g', label='Valid')\n",
        "plt.legend()"
      ],
      "execution_count": null,
      "outputs": [
        {
          "output_type": "execute_result",
          "data": {
            "text/plain": [
              "<matplotlib.legend.Legend at 0x7f74f7616dd8>"
            ]
          },
          "metadata": {
            "tags": []
          },
          "execution_count": 75
        },
        {
          "output_type": "display_data",
          "data": {
            "image/png": "[encoded data removed]",
            "text/plain": [
              "<Figure size 576x432 with 1 Axes>"
            ]
          },
          "metadata": {
            "tags": [],
            "needs_background": "light"
          }
        }
      ]
    },
    {
      "cell_type": "code",
      "metadata": {
        "colab": {
          "base_uri": "https://localhost:8080/",
          "height": 405
        },
        "id": "1dwu8LQsuHUb",
        "outputId": "949d2dc1-3a3c-4d06-8a64-31f3ca24183b"
      },
      "source": [
        "plt.figure(figsize=(8,6))\n",
        "plt.xlabel(\"#epoch\")\n",
        "plt.ylabel(\"accuracy\")\n",
        "plt.plot(acc_train, 'b', label='Train')\n",
        "plt.plot(acc_valid, 'g', label='Valid')\n",
        "plt.legend()"
      ],
      "execution_count": null,
      "outputs": [
        {
          "output_type": "execute_result",
          "data": {
            "text/plain": [
              "<matplotlib.legend.Legend at 0x7f74f75966a0>"
            ]
          },
          "metadata": {
            "tags": []
          },
          "execution_count": 76
        },
        {
          "output_type": "display_data",
          "data": {
            "image/png": "[encoded data removed]",
            "text/plain": [
              "<Figure size 576x432 with 1 Axes>"
            ]
          },
          "metadata": {
            "tags": [],
            "needs_background": "light"
          }
        }
      ]
    },
    {
      "cell_type": "markdown",
      "metadata": {
        "id": "zB09ZF-hfg6C"
      },
      "source": [
        "We can see that after ~20th epoch model's loss on train is decreasing while loss on validation data is starting to grow. Almost the same we could see with accuraces. Such results are indicating that our model overfits the train set."
      ]
    },
    {
      "cell_type": "markdown",
      "metadata": {
        "id": "WGexqMfYCn6Y"
      },
      "source": [
        "### Task 3: Fix it.\n",
        "Fix the overfitted network from the previous step (at least partially) by using regularization techniques (Dropout/Batchnorm/...) and demonstrate the results. "
      ]
    },
    {
      "cell_type": "code",
      "metadata": {
        "id": "E8Ok6enaCn6Y"
      },
      "source": [
        "class FixedNeuralNetwork(nn.Module):\n",
        "    def __init__(self, input_shape=28*28, num_classes=10, input_channels=1):\n",
        "        super(self.__class__, self).__init__()\n",
        "        self.model = nn.Sequential(\n",
        "            nn.Flatten(), # This layer converts image into a vector to use Linear layers afterwards\n",
        "            # Your network structure comes here\n",
        "            nn.Linear(input_shape, 512),\n",
        "            nn.BatchNorm1d(512),\n",
        "            nn.ReLU(),\n",
        "            nn.Dropout(0.5),\n",
        "            nn.Linear(512, 256),\n",
        "            nn.BatchNorm1d(256),\n",
        "            nn.ReLU(),\n",
        "            nn.Dropout(0.4),\n",
        "            nn.Linear(256, 64),\n",
        "            nn.BatchNorm1d(64),\n",
        "            nn.ReLU(),\n",
        "            nn.Dropout(0.3),\n",
        "            nn.Linear(64, 32),\n",
        "            nn.BatchNorm1d(32),\n",
        "            nn.ReLU(),\n",
        "            nn.Dropout(0.2),\n",
        "            nn.Linear(32, 16),\n",
        "            nn.BatchNorm1d(16),\n",
        "            nn.ReLU(),\n",
        "            nn.Dropout(0.1),\n",
        "            nn.Linear(16, num_classes)\n",
        "        )\n",
        "        \n",
        "    def forward(self, inp):       \n",
        "        out = self.model(inp)\n",
        "        return out"
      ],
      "execution_count": null,
      "outputs": []
    },
    {
      "cell_type": "code",
      "metadata": {
        "id": "dD2qa99DCn6Y",
        "colab": {
          "base_uri": "https://localhost:8080/"
        },
        "outputId": "8e02e7c8-a32d-4dfb-f556-f3f4408694e1"
      },
      "source": [
        "torchsummary.summary(FixedNeuralNetwork().to(device), (28*28,))"
      ],
      "execution_count": null,
      "outputs": [
        {
          "output_type": "stream",
          "text": [
            "----------------------------------------------------------------\n",
            "        Layer (type)               Output Shape         Param #\n",
            "================================================================\n",
            "           Flatten-1                  [-1, 784]               0\n",
            "            Linear-2                  [-1, 512]         401,920\n",
            "       BatchNorm1d-3                  [-1, 512]           1,024\n",
            "              ReLU-4                  [-1, 512]               0\n",
            "           Dropout-5                  [-1, 512]               0\n",
            "            Linear-6                  [-1, 256]         131,328\n",
            "       BatchNorm1d-7                  [-1, 256]             512\n",
            "              ReLU-8                  [-1, 256]               0\n",
            "           Dropout-9                  [-1, 256]               0\n",
            "           Linear-10                   [-1, 64]          16,448\n",
            "      BatchNorm1d-11                   [-1, 64]             128\n",
            "             ReLU-12                   [-1, 64]               0\n",
            "          Dropout-13                   [-1, 64]               0\n",
            "           Linear-14                   [-1, 32]           2,080\n",
            "      BatchNorm1d-15                   [-1, 32]              64\n",
            "             ReLU-16                   [-1, 32]               0\n",
            "          Dropout-17                   [-1, 32]               0\n",
            "           Linear-18                   [-1, 16]             528\n",
            "      BatchNorm1d-19                   [-1, 16]              32\n",
            "             ReLU-20                   [-1, 16]               0\n",
            "          Dropout-21                   [-1, 16]               0\n",
            "           Linear-22                   [-1, 10]             170\n",
            "================================================================\n",
            "Total params: 554,234\n",
            "Trainable params: 554,234\n",
            "Non-trainable params: 0\n",
            "----------------------------------------------------------------\n",
            "Input size (MB): 0.00\n",
            "Forward/backward pass size (MB): 0.03\n",
            "Params size (MB): 2.11\n",
            "Estimated Total Size (MB): 2.15\n",
            "----------------------------------------------------------------\n"
          ],
          "name": "stdout"
        }
      ]
    },
    {
      "cell_type": "code",
      "metadata": {
        "id": "iAEMdumjCn6Y",
        "colab": {
          "base_uri": "https://localhost:8080/"
        },
        "outputId": "a01c44b3-3e67-4bf8-a8b7-87765bc6fae5"
      },
      "source": [
        "model = FixedNeuralNetwork().to(device)\n",
        "opt = torch.optim.Adam(model.parameters(), lr=3e-4)\n",
        "loss_func = nn.CrossEntropyLoss()\n",
        "\n",
        "mean_train_losses = []\n",
        "mean_valid_losses = []\n",
        "acc_train = []\n",
        "acc_valid = []\n",
        "\n",
        "n_epoch = 50\n",
        "\n",
        "for e in range(n_epoch):\n",
        "  epoch_train_losses = []\n",
        "  epoch_valid_losses = []\n",
        "  train_preds, valid_preds = [], []\n",
        "  train_labels, valid_labels = [], []\n",
        "\n",
        "  # train\n",
        "  for i, batch in enumerate(small_train):\n",
        "    imgs, labels = batch\n",
        "    imgs_, labels_ = imgs.to(device), labels.to(device)\n",
        "\n",
        "    model.train(True)\n",
        "    model.zero_grad()\n",
        "\n",
        "    output = model.forward(imgs_)\n",
        "    loss = loss_func(output, labels_)\n",
        "\n",
        "    loss.backward()\n",
        "    opt.step()\n",
        "\n",
        "    epoch_train_losses.append(loss.item())\n",
        "\n",
        "    train_preds.extend(torch.argmax(output.detach().cpu(), dim=1).tolist())\n",
        "    train_labels.extend(labels)\n",
        "\n",
        "  # validation\n",
        "  for i, batch in enumerate(small_valid):\n",
        "    imgs, labels = batch\n",
        "    imgs_, labels_ = imgs.to(device), labels.to(device)\n",
        "\n",
        "    model.eval()\n",
        "    with torch.no_grad():\n",
        "      output = model.forward(imgs_)\n",
        "    \n",
        "    loss = loss_func(output, labels_)\n",
        "\n",
        "    epoch_valid_losses.append(loss.item())\n",
        "\n",
        "    valid_preds.extend(torch.argmax(output.detach().cpu(), dim=1).tolist())\n",
        "    valid_labels.extend(labels)\n",
        "\n",
        "  mean_train_losses.append(np.mean(np.asarray(epoch_train_losses)))\n",
        "  mean_valid_losses.append(np.mean(np.asarray(epoch_valid_losses)))\n",
        "\n",
        "  # accuracy after the current epoch\n",
        "  acc_train.append(accuracy_score(train_labels, train_preds))\n",
        "  acc_valid.append(accuracy_score(valid_labels, valid_preds))\n",
        "\n",
        "  if e % 5 == 1:\n",
        "    print(f\"Epoch: {e}\")\n",
        "    print(f\"Mean epoch train loss: {mean_train_losses[-1]}\")\n",
        "    print(f\"Mean epoch valid loss: {mean_valid_losses[-1]}\")\n",
        "    "
      ],
      "execution_count": null,
      "outputs": [
        {
          "output_type": "stream",
          "text": [
            "Epoch: 1\n",
            "Mean epoch train loss: 1.6563793375522275\n",
            "Mean epoch valid loss: 1.4457886737325918\n",
            "Epoch: 6\n",
            "Mean epoch train loss: 0.9640743830535985\n",
            "Mean epoch valid loss: 0.77286631387213\n",
            "Epoch: 11\n",
            "Mean epoch train loss: 0.6611962876742399\n",
            "Mean epoch valid loss: 0.5362030410248301\n",
            "Epoch: 16\n",
            "Mean epoch train loss: 0.5294061925592302\n",
            "Mean epoch valid loss: 0.4520737865696783\n",
            "Epoch: 21\n",
            "Mean epoch train loss: 0.45148412487174894\n",
            "Mean epoch valid loss: 0.45049965640772943\n",
            "Epoch: 26\n",
            "Mean epoch train loss: 0.41282055630714076\n",
            "Mean epoch valid loss: 0.4251604261605636\n",
            "Epoch: 31\n",
            "Mean epoch train loss: 0.37050915933862516\n",
            "Mean epoch valid loss: 0.4267096804535907\n",
            "Epoch: 36\n",
            "Mean epoch train loss: 0.33237710538544235\n",
            "Mean epoch valid loss: 0.44192752501238947\n",
            "Epoch: 41\n",
            "Mean epoch train loss: 0.2981205576960045\n",
            "Mean epoch valid loss: 0.4465009583079297\n",
            "Epoch: 46\n",
            "Mean epoch train loss: 0.2807044984796379\n",
            "Mean epoch valid loss: 0.45508711623108905\n"
          ],
          "name": "stdout"
        }
      ]
    },
    {
      "cell_type": "code",
      "metadata": {
        "colab": {
          "base_uri": "https://localhost:8080/",
          "height": 405
        },
        "id": "JRP_HlLriEk3",
        "outputId": "63840850-5f54-4448-cc29-d48412bcd7d0"
      },
      "source": [
        "plt.figure(figsize=(8,6))\n",
        "plt.xlabel(\"#epoch\")\n",
        "plt.ylabel(\"loss\")\n",
        "plt.plot(mean_train_losses, 'b', label='Train')\n",
        "plt.plot(mean_valid_losses, 'g', label='Valid')\n",
        "plt.legend()"
      ],
      "execution_count": null,
      "outputs": [
        {
          "output_type": "execute_result",
          "data": {
            "text/plain": [
              "<matplotlib.legend.Legend at 0x7f74f7556908>"
            ]
          },
          "metadata": {
            "tags": []
          },
          "execution_count": 91
        },
        {
          "output_type": "display_data",
          "data": {
            "image/png": "[encoded data removed]",
            "text/plain": [
              "<Figure size 576x432 with 1 Axes>"
            ]
          },
          "metadata": {
            "tags": [],
            "needs_background": "light"
          }
        }
      ]
    },
    {
      "cell_type": "code",
      "metadata": {
        "colab": {
          "base_uri": "https://localhost:8080/",
          "height": 405
        },
        "id": "qPaGst_riaOt",
        "outputId": "de1605c5-6234-4513-f6db-71df00a80874"
      },
      "source": [
        "plt.figure(figsize=(8,6))\n",
        "plt.xlabel(\"#epoch\")\n",
        "plt.ylabel(\"accuracy\")\n",
        "plt.plot(acc_train, 'b', label='Train')\n",
        "plt.plot(acc_valid, 'g', label='Valid')\n",
        "plt.legend()"
      ],
      "execution_count": null,
      "outputs": [
        {
          "output_type": "execute_result",
          "data": {
            "text/plain": [
              "<matplotlib.legend.Legend at 0x7f74f72d2eb8>"
            ]
          },
          "metadata": {
            "tags": []
          },
          "execution_count": 92
        },
        {
          "output_type": "display_data",
          "data": {
            "image/png": "[encoded data removed]",
            "text/plain": [
              "<Figure size 576x432 with 1 Axes>"
            ]
          },
          "metadata": {
            "tags": [],
            "needs_background": "light"
          }
        }
      ]
    },
    {
      "cell_type": "markdown",
      "metadata": {
        "id": "dMui_uLJ7G0d"
      },
      "source": [
        "### Conclusions:\n",
        "\n",
        "We see that some regularization techniques like batch normalization and dropout could help us to prevent model from overfitting on train. Unlike the case when we didn't use them, while we continue to train model, validation loss is not increasing (accuracy is not decreasing), or at least it happens not so much."
      ]
    },
    {
      "cell_type": "code",
      "metadata": {
        "id": "bgurvQaQ3YOa"
      },
      "source": [
        ""
      ],
      "execution_count": null,
      "outputs": []
    }
  ]
}